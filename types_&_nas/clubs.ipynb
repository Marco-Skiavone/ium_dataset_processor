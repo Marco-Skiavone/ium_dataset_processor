{
 "cells": [
  {
   "cell_type": "code",
   "execution_count": 55,
   "id": "initial_id",
   "metadata": {
    "collapsed": true,
    "ExecuteTime": {
     "end_time": "2023-12-15T11:40:00.537219500Z",
     "start_time": "2023-12-15T11:40:00.496381400Z"
    }
   },
   "outputs": [],
   "source": [
    "import pandas as pd\n",
    "\n",
    "from modules.module_for_imports import *"
   ]
  },
  {
   "cell_type": "markdown",
   "source": [
    "# Clubs analysis"
   ],
   "metadata": {
    "collapsed": false
   },
   "id": "b28c1a3af452f029"
  },
  {
   "cell_type": "code",
   "execution_count": 56,
   "outputs": [
    {
     "name": "stdout",
     "output_type": "stream",
     "text": [
      "<class 'pandas.core.frame.DataFrame'>\n",
      "RangeIndex: 426 entries, 0 to 425\n",
      "Data columns (total 16 columns):\n",
      " #   Column                   Non-Null Count  Dtype  \n",
      "---  ------                   --------------  -----  \n",
      " 0   club_id                  426 non-null    int64  \n",
      " 1   club_code                426 non-null    object \n",
      " 2   name                     426 non-null    object \n",
      " 3   domestic_competition_id  426 non-null    object \n",
      " 4   total_market_value       0 non-null      float64\n",
      " 5   squad_size               426 non-null    int64  \n",
      " 6   average_age              388 non-null    float64\n",
      " 7   foreigners_number        426 non-null    int64  \n",
      " 8   foreigners_percentage    379 non-null    float64\n",
      " 9   national_team_players    426 non-null    int64  \n",
      " 10  stadium_name             426 non-null    object \n",
      " 11  stadium_seats            426 non-null    int64  \n",
      " 12  net_transfer_record      426 non-null    object \n",
      " 13  coach_name               0 non-null      float64\n",
      " 14  last_season              426 non-null    int64  \n",
      " 15  url                      426 non-null    object \n",
      "dtypes: float64(4), int64(6), object(6)\n",
      "memory usage: 53.4+ KB\n"
     ]
    }
   ],
   "source": [
    "clubs = pd.read_csv('../Assignment_Data_2023-2024/clubs.csv')\n",
    "clubs.info()"
   ],
   "metadata": {
    "collapsed": false,
    "ExecuteTime": {
     "end_time": "2023-12-15T11:40:00.583020400Z",
     "start_time": "2023-12-15T11:40:00.511380900Z"
    }
   },
   "id": "45acab6e72094ae9"
  },
  {
   "cell_type": "code",
   "execution_count": 57,
   "outputs": [
    {
     "data": {
      "text/plain": "     club_id             club_code                               name  \\\n0        105       sv-darmstadt-98   Sportverein Darmstadt 1898 e. V.   \n1      11127     ural-ekaterinburg              FK Ural Yekaterinburg   \n2        114     besiktas-istanbul          Beşiktaş Jimnastik Kulübü   \n3         12                as-rom         Associazione Sportiva Roma   \n4        148     tottenham-hotspur    Tottenham Hotspur Football Club   \n..       ...                   ...                                ...   \n421    68608      cf-os-belenenses                   CF Os Belenenses   \n422      724           fc-volendam             Football Club Volendam   \n423      800      atalanta-bergamo  Atalanta Bergamasca Calcio S.p.a.   \n424      979         moreirense-fc           Moreirense Futebol Clube   \n425      984  west-bromwich-albion               West Bromwich Albion   \n\n    domestic_competition_id  total_market_value  squad_size  average_age  \\\n0                        L1                 NaN          30         26.4   \n1                       RU1                 NaN          25         28.2   \n2                       TR1                 NaN          32         27.4   \n3                       IT1                 NaN          26         27.4   \n4                       GB1                 NaN          29         26.2   \n..                      ...                 ...         ...          ...   \n421                     PO1                 NaN          30         25.7   \n422                     NL1                 NaN          29         22.8   \n423                     IT1                 NaN          25         27.2   \n424                     PO1                 NaN          26         26.0   \n425                     GB1                 NaN          25         27.8   \n\n     foreigners_number  foreigners_percentage  national_team_players  \\\n0                   11                   36.7                      1   \n1                   13                   52.0                      5   \n2                   16                   50.0                     13   \n3                   17                   65.4                     17   \n4                   21                   72.4                     22   \n..                 ...                    ...                    ...   \n421                  5                   16.7                      0   \n422                 14                   48.3                      3   \n423                 17                   68.0                     15   \n424                 17                   65.4                      2   \n425                  8                   32.0                      4   \n\n                         stadium_name  stadium_seats net_transfer_record  \\\n0      Merck-Stadion am Böllenfalltor          17810             €-1.60m   \n1                 Yekaterinburg Arena          23000              €-770k   \n2                     Tüpraş Stadyumu          42590            €-14.50m   \n3                    Olimpico di Roma          73261            +€65.20m   \n4           Tottenham Hotspur Stadium          62062           €-130.40m   \n..                                ...            ...                 ...   \n421                Estádio do Restelo          19980                 +-0   \n422                      Kras Stadion           7384             +€1.80m   \n423                    Gewiss Stadium          21747            +€87.00m   \n424  Estádio C. J. de Almeida Freitas           6153             €-2.05m   \n425                     The Hawthorns          26850             €-1.35m   \n\n     coach_name  last_season  \\\n0           NaN         2023   \n1           NaN         2023   \n2           NaN         2023   \n3           NaN         2023   \n4           NaN         2023   \n..          ...          ...   \n421         NaN         2017   \n422         NaN         2023   \n423         NaN         2023   \n424         NaN         2023   \n425         NaN         2020   \n\n                                                   url  \n0    https://www.transfermarkt.co.uk/sv-darmstadt-9...  \n1    https://www.transfermarkt.co.uk/ural-ekaterinb...  \n2    https://www.transfermarkt.co.uk/besiktas-istan...  \n3    https://www.transfermarkt.co.uk/as-rom/startse...  \n4    https://www.transfermarkt.co.uk/tottenham-hots...  \n..                                                 ...  \n421  https://www.transfermarkt.co.uk/cf-os-belenens...  \n422  https://www.transfermarkt.co.uk/fc-volendam/st...  \n423  https://www.transfermarkt.co.uk/atalanta-berga...  \n424  https://www.transfermarkt.co.uk/moreirense-fc/...  \n425  https://www.transfermarkt.co.uk/west-bromwich-...  \n\n[426 rows x 16 columns]",
      "text/html": "<div>\n<style scoped>\n    .dataframe tbody tr th:only-of-type {\n        vertical-align: middle;\n    }\n\n    .dataframe tbody tr th {\n        vertical-align: top;\n    }\n\n    .dataframe thead th {\n        text-align: right;\n    }\n</style>\n<table border=\"1\" class=\"dataframe\">\n  <thead>\n    <tr style=\"text-align: right;\">\n      <th></th>\n      <th>club_id</th>\n      <th>club_code</th>\n      <th>name</th>\n      <th>domestic_competition_id</th>\n      <th>total_market_value</th>\n      <th>squad_size</th>\n      <th>average_age</th>\n      <th>foreigners_number</th>\n      <th>foreigners_percentage</th>\n      <th>national_team_players</th>\n      <th>stadium_name</th>\n      <th>stadium_seats</th>\n      <th>net_transfer_record</th>\n      <th>coach_name</th>\n      <th>last_season</th>\n      <th>url</th>\n    </tr>\n  </thead>\n  <tbody>\n    <tr>\n      <th>0</th>\n      <td>105</td>\n      <td>sv-darmstadt-98</td>\n      <td>Sportverein Darmstadt 1898 e. V.</td>\n      <td>L1</td>\n      <td>NaN</td>\n      <td>30</td>\n      <td>26.4</td>\n      <td>11</td>\n      <td>36.7</td>\n      <td>1</td>\n      <td>Merck-Stadion am Böllenfalltor</td>\n      <td>17810</td>\n      <td>€-1.60m</td>\n      <td>NaN</td>\n      <td>2023</td>\n      <td>https://www.transfermarkt.co.uk/sv-darmstadt-9...</td>\n    </tr>\n    <tr>\n      <th>1</th>\n      <td>11127</td>\n      <td>ural-ekaterinburg</td>\n      <td>FK Ural Yekaterinburg</td>\n      <td>RU1</td>\n      <td>NaN</td>\n      <td>25</td>\n      <td>28.2</td>\n      <td>13</td>\n      <td>52.0</td>\n      <td>5</td>\n      <td>Yekaterinburg Arena</td>\n      <td>23000</td>\n      <td>€-770k</td>\n      <td>NaN</td>\n      <td>2023</td>\n      <td>https://www.transfermarkt.co.uk/ural-ekaterinb...</td>\n    </tr>\n    <tr>\n      <th>2</th>\n      <td>114</td>\n      <td>besiktas-istanbul</td>\n      <td>Beşiktaş Jimnastik Kulübü</td>\n      <td>TR1</td>\n      <td>NaN</td>\n      <td>32</td>\n      <td>27.4</td>\n      <td>16</td>\n      <td>50.0</td>\n      <td>13</td>\n      <td>Tüpraş Stadyumu</td>\n      <td>42590</td>\n      <td>€-14.50m</td>\n      <td>NaN</td>\n      <td>2023</td>\n      <td>https://www.transfermarkt.co.uk/besiktas-istan...</td>\n    </tr>\n    <tr>\n      <th>3</th>\n      <td>12</td>\n      <td>as-rom</td>\n      <td>Associazione Sportiva Roma</td>\n      <td>IT1</td>\n      <td>NaN</td>\n      <td>26</td>\n      <td>27.4</td>\n      <td>17</td>\n      <td>65.4</td>\n      <td>17</td>\n      <td>Olimpico di Roma</td>\n      <td>73261</td>\n      <td>+€65.20m</td>\n      <td>NaN</td>\n      <td>2023</td>\n      <td>https://www.transfermarkt.co.uk/as-rom/startse...</td>\n    </tr>\n    <tr>\n      <th>4</th>\n      <td>148</td>\n      <td>tottenham-hotspur</td>\n      <td>Tottenham Hotspur Football Club</td>\n      <td>GB1</td>\n      <td>NaN</td>\n      <td>29</td>\n      <td>26.2</td>\n      <td>21</td>\n      <td>72.4</td>\n      <td>22</td>\n      <td>Tottenham Hotspur Stadium</td>\n      <td>62062</td>\n      <td>€-130.40m</td>\n      <td>NaN</td>\n      <td>2023</td>\n      <td>https://www.transfermarkt.co.uk/tottenham-hots...</td>\n    </tr>\n    <tr>\n      <th>...</th>\n      <td>...</td>\n      <td>...</td>\n      <td>...</td>\n      <td>...</td>\n      <td>...</td>\n      <td>...</td>\n      <td>...</td>\n      <td>...</td>\n      <td>...</td>\n      <td>...</td>\n      <td>...</td>\n      <td>...</td>\n      <td>...</td>\n      <td>...</td>\n      <td>...</td>\n      <td>...</td>\n    </tr>\n    <tr>\n      <th>421</th>\n      <td>68608</td>\n      <td>cf-os-belenenses</td>\n      <td>CF Os Belenenses</td>\n      <td>PO1</td>\n      <td>NaN</td>\n      <td>30</td>\n      <td>25.7</td>\n      <td>5</td>\n      <td>16.7</td>\n      <td>0</td>\n      <td>Estádio do Restelo</td>\n      <td>19980</td>\n      <td>+-0</td>\n      <td>NaN</td>\n      <td>2017</td>\n      <td>https://www.transfermarkt.co.uk/cf-os-belenens...</td>\n    </tr>\n    <tr>\n      <th>422</th>\n      <td>724</td>\n      <td>fc-volendam</td>\n      <td>Football Club Volendam</td>\n      <td>NL1</td>\n      <td>NaN</td>\n      <td>29</td>\n      <td>22.8</td>\n      <td>14</td>\n      <td>48.3</td>\n      <td>3</td>\n      <td>Kras Stadion</td>\n      <td>7384</td>\n      <td>+€1.80m</td>\n      <td>NaN</td>\n      <td>2023</td>\n      <td>https://www.transfermarkt.co.uk/fc-volendam/st...</td>\n    </tr>\n    <tr>\n      <th>423</th>\n      <td>800</td>\n      <td>atalanta-bergamo</td>\n      <td>Atalanta Bergamasca Calcio S.p.a.</td>\n      <td>IT1</td>\n      <td>NaN</td>\n      <td>25</td>\n      <td>27.2</td>\n      <td>17</td>\n      <td>68.0</td>\n      <td>15</td>\n      <td>Gewiss Stadium</td>\n      <td>21747</td>\n      <td>+€87.00m</td>\n      <td>NaN</td>\n      <td>2023</td>\n      <td>https://www.transfermarkt.co.uk/atalanta-berga...</td>\n    </tr>\n    <tr>\n      <th>424</th>\n      <td>979</td>\n      <td>moreirense-fc</td>\n      <td>Moreirense Futebol Clube</td>\n      <td>PO1</td>\n      <td>NaN</td>\n      <td>26</td>\n      <td>26.0</td>\n      <td>17</td>\n      <td>65.4</td>\n      <td>2</td>\n      <td>Estádio C. J. de Almeida Freitas</td>\n      <td>6153</td>\n      <td>€-2.05m</td>\n      <td>NaN</td>\n      <td>2023</td>\n      <td>https://www.transfermarkt.co.uk/moreirense-fc/...</td>\n    </tr>\n    <tr>\n      <th>425</th>\n      <td>984</td>\n      <td>west-bromwich-albion</td>\n      <td>West Bromwich Albion</td>\n      <td>GB1</td>\n      <td>NaN</td>\n      <td>25</td>\n      <td>27.8</td>\n      <td>8</td>\n      <td>32.0</td>\n      <td>4</td>\n      <td>The Hawthorns</td>\n      <td>26850</td>\n      <td>€-1.35m</td>\n      <td>NaN</td>\n      <td>2020</td>\n      <td>https://www.transfermarkt.co.uk/west-bromwich-...</td>\n    </tr>\n  </tbody>\n</table>\n<p>426 rows × 16 columns</p>\n</div>"
     },
     "execution_count": 57,
     "metadata": {},
     "output_type": "execute_result"
    }
   ],
   "source": [
    "clubs"
   ],
   "metadata": {
    "collapsed": false,
    "ExecuteTime": {
     "end_time": "2023-12-15T11:40:00.585015900Z",
     "start_time": "2023-12-15T11:40:00.552235100Z"
    }
   },
   "id": "ef812f6c8e3a607a"
  },
  {
   "cell_type": "markdown",
   "source": [
    "> # There are clubs with no squad -> are them droppable !?\n",
    "\n",
    "> ## Also we need to parse the 'net_transfer_record' column, which is the Italian for *\"registro dei trasferimenti (valore netto)\"*."
   ],
   "metadata": {
    "collapsed": false
   },
   "id": "6ab28f21cba996d"
  },
  {
   "cell_type": "code",
   "execution_count": 58,
   "outputs": [],
   "source": [
    "del clubs['total_market_value']\n",
    "del clubs['coach_name']"
   ],
   "metadata": {
    "collapsed": false,
    "ExecuteTime": {
     "end_time": "2023-12-15T11:40:00.600013800Z",
     "start_time": "2023-12-15T11:40:00.574194800Z"
    }
   },
   "id": "58d07ef485aa2662"
  },
  {
   "cell_type": "markdown",
   "source": [
    "> # Coach_name and Total_market_value are both NULL columns. We will remove them!"
   ],
   "metadata": {
    "collapsed": false
   },
   "id": "1595a225b025527e"
  },
  {
   "cell_type": "code",
   "execution_count": 59,
   "outputs": [
    {
     "name": "stdout",
     "output_type": "stream",
     "text": [
      "<class 'pandas.core.frame.DataFrame'>\n",
      "RangeIndex: 426 entries, 0 to 425\n",
      "Data columns (total 14 columns):\n",
      " #   Column                   Non-Null Count  Dtype  \n",
      "---  ------                   --------------  -----  \n",
      " 0   club_id                  426 non-null    int64  \n",
      " 1   club_code                426 non-null    string \n",
      " 2   name                     426 non-null    string \n",
      " 3   domestic_competition_id  426 non-null    string \n",
      " 4   squad_size               426 non-null    int64  \n",
      " 5   average_age              388 non-null    float64\n",
      " 6   foreigners_number        426 non-null    int64  \n",
      " 7   foreigners_percentage    379 non-null    float64\n",
      " 8   national_team_players    426 non-null    int64  \n",
      " 9   stadium_name             426 non-null    string \n",
      " 10  stadium_seats            426 non-null    int64  \n",
      " 11  net_transfer_record      426 non-null    object \n",
      " 12  last_season              426 non-null    int64  \n",
      " 13  url                      426 non-null    string \n",
      "dtypes: float64(2), int64(6), object(1), string(5)\n",
      "memory usage: 46.7+ KB\n"
     ]
    }
   ],
   "source": [
    "clubs['club_code'] = clubs['club_code'].astype('string')\n",
    "clubs['name'] = clubs['name'].astype('string')\n",
    "clubs['domestic_competition_id'] = clubs['domestic_competition_id'].astype('string')\n",
    "clubs['domestic_competition_id'] = clubs['domestic_competition_id'].astype('string')\n",
    "clubs['stadium_name'] = clubs['stadium_name'].astype('string')\n",
    "clubs['url'] = clubs['url'].astype('string')\n",
    "\n",
    "clubs.info()"
   ],
   "metadata": {
    "collapsed": false,
    "ExecuteTime": {
     "end_time": "2023-12-15T11:40:00.608092400Z",
     "start_time": "2023-12-15T11:40:00.598047Z"
    }
   },
   "id": "7de31b69544b6ee9"
  },
  {
   "cell_type": "code",
   "execution_count": 60,
   "outputs": [
    {
     "data": {
      "text/plain": "     club_id                      club_code                             name  \\\n9      19789               yeni-malatyaspor                 Yeni Malatyaspor   \n11     21957                   ao-platanias                     AO Platanias   \n25      6996               goverla-uzhgorod        Goverla Uzhgorod (- 2016)   \n38      2477                   karpaty-lviv             Karpaty Lviv (-2021)   \n53       566                   beerschot-ac                     Beerschot AC   \n68      1411                      raec-mons               RAEC Mons (- 2015)   \n71     18105                       pfk-lviv                         PFK Lviv   \n80      5220                   gs-ergotelis                     GS Ergotelis   \n91     16239                desna-chernigiv                  Desna Chernigiv   \n96     28956                    ael-kalloni                      AEL Kalloni   \n108     4750                   sc-olhanense                     SC Olhanense   \n110        6                      adanaspor                        Adanaspor   \n119    16247             pfk-stal-kamyanske       PFK Stal Kamyanske (-2018)   \n120    20100               fc-vestsjaelland                 FC Vestsjaelland   \n122     2323                       orduspor                         Orduspor   \n126     3691                      tom-tomsk                        Tom Tomsk   \n130      498                    ksc-lokeren             KSC Lokeren (- 2020)   \n131      524                  gaziantepspor           Gaziantepspor (- 2020)   \n137      976               cf-uniao-madeira         CF União Madeira (-2021)   \n142    11126               mordovia-saransk         Mordovia Saransk (-2020)   \n144    12438         volga-nizhniy-novgorod  Volga Nizhniy Novgorod (- 2016)   \n158     3336                desportivo-aves         Desportivo Aves (- 2020)   \n163     6414               metalist-kharkiv        Metalist Kharkiv (- 2016)   \n164     6993                    fk-mariupol                      FK Mariupol   \n175      128                      ao-xanthi                        AO Xanthi   \n188     3558                    gfc-ajaccio                      GFC Ajaccio   \n202    29228           royal-excel-mouscron     Royal Excel Mouscron (-2022)   \n203     3216              mersin-idmanyurdu             Mersin Talimyurdu SK   \n210    40426                       fk-tosno                 FC Tosno (-2018)   \n221     1506           kardemir-karabukspor             Kardemir Karabükspor   \n225    23611                olimpik-donetsk                  Olimpik Donetsk   \n254     2700              anzhi-makhachkala       Anzhi Makhachkala ( -2022)   \n268    16245                  fk-sevastopol           FK Sevastopol (- 2014)   \n277      339          dnipro-dnipropetrovsk    Dnipro Dnipropetrovsk (-2020)   \n298     2439                kuban-krasnodar          Kuban Krasnodar (-2018)   \n299     2703            spartak-vladikavkaz      Spartak Vladikavkaz (-2020)   \n307     4482                    volyn-lutsk                      Volyn Lutsk   \n316     8838            zirka-kropyvnytskyi              Zirka Kropyvnytskyi   \n325      204                      lierse-sk               Lierse SK (- 2018)   \n326     2227          sk-tavriya-simferopol  SK Tavriya Simferopol ( - 2022)   \n335     5219                    aok-kerkyra                      AOK Kerkyra   \n341     6894            kayseri-erciyesspor              Kayseri Erciyesspor   \n345      862                  chievo-verona                    Chievo Verona   \n347     9007                   arsenal-kiew                     Arsenal Kyiv   \n358    41201                     pfk-tambov               PFK Tambov (-2021)   \n363     6994  metalurg-zaporizhya-bis-2016-      Metalurg Zaporizhya (-2016)   \n379     2783               metalurg-donetsk        Metalurg Donetsk (- 2015)   \n\n    domestic_competition_id  squad_size  average_age  foreigners_number  \\\n9                       TR1          10         22.9                  1   \n11                      GR1           0          NaN                  0   \n25                     UKR1           0          NaN                  0   \n38                     UKR1           0          NaN                  0   \n53                      BE1           0          NaN                  0   \n68                      BE1           0          NaN                  0   \n71                     UKR1           3         18.3                  0   \n80                      GR1           3         23.3                  0   \n91                     UKR1           0          NaN                  0   \n96                      GR1           0          NaN                  0   \n108                     PO1          10         23.4                  5   \n110                     TR1          10         23.9                  4   \n119                    UKR1           0          NaN                  0   \n120                     DK1           0          NaN                  0   \n122                     TR1           3         20.0                  0   \n126                     RU1           0          NaN                  0   \n130                     BE1           0          NaN                  0   \n131                     TR1           0          NaN                  0   \n137                     PO1           0          NaN                  0   \n142                     RU1           0          NaN                  0   \n144                     RU1           0          NaN                  0   \n158                     PO1           0          NaN                  0   \n163                    UKR1           0          NaN                  0   \n164                    UKR1           0          NaN                  0   \n175                     GR1           0          NaN                  0   \n188                     FR1           5         26.8                  1   \n202                     BE1           0          NaN                  0   \n203                     TR1           0          NaN                  0   \n210                     RU1           0          NaN                  0   \n221                     TR1           0          NaN                  0   \n225                    UKR1           0          NaN                  0   \n254                     RU1           0          NaN                  0   \n268                    UKR1           0          NaN                  0   \n277                    UKR1           0          NaN                  0   \n298                     RU1           0          NaN                  0   \n299                     RU1           0          NaN                  0   \n307                    UKR1           0          NaN                  0   \n316                    UKR1           7         27.4                  0   \n325                     BE1           0          NaN                  0   \n326                    UKR1           0          NaN                  0   \n335                     GR1           8         28.1                  1   \n341                     TR1           0          NaN                  0   \n345                     IT1           0          NaN                  0   \n347                    UKR1           0          NaN                  0   \n358                     RU1           0          NaN                  0   \n363                    UKR1           0          NaN                  0   \n379                    UKR1           0          NaN                  0   \n\n     foreigners_percentage  national_team_players  \\\n9                     10.0                      0   \n11                     NaN                      0   \n25                     NaN                      0   \n38                     NaN                      0   \n53                     NaN                      0   \n68                     NaN                      0   \n71                     NaN                      0   \n80                     NaN                      0   \n91                     NaN                      0   \n96                     NaN                      0   \n108                   50.0                      0   \n110                   40.0                      0   \n119                    NaN                      0   \n120                    NaN                      0   \n122                    NaN                      0   \n126                    NaN                      0   \n130                    NaN                      0   \n131                    NaN                      0   \n137                    NaN                      0   \n142                    NaN                      0   \n144                    NaN                      0   \n158                    NaN                      0   \n163                    NaN                      0   \n164                    NaN                      0   \n175                    NaN                      0   \n188                   20.0                      1   \n202                    NaN                      0   \n203                    NaN                      0   \n210                    NaN                      0   \n221                    NaN                      0   \n225                    NaN                      0   \n254                    NaN                      0   \n268                    NaN                      0   \n277                    NaN                      0   \n298                    NaN                      0   \n299                    NaN                      0   \n307                    NaN                      0   \n316                    NaN                      0   \n325                    NaN                      0   \n326                    NaN                      0   \n335                   12.5                      0   \n341                    NaN                      0   \n345                    NaN                      0   \n347                    NaN                      0   \n358                    NaN                      0   \n363                    NaN                      0   \n379                    NaN                      0   \n\n                                     stadium_name  stadium_seats  \\\n9                           Yeni Malatya Stadyumu          25745   \n11                      Dimotiko Gipedo Perivolia           3700   \n25                                       Avangard          10640   \n38                                Stadion Ukraina          28051   \n53                              Olympisch Stadion          12771   \n68                         Stade Charles Tondreau          12662   \n71                                   Stadion SKIF           3742   \n80                               Pankritio Stadio          25780   \n91                    Stadion im. Yuriya Gagarina          12060   \n96                               Stadio Mytilinis           4000   \n108                          Estádio José Arcanjo          10080   \n110                           Yeni Adana Stadyumu          33000   \n119                                        Obolon           5100   \n120                                  Harboe Arena          10000   \n122                              19 Eylül Stadyum          11024   \n126                                          Trud          10028   \n130                                 Daknamstadion          12000   \n131                            Gaziantep Stadyumu          33502   \n137                  Centro Desportivo da Madeira           2500   \n142                                Mordovia Arena          44442   \n144                      Zentralstadion Lokomotiv          17856   \n158                           Estádio CD das Aves           5441   \n163                                  OSK Metalist          38685   \n164                  Stadion im. Volodymyra Boyko          12680   \n175                                  Xanthi Arena           7361   \n188                           Stade Ange-Casanova           4050   \n202                                  Le Canonnier          10830   \n203                               Mersin Stadyumu          25000   \n210                                     Petrovsky          20985   \n221                        Dr. Necmettin Şeyhoğlu          12400   \n225                       NTK im. B. M. Bannikova           1678   \n254   RDYuSSh MinObrNauki RD Politekh Makhachkala           1600   \n268                                 SK Sevastopol           5826   \n277                                        Meteor          24381   \n298                                 Kuban Stadium          31654   \n299                    Republican Stadium Spartak          32464   \n307                              Stadion Avangard          12080   \n316                                         Zirka          14628   \n325                   Herman Vanderpoortenstadion          14538   \n326                                  RS Lokomotiv          19978   \n335                       Ethniko Stadio Kerkyras           3000   \n341  Kayseri Atatürk Spor Kompleksi Yan Açık Saha           2000   \n345                         Marcantonio Bentegodi          31045   \n347                                 NSK Olimpisky          70050   \n358                                Mordovia Arena          44149   \n363                               Slavutych Arena          11883   \n379                                      Metalurg           5090   \n\n    net_transfer_record  last_season  \\\n9                +€778k         2021   \n11                  +-0         2017   \n25                  +-0         2015   \n38                  +-0         2019   \n53                  +-0         2012   \n68                  +-0         2013   \n71                  +-0         2022   \n80                  +-0         2014   \n91                  +-0         2021   \n96                  +-0         2015   \n108                 +-0         2013   \n110                 +-0         2016   \n119                 +-0         2017   \n120                 +-0         2014   \n122                 +-0         2012   \n126                 +-0         2016   \n130                 +-0         2018   \n131                 +-0         2016   \n137                 +-0         2015   \n142                 +-0         2015   \n144                 +-0         2013   \n158                 +-0         2019   \n163                 +-0         2015   \n164              +€100k         2021   \n175                 +-0         2019   \n188                 +-0         2015   \n202               +€40k         2020   \n203                 +-0         2015   \n210                 +-0         2017   \n221                 +-0         2017   \n225                 +-0         2020   \n254                 +-0         2018   \n268                 +-0         2013   \n277                 +-0         2016   \n298                 +-0         2015   \n299                 +-0         2012   \n307                 +-0         2016   \n316                 +-0         2017   \n325                 +-0         2014   \n326                 +-0         2013   \n335                 +-0         2017   \n341                 +-0         2014   \n345                 +-0         2018   \n347                 +-0         2018   \n358                 +-0         2020   \n363                 +-0         2015   \n379                 +-0         2014   \n\n                                                   url  \n9    https://www.transfermarkt.co.uk/yeni-malatyasp...  \n11   https://www.transfermarkt.co.uk/ao-platanias/s...  \n25   https://www.transfermarkt.co.uk/goverla-uzhgor...  \n38   https://www.transfermarkt.co.uk/karpaty-lviv/s...  \n53   https://www.transfermarkt.co.uk/beerschot-ac/s...  \n68   https://www.transfermarkt.co.uk/raec-mons/star...  \n71   https://www.transfermarkt.co.uk/pfk-lviv/start...  \n80   https://www.transfermarkt.co.uk/gs-ergotelis/s...  \n91   https://www.transfermarkt.co.uk/desna-chernigi...  \n96   https://www.transfermarkt.co.uk/ael-kalloni/st...  \n108  https://www.transfermarkt.co.uk/sc-olhanense/s...  \n110  https://www.transfermarkt.co.uk/adanaspor/star...  \n119  https://www.transfermarkt.co.uk/pfk-stal-kamya...  \n120  https://www.transfermarkt.co.uk/fc-vestsjaella...  \n122  https://www.transfermarkt.co.uk/orduspor/start...  \n126  https://www.transfermarkt.co.uk/tom-tomsk/star...  \n130  https://www.transfermarkt.co.uk/ksc-lokeren/st...  \n131  https://www.transfermarkt.co.uk/gaziantepspor/...  \n137  https://www.transfermarkt.co.uk/cf-uniao-madei...  \n142  https://www.transfermarkt.co.uk/mordovia-saran...  \n144  https://www.transfermarkt.co.uk/volga-nizhniy-...  \n158  https://www.transfermarkt.co.uk/desportivo-ave...  \n163  https://www.transfermarkt.co.uk/metalist-khark...  \n164  https://www.transfermarkt.co.uk/fk-mariupol/st...  \n175  https://www.transfermarkt.co.uk/ao-xanthi/star...  \n188  https://www.transfermarkt.co.uk/gfc-ajaccio/st...  \n202  https://www.transfermarkt.co.uk/royal-excel-mo...  \n203  https://www.transfermarkt.co.uk/mersin-idmanyu...  \n210  https://www.transfermarkt.co.uk/fk-tosno/start...  \n221  https://www.transfermarkt.co.uk/kardemir-karab...  \n225  https://www.transfermarkt.co.uk/olimpik-donets...  \n254  https://www.transfermarkt.co.uk/anzhi-makhachk...  \n268  https://www.transfermarkt.co.uk/fk-sevastopol/...  \n277  https://www.transfermarkt.co.uk/dnipro-dniprop...  \n298  https://www.transfermarkt.co.uk/kuban-krasnoda...  \n299  https://www.transfermarkt.co.uk/spartak-vladik...  \n307  https://www.transfermarkt.co.uk/volyn-lutsk/st...  \n316  https://www.transfermarkt.co.uk/zirka-kropyvny...  \n325  https://www.transfermarkt.co.uk/lierse-sk/star...  \n326  https://www.transfermarkt.co.uk/sk-tavriya-sim...  \n335  https://www.transfermarkt.co.uk/aok-kerkyra/st...  \n341  https://www.transfermarkt.co.uk/kayseri-erciye...  \n345  https://www.transfermarkt.co.uk/chievo-verona/...  \n347  https://www.transfermarkt.co.uk/arsenal-kiew/s...  \n358  https://www.transfermarkt.co.uk/pfk-tambov/sta...  \n363  https://www.transfermarkt.co.uk/metalurg-zapor...  \n379  https://www.transfermarkt.co.uk/metalurg-donet...  ",
      "text/html": "<div>\n<style scoped>\n    .dataframe tbody tr th:only-of-type {\n        vertical-align: middle;\n    }\n\n    .dataframe tbody tr th {\n        vertical-align: top;\n    }\n\n    .dataframe thead th {\n        text-align: right;\n    }\n</style>\n<table border=\"1\" class=\"dataframe\">\n  <thead>\n    <tr style=\"text-align: right;\">\n      <th></th>\n      <th>club_id</th>\n      <th>club_code</th>\n      <th>name</th>\n      <th>domestic_competition_id</th>\n      <th>squad_size</th>\n      <th>average_age</th>\n      <th>foreigners_number</th>\n      <th>foreigners_percentage</th>\n      <th>national_team_players</th>\n      <th>stadium_name</th>\n      <th>stadium_seats</th>\n      <th>net_transfer_record</th>\n      <th>last_season</th>\n      <th>url</th>\n    </tr>\n  </thead>\n  <tbody>\n    <tr>\n      <th>9</th>\n      <td>19789</td>\n      <td>yeni-malatyaspor</td>\n      <td>Yeni Malatyaspor</td>\n      <td>TR1</td>\n      <td>10</td>\n      <td>22.9</td>\n      <td>1</td>\n      <td>10.0</td>\n      <td>0</td>\n      <td>Yeni Malatya Stadyumu</td>\n      <td>25745</td>\n      <td>+€778k</td>\n      <td>2021</td>\n      <td>https://www.transfermarkt.co.uk/yeni-malatyasp...</td>\n    </tr>\n    <tr>\n      <th>11</th>\n      <td>21957</td>\n      <td>ao-platanias</td>\n      <td>AO Platanias</td>\n      <td>GR1</td>\n      <td>0</td>\n      <td>NaN</td>\n      <td>0</td>\n      <td>NaN</td>\n      <td>0</td>\n      <td>Dimotiko Gipedo Perivolia</td>\n      <td>3700</td>\n      <td>+-0</td>\n      <td>2017</td>\n      <td>https://www.transfermarkt.co.uk/ao-platanias/s...</td>\n    </tr>\n    <tr>\n      <th>25</th>\n      <td>6996</td>\n      <td>goverla-uzhgorod</td>\n      <td>Goverla Uzhgorod (- 2016)</td>\n      <td>UKR1</td>\n      <td>0</td>\n      <td>NaN</td>\n      <td>0</td>\n      <td>NaN</td>\n      <td>0</td>\n      <td>Avangard</td>\n      <td>10640</td>\n      <td>+-0</td>\n      <td>2015</td>\n      <td>https://www.transfermarkt.co.uk/goverla-uzhgor...</td>\n    </tr>\n    <tr>\n      <th>38</th>\n      <td>2477</td>\n      <td>karpaty-lviv</td>\n      <td>Karpaty Lviv (-2021)</td>\n      <td>UKR1</td>\n      <td>0</td>\n      <td>NaN</td>\n      <td>0</td>\n      <td>NaN</td>\n      <td>0</td>\n      <td>Stadion Ukraina</td>\n      <td>28051</td>\n      <td>+-0</td>\n      <td>2019</td>\n      <td>https://www.transfermarkt.co.uk/karpaty-lviv/s...</td>\n    </tr>\n    <tr>\n      <th>53</th>\n      <td>566</td>\n      <td>beerschot-ac</td>\n      <td>Beerschot AC</td>\n      <td>BE1</td>\n      <td>0</td>\n      <td>NaN</td>\n      <td>0</td>\n      <td>NaN</td>\n      <td>0</td>\n      <td>Olympisch Stadion</td>\n      <td>12771</td>\n      <td>+-0</td>\n      <td>2012</td>\n      <td>https://www.transfermarkt.co.uk/beerschot-ac/s...</td>\n    </tr>\n    <tr>\n      <th>68</th>\n      <td>1411</td>\n      <td>raec-mons</td>\n      <td>RAEC Mons (- 2015)</td>\n      <td>BE1</td>\n      <td>0</td>\n      <td>NaN</td>\n      <td>0</td>\n      <td>NaN</td>\n      <td>0</td>\n      <td>Stade Charles Tondreau</td>\n      <td>12662</td>\n      <td>+-0</td>\n      <td>2013</td>\n      <td>https://www.transfermarkt.co.uk/raec-mons/star...</td>\n    </tr>\n    <tr>\n      <th>71</th>\n      <td>18105</td>\n      <td>pfk-lviv</td>\n      <td>PFK Lviv</td>\n      <td>UKR1</td>\n      <td>3</td>\n      <td>18.3</td>\n      <td>0</td>\n      <td>NaN</td>\n      <td>0</td>\n      <td>Stadion SKIF</td>\n      <td>3742</td>\n      <td>+-0</td>\n      <td>2022</td>\n      <td>https://www.transfermarkt.co.uk/pfk-lviv/start...</td>\n    </tr>\n    <tr>\n      <th>80</th>\n      <td>5220</td>\n      <td>gs-ergotelis</td>\n      <td>GS Ergotelis</td>\n      <td>GR1</td>\n      <td>3</td>\n      <td>23.3</td>\n      <td>0</td>\n      <td>NaN</td>\n      <td>0</td>\n      <td>Pankritio Stadio</td>\n      <td>25780</td>\n      <td>+-0</td>\n      <td>2014</td>\n      <td>https://www.transfermarkt.co.uk/gs-ergotelis/s...</td>\n    </tr>\n    <tr>\n      <th>91</th>\n      <td>16239</td>\n      <td>desna-chernigiv</td>\n      <td>Desna Chernigiv</td>\n      <td>UKR1</td>\n      <td>0</td>\n      <td>NaN</td>\n      <td>0</td>\n      <td>NaN</td>\n      <td>0</td>\n      <td>Stadion im. Yuriya Gagarina</td>\n      <td>12060</td>\n      <td>+-0</td>\n      <td>2021</td>\n      <td>https://www.transfermarkt.co.uk/desna-chernigi...</td>\n    </tr>\n    <tr>\n      <th>96</th>\n      <td>28956</td>\n      <td>ael-kalloni</td>\n      <td>AEL Kalloni</td>\n      <td>GR1</td>\n      <td>0</td>\n      <td>NaN</td>\n      <td>0</td>\n      <td>NaN</td>\n      <td>0</td>\n      <td>Stadio Mytilinis</td>\n      <td>4000</td>\n      <td>+-0</td>\n      <td>2015</td>\n      <td>https://www.transfermarkt.co.uk/ael-kalloni/st...</td>\n    </tr>\n    <tr>\n      <th>108</th>\n      <td>4750</td>\n      <td>sc-olhanense</td>\n      <td>SC Olhanense</td>\n      <td>PO1</td>\n      <td>10</td>\n      <td>23.4</td>\n      <td>5</td>\n      <td>50.0</td>\n      <td>0</td>\n      <td>Estádio José Arcanjo</td>\n      <td>10080</td>\n      <td>+-0</td>\n      <td>2013</td>\n      <td>https://www.transfermarkt.co.uk/sc-olhanense/s...</td>\n    </tr>\n    <tr>\n      <th>110</th>\n      <td>6</td>\n      <td>adanaspor</td>\n      <td>Adanaspor</td>\n      <td>TR1</td>\n      <td>10</td>\n      <td>23.9</td>\n      <td>4</td>\n      <td>40.0</td>\n      <td>0</td>\n      <td>Yeni Adana Stadyumu</td>\n      <td>33000</td>\n      <td>+-0</td>\n      <td>2016</td>\n      <td>https://www.transfermarkt.co.uk/adanaspor/star...</td>\n    </tr>\n    <tr>\n      <th>119</th>\n      <td>16247</td>\n      <td>pfk-stal-kamyanske</td>\n      <td>PFK Stal Kamyanske (-2018)</td>\n      <td>UKR1</td>\n      <td>0</td>\n      <td>NaN</td>\n      <td>0</td>\n      <td>NaN</td>\n      <td>0</td>\n      <td>Obolon</td>\n      <td>5100</td>\n      <td>+-0</td>\n      <td>2017</td>\n      <td>https://www.transfermarkt.co.uk/pfk-stal-kamya...</td>\n    </tr>\n    <tr>\n      <th>120</th>\n      <td>20100</td>\n      <td>fc-vestsjaelland</td>\n      <td>FC Vestsjaelland</td>\n      <td>DK1</td>\n      <td>0</td>\n      <td>NaN</td>\n      <td>0</td>\n      <td>NaN</td>\n      <td>0</td>\n      <td>Harboe Arena</td>\n      <td>10000</td>\n      <td>+-0</td>\n      <td>2014</td>\n      <td>https://www.transfermarkt.co.uk/fc-vestsjaella...</td>\n    </tr>\n    <tr>\n      <th>122</th>\n      <td>2323</td>\n      <td>orduspor</td>\n      <td>Orduspor</td>\n      <td>TR1</td>\n      <td>3</td>\n      <td>20.0</td>\n      <td>0</td>\n      <td>NaN</td>\n      <td>0</td>\n      <td>19 Eylül Stadyum</td>\n      <td>11024</td>\n      <td>+-0</td>\n      <td>2012</td>\n      <td>https://www.transfermarkt.co.uk/orduspor/start...</td>\n    </tr>\n    <tr>\n      <th>126</th>\n      <td>3691</td>\n      <td>tom-tomsk</td>\n      <td>Tom Tomsk</td>\n      <td>RU1</td>\n      <td>0</td>\n      <td>NaN</td>\n      <td>0</td>\n      <td>NaN</td>\n      <td>0</td>\n      <td>Trud</td>\n      <td>10028</td>\n      <td>+-0</td>\n      <td>2016</td>\n      <td>https://www.transfermarkt.co.uk/tom-tomsk/star...</td>\n    </tr>\n    <tr>\n      <th>130</th>\n      <td>498</td>\n      <td>ksc-lokeren</td>\n      <td>KSC Lokeren (- 2020)</td>\n      <td>BE1</td>\n      <td>0</td>\n      <td>NaN</td>\n      <td>0</td>\n      <td>NaN</td>\n      <td>0</td>\n      <td>Daknamstadion</td>\n      <td>12000</td>\n      <td>+-0</td>\n      <td>2018</td>\n      <td>https://www.transfermarkt.co.uk/ksc-lokeren/st...</td>\n    </tr>\n    <tr>\n      <th>131</th>\n      <td>524</td>\n      <td>gaziantepspor</td>\n      <td>Gaziantepspor (- 2020)</td>\n      <td>TR1</td>\n      <td>0</td>\n      <td>NaN</td>\n      <td>0</td>\n      <td>NaN</td>\n      <td>0</td>\n      <td>Gaziantep Stadyumu</td>\n      <td>33502</td>\n      <td>+-0</td>\n      <td>2016</td>\n      <td>https://www.transfermarkt.co.uk/gaziantepspor/...</td>\n    </tr>\n    <tr>\n      <th>137</th>\n      <td>976</td>\n      <td>cf-uniao-madeira</td>\n      <td>CF União Madeira (-2021)</td>\n      <td>PO1</td>\n      <td>0</td>\n      <td>NaN</td>\n      <td>0</td>\n      <td>NaN</td>\n      <td>0</td>\n      <td>Centro Desportivo da Madeira</td>\n      <td>2500</td>\n      <td>+-0</td>\n      <td>2015</td>\n      <td>https://www.transfermarkt.co.uk/cf-uniao-madei...</td>\n    </tr>\n    <tr>\n      <th>142</th>\n      <td>11126</td>\n      <td>mordovia-saransk</td>\n      <td>Mordovia Saransk (-2020)</td>\n      <td>RU1</td>\n      <td>0</td>\n      <td>NaN</td>\n      <td>0</td>\n      <td>NaN</td>\n      <td>0</td>\n      <td>Mordovia Arena</td>\n      <td>44442</td>\n      <td>+-0</td>\n      <td>2015</td>\n      <td>https://www.transfermarkt.co.uk/mordovia-saran...</td>\n    </tr>\n    <tr>\n      <th>144</th>\n      <td>12438</td>\n      <td>volga-nizhniy-novgorod</td>\n      <td>Volga Nizhniy Novgorod (- 2016)</td>\n      <td>RU1</td>\n      <td>0</td>\n      <td>NaN</td>\n      <td>0</td>\n      <td>NaN</td>\n      <td>0</td>\n      <td>Zentralstadion Lokomotiv</td>\n      <td>17856</td>\n      <td>+-0</td>\n      <td>2013</td>\n      <td>https://www.transfermarkt.co.uk/volga-nizhniy-...</td>\n    </tr>\n    <tr>\n      <th>158</th>\n      <td>3336</td>\n      <td>desportivo-aves</td>\n      <td>Desportivo Aves (- 2020)</td>\n      <td>PO1</td>\n      <td>0</td>\n      <td>NaN</td>\n      <td>0</td>\n      <td>NaN</td>\n      <td>0</td>\n      <td>Estádio CD das Aves</td>\n      <td>5441</td>\n      <td>+-0</td>\n      <td>2019</td>\n      <td>https://www.transfermarkt.co.uk/desportivo-ave...</td>\n    </tr>\n    <tr>\n      <th>163</th>\n      <td>6414</td>\n      <td>metalist-kharkiv</td>\n      <td>Metalist Kharkiv (- 2016)</td>\n      <td>UKR1</td>\n      <td>0</td>\n      <td>NaN</td>\n      <td>0</td>\n      <td>NaN</td>\n      <td>0</td>\n      <td>OSK Metalist</td>\n      <td>38685</td>\n      <td>+-0</td>\n      <td>2015</td>\n      <td>https://www.transfermarkt.co.uk/metalist-khark...</td>\n    </tr>\n    <tr>\n      <th>164</th>\n      <td>6993</td>\n      <td>fk-mariupol</td>\n      <td>FK Mariupol</td>\n      <td>UKR1</td>\n      <td>0</td>\n      <td>NaN</td>\n      <td>0</td>\n      <td>NaN</td>\n      <td>0</td>\n      <td>Stadion im. Volodymyra Boyko</td>\n      <td>12680</td>\n      <td>+€100k</td>\n      <td>2021</td>\n      <td>https://www.transfermarkt.co.uk/fk-mariupol/st...</td>\n    </tr>\n    <tr>\n      <th>175</th>\n      <td>128</td>\n      <td>ao-xanthi</td>\n      <td>AO Xanthi</td>\n      <td>GR1</td>\n      <td>0</td>\n      <td>NaN</td>\n      <td>0</td>\n      <td>NaN</td>\n      <td>0</td>\n      <td>Xanthi Arena</td>\n      <td>7361</td>\n      <td>+-0</td>\n      <td>2019</td>\n      <td>https://www.transfermarkt.co.uk/ao-xanthi/star...</td>\n    </tr>\n    <tr>\n      <th>188</th>\n      <td>3558</td>\n      <td>gfc-ajaccio</td>\n      <td>GFC Ajaccio</td>\n      <td>FR1</td>\n      <td>5</td>\n      <td>26.8</td>\n      <td>1</td>\n      <td>20.0</td>\n      <td>1</td>\n      <td>Stade Ange-Casanova</td>\n      <td>4050</td>\n      <td>+-0</td>\n      <td>2015</td>\n      <td>https://www.transfermarkt.co.uk/gfc-ajaccio/st...</td>\n    </tr>\n    <tr>\n      <th>202</th>\n      <td>29228</td>\n      <td>royal-excel-mouscron</td>\n      <td>Royal Excel Mouscron (-2022)</td>\n      <td>BE1</td>\n      <td>0</td>\n      <td>NaN</td>\n      <td>0</td>\n      <td>NaN</td>\n      <td>0</td>\n      <td>Le Canonnier</td>\n      <td>10830</td>\n      <td>+€40k</td>\n      <td>2020</td>\n      <td>https://www.transfermarkt.co.uk/royal-excel-mo...</td>\n    </tr>\n    <tr>\n      <th>203</th>\n      <td>3216</td>\n      <td>mersin-idmanyurdu</td>\n      <td>Mersin Talimyurdu SK</td>\n      <td>TR1</td>\n      <td>0</td>\n      <td>NaN</td>\n      <td>0</td>\n      <td>NaN</td>\n      <td>0</td>\n      <td>Mersin Stadyumu</td>\n      <td>25000</td>\n      <td>+-0</td>\n      <td>2015</td>\n      <td>https://www.transfermarkt.co.uk/mersin-idmanyu...</td>\n    </tr>\n    <tr>\n      <th>210</th>\n      <td>40426</td>\n      <td>fk-tosno</td>\n      <td>FC Tosno (-2018)</td>\n      <td>RU1</td>\n      <td>0</td>\n      <td>NaN</td>\n      <td>0</td>\n      <td>NaN</td>\n      <td>0</td>\n      <td>Petrovsky</td>\n      <td>20985</td>\n      <td>+-0</td>\n      <td>2017</td>\n      <td>https://www.transfermarkt.co.uk/fk-tosno/start...</td>\n    </tr>\n    <tr>\n      <th>221</th>\n      <td>1506</td>\n      <td>kardemir-karabukspor</td>\n      <td>Kardemir Karabükspor</td>\n      <td>TR1</td>\n      <td>0</td>\n      <td>NaN</td>\n      <td>0</td>\n      <td>NaN</td>\n      <td>0</td>\n      <td>Dr. Necmettin Şeyhoğlu</td>\n      <td>12400</td>\n      <td>+-0</td>\n      <td>2017</td>\n      <td>https://www.transfermarkt.co.uk/kardemir-karab...</td>\n    </tr>\n    <tr>\n      <th>225</th>\n      <td>23611</td>\n      <td>olimpik-donetsk</td>\n      <td>Olimpik Donetsk</td>\n      <td>UKR1</td>\n      <td>0</td>\n      <td>NaN</td>\n      <td>0</td>\n      <td>NaN</td>\n      <td>0</td>\n      <td>NTK im. B. M. Bannikova</td>\n      <td>1678</td>\n      <td>+-0</td>\n      <td>2020</td>\n      <td>https://www.transfermarkt.co.uk/olimpik-donets...</td>\n    </tr>\n    <tr>\n      <th>254</th>\n      <td>2700</td>\n      <td>anzhi-makhachkala</td>\n      <td>Anzhi Makhachkala ( -2022)</td>\n      <td>RU1</td>\n      <td>0</td>\n      <td>NaN</td>\n      <td>0</td>\n      <td>NaN</td>\n      <td>0</td>\n      <td>RDYuSSh MinObrNauki RD Politekh Makhachkala</td>\n      <td>1600</td>\n      <td>+-0</td>\n      <td>2018</td>\n      <td>https://www.transfermarkt.co.uk/anzhi-makhachk...</td>\n    </tr>\n    <tr>\n      <th>268</th>\n      <td>16245</td>\n      <td>fk-sevastopol</td>\n      <td>FK Sevastopol (- 2014)</td>\n      <td>UKR1</td>\n      <td>0</td>\n      <td>NaN</td>\n      <td>0</td>\n      <td>NaN</td>\n      <td>0</td>\n      <td>SK Sevastopol</td>\n      <td>5826</td>\n      <td>+-0</td>\n      <td>2013</td>\n      <td>https://www.transfermarkt.co.uk/fk-sevastopol/...</td>\n    </tr>\n    <tr>\n      <th>277</th>\n      <td>339</td>\n      <td>dnipro-dnipropetrovsk</td>\n      <td>Dnipro Dnipropetrovsk (-2020)</td>\n      <td>UKR1</td>\n      <td>0</td>\n      <td>NaN</td>\n      <td>0</td>\n      <td>NaN</td>\n      <td>0</td>\n      <td>Meteor</td>\n      <td>24381</td>\n      <td>+-0</td>\n      <td>2016</td>\n      <td>https://www.transfermarkt.co.uk/dnipro-dniprop...</td>\n    </tr>\n    <tr>\n      <th>298</th>\n      <td>2439</td>\n      <td>kuban-krasnodar</td>\n      <td>Kuban Krasnodar (-2018)</td>\n      <td>RU1</td>\n      <td>0</td>\n      <td>NaN</td>\n      <td>0</td>\n      <td>NaN</td>\n      <td>0</td>\n      <td>Kuban Stadium</td>\n      <td>31654</td>\n      <td>+-0</td>\n      <td>2015</td>\n      <td>https://www.transfermarkt.co.uk/kuban-krasnoda...</td>\n    </tr>\n    <tr>\n      <th>299</th>\n      <td>2703</td>\n      <td>spartak-vladikavkaz</td>\n      <td>Spartak Vladikavkaz (-2020)</td>\n      <td>RU1</td>\n      <td>0</td>\n      <td>NaN</td>\n      <td>0</td>\n      <td>NaN</td>\n      <td>0</td>\n      <td>Republican Stadium Spartak</td>\n      <td>32464</td>\n      <td>+-0</td>\n      <td>2012</td>\n      <td>https://www.transfermarkt.co.uk/spartak-vladik...</td>\n    </tr>\n    <tr>\n      <th>307</th>\n      <td>4482</td>\n      <td>volyn-lutsk</td>\n      <td>Volyn Lutsk</td>\n      <td>UKR1</td>\n      <td>0</td>\n      <td>NaN</td>\n      <td>0</td>\n      <td>NaN</td>\n      <td>0</td>\n      <td>Stadion Avangard</td>\n      <td>12080</td>\n      <td>+-0</td>\n      <td>2016</td>\n      <td>https://www.transfermarkt.co.uk/volyn-lutsk/st...</td>\n    </tr>\n    <tr>\n      <th>316</th>\n      <td>8838</td>\n      <td>zirka-kropyvnytskyi</td>\n      <td>Zirka Kropyvnytskyi</td>\n      <td>UKR1</td>\n      <td>7</td>\n      <td>27.4</td>\n      <td>0</td>\n      <td>NaN</td>\n      <td>0</td>\n      <td>Zirka</td>\n      <td>14628</td>\n      <td>+-0</td>\n      <td>2017</td>\n      <td>https://www.transfermarkt.co.uk/zirka-kropyvny...</td>\n    </tr>\n    <tr>\n      <th>325</th>\n      <td>204</td>\n      <td>lierse-sk</td>\n      <td>Lierse SK (- 2018)</td>\n      <td>BE1</td>\n      <td>0</td>\n      <td>NaN</td>\n      <td>0</td>\n      <td>NaN</td>\n      <td>0</td>\n      <td>Herman Vanderpoortenstadion</td>\n      <td>14538</td>\n      <td>+-0</td>\n      <td>2014</td>\n      <td>https://www.transfermarkt.co.uk/lierse-sk/star...</td>\n    </tr>\n    <tr>\n      <th>326</th>\n      <td>2227</td>\n      <td>sk-tavriya-simferopol</td>\n      <td>SK Tavriya Simferopol ( - 2022)</td>\n      <td>UKR1</td>\n      <td>0</td>\n      <td>NaN</td>\n      <td>0</td>\n      <td>NaN</td>\n      <td>0</td>\n      <td>RS Lokomotiv</td>\n      <td>19978</td>\n      <td>+-0</td>\n      <td>2013</td>\n      <td>https://www.transfermarkt.co.uk/sk-tavriya-sim...</td>\n    </tr>\n    <tr>\n      <th>335</th>\n      <td>5219</td>\n      <td>aok-kerkyra</td>\n      <td>AOK Kerkyra</td>\n      <td>GR1</td>\n      <td>8</td>\n      <td>28.1</td>\n      <td>1</td>\n      <td>12.5</td>\n      <td>0</td>\n      <td>Ethniko Stadio Kerkyras</td>\n      <td>3000</td>\n      <td>+-0</td>\n      <td>2017</td>\n      <td>https://www.transfermarkt.co.uk/aok-kerkyra/st...</td>\n    </tr>\n    <tr>\n      <th>341</th>\n      <td>6894</td>\n      <td>kayseri-erciyesspor</td>\n      <td>Kayseri Erciyesspor</td>\n      <td>TR1</td>\n      <td>0</td>\n      <td>NaN</td>\n      <td>0</td>\n      <td>NaN</td>\n      <td>0</td>\n      <td>Kayseri Atatürk Spor Kompleksi Yan Açık Saha</td>\n      <td>2000</td>\n      <td>+-0</td>\n      <td>2014</td>\n      <td>https://www.transfermarkt.co.uk/kayseri-erciye...</td>\n    </tr>\n    <tr>\n      <th>345</th>\n      <td>862</td>\n      <td>chievo-verona</td>\n      <td>Chievo Verona</td>\n      <td>IT1</td>\n      <td>0</td>\n      <td>NaN</td>\n      <td>0</td>\n      <td>NaN</td>\n      <td>0</td>\n      <td>Marcantonio Bentegodi</td>\n      <td>31045</td>\n      <td>+-0</td>\n      <td>2018</td>\n      <td>https://www.transfermarkt.co.uk/chievo-verona/...</td>\n    </tr>\n    <tr>\n      <th>347</th>\n      <td>9007</td>\n      <td>arsenal-kiew</td>\n      <td>Arsenal Kyiv</td>\n      <td>UKR1</td>\n      <td>0</td>\n      <td>NaN</td>\n      <td>0</td>\n      <td>NaN</td>\n      <td>0</td>\n      <td>NSK Olimpisky</td>\n      <td>70050</td>\n      <td>+-0</td>\n      <td>2018</td>\n      <td>https://www.transfermarkt.co.uk/arsenal-kiew/s...</td>\n    </tr>\n    <tr>\n      <th>358</th>\n      <td>41201</td>\n      <td>pfk-tambov</td>\n      <td>PFK Tambov (-2021)</td>\n      <td>RU1</td>\n      <td>0</td>\n      <td>NaN</td>\n      <td>0</td>\n      <td>NaN</td>\n      <td>0</td>\n      <td>Mordovia Arena</td>\n      <td>44149</td>\n      <td>+-0</td>\n      <td>2020</td>\n      <td>https://www.transfermarkt.co.uk/pfk-tambov/sta...</td>\n    </tr>\n    <tr>\n      <th>363</th>\n      <td>6994</td>\n      <td>metalurg-zaporizhya-bis-2016-</td>\n      <td>Metalurg Zaporizhya (-2016)</td>\n      <td>UKR1</td>\n      <td>0</td>\n      <td>NaN</td>\n      <td>0</td>\n      <td>NaN</td>\n      <td>0</td>\n      <td>Slavutych Arena</td>\n      <td>11883</td>\n      <td>+-0</td>\n      <td>2015</td>\n      <td>https://www.transfermarkt.co.uk/metalurg-zapor...</td>\n    </tr>\n    <tr>\n      <th>379</th>\n      <td>2783</td>\n      <td>metalurg-donetsk</td>\n      <td>Metalurg Donetsk (- 2015)</td>\n      <td>UKR1</td>\n      <td>0</td>\n      <td>NaN</td>\n      <td>0</td>\n      <td>NaN</td>\n      <td>0</td>\n      <td>Metalurg</td>\n      <td>5090</td>\n      <td>+-0</td>\n      <td>2014</td>\n      <td>https://www.transfermarkt.co.uk/metalurg-donet...</td>\n    </tr>\n  </tbody>\n</table>\n</div>"
     },
     "execution_count": 60,
     "metadata": {},
     "output_type": "execute_result"
    }
   ],
   "source": [
    "wrong_size_clubs = clubs.query('squad_size<11')\n",
    "wrong_size_clubs"
   ],
   "metadata": {
    "collapsed": false,
    "ExecuteTime": {
     "end_time": "2023-12-15T11:40:00.694010400Z",
     "start_time": "2023-12-15T11:40:00.605013500Z"
    }
   },
   "id": "7693854c15b3bdd0"
  },
  {
   "cell_type": "code",
   "execution_count": 61,
   "outputs": [
    {
     "data": {
      "text/plain": "squad_size\n0     38\n10     3\n3      3\n5      1\n7      1\n8      1\nName: count, dtype: int64"
     },
     "execution_count": 61,
     "metadata": {},
     "output_type": "execute_result"
    }
   ],
   "source": [
    "wrong_size_clubs['squad_size'].value_counts()"
   ],
   "metadata": {
    "collapsed": false,
    "ExecuteTime": {
     "end_time": "2023-12-15T11:40:00.721009800Z",
     "start_time": "2023-12-15T11:40:00.636027900Z"
    }
   },
   "id": "5136342581267835"
  },
  {
   "cell_type": "markdown",
   "source": [
    "> # We have fews clubs with unacceptable value of *'squad_size'*."
   ],
   "metadata": {
    "collapsed": false
   },
   "id": "5522d8b3322ef089"
  },
  {
   "cell_type": "code",
   "execution_count": 62,
   "outputs": [
    {
     "name": "stdout",
     "output_type": "stream",
     "text": [
      "<class 'pandas.core.frame.DataFrame'>\n",
      "RangeIndex: 30302 entries, 0 to 30301\n",
      "Data columns (total 23 columns):\n",
      " #   Column                                Non-Null Count  Dtype  \n",
      "---  ------                                --------------  -----  \n",
      " 0   player_id                             30302 non-null  int64  \n",
      " 1   first_name                            28337 non-null  object \n",
      " 2   last_name                             30302 non-null  object \n",
      " 3   name                                  30302 non-null  object \n",
      " 4   last_season                           30302 non-null  int64  \n",
      " 5   current_club_id                       30302 non-null  int64  \n",
      " 6   player_code                           30302 non-null  object \n",
      " 7   country_of_birth                      27613 non-null  object \n",
      " 8   city_of_birth                         28099 non-null  object \n",
      " 9   country_of_citizenship                29759 non-null  object \n",
      " 10  date_of_birth                         30255 non-null  object \n",
      " 11  sub_position                          30130 non-null  object \n",
      " 12  position                              30302 non-null  object \n",
      " 13  foot                                  27913 non-null  object \n",
      " 14  height_in_cm                          28204 non-null  float64\n",
      " 15  market_value_in_eur                   19383 non-null  float64\n",
      " 16  highest_market_value_in_eur           28981 non-null  float64\n",
      " 17  contract_expiration_date              18835 non-null  object \n",
      " 18  agent_name                            14941 non-null  object \n",
      " 19  image_url                             30302 non-null  object \n",
      " 20  url                                   30302 non-null  object \n",
      " 21  current_club_domestic_competition_id  30302 non-null  object \n",
      " 22  current_club_name                     30302 non-null  object \n",
      "dtypes: float64(3), int64(3), object(17)\n",
      "memory usage: 5.3+ MB\n"
     ]
    }
   ],
   "source": [
    "players = pd.read_csv('../Assignment_Data_2023-2024/players.csv')\n",
    "players.info()"
   ],
   "metadata": {
    "collapsed": false,
    "ExecuteTime": {
     "end_time": "2023-12-15T11:40:00.870084400Z",
     "start_time": "2023-12-15T11:40:00.650011900Z"
    }
   },
   "id": "f9652dc3cac5770"
  },
  {
   "cell_type": "code",
   "execution_count": 65,
   "outputs": [
    {
     "data": {
      "text/plain": "False    29509\nTrue       793\nName: count, dtype: int64"
     },
     "execution_count": 65,
     "metadata": {},
     "output_type": "execute_result"
    }
   ],
   "source": [
    "total = []\n",
    "[total.append(wrong_size_clubs['club_id'].__contains__(x)) for x in players['current_club_id']]\n",
    "pd.Series(total).value_counts()"
   ],
   "metadata": {
    "collapsed": false,
    "ExecuteTime": {
     "end_time": "2023-12-15T11:41:02.946314500Z",
     "start_time": "2023-12-15T11:41:02.846248900Z"
    }
   },
   "id": "6fefc83d7872358a"
  },
  {
   "cell_type": "markdown",
   "source": [
    "> # There are wrong sized clubs in the current clubs of players. WHAT SHALL WE DO ?!"
   ],
   "metadata": {
    "collapsed": false
   },
   "id": "a5bdc2004d1a0bda"
  },
  {
   "cell_type": "code",
   "execution_count": null,
   "outputs": [],
   "source": [
    "#uncomment for a better performance!\n",
    "#wrong_size_clubs = None"
   ],
   "metadata": {
    "collapsed": false,
    "ExecuteTime": {
     "start_time": "2023-12-15T11:40:00.898421400Z"
    }
   },
   "id": "e5d1eaaa01eabdd4"
  },
  {
   "cell_type": "code",
   "execution_count": 66,
   "outputs": [
    {
     "name": "stdout",
     "output_type": "stream",
     "text": [
      "<class 'pandas.core.frame.DataFrame'>\n",
      "RangeIndex: 43 entries, 0 to 42\n",
      "Data columns (total 10 columns):\n",
      " #   Column                Non-Null Count  Dtype \n",
      "---  ------                --------------  ----- \n",
      " 0   competition_id        43 non-null     object\n",
      " 1   competition_code      43 non-null     object\n",
      " 2   name                  43 non-null     object\n",
      " 3   sub_type              43 non-null     object\n",
      " 4   type                  43 non-null     object\n",
      " 5   country_id            43 non-null     int64 \n",
      " 6   country_name          36 non-null     object\n",
      " 7   domestic_league_code  36 non-null     object\n",
      " 8   confederation         43 non-null     object\n",
      " 9   url                   43 non-null     object\n",
      "dtypes: int64(1), object(9)\n",
      "memory usage: 3.5+ KB\n"
     ]
    }
   ],
   "source": [
    "competitions = pd.read_csv('../Assignment_Data_2023-2024/competitions.csv')\n",
    "competitions.info()"
   ],
   "metadata": {
    "collapsed": false,
    "ExecuteTime": {
     "end_time": "2023-12-15T12:12:49.673485500Z",
     "start_time": "2023-12-15T12:12:49.624665200Z"
    }
   },
   "id": "6c3b114ded94ec50"
  },
  {
   "cell_type": "code",
   "execution_count": 67,
   "outputs": [
    {
     "data": {
      "text/plain": "426"
     },
     "execution_count": 67,
     "metadata": {},
     "output_type": "execute_result"
    }
   ],
   "source": [
    "clubs['domestic_competition_id'].isin(competitions['competition_id']).sum()"
   ],
   "metadata": {
    "collapsed": false,
    "ExecuteTime": {
     "end_time": "2023-12-15T12:14:23.034037300Z",
     "start_time": "2023-12-15T12:14:23.017968800Z"
    }
   },
   "id": "fffc24465d9c5ff2"
  },
  {
   "cell_type": "markdown",
   "source": [
    "> # All the competitions exist! That is good!"
   ],
   "metadata": {
    "collapsed": false
   },
   "id": "c03916ca300fb2d3"
  },
  {
   "cell_type": "code",
   "execution_count": null,
   "outputs": [],
   "source": [],
   "metadata": {
    "collapsed": false
   },
   "id": "600b628a7a8cc85c"
  }
 ],
 "metadata": {
  "kernelspec": {
   "display_name": "Python 3",
   "language": "python",
   "name": "python3"
  },
  "language_info": {
   "codemirror_mode": {
    "name": "ipython",
    "version": 2
   },
   "file_extension": ".py",
   "mimetype": "text/x-python",
   "name": "python",
   "nbconvert_exporter": "python",
   "pygments_lexer": "ipython2",
   "version": "2.7.6"
  }
 },
 "nbformat": 4,
 "nbformat_minor": 5
}

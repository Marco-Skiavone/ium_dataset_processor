{
 "cells": [
  {
   "cell_type": "code",
   "execution_count": null,
   "outputs": [],
   "source": [
    "import pandas as pd\n",
    "\n",
    "from modules.module_for_imports import *"
   ],
   "metadata": {
    "collapsed": false
   },
   "id": "3e05a20a4b69444b"
  },
  {
   "cell_type": "markdown",
   "source": [
    "# Appearance analysis <a class=\"anchor\" id=\"appearance-analysis\"></a>"
   ],
   "metadata": {
    "collapsed": false
   },
   "id": "1fc3436c14282c75"
  },
  {
   "cell_type": "code",
   "execution_count": null,
   "outputs": [],
   "source": [
    "appearance = pd.read_csv('../Assignment_Data_2023-2024/appearances.csv')#, index_col=[0])\n",
    "appearance.info()"
   ],
   "metadata": {
    "collapsed": false
   },
   "id": "b9424a7f8582b988"
  },
  {
   "cell_type": "code",
   "execution_count": null,
   "outputs": [],
   "source": [
    "appearance['date'] = pd.to_datetime(appearance['date'])\n",
    "appearance['competition_id'] = appearance['competition_id'].astype('string')\n",
    "appearance.dtypes\n"
   ],
   "metadata": {
    "collapsed": false
   },
   "id": "41460ec765365593"
  },
  {
   "cell_type": "code",
   "execution_count": null,
   "outputs": [],
   "source": [
    "appearance.isna().sum()"
   ],
   "metadata": {
    "collapsed": false
   },
   "id": "342503bbfdfe614"
  },
  {
   "cell_type": "markdown",
   "source": [
    "> # Trying to see if 'player_name's that are 'None' are present as 'players_id' in other rows"
   ],
   "metadata": {
    "collapsed": false
   },
   "id": "98979c158fcd01e5"
  },
  {
   "cell_type": "code",
   "execution_count": null,
   "outputs": [],
   "source": [
    "# this will make me see all the rows with na values\n",
    "na_player_name_apps = appearance.loc[appearance['player_name'].isna()]['player_id']\n",
    "not_na_player_name_apps = appearance.loc[appearance['player_name'].notnull()]['player_id']\n",
    "na_player_name_apps.isin(not_na_player_name_apps).sum()"
   ],
   "metadata": {
    "collapsed": false
   },
   "id": "ea45c6bc0a015957"
  },
  {
   "cell_type": "markdown",
   "source": [
    "> ### This is the check that we are doing well:"
   ],
   "metadata": {
    "collapsed": false
   },
   "id": "32dc9318e51c36b5"
  },
  {
   "cell_type": "code",
   "execution_count": null,
   "outputs": [],
   "source": [
    "not_na_player_name_apps.isna().sum()"
   ],
   "metadata": {
    "collapsed": false
   },
   "id": "709ce8d24f8dbc2f"
  },
  {
   "cell_type": "markdown",
   "source": [
    "> ### Fine, there are not 'player_id's in common, so we cannot restore those data.\n",
    "> > # Final result: remove None 'player_name' rows"
   ],
   "metadata": {
    "collapsed": false
   },
   "id": "3c1c1e7e0e912b53"
  },
  {
   "cell_type": "code",
   "execution_count": null,
   "outputs": [],
   "source": [
    "appearance = appearance.dropna()\n",
    "appearance"
   ],
   "metadata": {
    "collapsed": false
   },
   "id": "a643545ffedba4f3"
  },
  {
   "cell_type": "code",
   "execution_count": null,
   "outputs": [],
   "source": [
    "games = pd.read_csv('../Assignment_Data_2023-2024/games.csv')\n",
    "games"
   ],
   "metadata": {
    "collapsed": false
   },
   "id": "dab494f2b46afbfc"
  },
  {
   "cell_type": "code",
   "execution_count": null,
   "outputs": [],
   "source": [
    "appearance.dropna()['game_id'].drop_duplicates().isin(games['game_id']).sum()"
   ],
   "metadata": {
    "collapsed": false
   },
   "id": "96f9691016cfbd9"
  },
  {
   "cell_type": "code",
   "execution_count": null,
   "outputs": [],
   "source": [
    "appearance['game_id'].drop_duplicates().shape"
   ],
   "metadata": {
    "collapsed": false
   },
   "id": "748318d4ae9a4230"
  },
  {
   "cell_type": "code",
   "execution_count": null,
   "outputs": [],
   "source": [
    "players = pd.read_csv('../Assignment_Data_2023-2024/players.csv')\n",
    "appearance.dropna()['player_id'].drop_duplicates().isin(players['player_id']).sum()"
   ],
   "metadata": {
    "collapsed": false
   },
   "id": "215a92151ddd15ed"
  },
  {
   "cell_type": "code",
   "execution_count": null,
   "outputs": [],
   "source": [
    "appearance.dropna()['player_id'].drop_duplicates().shape"
   ],
   "metadata": {
    "collapsed": false
   },
   "id": "20e1a2c85e0f9aa4"
  },
  {
   "cell_type": "markdown",
   "source": [
    "> # There are 11 players in appearance that are not in players csv"
   ],
   "metadata": {
    "collapsed": false
   },
   "id": "7fa33e969797a8c0"
  },
  {
   "cell_type": "code",
   "execution_count": null,
   "outputs": [],
   "source": [
    "appearance.dropna()['player_id'].value_counts()"
   ],
   "metadata": {
    "collapsed": false
   },
   "id": "569e99900fcb69b0"
  },
  {
   "cell_type": "markdown",
   "source": [
    "> # Now we check appearance_id"
   ],
   "metadata": {
    "collapsed": false
   },
   "id": "5f718a1f03f222da"
  },
  {
   "cell_type": "code",
   "execution_count": null,
   "outputs": [],
   "source": [
    "# todo check "
   ],
   "metadata": {
    "collapsed": false
   },
   "id": "557062be54b3e6f0"
  }
 ],
 "metadata": {
  "kernelspec": {
   "display_name": "Python 3",
   "language": "python",
   "name": "python3"
  },
  "language_info": {
   "codemirror_mode": {
    "name": "ipython",
    "version": 2
   },
   "file_extension": ".py",
   "mimetype": "text/x-python",
   "name": "python",
   "nbconvert_exporter": "python",
   "pygments_lexer": "ipython2",
   "version": "2.7.6"
  }
 },
 "nbformat": 4,
 "nbformat_minor": 5
}

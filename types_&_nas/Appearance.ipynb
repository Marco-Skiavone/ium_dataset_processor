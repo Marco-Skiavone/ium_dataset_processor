{
 "cells": [
  {
   "cell_type": "code",
   "execution_count": null,
   "outputs": [],
   "source": [
    "from modules.module_for_imports import *"
   ],
   "metadata": {
    "collapsed": false
   },
   "id": "3e05a20a4b69444b"
  },
  {
   "cell_type": "markdown",
   "source": [
    "# Appearance analysis"
   ],
   "metadata": {
    "collapsed": false
   },
   "id": "1fc3436c14282c75"
  },
  {
   "cell_type": "code",
   "execution_count": null,
   "outputs": [],
   "source": [
    "appearance = get_appearance('../')#, index_col=[0])\n",
    "appearance.info()"
   ],
   "metadata": {
    "collapsed": false
   },
   "id": "b9424a7f8582b988"
  },
  {
   "cell_type": "code",
   "execution_count": null,
   "outputs": [],
   "source": [
    "appearance['date'] = pd.to_datetime(appearance['date'])\n",
    "appearance['competition_id'] = appearance['competition_id'].astype('string')\n",
    "appearance.dtypes\n"
   ],
   "metadata": {
    "collapsed": false
   },
   "id": "41460ec765365593"
  },
  {
   "cell_type": "code",
   "execution_count": null,
   "outputs": [],
   "source": [
    "appearance.isna().sum()"
   ],
   "metadata": {
    "collapsed": false
   },
   "id": "342503bbfdfe614"
  },
  {
   "cell_type": "markdown",
   "source": [
    "> # Trying to see if 'player_name's that are 'None' are present as 'players_id' in other rows"
   ],
   "metadata": {
    "collapsed": false
   },
   "id": "98979c158fcd01e5"
  },
  {
   "cell_type": "code",
   "execution_count": null,
   "outputs": [],
   "source": [
    "# this will make me see all the rows with na values\n",
    "na_player_name_apps = appearance.loc[appearance['player_name'].isna()]['player_id']\n",
    "not_na_player_name_apps = appearance.loc[appearance['player_name'].notnull()]['player_id']\n",
    "na_player_name_apps.isin(not_na_player_name_apps).sum()"
   ],
   "metadata": {
    "collapsed": false
   },
   "id": "ea45c6bc0a015957"
  },
  {
   "cell_type": "markdown",
   "source": [
    "> ### This is the check that we are doing well:"
   ],
   "metadata": {
    "collapsed": false
   },
   "id": "32dc9318e51c36b5"
  },
  {
   "cell_type": "code",
   "execution_count": null,
   "outputs": [],
   "source": [
    "not_na_player_name_apps.isna().sum()"
   ],
   "metadata": {
    "collapsed": false
   },
   "id": "709ce8d24f8dbc2f"
  },
  {
   "cell_type": "code",
   "execution_count": null,
   "outputs": [],
   "source": [
    "games = get_games('../')\n",
    "games"
   ],
   "metadata": {
    "collapsed": false
   },
   "id": "dab494f2b46afbfc"
  },
  {
   "cell_type": "code",
   "execution_count": null,
   "outputs": [],
   "source": [
    "appearance.dropna()['game_id'].drop_duplicates().isin(games['game_id']).sum()"
   ],
   "metadata": {
    "collapsed": false
   },
   "id": "96f9691016cfbd9"
  },
  {
   "cell_type": "code",
   "execution_count": null,
   "outputs": [],
   "source": [
    "appearance['game_id'].drop_duplicates().isin(games['game_id']).sum() == appearance['game_id'].drop_duplicates().shape[0]"
   ],
   "metadata": {
    "collapsed": false
   },
   "id": "25fff9be0c6438b8"
  },
  {
   "cell_type": "code",
   "execution_count": null,
   "outputs": [],
   "source": [
    "#games = None\n",
    "appearance['game_id'].drop_duplicates().shape"
   ],
   "metadata": {
    "collapsed": false
   },
   "id": "748318d4ae9a4230"
  },
  {
   "cell_type": "code",
   "execution_count": null,
   "outputs": [],
   "source": [
    "players = pd.read_csv('../Assignment_Data_2023-2024/players.csv')\n",
    "player = players[['player_id', 'name']]\n",
    "appearance['player_id'].drop_duplicates().isin(players['player_id']).sum()"
   ],
   "metadata": {
    "collapsed": false
   },
   "id": "215a92151ddd15ed"
  },
  {
   "cell_type": "code",
   "execution_count": null,
   "outputs": [],
   "source": [
    "(appearance['player_id'].drop_duplicates().shape[0] == \n",
    "players['player_id'].isin(appearance['player_id'].drop_duplicates()).sum())"
   ],
   "metadata": {
    "collapsed": false
   },
   "id": "dbb8531753026c50"
  },
  {
   "cell_type": "code",
   "execution_count": null,
   "outputs": [],
   "source": [
    "players_no_dupl = players['player_id'].drop_duplicates()\n",
    "appearance.query('player_id not in @players[\"player_id\"]', engine='python')"
   ],
   "metadata": {
    "collapsed": false
   },
   "id": "662ad4a4fd7e4c0a"
  },
  {
   "cell_type": "markdown",
   "source": [
    "> # There are 42 players in appearance that are not in players csv"
   ],
   "metadata": {
    "collapsed": false
   },
   "id": "7fa33e969797a8c0"
  },
  {
   "cell_type": "markdown",
   "source": [
    "> # Now we check appearance_id"
   ],
   "metadata": {
    "collapsed": false
   },
   "id": "5f718a1f03f222da"
  },
  {
   "cell_type": "code",
   "execution_count": null,
   "outputs": [],
   "source": [
    "# Example made to learn how to use it\n",
    "str1 = '2231978_126376487'\n",
    "str2 = 2231978\n",
    "str3 = 2231977\n",
    "(str2.__str__() in str1,    # true case\n",
    " str3.__str__() in str1)    # false case"
   ],
   "metadata": {
    "collapsed": false
   },
   "id": "dfb5ca0b2896248"
  },
  {
   "cell_type": "code",
   "execution_count": null,
   "outputs": [],
   "source": [
    "appearance['appearance_id'] = appearance['appearance_id'].astype('string')\n",
    "appearance.info()"
   ],
   "metadata": {
    "collapsed": false
   },
   "id": "32c5b0d088ac273a"
  },
  {
   "cell_type": "markdown",
   "source": [
    "> # It should return the number of not-equals game_ids in appearance_ids "
   ],
   "metadata": {
    "collapsed": false
   },
   "id": "80109a42f2c82e77"
  },
  {
   "cell_type": "code",
   "execution_count": null,
   "outputs": [],
   "source": [
    "def myfunc(line):\n",
    "    return not (line['game_id'].__str__() in line['appearance_id'])\n",
    "\n",
    "\n",
    "#appearance.apply(lambda x : myfunc(x), axis=1).sum()"
   ],
   "metadata": {
    "collapsed": false
   },
   "id": "2d7058a886f8f25e"
  },
  {
   "cell_type": "code",
   "execution_count": null,
   "outputs": [],
   "source": [
    "appearance['competition_id'].drop_duplicates().shape"
   ],
   "metadata": {
    "collapsed": false
   },
   "id": "f6308d2ea432a693"
  },
  {
   "cell_type": "code",
   "execution_count": null,
   "outputs": [],
   "source": [
    "appearance['red_cards'].value_counts()"
   ],
   "metadata": {
    "collapsed": false
   },
   "id": "44c6231ef993dd05"
  },
  {
   "cell_type": "code",
   "execution_count": null,
   "outputs": [],
   "source": [
    "appearance['yellow_cards'].value_counts()"
   ],
   "metadata": {
    "collapsed": false
   },
   "id": "b43dfac4e61c567e"
  },
  {
   "cell_type": "code",
   "execution_count": null,
   "outputs": [],
   "source": [
    "appearance_to_drop = appearance.query('player_id not in @players[\"player_id\"]', engine=\"python\")\n",
    "appearance = appearance.drop(appearance_to_drop.index.tolist(), axis=0)"
   ],
   "metadata": {
    "collapsed": false
   },
   "id": "1ce57ea5e014a05e"
  },
  {
   "cell_type": "code",
   "execution_count": null,
   "outputs": [],
   "source": [
    "players = None\n",
    "appearance_to_drop = None\n",
    "appearance['red_cards'].value_counts()"
   ],
   "metadata": {
    "collapsed": false
   },
   "id": "4a531503f436bb71"
  }
 ],
 "metadata": {
  "kernelspec": {
   "display_name": "Python 3",
   "language": "python",
   "name": "python3"
  },
  "language_info": {
   "codemirror_mode": {
    "name": "ipython",
    "version": 2
   },
   "file_extension": ".py",
   "mimetype": "text/x-python",
   "name": "python",
   "nbconvert_exporter": "python",
   "pygments_lexer": "ipython2",
   "version": "2.7.6"
  }
 },
 "nbformat": 4,
 "nbformat_minor": 5
}

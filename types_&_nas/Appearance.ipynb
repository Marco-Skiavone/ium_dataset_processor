{
 "cells": [
  {
   "cell_type": "code",
   "execution_count": 9,
   "outputs": [],
   "source": [
    "from modules.module_for_imports import *"
   ],
   "metadata": {
    "collapsed": false,
    "ExecuteTime": {
     "end_time": "2023-12-11T10:13:48.827258Z",
     "start_time": "2023-12-11T10:13:48.777172700Z"
    }
   },
   "id": "3e05a20a4b69444b"
  },
  {
   "cell_type": "markdown",
   "source": [
    "# Appearance analysis <a class=\"anchor\" id=\"appearance-analysis\"></a>"
   ],
   "metadata": {
    "collapsed": false
   },
   "id": "1fc3436c14282c75"
  },
  {
   "cell_type": "code",
   "execution_count": 10,
   "outputs": [
    {
     "name": "stdout",
     "output_type": "stream",
     "text": [
      "<class 'pandas.core.frame.DataFrame'>\n",
      "RangeIndex: 1507351 entries, 0 to 1507350\n",
      "Data columns (total 13 columns):\n",
      " #   Column                  Non-Null Count    Dtype \n",
      "---  ------                  --------------    ----- \n",
      " 0   appearance_id           1507351 non-null  object\n",
      " 1   game_id                 1507351 non-null  int64 \n",
      " 2   player_id               1507351 non-null  int64 \n",
      " 3   player_club_id          1507351 non-null  int64 \n",
      " 4   player_current_club_id  1507351 non-null  int64 \n",
      " 5   date                    1507351 non-null  object\n",
      " 6   player_name             1507027 non-null  object\n",
      " 7   competition_id          1507351 non-null  object\n",
      " 8   yellow_cards            1507351 non-null  int64 \n",
      " 9   red_cards               1507351 non-null  int64 \n",
      " 10  goals                   1507351 non-null  int64 \n",
      " 11  assists                 1507351 non-null  int64 \n",
      " 12  minutes_played          1507351 non-null  int64 \n",
      "dtypes: int64(9), object(4)\n",
      "memory usage: 149.5+ MB\n"
     ]
    }
   ],
   "source": [
    "appearance = pd.read_csv('../Assignment_Data_2023-2024/appearances.csv')#, index_col=[0])\n",
    "appearance.info()"
   ],
   "metadata": {
    "collapsed": false,
    "ExecuteTime": {
     "end_time": "2023-12-11T10:13:52.263484900Z",
     "start_time": "2023-12-11T10:13:48.833242200Z"
    }
   },
   "id": "b9424a7f8582b988"
  },
  {
   "cell_type": "code",
   "execution_count": 11,
   "outputs": [
    {
     "data": {
      "text/plain": "appearance_id                     object\ngame_id                            int64\nplayer_id                          int64\nplayer_club_id                     int64\nplayer_current_club_id             int64\ndate                      datetime64[ns]\nplayer_name                       object\ncompetition_id            string[python]\nyellow_cards                       int64\nred_cards                          int64\ngoals                              int64\nassists                            int64\nminutes_played                     int64\ndtype: object"
     },
     "execution_count": 11,
     "metadata": {},
     "output_type": "execute_result"
    }
   ],
   "source": [
    "appearance['date'] = pd.to_datetime(appearance['date'])\n",
    "appearance['competition_id'] = appearance['competition_id'].astype('string')\n",
    "appearance.dtypes\n"
   ],
   "metadata": {
    "collapsed": false,
    "ExecuteTime": {
     "end_time": "2023-12-11T10:13:52.517173200Z",
     "start_time": "2023-12-11T10:13:52.261490700Z"
    }
   },
   "id": "41460ec765365593"
  },
  {
   "cell_type": "code",
   "execution_count": 12,
   "outputs": [
    {
     "data": {
      "text/plain": "appearance_id               0\ngame_id                     0\nplayer_id                   0\nplayer_club_id              0\nplayer_current_club_id      0\ndate                        0\nplayer_name               324\ncompetition_id              0\nyellow_cards                0\nred_cards                   0\ngoals                       0\nassists                     0\nminutes_played              0\ndtype: int64"
     },
     "execution_count": 12,
     "metadata": {},
     "output_type": "execute_result"
    }
   ],
   "source": [
    "appearance.isna().sum()"
   ],
   "metadata": {
    "collapsed": false,
    "ExecuteTime": {
     "end_time": "2023-12-11T10:13:52.710742700Z",
     "start_time": "2023-12-11T10:13:52.512187400Z"
    }
   },
   "id": "342503bbfdfe614"
  },
  {
   "cell_type": "markdown",
   "source": [
    "> # Trying to see if 'player_name's that are 'None' are present as 'players_id' in other rows"
   ],
   "metadata": {
    "collapsed": false
   },
   "id": "98979c158fcd01e5"
  },
  {
   "cell_type": "code",
   "execution_count": 13,
   "outputs": [
    {
     "data": {
      "text/plain": "0"
     },
     "execution_count": 13,
     "metadata": {},
     "output_type": "execute_result"
    }
   ],
   "source": [
    "# this will make me see all the rows with na values\n",
    "na_player_name_apps = appearance.loc[appearance['player_name'].isna()]['player_id']\n",
    "not_na_player_name_apps = appearance.loc[appearance['player_name'].notnull()]['player_id']\n",
    "na_player_name_apps.isin(not_na_player_name_apps).sum()"
   ],
   "metadata": {
    "collapsed": false,
    "ExecuteTime": {
     "end_time": "2023-12-11T10:13:53.257608200Z",
     "start_time": "2023-12-11T10:13:52.707750400Z"
    }
   },
   "id": "ea45c6bc0a015957"
  },
  {
   "cell_type": "markdown",
   "source": [
    "> ### This is the check that we are doing well:"
   ],
   "metadata": {
    "collapsed": false
   },
   "id": "32dc9318e51c36b5"
  },
  {
   "cell_type": "code",
   "execution_count": 14,
   "outputs": [
    {
     "data": {
      "text/plain": "0"
     },
     "execution_count": 14,
     "metadata": {},
     "output_type": "execute_result"
    }
   ],
   "source": [
    "not_na_player_name_apps.isna().sum()"
   ],
   "metadata": {
    "collapsed": false,
    "ExecuteTime": {
     "end_time": "2023-12-11T10:13:53.272316800Z",
     "start_time": "2023-12-11T10:13:53.251625100Z"
    }
   },
   "id": "709ce8d24f8dbc2f"
  },
  {
   "cell_type": "markdown",
   "source": [
    "> ### Fine, there are not 'player_id's in common, so we cannot restore those data.\n",
    "> > # Final result: remove None 'player_name' rows"
   ],
   "metadata": {
    "collapsed": false
   },
   "id": "3c1c1e7e0e912b53"
  },
  {
   "cell_type": "code",
   "execution_count": 15,
   "outputs": [
    {
     "data": {
      "text/plain": "          appearance_id  game_id  player_id  player_club_id  \\\n0         2231978_38004  2231978      38004             853   \n1         2233748_79232  2233748      79232            8841   \n2         2234413_42792  2234413      42792            6251   \n3         2234418_73333  2234418      73333            1274   \n4        2234421_122011  2234421     122011             195   \n...                 ...      ...        ...             ...   \n1507346  4172154_659813  4172154     659813              15   \n1507347  4172154_696027  4172154     696027              15   \n1507348    4172154_7161  4172154       7161              15   \n1507349  4172154_743395  4172154     743395              15   \n1507350  4172154_936981  4172154     936981              15   \n\n         player_current_club_id       date       player_name competition_id  \\\n0                           235 2012-07-03  Aurélien Joachim            CLQ   \n1                          2698 2012-07-05    Ruslan Abyshov            ELQ   \n2                           465 2012-07-05       Sander Puri            ELQ   \n3                          6646 2012-07-05   Vegar Hedenstad            ELQ   \n4                          3008 2012-07-05  Markus Henriksen            ELQ   \n...                         ...        ...               ...            ...   \n1507346                      15 2023-11-30    Piero Hincapié             EL   \n1507347                      15 2023-11-30      Ayman Aourir             EL   \n1507348                      15 2023-11-30     Jonas Hofmann             EL   \n1507349                      15 2023-11-30       Noah Mbamba             EL   \n1507350                      15 2023-11-30    Gustavo Puerta             EL   \n\n         yellow_cards  red_cards  goals  assists  minutes_played  \n0                   0          0      2        0              90  \n1                   0          0      0        0              90  \n2                   0          0      0        0              45  \n3                   0          0      0        0              90  \n4                   0          0      0        1              90  \n...               ...        ...    ...      ...             ...  \n1507346             0          0      0        0              90  \n1507347             0          0      0        0               2  \n1507348             0          0      0        0              10  \n1507349             0          0      0        0              45  \n1507350             0          0      0        0              88  \n\n[1507027 rows x 13 columns]",
      "text/html": "<div>\n<style scoped>\n    .dataframe tbody tr th:only-of-type {\n        vertical-align: middle;\n    }\n\n    .dataframe tbody tr th {\n        vertical-align: top;\n    }\n\n    .dataframe thead th {\n        text-align: right;\n    }\n</style>\n<table border=\"1\" class=\"dataframe\">\n  <thead>\n    <tr style=\"text-align: right;\">\n      <th></th>\n      <th>appearance_id</th>\n      <th>game_id</th>\n      <th>player_id</th>\n      <th>player_club_id</th>\n      <th>player_current_club_id</th>\n      <th>date</th>\n      <th>player_name</th>\n      <th>competition_id</th>\n      <th>yellow_cards</th>\n      <th>red_cards</th>\n      <th>goals</th>\n      <th>assists</th>\n      <th>minutes_played</th>\n    </tr>\n  </thead>\n  <tbody>\n    <tr>\n      <th>0</th>\n      <td>2231978_38004</td>\n      <td>2231978</td>\n      <td>38004</td>\n      <td>853</td>\n      <td>235</td>\n      <td>2012-07-03</td>\n      <td>Aurélien Joachim</td>\n      <td>CLQ</td>\n      <td>0</td>\n      <td>0</td>\n      <td>2</td>\n      <td>0</td>\n      <td>90</td>\n    </tr>\n    <tr>\n      <th>1</th>\n      <td>2233748_79232</td>\n      <td>2233748</td>\n      <td>79232</td>\n      <td>8841</td>\n      <td>2698</td>\n      <td>2012-07-05</td>\n      <td>Ruslan Abyshov</td>\n      <td>ELQ</td>\n      <td>0</td>\n      <td>0</td>\n      <td>0</td>\n      <td>0</td>\n      <td>90</td>\n    </tr>\n    <tr>\n      <th>2</th>\n      <td>2234413_42792</td>\n      <td>2234413</td>\n      <td>42792</td>\n      <td>6251</td>\n      <td>465</td>\n      <td>2012-07-05</td>\n      <td>Sander Puri</td>\n      <td>ELQ</td>\n      <td>0</td>\n      <td>0</td>\n      <td>0</td>\n      <td>0</td>\n      <td>45</td>\n    </tr>\n    <tr>\n      <th>3</th>\n      <td>2234418_73333</td>\n      <td>2234418</td>\n      <td>73333</td>\n      <td>1274</td>\n      <td>6646</td>\n      <td>2012-07-05</td>\n      <td>Vegar Hedenstad</td>\n      <td>ELQ</td>\n      <td>0</td>\n      <td>0</td>\n      <td>0</td>\n      <td>0</td>\n      <td>90</td>\n    </tr>\n    <tr>\n      <th>4</th>\n      <td>2234421_122011</td>\n      <td>2234421</td>\n      <td>122011</td>\n      <td>195</td>\n      <td>3008</td>\n      <td>2012-07-05</td>\n      <td>Markus Henriksen</td>\n      <td>ELQ</td>\n      <td>0</td>\n      <td>0</td>\n      <td>0</td>\n      <td>1</td>\n      <td>90</td>\n    </tr>\n    <tr>\n      <th>...</th>\n      <td>...</td>\n      <td>...</td>\n      <td>...</td>\n      <td>...</td>\n      <td>...</td>\n      <td>...</td>\n      <td>...</td>\n      <td>...</td>\n      <td>...</td>\n      <td>...</td>\n      <td>...</td>\n      <td>...</td>\n      <td>...</td>\n    </tr>\n    <tr>\n      <th>1507346</th>\n      <td>4172154_659813</td>\n      <td>4172154</td>\n      <td>659813</td>\n      <td>15</td>\n      <td>15</td>\n      <td>2023-11-30</td>\n      <td>Piero Hincapié</td>\n      <td>EL</td>\n      <td>0</td>\n      <td>0</td>\n      <td>0</td>\n      <td>0</td>\n      <td>90</td>\n    </tr>\n    <tr>\n      <th>1507347</th>\n      <td>4172154_696027</td>\n      <td>4172154</td>\n      <td>696027</td>\n      <td>15</td>\n      <td>15</td>\n      <td>2023-11-30</td>\n      <td>Ayman Aourir</td>\n      <td>EL</td>\n      <td>0</td>\n      <td>0</td>\n      <td>0</td>\n      <td>0</td>\n      <td>2</td>\n    </tr>\n    <tr>\n      <th>1507348</th>\n      <td>4172154_7161</td>\n      <td>4172154</td>\n      <td>7161</td>\n      <td>15</td>\n      <td>15</td>\n      <td>2023-11-30</td>\n      <td>Jonas Hofmann</td>\n      <td>EL</td>\n      <td>0</td>\n      <td>0</td>\n      <td>0</td>\n      <td>0</td>\n      <td>10</td>\n    </tr>\n    <tr>\n      <th>1507349</th>\n      <td>4172154_743395</td>\n      <td>4172154</td>\n      <td>743395</td>\n      <td>15</td>\n      <td>15</td>\n      <td>2023-11-30</td>\n      <td>Noah Mbamba</td>\n      <td>EL</td>\n      <td>0</td>\n      <td>0</td>\n      <td>0</td>\n      <td>0</td>\n      <td>45</td>\n    </tr>\n    <tr>\n      <th>1507350</th>\n      <td>4172154_936981</td>\n      <td>4172154</td>\n      <td>936981</td>\n      <td>15</td>\n      <td>15</td>\n      <td>2023-11-30</td>\n      <td>Gustavo Puerta</td>\n      <td>EL</td>\n      <td>0</td>\n      <td>0</td>\n      <td>0</td>\n      <td>0</td>\n      <td>88</td>\n    </tr>\n  </tbody>\n</table>\n<p>1507027 rows × 13 columns</p>\n</div>"
     },
     "execution_count": 15,
     "metadata": {},
     "output_type": "execute_result"
    }
   ],
   "source": [
    "appearance = appearance.dropna()\n",
    "appearance"
   ],
   "metadata": {
    "collapsed": false,
    "ExecuteTime": {
     "end_time": "2023-12-11T10:13:53.731337200Z",
     "start_time": "2023-12-11T10:13:53.265336500Z"
    }
   },
   "id": "a643545ffedba4f3"
  }
 ],
 "metadata": {
  "kernelspec": {
   "display_name": "Python 3",
   "language": "python",
   "name": "python3"
  },
  "language_info": {
   "codemirror_mode": {
    "name": "ipython",
    "version": 2
   },
   "file_extension": ".py",
   "mimetype": "text/x-python",
   "name": "python",
   "nbconvert_exporter": "python",
   "pygments_lexer": "ipython2",
   "version": "2.7.6"
  }
 },
 "nbformat": 4,
 "nbformat_minor": 5
}

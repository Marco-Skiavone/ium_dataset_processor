{
 "cells": [
  {
   "cell_type": "code",
   "execution_count": 2,
   "id": "initial_id",
   "metadata": {
    "collapsed": true,
    "ExecuteTime": {
     "end_time": "2023-12-18T18:19:48.066661700Z",
     "start_time": "2023-12-18T18:19:46.655795700Z"
    }
   },
   "outputs": [],
   "source": [
    "import pandas as pd\n",
    "\n",
    "from modules.module_for_imports import *"
   ]
  },
  {
   "cell_type": "markdown",
   "source": [
    "# Competitions analysis"
   ],
   "metadata": {
    "collapsed": false
   },
   "id": "77d610250979bcc2"
  },
  {
   "cell_type": "code",
   "execution_count": 3,
   "outputs": [
    {
     "name": "stdout",
     "output_type": "stream",
     "text": [
      "<class 'pandas.core.frame.DataFrame'>\n",
      "RangeIndex: 43 entries, 0 to 42\n",
      "Data columns (total 10 columns):\n",
      " #   Column                Non-Null Count  Dtype \n",
      "---  ------                --------------  ----- \n",
      " 0   competition_id        43 non-null     object\n",
      " 1   competition_code      43 non-null     object\n",
      " 2   name                  43 non-null     object\n",
      " 3   sub_type              43 non-null     object\n",
      " 4   type                  43 non-null     object\n",
      " 5   country_id            43 non-null     int64 \n",
      " 6   country_name          36 non-null     object\n",
      " 7   domestic_league_code  36 non-null     object\n",
      " 8   confederation         43 non-null     object\n",
      " 9   url                   43 non-null     object\n",
      "dtypes: int64(1), object(9)\n",
      "memory usage: 3.5+ KB\n"
     ]
    }
   ],
   "source": [
    "competitions = pd.read_csv('../Assignment_Data_2023-2024/competitions.csv')\n",
    "competitions.info()"
   ],
   "metadata": {
    "collapsed": false,
    "ExecuteTime": {
     "end_time": "2023-12-18T18:19:48.085659900Z",
     "start_time": "2023-12-18T18:19:48.069707900Z"
    }
   },
   "id": "258f2c624d5c73fb"
  },
  {
   "cell_type": "code",
   "execution_count": 4,
   "outputs": [
    {
     "data": {
      "text/plain": "   competition_id                             competition_code  \\\n0             CIT                                    italy-cup   \n1            NLSC                         johan-cruijff-schaal   \n2             GRP                              kypello-elladas   \n3            POSU                supertaca-candido-de-oliveira   \n4            RUSS                            russian-super-cup   \n5             SUC                                    supercopa   \n6             USC                               uefa-super-cup   \n7             DK1                                  superligaen   \n8              EL                                europa-league   \n9             ES1                                       laliga   \n10            FR1                                      ligue-1   \n11            IT1                                      serie-a   \n12            NL1                                   eredivisie   \n13            RUP                                  russian-cup   \n14            PO1                           liga-portugal-bwin   \n15           BESC                             belgian-supercup   \n16            GB1                               premier-league   \n17            ELQ                  europa-league-qualifikation   \n18            CGB                                      efl-cup   \n19            DKP                              sydbank-pokalen   \n20           ECLQ  uefa-europa-conference-league-qualifikation   \n21            FAC                                       fa-cup   \n22            NLP                              toto-knvb-beker   \n23           UKRS                          ukrainian-super-cup   \n24           UKR1                                 premier-liga   \n25            CDR                                 copa-del-rey   \n26             CL                        uefa-champions-league   \n27            GR1                               super-league-1   \n28            TR1                                    super-lig   \n29           POCP                                  allianz-cup   \n30           GBCS                             community-shield   \n31           KLUB                                 fifa-klub-wm   \n32             L1                                   bundesliga   \n33            RU1                                 premier-liga   \n34            SC1                         scottish-premiership   \n35            SCI                          supercoppa-italiana   \n36            BE1                           jupiler-pro-league   \n37            CLQ          uefa-champions-league-qualifikation   \n38            DFL                                 dfl-supercup   \n39            SFA                                      sfa-cup   \n40           UKRP                                ukrainian-cup   \n41            DFB                                    dfb-pokal   \n42           FRCH                        trophee-des-champions   \n\n                                           name  \\\n0                                     italy-cup   \n1                          johan-cruijff-schaal   \n2                               kypello-elladas   \n3                 supertaca-candido-de-oliveira   \n4                             russian-super-cup   \n5                                     supercopa   \n6                                uefa-super-cup   \n7                                   superligaen   \n8                                 europa-league   \n9                                        laliga   \n10                                      ligue-1   \n11                                      serie-a   \n12                                   eredivisie   \n13                                  russian-cup   \n14                           liga-portugal-bwin   \n15                             belgian-supercup   \n16                               premier-league   \n17                  europa-league-qualifikation   \n18                                      efl-cup   \n19                              sydbank-pokalen   \n20  uefa-europa-conference-league-qualifikation   \n21                                       fa-cup   \n22                              toto-knvb-beker   \n23                          ukrainian-super-cup   \n24                                 premier-liga   \n25                                 copa-del-rey   \n26                        uefa-champions-league   \n27                               super-league-1   \n28                                    super-lig   \n29                                  allianz-cup   \n30                             community-shield   \n31                                 fifa-klub-wm   \n32                                   bundesliga   \n33                                 premier-liga   \n34                         scottish-premiership   \n35                          supercoppa-italiana   \n36                           jupiler-pro-league   \n37          uefa-champions-league-qualifikation   \n38                                 dfl-supercup   \n39                                      sfa-cup   \n40                                ukrainian-cup   \n41                                    dfb-pokal   \n42                        trophee-des-champions   \n\n                                    sub_type               type  country_id  \\\n0                               domestic_cup       domestic_cup          75   \n1                         domestic_super_cup              other         122   \n2                               domestic_cup       domestic_cup          56   \n3                         domestic_super_cup              other         136   \n4                         domestic_super_cup              other         141   \n5                         domestic_super_cup              other         157   \n6                             uefa_super_cup              other          -1   \n7                                 first_tier    domestic_league          39   \n8                              europa_league  international_cup          -1   \n9                                 first_tier    domestic_league         157   \n10                                first_tier    domestic_league          50   \n11                                first_tier    domestic_league          75   \n12                                first_tier    domestic_league         122   \n13                              domestic_cup       domestic_cup         141   \n14                                first_tier    domestic_league         136   \n15                        domestic_super_cup              other          19   \n16                                first_tier    domestic_league         189   \n17                  europa_league_qualifying  international_cup          -1   \n18                                league_cup              other         189   \n19                              domestic_cup       domestic_cup          39   \n20  uefa_europa_conference_league_qualifiers  international_cup          -1   \n21                              domestic_cup       domestic_cup         189   \n22                              domestic_cup       domestic_cup         122   \n23                        domestic_super_cup              other         177   \n24                                first_tier    domestic_league         177   \n25                              domestic_cup       domestic_cup         157   \n26                     uefa_champions_league  international_cup          -1   \n27                                first_tier    domestic_league          56   \n28                                first_tier    domestic_league         174   \n29                              domestic_cup       domestic_cup         136   \n30                        domestic_super_cup              other         189   \n31                       fifa_club_world_cup              other          -1   \n32                                first_tier    domestic_league          40   \n33                                first_tier    domestic_league         141   \n34                                first_tier    domestic_league         190   \n35                        domestic_super_cup              other          75   \n36                                first_tier    domestic_league          19   \n37          uefa_champions_league_qualifying  international_cup          -1   \n38                        domestic_super_cup              other          40   \n39                              domestic_cup       domestic_cup         190   \n40                              domestic_cup       domestic_cup         177   \n41                              domestic_cup       domestic_cup          40   \n42                        domestic_super_cup              other          50   \n\n   country_name domestic_league_code confederation  \\\n0         Italy                  IT1        europa   \n1   Netherlands                  NL1        europa   \n2        Greece                  GR1        europa   \n3      Portugal                  PO1        europa   \n4        Russia                  RU1        europa   \n5         Spain                  ES1        europa   \n6           NaN                  NaN        europa   \n7       Denmark                  DK1        europa   \n8           NaN                  NaN        europa   \n9         Spain                  ES1        europa   \n10       France                  FR1        europa   \n11        Italy                  IT1        europa   \n12  Netherlands                  NL1        europa   \n13       Russia                  RU1        europa   \n14     Portugal                  PO1        europa   \n15      Belgium                  BE1        europa   \n16      England                  GB1        europa   \n17          NaN                  NaN        europa   \n18      England                  GB1        europa   \n19      Denmark                  DK1        europa   \n20          NaN                  NaN        europa   \n21      England                  GB1        europa   \n22  Netherlands                  NL1        europa   \n23      Ukraine                 UKR1        europa   \n24      Ukraine                 UKR1        europa   \n25        Spain                  ES1        europa   \n26          NaN                  NaN        europa   \n27       Greece                  GR1        europa   \n28       Turkey                  TR1        europa   \n29     Portugal                  PO1        europa   \n30      England                  GB1        europa   \n31          NaN                  NaN        europa   \n32      Germany                   L1        europa   \n33       Russia                  RU1        europa   \n34     Scotland                  SC1        europa   \n35        Italy                  IT1        europa   \n36      Belgium                  BE1        europa   \n37          NaN                  NaN        europa   \n38      Germany                   L1        europa   \n39     Scotland                  SC1        europa   \n40      Ukraine                 UKR1        europa   \n41      Germany                   L1        europa   \n42       France                  FR1        europa   \n\n                                                  url  \n0   https://www.transfermarkt.co.uk/italy-cup/star...  \n1   https://www.transfermarkt.co.uk/johan-cruijff-...  \n2   https://www.transfermarkt.co.uk/kypello-ellada...  \n3   https://www.transfermarkt.co.uk/supertaca-cand...  \n4   https://www.transfermarkt.co.uk/russian-super-...  \n5   https://www.transfermarkt.co.uk/supercopa/star...  \n6   https://www.transfermarkt.co.uk/uefa-super-cup...  \n7   https://www.transfermarkt.co.uk/superligaen/st...  \n8   https://www.transfermarkt.co.uk/europa-league/...  \n9   https://www.transfermarkt.co.uk/laliga/startse...  \n10  https://www.transfermarkt.co.uk/ligue-1/starts...  \n11  https://www.transfermarkt.co.uk/serie-a/starts...  \n12  https://www.transfermarkt.co.uk/eredivisie/sta...  \n13  https://www.transfermarkt.co.uk/russian-cup/st...  \n14  https://www.transfermarkt.co.uk/liga-portugal-...  \n15  https://www.transfermarkt.co.uk/belgian-superc...  \n16  https://www.transfermarkt.co.uk/premier-league...  \n17  https://www.transfermarkt.co.uk/europa-league-...  \n18  https://www.transfermarkt.co.uk/efl-cup/starts...  \n19  https://www.transfermarkt.co.uk/sydbank-pokale...  \n20  https://www.transfermarkt.co.uk/uefa-europa-co...  \n21  https://www.transfermarkt.co.uk/fa-cup/startse...  \n22  https://www.transfermarkt.co.uk/toto-knvb-beke...  \n23  https://www.transfermarkt.co.uk/ukrainian-supe...  \n24  https://www.transfermarkt.co.uk/premier-liga/s...  \n25  https://www.transfermarkt.co.uk/copa-del-rey/s...  \n26  https://www.transfermarkt.co.uk/uefa-champions...  \n27  https://www.transfermarkt.co.uk/super-league-1...  \n28  https://www.transfermarkt.co.uk/super-lig/star...  \n29  https://www.transfermarkt.co.uk/allianz-cup/st...  \n30  https://www.transfermarkt.co.uk/community-shie...  \n31  https://www.transfermarkt.co.uk/fifa-klub-wm/s...  \n32  https://www.transfermarkt.co.uk/bundesliga/sta...  \n33  https://www.transfermarkt.co.uk/premier-liga/s...  \n34  https://www.transfermarkt.co.uk/scottish-premi...  \n35  https://www.transfermarkt.co.uk/supercoppa-ita...  \n36  https://www.transfermarkt.co.uk/jupiler-pro-le...  \n37  https://www.transfermarkt.co.uk/uefa-champions...  \n38  https://www.transfermarkt.co.uk/dfl-supercup/s...  \n39  https://www.transfermarkt.co.uk/sfa-cup/starts...  \n40  https://www.transfermarkt.co.uk/ukrainian-cup/...  \n41  https://www.transfermarkt.co.uk/dfb-pokal/star...  \n42  https://www.transfermarkt.co.uk/trophee-des-ch...  ",
      "text/html": "<div>\n<style scoped>\n    .dataframe tbody tr th:only-of-type {\n        vertical-align: middle;\n    }\n\n    .dataframe tbody tr th {\n        vertical-align: top;\n    }\n\n    .dataframe thead th {\n        text-align: right;\n    }\n</style>\n<table border=\"1\" class=\"dataframe\">\n  <thead>\n    <tr style=\"text-align: right;\">\n      <th></th>\n      <th>competition_id</th>\n      <th>competition_code</th>\n      <th>name</th>\n      <th>sub_type</th>\n      <th>type</th>\n      <th>country_id</th>\n      <th>country_name</th>\n      <th>domestic_league_code</th>\n      <th>confederation</th>\n      <th>url</th>\n    </tr>\n  </thead>\n  <tbody>\n    <tr>\n      <th>0</th>\n      <td>CIT</td>\n      <td>italy-cup</td>\n      <td>italy-cup</td>\n      <td>domestic_cup</td>\n      <td>domestic_cup</td>\n      <td>75</td>\n      <td>Italy</td>\n      <td>IT1</td>\n      <td>europa</td>\n      <td>https://www.transfermarkt.co.uk/italy-cup/star...</td>\n    </tr>\n    <tr>\n      <th>1</th>\n      <td>NLSC</td>\n      <td>johan-cruijff-schaal</td>\n      <td>johan-cruijff-schaal</td>\n      <td>domestic_super_cup</td>\n      <td>other</td>\n      <td>122</td>\n      <td>Netherlands</td>\n      <td>NL1</td>\n      <td>europa</td>\n      <td>https://www.transfermarkt.co.uk/johan-cruijff-...</td>\n    </tr>\n    <tr>\n      <th>2</th>\n      <td>GRP</td>\n      <td>kypello-elladas</td>\n      <td>kypello-elladas</td>\n      <td>domestic_cup</td>\n      <td>domestic_cup</td>\n      <td>56</td>\n      <td>Greece</td>\n      <td>GR1</td>\n      <td>europa</td>\n      <td>https://www.transfermarkt.co.uk/kypello-ellada...</td>\n    </tr>\n    <tr>\n      <th>3</th>\n      <td>POSU</td>\n      <td>supertaca-candido-de-oliveira</td>\n      <td>supertaca-candido-de-oliveira</td>\n      <td>domestic_super_cup</td>\n      <td>other</td>\n      <td>136</td>\n      <td>Portugal</td>\n      <td>PO1</td>\n      <td>europa</td>\n      <td>https://www.transfermarkt.co.uk/supertaca-cand...</td>\n    </tr>\n    <tr>\n      <th>4</th>\n      <td>RUSS</td>\n      <td>russian-super-cup</td>\n      <td>russian-super-cup</td>\n      <td>domestic_super_cup</td>\n      <td>other</td>\n      <td>141</td>\n      <td>Russia</td>\n      <td>RU1</td>\n      <td>europa</td>\n      <td>https://www.transfermarkt.co.uk/russian-super-...</td>\n    </tr>\n    <tr>\n      <th>5</th>\n      <td>SUC</td>\n      <td>supercopa</td>\n      <td>supercopa</td>\n      <td>domestic_super_cup</td>\n      <td>other</td>\n      <td>157</td>\n      <td>Spain</td>\n      <td>ES1</td>\n      <td>europa</td>\n      <td>https://www.transfermarkt.co.uk/supercopa/star...</td>\n    </tr>\n    <tr>\n      <th>6</th>\n      <td>USC</td>\n      <td>uefa-super-cup</td>\n      <td>uefa-super-cup</td>\n      <td>uefa_super_cup</td>\n      <td>other</td>\n      <td>-1</td>\n      <td>NaN</td>\n      <td>NaN</td>\n      <td>europa</td>\n      <td>https://www.transfermarkt.co.uk/uefa-super-cup...</td>\n    </tr>\n    <tr>\n      <th>7</th>\n      <td>DK1</td>\n      <td>superligaen</td>\n      <td>superligaen</td>\n      <td>first_tier</td>\n      <td>domestic_league</td>\n      <td>39</td>\n      <td>Denmark</td>\n      <td>DK1</td>\n      <td>europa</td>\n      <td>https://www.transfermarkt.co.uk/superligaen/st...</td>\n    </tr>\n    <tr>\n      <th>8</th>\n      <td>EL</td>\n      <td>europa-league</td>\n      <td>europa-league</td>\n      <td>europa_league</td>\n      <td>international_cup</td>\n      <td>-1</td>\n      <td>NaN</td>\n      <td>NaN</td>\n      <td>europa</td>\n      <td>https://www.transfermarkt.co.uk/europa-league/...</td>\n    </tr>\n    <tr>\n      <th>9</th>\n      <td>ES1</td>\n      <td>laliga</td>\n      <td>laliga</td>\n      <td>first_tier</td>\n      <td>domestic_league</td>\n      <td>157</td>\n      <td>Spain</td>\n      <td>ES1</td>\n      <td>europa</td>\n      <td>https://www.transfermarkt.co.uk/laliga/startse...</td>\n    </tr>\n    <tr>\n      <th>10</th>\n      <td>FR1</td>\n      <td>ligue-1</td>\n      <td>ligue-1</td>\n      <td>first_tier</td>\n      <td>domestic_league</td>\n      <td>50</td>\n      <td>France</td>\n      <td>FR1</td>\n      <td>europa</td>\n      <td>https://www.transfermarkt.co.uk/ligue-1/starts...</td>\n    </tr>\n    <tr>\n      <th>11</th>\n      <td>IT1</td>\n      <td>serie-a</td>\n      <td>serie-a</td>\n      <td>first_tier</td>\n      <td>domestic_league</td>\n      <td>75</td>\n      <td>Italy</td>\n      <td>IT1</td>\n      <td>europa</td>\n      <td>https://www.transfermarkt.co.uk/serie-a/starts...</td>\n    </tr>\n    <tr>\n      <th>12</th>\n      <td>NL1</td>\n      <td>eredivisie</td>\n      <td>eredivisie</td>\n      <td>first_tier</td>\n      <td>domestic_league</td>\n      <td>122</td>\n      <td>Netherlands</td>\n      <td>NL1</td>\n      <td>europa</td>\n      <td>https://www.transfermarkt.co.uk/eredivisie/sta...</td>\n    </tr>\n    <tr>\n      <th>13</th>\n      <td>RUP</td>\n      <td>russian-cup</td>\n      <td>russian-cup</td>\n      <td>domestic_cup</td>\n      <td>domestic_cup</td>\n      <td>141</td>\n      <td>Russia</td>\n      <td>RU1</td>\n      <td>europa</td>\n      <td>https://www.transfermarkt.co.uk/russian-cup/st...</td>\n    </tr>\n    <tr>\n      <th>14</th>\n      <td>PO1</td>\n      <td>liga-portugal-bwin</td>\n      <td>liga-portugal-bwin</td>\n      <td>first_tier</td>\n      <td>domestic_league</td>\n      <td>136</td>\n      <td>Portugal</td>\n      <td>PO1</td>\n      <td>europa</td>\n      <td>https://www.transfermarkt.co.uk/liga-portugal-...</td>\n    </tr>\n    <tr>\n      <th>15</th>\n      <td>BESC</td>\n      <td>belgian-supercup</td>\n      <td>belgian-supercup</td>\n      <td>domestic_super_cup</td>\n      <td>other</td>\n      <td>19</td>\n      <td>Belgium</td>\n      <td>BE1</td>\n      <td>europa</td>\n      <td>https://www.transfermarkt.co.uk/belgian-superc...</td>\n    </tr>\n    <tr>\n      <th>16</th>\n      <td>GB1</td>\n      <td>premier-league</td>\n      <td>premier-league</td>\n      <td>first_tier</td>\n      <td>domestic_league</td>\n      <td>189</td>\n      <td>England</td>\n      <td>GB1</td>\n      <td>europa</td>\n      <td>https://www.transfermarkt.co.uk/premier-league...</td>\n    </tr>\n    <tr>\n      <th>17</th>\n      <td>ELQ</td>\n      <td>europa-league-qualifikation</td>\n      <td>europa-league-qualifikation</td>\n      <td>europa_league_qualifying</td>\n      <td>international_cup</td>\n      <td>-1</td>\n      <td>NaN</td>\n      <td>NaN</td>\n      <td>europa</td>\n      <td>https://www.transfermarkt.co.uk/europa-league-...</td>\n    </tr>\n    <tr>\n      <th>18</th>\n      <td>CGB</td>\n      <td>efl-cup</td>\n      <td>efl-cup</td>\n      <td>league_cup</td>\n      <td>other</td>\n      <td>189</td>\n      <td>England</td>\n      <td>GB1</td>\n      <td>europa</td>\n      <td>https://www.transfermarkt.co.uk/efl-cup/starts...</td>\n    </tr>\n    <tr>\n      <th>19</th>\n      <td>DKP</td>\n      <td>sydbank-pokalen</td>\n      <td>sydbank-pokalen</td>\n      <td>domestic_cup</td>\n      <td>domestic_cup</td>\n      <td>39</td>\n      <td>Denmark</td>\n      <td>DK1</td>\n      <td>europa</td>\n      <td>https://www.transfermarkt.co.uk/sydbank-pokale...</td>\n    </tr>\n    <tr>\n      <th>20</th>\n      <td>ECLQ</td>\n      <td>uefa-europa-conference-league-qualifikation</td>\n      <td>uefa-europa-conference-league-qualifikation</td>\n      <td>uefa_europa_conference_league_qualifiers</td>\n      <td>international_cup</td>\n      <td>-1</td>\n      <td>NaN</td>\n      <td>NaN</td>\n      <td>europa</td>\n      <td>https://www.transfermarkt.co.uk/uefa-europa-co...</td>\n    </tr>\n    <tr>\n      <th>21</th>\n      <td>FAC</td>\n      <td>fa-cup</td>\n      <td>fa-cup</td>\n      <td>domestic_cup</td>\n      <td>domestic_cup</td>\n      <td>189</td>\n      <td>England</td>\n      <td>GB1</td>\n      <td>europa</td>\n      <td>https://www.transfermarkt.co.uk/fa-cup/startse...</td>\n    </tr>\n    <tr>\n      <th>22</th>\n      <td>NLP</td>\n      <td>toto-knvb-beker</td>\n      <td>toto-knvb-beker</td>\n      <td>domestic_cup</td>\n      <td>domestic_cup</td>\n      <td>122</td>\n      <td>Netherlands</td>\n      <td>NL1</td>\n      <td>europa</td>\n      <td>https://www.transfermarkt.co.uk/toto-knvb-beke...</td>\n    </tr>\n    <tr>\n      <th>23</th>\n      <td>UKRS</td>\n      <td>ukrainian-super-cup</td>\n      <td>ukrainian-super-cup</td>\n      <td>domestic_super_cup</td>\n      <td>other</td>\n      <td>177</td>\n      <td>Ukraine</td>\n      <td>UKR1</td>\n      <td>europa</td>\n      <td>https://www.transfermarkt.co.uk/ukrainian-supe...</td>\n    </tr>\n    <tr>\n      <th>24</th>\n      <td>UKR1</td>\n      <td>premier-liga</td>\n      <td>premier-liga</td>\n      <td>first_tier</td>\n      <td>domestic_league</td>\n      <td>177</td>\n      <td>Ukraine</td>\n      <td>UKR1</td>\n      <td>europa</td>\n      <td>https://www.transfermarkt.co.uk/premier-liga/s...</td>\n    </tr>\n    <tr>\n      <th>25</th>\n      <td>CDR</td>\n      <td>copa-del-rey</td>\n      <td>copa-del-rey</td>\n      <td>domestic_cup</td>\n      <td>domestic_cup</td>\n      <td>157</td>\n      <td>Spain</td>\n      <td>ES1</td>\n      <td>europa</td>\n      <td>https://www.transfermarkt.co.uk/copa-del-rey/s...</td>\n    </tr>\n    <tr>\n      <th>26</th>\n      <td>CL</td>\n      <td>uefa-champions-league</td>\n      <td>uefa-champions-league</td>\n      <td>uefa_champions_league</td>\n      <td>international_cup</td>\n      <td>-1</td>\n      <td>NaN</td>\n      <td>NaN</td>\n      <td>europa</td>\n      <td>https://www.transfermarkt.co.uk/uefa-champions...</td>\n    </tr>\n    <tr>\n      <th>27</th>\n      <td>GR1</td>\n      <td>super-league-1</td>\n      <td>super-league-1</td>\n      <td>first_tier</td>\n      <td>domestic_league</td>\n      <td>56</td>\n      <td>Greece</td>\n      <td>GR1</td>\n      <td>europa</td>\n      <td>https://www.transfermarkt.co.uk/super-league-1...</td>\n    </tr>\n    <tr>\n      <th>28</th>\n      <td>TR1</td>\n      <td>super-lig</td>\n      <td>super-lig</td>\n      <td>first_tier</td>\n      <td>domestic_league</td>\n      <td>174</td>\n      <td>Turkey</td>\n      <td>TR1</td>\n      <td>europa</td>\n      <td>https://www.transfermarkt.co.uk/super-lig/star...</td>\n    </tr>\n    <tr>\n      <th>29</th>\n      <td>POCP</td>\n      <td>allianz-cup</td>\n      <td>allianz-cup</td>\n      <td>domestic_cup</td>\n      <td>domestic_cup</td>\n      <td>136</td>\n      <td>Portugal</td>\n      <td>PO1</td>\n      <td>europa</td>\n      <td>https://www.transfermarkt.co.uk/allianz-cup/st...</td>\n    </tr>\n    <tr>\n      <th>30</th>\n      <td>GBCS</td>\n      <td>community-shield</td>\n      <td>community-shield</td>\n      <td>domestic_super_cup</td>\n      <td>other</td>\n      <td>189</td>\n      <td>England</td>\n      <td>GB1</td>\n      <td>europa</td>\n      <td>https://www.transfermarkt.co.uk/community-shie...</td>\n    </tr>\n    <tr>\n      <th>31</th>\n      <td>KLUB</td>\n      <td>fifa-klub-wm</td>\n      <td>fifa-klub-wm</td>\n      <td>fifa_club_world_cup</td>\n      <td>other</td>\n      <td>-1</td>\n      <td>NaN</td>\n      <td>NaN</td>\n      <td>europa</td>\n      <td>https://www.transfermarkt.co.uk/fifa-klub-wm/s...</td>\n    </tr>\n    <tr>\n      <th>32</th>\n      <td>L1</td>\n      <td>bundesliga</td>\n      <td>bundesliga</td>\n      <td>first_tier</td>\n      <td>domestic_league</td>\n      <td>40</td>\n      <td>Germany</td>\n      <td>L1</td>\n      <td>europa</td>\n      <td>https://www.transfermarkt.co.uk/bundesliga/sta...</td>\n    </tr>\n    <tr>\n      <th>33</th>\n      <td>RU1</td>\n      <td>premier-liga</td>\n      <td>premier-liga</td>\n      <td>first_tier</td>\n      <td>domestic_league</td>\n      <td>141</td>\n      <td>Russia</td>\n      <td>RU1</td>\n      <td>europa</td>\n      <td>https://www.transfermarkt.co.uk/premier-liga/s...</td>\n    </tr>\n    <tr>\n      <th>34</th>\n      <td>SC1</td>\n      <td>scottish-premiership</td>\n      <td>scottish-premiership</td>\n      <td>first_tier</td>\n      <td>domestic_league</td>\n      <td>190</td>\n      <td>Scotland</td>\n      <td>SC1</td>\n      <td>europa</td>\n      <td>https://www.transfermarkt.co.uk/scottish-premi...</td>\n    </tr>\n    <tr>\n      <th>35</th>\n      <td>SCI</td>\n      <td>supercoppa-italiana</td>\n      <td>supercoppa-italiana</td>\n      <td>domestic_super_cup</td>\n      <td>other</td>\n      <td>75</td>\n      <td>Italy</td>\n      <td>IT1</td>\n      <td>europa</td>\n      <td>https://www.transfermarkt.co.uk/supercoppa-ita...</td>\n    </tr>\n    <tr>\n      <th>36</th>\n      <td>BE1</td>\n      <td>jupiler-pro-league</td>\n      <td>jupiler-pro-league</td>\n      <td>first_tier</td>\n      <td>domestic_league</td>\n      <td>19</td>\n      <td>Belgium</td>\n      <td>BE1</td>\n      <td>europa</td>\n      <td>https://www.transfermarkt.co.uk/jupiler-pro-le...</td>\n    </tr>\n    <tr>\n      <th>37</th>\n      <td>CLQ</td>\n      <td>uefa-champions-league-qualifikation</td>\n      <td>uefa-champions-league-qualifikation</td>\n      <td>uefa_champions_league_qualifying</td>\n      <td>international_cup</td>\n      <td>-1</td>\n      <td>NaN</td>\n      <td>NaN</td>\n      <td>europa</td>\n      <td>https://www.transfermarkt.co.uk/uefa-champions...</td>\n    </tr>\n    <tr>\n      <th>38</th>\n      <td>DFL</td>\n      <td>dfl-supercup</td>\n      <td>dfl-supercup</td>\n      <td>domestic_super_cup</td>\n      <td>other</td>\n      <td>40</td>\n      <td>Germany</td>\n      <td>L1</td>\n      <td>europa</td>\n      <td>https://www.transfermarkt.co.uk/dfl-supercup/s...</td>\n    </tr>\n    <tr>\n      <th>39</th>\n      <td>SFA</td>\n      <td>sfa-cup</td>\n      <td>sfa-cup</td>\n      <td>domestic_cup</td>\n      <td>domestic_cup</td>\n      <td>190</td>\n      <td>Scotland</td>\n      <td>SC1</td>\n      <td>europa</td>\n      <td>https://www.transfermarkt.co.uk/sfa-cup/starts...</td>\n    </tr>\n    <tr>\n      <th>40</th>\n      <td>UKRP</td>\n      <td>ukrainian-cup</td>\n      <td>ukrainian-cup</td>\n      <td>domestic_cup</td>\n      <td>domestic_cup</td>\n      <td>177</td>\n      <td>Ukraine</td>\n      <td>UKR1</td>\n      <td>europa</td>\n      <td>https://www.transfermarkt.co.uk/ukrainian-cup/...</td>\n    </tr>\n    <tr>\n      <th>41</th>\n      <td>DFB</td>\n      <td>dfb-pokal</td>\n      <td>dfb-pokal</td>\n      <td>domestic_cup</td>\n      <td>domestic_cup</td>\n      <td>40</td>\n      <td>Germany</td>\n      <td>L1</td>\n      <td>europa</td>\n      <td>https://www.transfermarkt.co.uk/dfb-pokal/star...</td>\n    </tr>\n    <tr>\n      <th>42</th>\n      <td>FRCH</td>\n      <td>trophee-des-champions</td>\n      <td>trophee-des-champions</td>\n      <td>domestic_super_cup</td>\n      <td>other</td>\n      <td>50</td>\n      <td>France</td>\n      <td>FR1</td>\n      <td>europa</td>\n      <td>https://www.transfermarkt.co.uk/trophee-des-ch...</td>\n    </tr>\n  </tbody>\n</table>\n</div>"
     },
     "execution_count": 4,
     "metadata": {},
     "output_type": "execute_result"
    }
   ],
   "source": [
    "#comment it\n",
    "competitions"
   ],
   "metadata": {
    "collapsed": false,
    "ExecuteTime": {
     "end_time": "2023-12-18T18:19:48.136657100Z",
     "start_time": "2023-12-18T18:19:48.083657700Z"
    }
   },
   "id": "602c3818d98ee63d"
  },
  {
   "cell_type": "code",
   "execution_count": 5,
   "outputs": [
    {
     "data": {
      "text/plain": "True"
     },
     "execution_count": 5,
     "metadata": {},
     "output_type": "execute_result"
    }
   ],
   "source": [
    "na_elems = competitions.query('country_name.isnull() & '\n",
    "                   'domestic_league_code.isnull() &'\n",
    "                   'country_id == -1')\n",
    "n_elems = na_elems.size / na_elems.columns.size\n",
    "(n_elems == competitions['country_name'].isna().sum() and\n",
    " n_elems == competitions['domestic_league_code'].isna().sum() and\n",
    " n_elems == (-1 * competitions.query('country_id == -1')['country_id'].sum()))"
   ],
   "metadata": {
    "collapsed": false,
    "ExecuteTime": {
     "end_time": "2023-12-18T18:19:48.146658500Z",
     "start_time": "2023-12-18T18:19:48.124662600Z"
    }
   },
   "id": "5b1fef64a7ac5e07"
  },
  {
   "cell_type": "markdown",
   "source": [
    "> ### This means that all the *na* values in these columns are good. "
   ],
   "metadata": {
    "collapsed": false
   },
   "id": "b6bad08e587aa193"
  },
  {
   "cell_type": "code",
   "execution_count": 6,
   "outputs": [
    {
     "data": {
      "text/plain": "confederation\neuropa    43\nName: count, dtype: int64"
     },
     "execution_count": 6,
     "metadata": {},
     "output_type": "execute_result"
    }
   ],
   "source": [
    "competitions['confederation'].value_counts()"
   ],
   "metadata": {
    "collapsed": false,
    "ExecuteTime": {
     "end_time": "2023-12-18T18:19:48.186658Z",
     "start_time": "2023-12-18T18:19:48.148658200Z"
    }
   },
   "id": "420d5b99d51e44d1"
  },
  {
   "cell_type": "markdown",
   "source": [
    "> # I would remove 'confederation' because of its useless content"
   ],
   "metadata": {
    "collapsed": false
   },
   "id": "fd14afc75084357b"
  },
  {
   "cell_type": "code",
   "execution_count": 7,
   "outputs": [
    {
     "data": {
      "text/plain": "True"
     },
     "execution_count": 7,
     "metadata": {},
     "output_type": "execute_result"
    }
   ],
   "source": [
    "competitions['competition_id'].shape == competitions['competition_id'].drop_duplicates().shape"
   ],
   "metadata": {
    "collapsed": false,
    "ExecuteTime": {
     "end_time": "2023-12-18T18:19:48.222662500Z",
     "start_time": "2023-12-18T18:19:48.163658100Z"
    }
   },
   "id": "3211d383e1997fa"
  },
  {
   "cell_type": "markdown",
   "source": [
    "> # This means that there are no duplicates in 'competitions'"
   ],
   "metadata": {
    "collapsed": false
   },
   "id": "ac1614bdacc0b498"
  },
  {
   "cell_type": "code",
   "execution_count": 13,
   "outputs": [
    {
     "data": {
      "text/plain": "True"
     },
     "execution_count": 13,
     "metadata": {},
     "output_type": "execute_result"
    }
   ],
   "source": [
    "competitions.query('competition_code == name').shape == competitions.shape"
   ],
   "metadata": {
    "collapsed": false,
    "ExecuteTime": {
     "end_time": "2023-12-18T18:35:04.184837600Z",
     "start_time": "2023-12-18T18:35:04.151754500Z"
    }
   },
   "id": "44042c8f3bc902cb"
  },
  {
   "cell_type": "markdown",
   "source": [
    "> # ^ This means that every competition code is equal to the name given to the competition itself! \n",
    " \n",
    "> # We need to decide which column we have to maintain."
   ],
   "metadata": {
    "collapsed": false
   },
   "id": "ee0946b1545a322f"
  },
  {
   "cell_type": "markdown",
   "source": [
    "## Now we see if there are duplicates in the *'domestic_league_code'*"
   ],
   "metadata": {
    "collapsed": false
   },
   "id": "107b36489f9fffa"
  },
  {
   "cell_type": "code",
   "execution_count": 14,
   "outputs": [
    {
     "data": {
      "text/plain": "False"
     },
     "execution_count": 14,
     "metadata": {},
     "output_type": "execute_result"
    }
   ],
   "source": [
    "competitions['domestic_league_code'].drop_duplicates().shape == competitions['domestic_league_code'].shape"
   ],
   "metadata": {
    "collapsed": false,
    "ExecuteTime": {
     "end_time": "2023-12-18T18:43:02.851184Z",
     "start_time": "2023-12-18T18:43:02.841184Z"
    }
   },
   "id": "3e78319d6837d2c"
  },
  {
   "cell_type": "code",
   "execution_count": 16,
   "outputs": [
    {
     "data": {
      "text/plain": "domestic_league_code\nGB1     4\nIT1     3\nNL1     3\nPO1     3\nRU1     3\nES1     3\nUKR1    3\nL1      3\nGR1     2\nDK1     2\nFR1     2\nBE1     2\nSC1     2\nTR1     1\nName: count, dtype: int64"
     },
     "execution_count": 16,
     "metadata": {},
     "output_type": "execute_result"
    }
   ],
   "source": [
    "competitions['domestic_league_code'].value_counts()"
   ],
   "metadata": {
    "collapsed": false,
    "ExecuteTime": {
     "end_time": "2023-12-18T18:43:30.122612900Z",
     "start_time": "2023-12-18T18:43:30.099440100Z"
    }
   },
   "id": "82e99d8e8d33b3e6"
  }
 ],
 "metadata": {
  "kernelspec": {
   "display_name": "Python 3",
   "language": "python",
   "name": "python3"
  },
  "language_info": {
   "codemirror_mode": {
    "name": "ipython",
    "version": 2
   },
   "file_extension": ".py",
   "mimetype": "text/x-python",
   "name": "python",
   "nbconvert_exporter": "python",
   "pygments_lexer": "ipython2",
   "version": "2.7.6"
  }
 },
 "nbformat": 4,
 "nbformat_minor": 5
}

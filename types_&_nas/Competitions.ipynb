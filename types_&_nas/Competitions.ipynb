{
 "cells": [
  {
   "cell_type": "code",
   "execution_count": null,
   "id": "initial_id",
   "metadata": {
    "collapsed": true
   },
   "outputs": [],
   "source": [
    "from modules.module_for_imports import *"
   ]
  },
  {
   "cell_type": "markdown",
   "source": [
    "# Competitions analysis"
   ],
   "metadata": {
    "collapsed": false
   },
   "id": "77d610250979bcc2"
  },
  {
   "cell_type": "code",
   "execution_count": null,
   "outputs": [],
   "source": [
    "competitions = pd.read_csv('../Assignment_Data_2023-2024/competitions.csv')\n",
    "competitions.info()"
   ],
   "metadata": {
    "collapsed": false
   },
   "id": "258f2c624d5c73fb"
  },
  {
   "cell_type": "code",
   "execution_count": null,
   "outputs": [],
   "source": [
    "#comment it\n",
    "competitions"
   ],
   "metadata": {
    "collapsed": false
   },
   "id": "602c3818d98ee63d"
  },
  {
   "cell_type": "code",
   "execution_count": null,
   "outputs": [],
   "source": [
    "na_elems = competitions.query('country_name.isnull() & '\n",
    "                   'domestic_league_code.isnull() &'\n",
    "                   'country_id == -1')\n",
    "n_elems = na_elems.size / na_elems.columns.size\n",
    "(n_elems == competitions['country_name'].isna().sum() and\n",
    " n_elems == competitions['domestic_league_code'].isna().sum() and\n",
    " n_elems == (-1 * competitions.query('country_id == -1')['country_id'].sum()))"
   ],
   "metadata": {
    "collapsed": false
   },
   "id": "5b1fef64a7ac5e07"
  },
  {
   "cell_type": "markdown",
   "source": [
    "> ### This means that all the *na* values in these columns are good. "
   ],
   "metadata": {
    "collapsed": false
   },
   "id": "b6bad08e587aa193"
  },
  {
   "cell_type": "code",
   "execution_count": null,
   "outputs": [],
   "source": [
    "competitions['confederation'].value_counts()"
   ],
   "metadata": {
    "collapsed": false
   },
   "id": "420d5b99d51e44d1"
  },
  {
   "cell_type": "markdown",
   "source": [
    "> # I would remove 'confederation' because of its useless content"
   ],
   "metadata": {
    "collapsed": false
   },
   "id": "fd14afc75084357b"
  },
  {
   "cell_type": "code",
   "execution_count": null,
   "outputs": [],
   "source": [
    "competitions['competition_id'].shape == competitions['competition_id'].drop_duplicates().shape"
   ],
   "metadata": {
    "collapsed": false
   },
   "id": "3211d383e1997fa"
  },
  {
   "cell_type": "markdown",
   "source": [
    "> # This means that there are no duplicates in 'competitions'"
   ],
   "metadata": {
    "collapsed": false
   },
   "id": "ac1614bdacc0b498"
  },
  {
   "cell_type": "code",
   "execution_count": null,
   "outputs": [],
   "source": [
    "competitions.query('competition_code != name')"
   ],
   "metadata": {
    "collapsed": false
   },
   "id": "44042c8f3bc902cb"
  },
  {
   "cell_type": "markdown",
   "source": [
    "> # ^ This means that every competition code is equal to the name given to the competition itself! \n",
    " \n",
    "> # We need to decide which column we have to maintain."
   ],
   "metadata": {
    "collapsed": false
   },
   "id": "ee0946b1545a322f"
  },
  {
   "cell_type": "markdown",
   "source": [
    "## Now we see if there are duplicates in the *'domestic_league_code'*"
   ],
   "metadata": {
    "collapsed": false
   },
   "id": "107b36489f9fffa"
  },
  {
   "cell_type": "code",
   "execution_count": null,
   "outputs": [],
   "source": [
    "competitions['domestic_league_code'].drop_duplicates().shape == competitions['domestic_league_code'].shape"
   ],
   "metadata": {
    "collapsed": false
   },
   "id": "3e78319d6837d2c"
  },
  {
   "cell_type": "code",
   "execution_count": null,
   "outputs": [],
   "source": [
    "competitions['domestic_league_code'].value_counts()"
   ],
   "metadata": {
    "collapsed": false
   },
   "id": "82e99d8e8d33b3e6"
  },
  {
   "cell_type": "code",
   "execution_count": null,
   "outputs": [],
   "source": [
    "#competitions.drop_duplicates('domestic_league_code').groupby('country_name').agg({'domestic_league_code': 'count'})\n",
    "competitions.groupby('country_name').agg({'domestic_league_code': 'count'})"
   ],
   "metadata": {
    "collapsed": false
   },
   "id": "465a1aacea1e748a"
  },
  {
   "cell_type": "code",
   "execution_count": null,
   "outputs": [],
   "source": [
    "competitions.query('country_name==\"Italy\"')['domestic_league_code']"
   ],
   "metadata": {
    "collapsed": false
   },
   "id": "5064a749713b49de"
  },
  {
   "cell_type": "code",
   "execution_count": null,
   "outputs": [],
   "source": [
    "competitions.query('competition_id==domestic_league_code')"
   ],
   "metadata": {
    "collapsed": false
   },
   "id": "5bb9e12cd90d662a"
  }
 ],
 "metadata": {
  "kernelspec": {
   "display_name": "Python 3",
   "language": "python",
   "name": "python3"
  },
  "language_info": {
   "codemirror_mode": {
    "name": "ipython",
    "version": 2
   },
   "file_extension": ".py",
   "mimetype": "text/x-python",
   "name": "python",
   "nbconvert_exporter": "python",
   "pygments_lexer": "ipython2",
   "version": "2.7.6"
  }
 },
 "nbformat": 4,
 "nbformat_minor": 5
}

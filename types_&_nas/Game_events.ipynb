{
 "cells": [
  {
   "cell_type": "code",
   "execution_count": null,
   "outputs": [],
   "source": [
    "import pandas as pd\n",
    "\n",
    "from modules.module_for_imports import *"
   ],
   "metadata": {
    "collapsed": false
   },
   "id": "initial_id"
  },
  {
   "cell_type": "markdown",
   "source": [
    "# Game_events analysis"
   ],
   "metadata": {
    "collapsed": false
   },
   "id": "d6211c3b782bd321"
  },
  {
   "cell_type": "code",
   "execution_count": null,
   "outputs": [],
   "source": [
    "game_events = get_game_events('../')\n",
    "game_events.info()"
   ],
   "metadata": {
    "collapsed": false
   },
   "id": "17f2ef6d481770ae"
  },
  {
   "cell_type": "code",
   "execution_count": null,
   "outputs": [],
   "source": [
    "game_events"
   ],
   "metadata": {
    "collapsed": false
   },
   "id": "646a064b0a72dd16"
  },
  {
   "cell_type": "code",
   "execution_count": null,
   "outputs": [],
   "source": [
    "game_events.query('player_in_id.isnull()')"
   ],
   "metadata": {
    "collapsed": false
   },
   "id": "a572ba91b9154987"
  },
  {
   "cell_type": "code",
   "execution_count": null,
   "outputs": [],
   "source": [
    "game_events['game_id'].value_counts().head(40)\n",
    "game_events.query('game_id == 2211607')"
   ],
   "metadata": {
    "collapsed": false
   },
   "id": "153adb2de2abfbcd"
  },
  {
   "cell_type": "code",
   "execution_count": null,
   "outputs": [],
   "source": [
    "game_events['type'].value_counts()"
   ],
   "metadata": {
    "collapsed": false
   },
   "id": "d1dec3f8b1bbb525"
  },
  {
   "cell_type": "code",
   "execution_count": null,
   "outputs": [],
   "source": [
    "game_events.query('type == \"Substitutions\"')['description'].value_counts()"
   ],
   "metadata": {
    "collapsed": false
   },
   "id": "5e80abed4c5e3209"
  },
  {
   "cell_type": "code",
   "execution_count": null,
   "outputs": [],
   "source": [
    "game_events.query('type == \"Shootout\"')['description'].value_counts()"
   ],
   "metadata": {
    "collapsed": false
   },
   "id": "12800db25e6189fb"
  },
  {
   "cell_type": "code",
   "execution_count": null,
   "outputs": [],
   "source": [
    "has_assist = game_events['description'].astype(str).str.contains(\"Assist\")\n",
    "goals_without_assist = game_events[~has_assist]\n",
    "goals_without_assist.query('type == \"Goals\"')"
   ],
   "metadata": {
    "collapsed": false
   },
   "id": "675036c119cda144"
  },
  {
   "cell_type": "code",
   "execution_count": null,
   "outputs": [],
   "source": [
    "game_events['type'] = game_events['type'].astype('string') \n",
    "game_events['date'] = pd.to_datetime(game_events['date'].astype('string'))\n",
    "game_events.fillna({'player_in_id':-1, 'player_assist_id':-1}, inplace=True)\n",
    "game_events['player_in_id'] = game_events['player_in_id'].astype('int')\n",
    "game_events['player_assist_id'] = game_events['player_assist_id'].astype('int')\n",
    "game_events.info()"
   ],
   "metadata": {
    "collapsed": false
   },
   "id": "6cbc0f5990bc22ee"
  },
  {
   "cell_type": "code",
   "execution_count": null,
   "outputs": [],
   "source": [
    "game_events.head(10)"
   ],
   "metadata": {
    "collapsed": false
   },
   "id": "245a6840a824a262"
  },
  {
   "cell_type": "markdown",
   "source": [
    "> # In description \"2.\" is the second time someone does something:\n",
    "> There are different types of events:\n",
    "> - cards: type of card: ?(cause of card)\n",
    "> - goals: \n",
    ">   how goal has been scored: number of the goal in the specified context, \n",
    ">   **if there is an assist**: how it has been done, number of the assist by that player in the specified context\n",
    "> - substitution: specified or not\n",
    "> - shootout: (shootouts are like 1v1 for 5\" and have been alternatives to the penalties(english for 'rigori'))"
   ],
   "metadata": {
    "collapsed": false
   },
   "id": "2993b6704483bceb"
  }
 ],
 "metadata": {
  "kernelspec": {
   "display_name": "Python 3",
   "language": "python",
   "name": "python3"
  },
  "language_info": {
   "codemirror_mode": {
    "name": "ipython",
    "version": 2
   },
   "file_extension": ".py",
   "mimetype": "text/x-python",
   "name": "python",
   "nbconvert_exporter": "python",
   "pygments_lexer": "ipython2",
   "version": "2.7.6"
  }
 },
 "nbformat": 4,
 "nbformat_minor": 5
}

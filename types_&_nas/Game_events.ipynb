{
 "cells": [
  {
   "cell_type": "code",
   "execution_count": null,
   "outputs": [],
   "source": [
    "import pandas as pd\n",
    "\n",
    "from modules.module_for_imports import *"
   ],
   "metadata": {
    "collapsed": false
   },
   "id": "initial_id"
  },
  {
   "cell_type": "markdown",
   "source": [
    "# Game_events analysis"
   ],
   "metadata": {
    "collapsed": false
   },
   "id": "d6211c3b782bd321"
  },
  {
   "cell_type": "code",
   "execution_count": null,
   "outputs": [],
   "source": [
    "game_events = get_game_events('../')\n",
    "game_events.info()"
   ],
   "metadata": {
    "collapsed": false
   },
   "id": "17f2ef6d481770ae"
  },
  {
   "cell_type": "code",
   "outputs": [],
   "source": [
    "game_events['type'].value_counts(dropna=False)"
   ],
   "metadata": {
    "collapsed": false
   },
   "id": "30b30fea0b1b885b",
   "execution_count": null
  },
  {
   "cell_type": "code",
   "execution_count": null,
   "outputs": [],
   "source": [
    "game_events.query('player_in_id.isnull()').count()"
   ],
   "metadata": {
    "collapsed": false
   },
   "id": "a572ba91b9154987"
  },
  {
   "cell_type": "code",
   "execution_count": null,
   "outputs": [],
   "source": [
    "game_events['game_id'].value_counts().head(40)"
   ],
   "metadata": {
    "collapsed": false
   },
   "id": "153adb2de2abfbcd"
  },
  {
   "cell_type": "code",
   "execution_count": null,
   "outputs": [],
   "source": [
    "game_events.query('type == \"Substitutions\"')['description'].value_counts()"
   ],
   "metadata": {
    "collapsed": false
   },
   "id": "5e80abed4c5e3209"
  },
  {
   "cell_type": "code",
   "execution_count": null,
   "outputs": [],
   "source": [
    "game_events.query('type == \"Shootout\"')['description'].value_counts()"
   ],
   "metadata": {
    "collapsed": false
   },
   "id": "12800db25e6189fb"
  },
  {
   "cell_type": "code",
   "execution_count": null,
   "outputs": [],
   "source": [
    "has_assist = game_events['description'].astype(str).str.contains(\"Assist\")\n",
    "goals_without_assist = game_events[~has_assist]\n",
    "goals_without_assist.query('type == \"Goals\"').count()"
   ],
   "metadata": {
    "collapsed": false
   },
   "id": "675036c119cda144"
  },
  {
   "cell_type": "code",
   "execution_count": null,
   "outputs": [],
   "source": [
    "game_events['type'] = game_events['type'].astype('string') \n",
    "game_events['date'] = pd.to_datetime(game_events['date'].astype('string'))\n",
    "game_events.fillna({'player_in_id':-1, 'player_assist_id':-1}, inplace=True)\n",
    "game_events['player_in_id'] = game_events['player_in_id'].astype('int')\n",
    "game_events['player_assist_id'] = game_events['player_assist_id'].astype('int')\n",
    "game_events.info()"
   ],
   "metadata": {
    "collapsed": false
   },
   "id": "6cbc0f5990bc22ee"
  },
  {
   "cell_type": "code",
   "execution_count": null,
   "outputs": [],
   "source": [
    "game_events.head(13)"
   ],
   "metadata": {
    "collapsed": false
   },
   "id": "245a6840a824a262"
  },
  {
   "cell_type": "markdown",
   "source": [
    "> # In description \"2.\" is the second time someone does something:\n",
    "> There are different types of events:\n",
    "> - cards: type of card: ?(cause of card)\n",
    "> - goals: \n",
    ">   how goal has been scored: number of the goal in the specified context, \n",
    ">   **if there is an assist**: how it has been done, number of the assist by that player in the specified context\n",
    "> - substitution: specified or not\n",
    "> - shootout: (shootouts are like 1v1 for 5\" and have been alternatives to the penalties(english for 'rigori'))"
   ],
   "metadata": {
    "collapsed": false
   },
   "id": "2993b6704483bceb"
  },
  {
   "cell_type": "code",
   "execution_count": null,
   "outputs": [],
   "source": [
    "game_events['player_assist_id'].isna().sum()"
   ],
   "metadata": {
    "collapsed": false
   },
   "id": "212f11a4ee24d781"
  },
  {
   "cell_type": "code",
   "execution_count": null,
   "outputs": [],
   "source": [
    "game_events.info()"
   ],
   "metadata": {
    "collapsed": false
   },
   "id": "8ee4600571fc5dc7"
  },
  {
   "cell_type": "code",
   "execution_count": null,
   "outputs": [],
   "source": [
    "game_events['player_in_id'].value_counts().sum()"
   ],
   "metadata": {
    "collapsed": false
   },
   "id": "e90b89c0282a17d9"
  },
  {
   "cell_type": "code",
   "execution_count": null,
   "outputs": [],
   "source": [
    "game_events['minute'].value_counts()"
   ],
   "metadata": {
    "collapsed": false
   },
   "id": "be1c04690db101e4"
  },
  {
   "cell_type": "code",
   "execution_count": null,
   "outputs": [],
   "source": [
    "game_events.query('description.astype(\"string\").str.contains(\"Not reported\")', engine='python').value_counts('description')"
   ],
   "metadata": {
    "collapsed": false
   },
   "id": "4af6fd75e220256a"
  },
  {
   "cell_type": "code",
   "outputs": [],
   "source": [
    "game_events['type'].value_counts()"
   ],
   "metadata": {
    "collapsed": false
   },
   "id": "c9f5be07cb2d9450",
   "execution_count": null
  },
  {
   "cell_type": "markdown",
   "source": [
    "> # It seems that only substitution type has \"not reported\" value"
   ],
   "metadata": {
    "collapsed": false
   },
   "id": "69fdc3035bf46fd8"
  },
  {
   "cell_type": "markdown",
   "source": [
    "> ## Formatting all type tuples"
   ],
   "metadata": {
    "collapsed": false
   },
   "id": "64f74164ed3a57f0"
  },
  {
   "cell_type": "code",
   "outputs": [],
   "source": [
    "game_events['description'].replace([float('NaN'), ', Not reported'], None).value_counts(dropna=False)"
   ],
   "metadata": {
    "collapsed": false
   },
   "id": "6e7d23b41009b432",
   "execution_count": null
  },
  {
   "cell_type": "code",
   "outputs": [],
   "source": [
    "# description cleaning\n",
    "# removing NaNs and ', Not reported' values\n",
    "game_events['description'].replace([float('NaN'), ', Not reported'], None, inplace=True)\n",
    "#Substitutions is the only type that has None value on description column now\n",
    "\n",
    "def format_description(description_value = ''):\n",
    "    if description_value is not None:\n",
    "        description_list = description_value.split(', ')\n",
    "        return [format_string(des_elem) for des_elem in description_list]\n",
    "    else: \n",
    "        return description_value\n",
    "    \n",
    "def format_string(des_elem = ''):\n",
    "    # pre: des_elem is not None\n",
    "    if des_elem[0].isdigit():\n",
    "            substr = des_elem.split(\".\")\n",
    "            if substr[0][0] == '1':\n",
    "                substr[0] = substr[0] + 'st'\n",
    "            elif substr[0][0] == '2':\n",
    "                substr[0] = substr[0] + 'nd'\n",
    "            elif substr[0][0] == '2':\n",
    "                substr[0] = substr[0] + 'rd'\n",
    "            else:\n",
    "                substr[0] = substr[0] + 'th'      \n",
    "            return ''.join(substr)\n",
    "    return des_elem\n",
    "\n",
    "# modifying all type tuples\n",
    "target = game_events['description'].apply(lambda x: x if x is None else x[2:] if x[0]==',' else x)\n",
    "target = target.apply(format_description)\n",
    "\n",
    "\n",
    "# @Todo: move all this in Assignment_datasets.py\n",
    "target.head()"
   ],
   "metadata": {
    "collapsed": false
   },
   "id": "7b698ac2e9215a39",
   "execution_count": null
  },
  {
   "cell_type": "code",
   "outputs": [],
   "source": [
    "game_events['description'].update(target)\n",
    "target = None\n",
    "game_events.query('type==\"Substitutions\"')['description'].value_counts(dropna=False)"
   ],
   "metadata": {
    "collapsed": false
   },
   "id": "2efc058da92df601",
   "execution_count": null
  }
 ],
 "metadata": {
  "kernelspec": {
   "display_name": "Python 3",
   "language": "python",
   "name": "python3"
  },
  "language_info": {
   "codemirror_mode": {
    "name": "ipython",
    "version": 2
   },
   "file_extension": ".py",
   "mimetype": "text/x-python",
   "name": "python",
   "nbconvert_exporter": "python",
   "pygments_lexer": "ipython2",
   "version": "2.7.6"
  }
 },
 "nbformat": 4,
 "nbformat_minor": 5
}

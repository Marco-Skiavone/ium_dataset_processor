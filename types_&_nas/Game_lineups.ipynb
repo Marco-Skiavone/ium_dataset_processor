{
 "cells": [
  {
   "cell_type": "code",
   "execution_count": null,
   "outputs": [],
   "source": [
    "from modules.module_for_imports import *"
   ],
   "metadata": {
    "collapsed": false
   },
   "id": "fea20c808e4b563f"
  },
  {
   "cell_type": "markdown",
   "source": [
    "# Game_lineups analysis"
   ],
   "metadata": {
    "collapsed": false
   },
   "id": "675129fa0d3d5bc8"
  },
  {
   "cell_type": "code",
   "execution_count": null,
   "outputs": [],
   "source": [
    "game_lu = get_game_lineups('../')\n",
    "game_lu"
   ],
   "metadata": {
    "collapsed": false
   },
   "id": "16ef4f17d0ff2555"
  },
  {
   "cell_type": "markdown",
   "source": [
    "> # Now we want to see if there are players that change position al least twice in the same game!"
   ],
   "metadata": {
    "collapsed": false
   },
   "id": "12afcb13bf29f9c6"
  },
  {
   "cell_type": "code",
   "execution_count": null,
   "outputs": [],
   "source": [
    "game_lu_unique_pos = game_lu.copy()\n",
    "game_lu_unique_pos['position_unique'] = game_lu.groupby('game_id')['position'].transform('nunique')\n",
    "game_lu_unique_pos[game_lu_unique_pos['position_unique'] > 1].duplicated().sum()"
   ],
   "metadata": {
    "collapsed": false
   },
   "id": "d6a7b2ffc1ec4f5a"
  },
  {
   "cell_type": "markdown",
   "source": [
    "# There are no players with more than one position in the same game!"
   ],
   "metadata": {
    "collapsed": false
   },
   "id": "48e6056a82d735e6"
  },
  {
   "cell_type": "code",
   "execution_count": null,
   "outputs": [],
   "source": [
    "game_lu_unique_pos = None\n",
    "game_lu.info()"
   ],
   "metadata": {
    "collapsed": false
   },
   "id": "d378fabcd6c87557"
  },
  {
   "cell_type": "code",
   "execution_count": null,
   "outputs": [],
   "source": [
    "def nullify(x):\n",
    "    if x.__str__() == '-':\n",
    "        return None\n",
    "    else: \n",
    "        return x\n",
    "\n",
    "\n",
    "game_lu['number'] = game_lu['number'].apply(lambda x : nullify(x))\n",
    "game_lu['number'] = game_lu['number'].astype('float')\n",
    "game_lu['team_captain'] = game_lu['team_captain'].astype('bool')\n",
    "game_lu['number'].isna().sum()"
   ],
   "metadata": {
    "collapsed": false
   },
   "id": "fa67502aee86b5ab"
  },
  {
   "cell_type": "code",
   "execution_count": null,
   "outputs": [],
   "source": [
    "game_lu.info()"
   ],
   "metadata": {
    "collapsed": false
   },
   "id": "97ee1eadd92d8caf"
  },
  {
   "cell_type": "code",
   "execution_count": null,
   "outputs": [],
   "source": [
    "game_lu['type'].value_counts()"
   ],
   "metadata": {
    "collapsed": false
   },
   "id": "5a606e31aba6cfec"
  },
  {
   "cell_type": "markdown",
   "source": [
    "# We could convert types and that's pretty much all we have to do with this set."
   ],
   "metadata": {
    "collapsed": false
   },
   "id": "492c2f5382494fd1"
  }
 ],
 "metadata": {
  "kernelspec": {
   "display_name": "Python 3",
   "language": "python",
   "name": "python3"
  },
  "language_info": {
   "codemirror_mode": {
    "name": "ipython",
    "version": 2
   },
   "file_extension": ".py",
   "mimetype": "text/x-python",
   "name": "python",
   "nbconvert_exporter": "python",
   "pygments_lexer": "ipython2",
   "version": "2.7.6"
  }
 },
 "nbformat": 4,
 "nbformat_minor": 5
}

{
 "cells": [
  {
   "cell_type": "code",
   "execution_count": null,
   "id": "initial_id",
   "metadata": {
    "collapsed": true
   },
   "outputs": [],
   "source": [
    "from modules.module_for_imports import *"
   ]
  },
  {
   "cell_type": "markdown",
   "source": [
    "# Inconsistent values removal\n",
    "> ### In this file we will find out how to remove all the elements we don't want in the SQL server.\n",
    "1. We'll clean up the players, checking the **current_club_id** column\n",
    "2. We'll clean up BOTH **game_events** and **club_games**, checking both the foreign keys from each set\n",
    "    - ***game_events***: player_id and game_id\n",
    "    - ***club_games***: game_id and club_id\n",
    "        \n",
    "3. After that, we will analyse **appearances**, **competitions** and **game_lineups**, to avoid issues with the retrieve of the GET routes.\n",
    "---\n",
    "## Results:\n",
    "For points 1. and 2.:\n",
    "    - `game_events.player_id` data are **NOT** consistent\n",
    "    - `club_games.club_id` data are **NOT** consistent -> we will have to remove also the other tuple with the same `game_id`\n",
    "    - All other data checked are consistent\n",
    "For point 3:\n",
    "    - `competitions` has a **useless** competition - Fifa Klub wm - which has no game linked to it.\n",
    "    - `appearances` has all player_id and competition_id references, but 70,2k of `game_id`'s are not consistent with `games` table. Furthermore, 7,2k `club_id` foreign_keys have not a match in the dataset (but they are part of the 70k we will remove to maintain `game_id` consistency).\n",
    "    - `game_lineups` we found 41k inconsistent rows where `game_id` has no match. `club_id` with no match are in this subset, so we can delete the initial 41k and that's all we have to do.  \n",
    "    "
   ],
   "metadata": {
    "collapsed": false
   },
   "id": "52a58cfe3719c0d6"
  },
  {
   "cell_type": "markdown",
   "source": [
    "---\n",
    "# Defining the functions used in this section"
   ],
   "metadata": {
    "collapsed": false
   },
   "id": "7073af4ac8119cdb"
  },
  {
   "cell_type": "code",
   "execution_count": null,
   "outputs": [],
   "source": [
    "def check_consistency(df1, df2, column_name1, column_name2):\n",
    "    result = df1[df1[column_name1].isin(df2[column_name2])]\n",
    "    print('Modified.' if (result.shape[0] != df1.shape[0]) else 'Not modified.')\n",
    "    return result"
   ],
   "metadata": {
    "collapsed": false
   },
   "id": "3b90cea80027f3ce"
  },
  {
   "cell_type": "markdown",
   "source": [
    "---\n",
    "# 1. Cleaning players \n",
    "- For now, players seems to have all `current_club_id` consistent with clubs table."
   ],
   "metadata": {
    "collapsed": false
   },
   "id": "8adfae2ed04694ee"
  },
  {
   "cell_type": "code",
   "execution_count": null,
   "outputs": [],
   "source": [
    "# locate = '../' # usable location vrb \n",
    "games = clean_games(get_games('../'))\n",
    "clubs = clean_clubs(get_clubs('../'))\n",
    "#players will be modified!\n",
    "players = clean_players(get_players('../'))"
   ],
   "metadata": {
    "collapsed": false
   },
   "id": "1b7c5ff8aca97762"
  },
  {
   "cell_type": "code",
   "execution_count": null,
   "outputs": [],
   "source": [
    "players.info()"
   ],
   "metadata": {
    "collapsed": false
   },
   "id": "4124979f38839a21"
  },
  {
   "cell_type": "code",
   "execution_count": null,
   "outputs": [],
   "source": [
    "player = check_consistency(players, clubs, 'current_club_id', 'club_id') # Not modified."
   ],
   "metadata": {
    "collapsed": false
   },
   "id": "373b4b16c78ef0d"
  },
  {
   "cell_type": "markdown",
   "source": [
    "---\n",
    "# 2.a Cleaning game_events\n",
    "- `player_id` in game_events will be **not** consistent with players table.\n",
    "- `game_id` is consistent with the games table."
   ],
   "metadata": {
    "collapsed": false
   },
   "id": "1fa0a31cd3a1bc57"
  },
  {
   "cell_type": "code",
   "execution_count": null,
   "outputs": [],
   "source": [
    "game_events = clean_game_events(get_game_events('../'))\n",
    "game_events.info()"
   ],
   "metadata": {
    "collapsed": false
   },
   "id": "73696d245fdd3303"
  },
  {
   "cell_type": "code",
   "execution_count": null,
   "outputs": [],
   "source": [
    "ge_consistency = check_consistency(game_events, players, 'player_id', 'player_id') # Modified.\n",
    "neg_game_events = game_events.query('not player_id.isin(@ge_consistency[\"player_id\"])', engine='python')\n",
    "print('Inconsistent rows:', neg_game_events.shape[0], 'of', game_events.shape[0])"
   ],
   "metadata": {
    "collapsed": false
   },
   "id": "a81af50354ec9f63"
  },
  {
   "cell_type": "code",
   "execution_count": null,
   "outputs": [],
   "source": [
    "# It seems that there are player_id's in game_events that are not in players:\n",
    "game_events[~game_events['player_id'].isin(players['player_id'])]"
   ],
   "metadata": {
    "collapsed": false
   },
   "id": "219df9f0a3a2ba9f"
  },
  {
   "cell_type": "code",
   "execution_count": null,
   "outputs": [],
   "source": [
    "players = None"
   ],
   "metadata": {
    "collapsed": false
   },
   "id": "d0a95df0809d6845"
  },
  {
   "cell_type": "code",
   "execution_count": null,
   "outputs": [],
   "source": [
    "game_events = check_consistency(game_events, games, 'game_id', 'game_id') # Not modified.\n",
    "game_events.shape"
   ],
   "metadata": {
    "collapsed": false
   },
   "id": "e1f99ee74474c912"
  },
  {
   "cell_type": "code",
   "execution_count": null,
   "outputs": [],
   "source": [
    "game_events = None"
   ],
   "metadata": {
    "collapsed": false
   },
   "id": "eb070a5593dba0e2"
  },
  {
   "cell_type": "markdown",
   "source": [
    "---\n",
    "# 2.b Cleaning club_games... \n",
    "- `game_id` is consistent with games table\n",
    "- `club_id` is **NOT** consistent with clubs table"
   ],
   "metadata": {
    "collapsed": false
   },
   "id": "9747c165d60ae9ea"
  },
  {
   "cell_type": "code",
   "execution_count": null,
   "outputs": [],
   "source": [
    "club_games = clean_club_games(get_club_games('../'), '../')\n",
    "club_games.info()"
   ],
   "metadata": {
    "collapsed": false
   },
   "id": "7cd6d17de05d0397"
  },
  {
   "cell_type": "code",
   "execution_count": null,
   "outputs": [],
   "source": [
    "games.query('game_id.isin(@club_games[\"game_id\"])', engine='python').shape[0] == games.shape[0]"
   ],
   "metadata": {
    "collapsed": false
   },
   "id": "b15f7c58c7005cb4"
  },
  {
   "cell_type": "code",
   "execution_count": null,
   "outputs": [],
   "source": [
    "check_consistency(club_games, games, 'game_id', 'game_id').head() # Not modified."
   ],
   "metadata": {
    "collapsed": false
   },
   "id": "62b23a302c19ad39"
  },
  {
   "cell_type": "code",
   "execution_count": null,
   "outputs": [],
   "source": [
    "cg_consistency = check_consistency(club_games, clubs, 'club_id', 'club_id') # Modified."
   ],
   "metadata": {
    "collapsed": false
   },
   "id": "4a93c83b549f3a8c"
  },
  {
   "cell_type": "code",
   "execution_count": null,
   "outputs": [],
   "source": [
    "neg_club_games = club_games.query('not club_id.isin(@cg_consistency[\"club_id\"])', engine='python')\n",
    "print('Inconsistent rows:', neg_club_games.shape[0], 'of', club_games.shape[0])"
   ],
   "metadata": {
    "collapsed": false
   },
   "id": "52c782d1ea1b1427"
  },
  {
   "cell_type": "code",
   "execution_count": null,
   "outputs": [],
   "source": [
    "club_games.query('game_id.isin(@neg_club_games[\"game_id\"])', engine='python').shape[0] "
   ],
   "metadata": {
    "collapsed": false
   },
   "id": "95e4c622883b9d92"
  },
  {
   "cell_type": "code",
   "execution_count": null,
   "outputs": [],
   "source": [
    "games = None\n",
    "clubs = None\n",
    "club_games = None"
   ],
   "metadata": {
    "collapsed": false
   },
   "id": "8223452de23c0b55"
  },
  {
   "cell_type": "markdown",
   "source": [
    "# Order of removal:\n",
    "1. `game_id` from **club_games** where `club_id` is not found in **clubs**\n",
    "2. `game_id` from **games** according to **club_games** foreign_keys\n",
    "3. `game_id` from **game_events** according to **games** foreign_keys\n",
    "4. `player_id` from **game_events** according to **players** foreign_keys"
   ],
   "metadata": {
    "collapsed": false
   },
   "id": "9bf33ffd05674d6e"
  },
  {
   "cell_type": "markdown",
   "source": [
    "---\n",
    "# Making Appearances check"
   ],
   "metadata": {
    "collapsed": false
   },
   "id": "61141dcc6ea48f52"
  },
  {
   "cell_type": "code",
   "execution_count": null,
   "outputs": [],
   "source": [
    "loc = '../'\n",
    "# clubs_n_games = clean_club_games(get_club_games(loc), loc)\n",
    "clubs_n_games = clean_club_games(get_club_games(loc), games, loc) # defined again after this study \n",
    "games = clubs_n_games[1]\n",
    "clubs = clubs_n_games[0]\n",
    "app = clean_appearances(get_appearances(loc), loc)\n",
    "players = clean_players(get_players(loc))\n",
    "clubs_n_games = None\n",
    "app.info()"
   ],
   "metadata": {
    "collapsed": false
   },
   "id": "e7b5a98648207b01"
  },
  {
   "cell_type": "code",
   "execution_count": null,
   "outputs": [],
   "source": [
    "print(app.shape[0])\n",
    "appea2 = check_consistency(app, games, 'game_id', 'game_id') # Modified: 70k extra rows\n",
    "print(appea2.shape[0])"
   ],
   "metadata": {
    "collapsed": false
   },
   "id": "5e4ec704bdaa3755"
  },
  {
   "cell_type": "code",
   "execution_count": null,
   "outputs": [],
   "source": [
    "check_consistency(app, players, 'player_id', 'player_id').shape[0] # Not modified."
   ],
   "metadata": {
    "collapsed": false
   },
   "id": "85a13cacd9ff1ec8"
  },
  {
   "cell_type": "code",
   "execution_count": null,
   "outputs": [],
   "source": [
    "check_consistency(app, clubs, 'player_club_id', 'club_id').shape[0] # Modified: 7,2k"
   ],
   "metadata": {
    "collapsed": false
   },
   "id": "be4b4eb7e966a7b8"
  },
  {
   "cell_type": "code",
   "execution_count": null,
   "outputs": [],
   "source": [
    "check_consistency(appea2, clubs, 'player_club_id', 'club_id').shape[0]"
   ],
   "metadata": {
    "collapsed": false
   },
   "id": "b69c87b4840835d9"
  },
  {
   "cell_type": "code",
   "execution_count": null,
   "outputs": [],
   "source": [
    "competitions = clean_competitions(get_competitions(loc))\n",
    "check_consistency(app, competitions, 'competition_id', 'competition_id').shape[0] # Not modified"
   ],
   "metadata": {
    "collapsed": false
   },
   "id": "98ddc3a9598624b7"
  },
  {
   "cell_type": "markdown",
   "source": [
    "## ^^ We should remove:\n",
    " - 70,2k tuples for game_id consistency\n",
    " - 7.2k tuples for club_id consistency\n",
    "<br>\n",
    "\n",
    "---\n",
    "<br>\n",
    "\n",
    "# 'Competitions' check:\n",
    "#### we should check the competition with `id=KLUB`."
   ],
   "metadata": {
    "collapsed": false
   },
   "id": "39735f46c38e099d"
  },
  {
   "cell_type": "code",
   "execution_count": null,
   "outputs": [],
   "source": [
    "loc = '../'\n",
    "competitions = clean_competitions(get_competitions(loc))\n",
    "# games already present from appearances check up above.\n",
    "print(competitions.info())\n",
    "competitions.query('competition_id == \"KLUB\"')"
   ],
   "metadata": {
    "collapsed": false
   },
   "id": "4a5d5c6566888b4b"
  },
  {
   "cell_type": "code",
   "execution_count": null,
   "outputs": [],
   "source": [
    "result = check_consistency(competitions, games, 'competition_id', 'competition_id')\n",
    "result"
   ],
   "metadata": {
    "collapsed": false
   },
   "id": "bbbe3fc51f2f54f8"
  },
  {
   "cell_type": "code",
   "execution_count": null,
   "outputs": [],
   "source": [
    "competitions[~competitions['competition_id'].isin(result['competition_id'])]"
   ],
   "metadata": {
    "collapsed": false
   },
   "id": "941f1a0bb3d76190"
  },
  {
   "cell_type": "markdown",
   "source": [
    "# We **have to remove** Fifa-klub-wm \n",
    "## -> There is no game of it, we can show nothing about it!"
   ],
   "metadata": {
    "collapsed": false
   },
   "id": "60994fc298c3922e"
  },
  {
   "cell_type": "markdown",
   "source": [
    "---\n",
    "# 'Game_lineups' check\n",
    "Firstly, we check `game_id` and `club_id`. After that, `player_id` and `player_name`."
   ],
   "metadata": {
    "collapsed": false
   },
   "id": "d8ae703e042164b2"
  },
  {
   "cell_type": "code",
   "execution_count": null,
   "outputs": [],
   "source": [
    "game_lu = clean_game_lineups(get_game_lineups(loc))\n",
    "print(game_lu.info())\n",
    "print(game_lu.shape[0])\n",
    "game_lu2 = check_consistency(game_lu, games, 'game_id', 'game_id')  # Modified: 41.8k\n",
    "game_lu2.shape[0]"
   ],
   "metadata": {
    "collapsed": false
   },
   "id": "f2d84e5010878c59"
  },
  {
   "cell_type": "code",
   "execution_count": null,
   "outputs": [],
   "source": [
    "print(game_lu2.shape[0])\n",
    "game_lu2 = check_consistency(game_lu2, clubs, 'club_id', 'club_id')     # Not modified.\n",
    "game_lu2.shape[0]"
   ],
   "metadata": {
    "collapsed": false
   },
   "id": "521cfe6f5e485f8a"
  },
  {
   "cell_type": "markdown",
   "source": [
    "### Inconsistent game ids have been found. If we clean them, `clubs` are ok."
   ],
   "metadata": {
    "collapsed": false
   },
   "id": "477d40e4d804b2d0"
  },
  {
   "cell_type": "code",
   "execution_count": null,
   "outputs": [],
   "source": [
    "game_lu_players = check_consistency(game_lu2, players, 'player_id', 'player_id') # Modified: 1.6k\n",
    "game_lu_players.shape[0]"
   ],
   "metadata": {
    "collapsed": false
   },
   "id": "e62e22d5d9dca9a5"
  },
  {
   "cell_type": "code",
   "execution_count": null,
   "outputs": [],
   "source": [
    "game_lu_players['player_name'].isna().sum()"
   ],
   "metadata": {
    "collapsed": false
   },
   "id": "60d55555a927558b"
  },
  {
   "cell_type": "code",
   "execution_count": null,
   "outputs": [],
   "source": [
    "game_lu_to_remove = game_lu.drop(game_lu2.index)\n",
    "print(game_lu_to_remove.shape[0])\n",
    "game_lu_to_remove.query('type == \"starting_lineup\"').value_counts(['game_id'])  \n",
    "# these are the game_lineups to remove, grouped by their starting_lineups"
   ],
   "metadata": {
    "collapsed": false
   },
   "id": "790fa9192a0ba05b"
  }
 ],
 "metadata": {
  "kernelspec": {
   "display_name": "Python 3",
   "language": "python",
   "name": "python3"
  },
  "language_info": {
   "codemirror_mode": {
    "name": "ipython",
    "version": 2
   },
   "file_extension": ".py",
   "mimetype": "text/x-python",
   "name": "python",
   "nbconvert_exporter": "python",
   "pygments_lexer": "ipython2",
   "version": "2.7.6"
  }
 },
 "nbformat": 4,
 "nbformat_minor": 5
}

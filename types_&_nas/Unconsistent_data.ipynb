{
 "cells": [
  {
   "cell_type": "code",
   "execution_count": null,
   "id": "initial_id",
   "metadata": {
    "collapsed": true
   },
   "outputs": [],
   "source": [
    "from modules.module_for_imports import *"
   ]
  },
  {
   "cell_type": "markdown",
   "source": [
    "# Unconsistent values removal\n",
    "> ### In this file we find out how to remove all the elements we don't want in the SQL server.\n",
    "1. We clean up the players, checking the **club_id** column\n",
    "2. We clean up BOTH **game_events** and **club_games** checking both the foreign keys from each set\n",
    "    - ***game_events***: player_id and game_id\n",
    "    - ***club_games***: game_id and club_id"
   ],
   "metadata": {
    "collapsed": false
   },
   "id": "52a58cfe3719c0d6"
  },
  {
   "cell_type": "code",
   "execution_count": null,
   "outputs": [],
   "source": [
    "# locate = '../' # usable location vrb \n",
    "games = clean_games(get_games())\n",
    "clubs = clean_clubs(get_clubs())\n",
    "#players will be modified!\n",
    "players = clean_players(get_players())"
   ],
   "metadata": {
    "collapsed": false
   },
   "id": "1b7c5ff8aca97762"
  },
  {
   "cell_type": "markdown",
   "source": [
    "---\n",
    "# Defining the functions used in this section"
   ],
   "metadata": {
    "collapsed": false
   },
   "id": "7073af4ac8119cdb"
  },
  {
   "cell_type": "code",
   "execution_count": null,
   "outputs": [],
   "source": [
    "def check_consistency(df1, df2, column_name1, column_name2):\n",
    "    result = df1[df1[column_name1].isin(df2[column_name2])]\n",
    "    print('Modified.' if (result.shape[0] != df1.shape[0]) else 'Not modified.')\n",
    "    return result"
   ],
   "metadata": {
    "collapsed": false
   },
   "id": "3b90cea80027f3ce"
  },
  {
   "cell_type": "markdown",
   "source": [
    "---\n",
    "# 1. Cleaning players "
   ],
   "metadata": {
    "collapsed": false
   },
   "id": "8adfae2ed04694ee"
  },
  {
   "cell_type": "code",
   "execution_count": null,
   "outputs": [],
   "source": [
    "players.info()"
   ],
   "metadata": {
    "collapsed": false
   },
   "id": "4124979f38839a21"
  },
  {
   "cell_type": "code",
   "execution_count": null,
   "outputs": [],
   "source": [
    "player = check_consistency(players, clubs, 'current_club_id', 'club_id')"
   ],
   "metadata": {
    "collapsed": false
   },
   "id": "373b4b16c78ef0d"
  },
  {
   "cell_type": "markdown",
   "source": [
    "---\n",
    "# 2.a Cleaning game_events"
   ],
   "metadata": {
    "collapsed": false
   },
   "id": "1fa0a31cd3a1bc57"
  },
  {
   "cell_type": "code",
   "execution_count": null,
   "outputs": [],
   "source": [
    "game_events = clean_game_events(get_game_events())\n",
    "game_events.info()"
   ],
   "metadata": {
    "collapsed": false
   },
   "id": "73696d245fdd3303"
  },
  {
   "cell_type": "code",
   "execution_count": null,
   "outputs": [],
   "source": [
    "game_events = check_consistency(game_events, players, 'player_id', 'player_id')"
   ],
   "metadata": {
    "collapsed": false
   },
   "id": "a81af50354ec9f63"
  },
  {
   "cell_type": "code",
   "execution_count": null,
   "outputs": [],
   "source": [
    "players = None"
   ],
   "metadata": {
    "collapsed": false
   },
   "id": "d0a95df0809d6845"
  },
  {
   "cell_type": "code",
   "execution_count": null,
   "outputs": [],
   "source": [
    "game_events = check_consistency(game_events, games, 'game_id', 'game_id')\n",
    "game_events.shape"
   ],
   "metadata": {
    "collapsed": false
   },
   "id": "e1f99ee74474c912"
  },
  {
   "cell_type": "code",
   "execution_count": null,
   "outputs": [],
   "source": [
    "game_events = None"
   ],
   "metadata": {
    "collapsed": false
   },
   "id": "eb070a5593dba0e2"
  },
  {
   "cell_type": "markdown",
   "source": [
    "---\n",
    "# 2.b Cleaning club_games... "
   ],
   "metadata": {
    "collapsed": false
   },
   "id": "9747c165d60ae9ea"
  },
  {
   "cell_type": "code",
   "execution_count": null,
   "outputs": [],
   "source": [
    "club_games = clean_club_games(get_club_games())\n",
    "club_games.info()"
   ],
   "metadata": {
    "collapsed": false
   },
   "id": "7cd6d17de05d0397"
  },
  {
   "cell_type": "code",
   "execution_count": null,
   "outputs": [],
   "source": [
    "club_games = check_consistency(club_games, games, 'game_id', 'game_id')"
   ],
   "metadata": {
    "collapsed": false
   },
   "id": "62b23a302c19ad39"
  },
  {
   "cell_type": "code",
   "execution_count": null,
   "outputs": [],
   "source": [
    "games = None"
   ],
   "metadata": {
    "collapsed": false
   },
   "id": "ee66cf65b9060c94"
  },
  {
   "cell_type": "code",
   "execution_count": null,
   "outputs": [],
   "source": [
    "club_games = check_consistency(club_games, clubs, 'club_id', 'club_id')\n",
    "club_games.shape"
   ],
   "metadata": {
    "collapsed": false
   },
   "id": "524ba6c5af701810"
  },
  {
   "cell_type": "code",
   "execution_count": null,
   "outputs": [],
   "source": [
    "clubs = None\n",
    "club_games = None"
   ],
   "metadata": {
    "collapsed": false
   },
   "id": "8223452de23c0b55"
  }
 ],
 "metadata": {
  "kernelspec": {
   "display_name": "Python 3",
   "language": "python",
   "name": "python3"
  },
  "language_info": {
   "codemirror_mode": {
    "name": "ipython",
    "version": 2
   },
   "file_extension": ".py",
   "mimetype": "text/x-python",
   "name": "python",
   "nbconvert_exporter": "python",
   "pygments_lexer": "ipython2",
   "version": "2.7.6"
  }
 },
 "nbformat": 4,
 "nbformat_minor": 5
}

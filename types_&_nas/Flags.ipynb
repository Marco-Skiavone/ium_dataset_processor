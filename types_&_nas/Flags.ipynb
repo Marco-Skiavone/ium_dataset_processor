{
 "cells": [
  {
   "cell_type": "code",
   "execution_count": 112,
   "id": "initial_id",
   "metadata": {
    "collapsed": true,
    "ExecuteTime": {
     "end_time": "2024-01-28T11:51:54.251204Z",
     "start_time": "2024-01-28T11:51:54.219118800Z"
    }
   },
   "outputs": [],
   "source": [
    "from modules.module_for_imports import *"
   ]
  },
  {
   "cell_type": "markdown",
   "source": [
    "# Flags Creation *(As a DataFrame)*"
   ],
   "metadata": {
    "collapsed": false
   },
   "id": "7ffba07d0121e9de"
  },
  {
   "cell_type": "code",
   "execution_count": 113,
   "outputs": [
    {
     "data": {
      "text/plain": "   domestic_league_code country_name\n0                   IT1        Italy\n1                   NL1  Netherlands\n2                   GR1       Greece\n3                   PO1     Portugal\n4                   RU1       Russia\n5                   ES1        Spain\n6                   DK1      Denmark\n7                   FR1       France\n8                   BE1      Belgium\n9                   GB1      England\n10                 UKR1      Ukraine\n11                  TR1       Turkey\n12                   L1      Germany\n13                  SC1     Scotland",
      "text/html": "<div>\n<style scoped>\n    .dataframe tbody tr th:only-of-type {\n        vertical-align: middle;\n    }\n\n    .dataframe tbody tr th {\n        vertical-align: top;\n    }\n\n    .dataframe thead th {\n        text-align: right;\n    }\n</style>\n<table border=\"1\" class=\"dataframe\">\n  <thead>\n    <tr style=\"text-align: right;\">\n      <th></th>\n      <th>domestic_league_code</th>\n      <th>country_name</th>\n    </tr>\n  </thead>\n  <tbody>\n    <tr>\n      <th>0</th>\n      <td>IT1</td>\n      <td>Italy</td>\n    </tr>\n    <tr>\n      <th>1</th>\n      <td>NL1</td>\n      <td>Netherlands</td>\n    </tr>\n    <tr>\n      <th>2</th>\n      <td>GR1</td>\n      <td>Greece</td>\n    </tr>\n    <tr>\n      <th>3</th>\n      <td>PO1</td>\n      <td>Portugal</td>\n    </tr>\n    <tr>\n      <th>4</th>\n      <td>RU1</td>\n      <td>Russia</td>\n    </tr>\n    <tr>\n      <th>5</th>\n      <td>ES1</td>\n      <td>Spain</td>\n    </tr>\n    <tr>\n      <th>6</th>\n      <td>DK1</td>\n      <td>Denmark</td>\n    </tr>\n    <tr>\n      <th>7</th>\n      <td>FR1</td>\n      <td>France</td>\n    </tr>\n    <tr>\n      <th>8</th>\n      <td>BE1</td>\n      <td>Belgium</td>\n    </tr>\n    <tr>\n      <th>9</th>\n      <td>GB1</td>\n      <td>England</td>\n    </tr>\n    <tr>\n      <th>10</th>\n      <td>UKR1</td>\n      <td>Ukraine</td>\n    </tr>\n    <tr>\n      <th>11</th>\n      <td>TR1</td>\n      <td>Turkey</td>\n    </tr>\n    <tr>\n      <th>12</th>\n      <td>L1</td>\n      <td>Germany</td>\n    </tr>\n    <tr>\n      <th>13</th>\n      <td>SC1</td>\n      <td>Scotland</td>\n    </tr>\n  </tbody>\n</table>\n</div>"
     },
     "execution_count": 113,
     "metadata": {},
     "output_type": "execute_result"
    }
   ],
   "source": [
    "competitions = clean_competitions(get_competitions('../'))\n",
    "nations = (competitions[['domestic_league_code', 'country_name']].\n",
    "           drop_duplicates().query('not domestic_league_code.isnull()', engine='python')).reset_index(drop=True)\n",
    "competitions = None\n",
    "nations"
   ],
   "metadata": {
    "collapsed": false,
    "ExecuteTime": {
     "end_time": "2024-01-28T11:51:54.299034200Z",
     "start_time": "2024-01-28T11:51:54.228252600Z"
    }
   },
   "id": "33da9f28e89a25d6"
  },
  {
   "cell_type": "code",
   "execution_count": 114,
   "outputs": [
    {
     "data": {
      "text/plain": "0     https://github.com/lipis/flag-icons/blob/main/...\n1     https://github.com/lipis/flag-icons/blob/main/...\n2     https://github.com/lipis/flag-icons/blob/main/...\n3     https://github.com/lipis/flag-icons/blob/main/...\n4     https://github.com/lipis/flag-icons/blob/main/...\n5     https://github.com/lipis/flag-icons/blob/main/...\n6     https://github.com/lipis/flag-icons/blob/main/...\n7     https://github.com/lipis/flag-icons/blob/main/...\n8     https://github.com/lipis/flag-icons/blob/main/...\n9     https://github.com/lipis/flag-icons/blob/main/...\n10    https://github.com/lipis/flag-icons/blob/main/...\n11    https://github.com/lipis/flag-icons/blob/main/...\n12    https://github.com/lipis/flag-icons/blob/main/...\n13    https://github.com/lipis/flag-icons/blob/main/...\nName: flags, dtype: string"
     },
     "execution_count": 114,
     "metadata": {},
     "output_type": "execute_result"
    }
   ],
   "source": [
    "flag_url_list = [\n",
    "    'https://github.com/lipis/flag-icons/blob/main/flags/4x3/it.svg',\n",
    "    'https://github.com/lipis/flag-icons/blob/main/flags/4x3/nl.svg',\n",
    "    'https://github.com/lipis/flag-icons/blob/main/flags/4x3/gr.svg',\n",
    "    'https://github.com/lipis/flag-icons/blob/main/flags/4x3/pt.svg',\n",
    "    'https://github.com/lipis/flag-icons/blob/main/flags/4x3/ru.svg',\n",
    "    'https://github.com/lipis/flag-icons/blob/main/flags/4x3/es.svg',\n",
    "    'https://github.com/lipis/flag-icons/blob/main/flags/4x3/dk.svg',\n",
    "    'https://github.com/lipis/flag-icons/blob/main/flags/4x3/fr.svg',\n",
    "    'https://github.com/lipis/flag-icons/blob/main/flags/4x3/be.svg',\n",
    "    'https://github.com/lipis/flag-icons/blob/main/flags/4x3/gb.svg',\n",
    "    'https://github.com/lipis/flag-icons/blob/main/flags/4x3/ua.svg',\n",
    "    'https://github.com/lipis/flag-icons/blob/main/flags/4x3/tr.svg',\n",
    "    'https://github.com/lipis/flag-icons/blob/main/flags/4x3/de.svg',\n",
    "    'https://github.com/lipis/flag-icons/blob/main/flags/4x3/gb-sct.svg',\n",
    "]\n",
    "flag_series = pd.Series(flag_url_list).rename('flags', axis=0).astype('string')\n",
    "flag_series"
   ],
   "metadata": {
    "collapsed": false,
    "ExecuteTime": {
     "end_time": "2024-01-28T11:51:54.301034300Z",
     "start_time": "2024-01-28T11:51:54.265438300Z"
    }
   },
   "id": "201f0cc21ad5268d"
  },
  {
   "cell_type": "code",
   "execution_count": 115,
   "outputs": [
    {
     "data": {
      "text/plain": "   domestic_league_code country_name  \\\n0                   IT1        Italy   \n1                   NL1  Netherlands   \n2                   GR1       Greece   \n3                   PO1     Portugal   \n4                   RU1       Russia   \n5                   ES1        Spain   \n6                   DK1      Denmark   \n7                   FR1       France   \n8                   BE1      Belgium   \n9                   GB1      England   \n10                 UKR1      Ukraine   \n11                  TR1       Turkey   \n12                   L1      Germany   \n13                  SC1     Scotland   \n\n                                                flags  \n0   https://github.com/lipis/flag-icons/blob/main/...  \n1   https://github.com/lipis/flag-icons/blob/main/...  \n2   https://github.com/lipis/flag-icons/blob/main/...  \n3   https://github.com/lipis/flag-icons/blob/main/...  \n4   https://github.com/lipis/flag-icons/blob/main/...  \n5   https://github.com/lipis/flag-icons/blob/main/...  \n6   https://github.com/lipis/flag-icons/blob/main/...  \n7   https://github.com/lipis/flag-icons/blob/main/...  \n8   https://github.com/lipis/flag-icons/blob/main/...  \n9   https://github.com/lipis/flag-icons/blob/main/...  \n10  https://github.com/lipis/flag-icons/blob/main/...  \n11  https://github.com/lipis/flag-icons/blob/main/...  \n12  https://github.com/lipis/flag-icons/blob/main/...  \n13  https://github.com/lipis/flag-icons/blob/main/...  ",
      "text/html": "<div>\n<style scoped>\n    .dataframe tbody tr th:only-of-type {\n        vertical-align: middle;\n    }\n\n    .dataframe tbody tr th {\n        vertical-align: top;\n    }\n\n    .dataframe thead th {\n        text-align: right;\n    }\n</style>\n<table border=\"1\" class=\"dataframe\">\n  <thead>\n    <tr style=\"text-align: right;\">\n      <th></th>\n      <th>domestic_league_code</th>\n      <th>country_name</th>\n      <th>flags</th>\n    </tr>\n  </thead>\n  <tbody>\n    <tr>\n      <th>0</th>\n      <td>IT1</td>\n      <td>Italy</td>\n      <td>https://github.com/lipis/flag-icons/blob/main/...</td>\n    </tr>\n    <tr>\n      <th>1</th>\n      <td>NL1</td>\n      <td>Netherlands</td>\n      <td>https://github.com/lipis/flag-icons/blob/main/...</td>\n    </tr>\n    <tr>\n      <th>2</th>\n      <td>GR1</td>\n      <td>Greece</td>\n      <td>https://github.com/lipis/flag-icons/blob/main/...</td>\n    </tr>\n    <tr>\n      <th>3</th>\n      <td>PO1</td>\n      <td>Portugal</td>\n      <td>https://github.com/lipis/flag-icons/blob/main/...</td>\n    </tr>\n    <tr>\n      <th>4</th>\n      <td>RU1</td>\n      <td>Russia</td>\n      <td>https://github.com/lipis/flag-icons/blob/main/...</td>\n    </tr>\n    <tr>\n      <th>5</th>\n      <td>ES1</td>\n      <td>Spain</td>\n      <td>https://github.com/lipis/flag-icons/blob/main/...</td>\n    </tr>\n    <tr>\n      <th>6</th>\n      <td>DK1</td>\n      <td>Denmark</td>\n      <td>https://github.com/lipis/flag-icons/blob/main/...</td>\n    </tr>\n    <tr>\n      <th>7</th>\n      <td>FR1</td>\n      <td>France</td>\n      <td>https://github.com/lipis/flag-icons/blob/main/...</td>\n    </tr>\n    <tr>\n      <th>8</th>\n      <td>BE1</td>\n      <td>Belgium</td>\n      <td>https://github.com/lipis/flag-icons/blob/main/...</td>\n    </tr>\n    <tr>\n      <th>9</th>\n      <td>GB1</td>\n      <td>England</td>\n      <td>https://github.com/lipis/flag-icons/blob/main/...</td>\n    </tr>\n    <tr>\n      <th>10</th>\n      <td>UKR1</td>\n      <td>Ukraine</td>\n      <td>https://github.com/lipis/flag-icons/blob/main/...</td>\n    </tr>\n    <tr>\n      <th>11</th>\n      <td>TR1</td>\n      <td>Turkey</td>\n      <td>https://github.com/lipis/flag-icons/blob/main/...</td>\n    </tr>\n    <tr>\n      <th>12</th>\n      <td>L1</td>\n      <td>Germany</td>\n      <td>https://github.com/lipis/flag-icons/blob/main/...</td>\n    </tr>\n    <tr>\n      <th>13</th>\n      <td>SC1</td>\n      <td>Scotland</td>\n      <td>https://github.com/lipis/flag-icons/blob/main/...</td>\n    </tr>\n  </tbody>\n</table>\n</div>"
     },
     "execution_count": 115,
     "metadata": {},
     "output_type": "execute_result"
    }
   ],
   "source": [
    "nations = nations.join(flag_series, how='outer')\n",
    "flag_series = None\n",
    "nations "
   ],
   "metadata": {
    "collapsed": false,
    "ExecuteTime": {
     "end_time": "2024-01-28T11:51:54.318038200Z",
     "start_time": "2024-01-28T11:51:54.275096800Z"
    }
   },
   "id": "fb387cffce70e185"
  }
 ],
 "metadata": {
  "kernelspec": {
   "display_name": "Python 3",
   "language": "python",
   "name": "python3"
  },
  "language_info": {
   "codemirror_mode": {
    "name": "ipython",
    "version": 2
   },
   "file_extension": ".py",
   "mimetype": "text/x-python",
   "name": "python",
   "nbconvert_exporter": "python",
   "pygments_lexer": "ipython2",
   "version": "2.7.6"
  }
 },
 "nbformat": 4,
 "nbformat_minor": 5
}

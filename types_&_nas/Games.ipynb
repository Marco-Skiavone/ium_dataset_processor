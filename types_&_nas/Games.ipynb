{
 "cells": [
  {
   "cell_type": "code",
   "execution_count": 2,
   "id": "initial_id",
   "metadata": {
    "collapsed": true,
    "ExecuteTime": {
     "end_time": "2023-12-18T18:17:49.688699200Z",
     "start_time": "2023-12-18T18:17:47.628097800Z"
    }
   },
   "outputs": [],
   "source": [
    "from modules.module_for_imports import *"
   ]
  },
  {
   "cell_type": "markdown",
   "source": [
    "# Games analysis"
   ],
   "metadata": {
    "collapsed": false
   },
   "id": "558da999113ea324"
  },
  {
   "cell_type": "code",
   "execution_count": 3,
   "outputs": [
    {
     "name": "stdout",
     "output_type": "stream",
     "text": [
      "<class 'pandas.core.frame.DataFrame'>\n",
      "RangeIndex: 65216 entries, 0 to 65215\n",
      "Data columns (total 23 columns):\n",
      " #   Column                  Non-Null Count  Dtype  \n",
      "---  ------                  --------------  -----  \n",
      " 0   game_id                 65216 non-null  int64  \n",
      " 1   competition_id          65216 non-null  object \n",
      " 2   season                  65216 non-null  int64  \n",
      " 3   round                   65216 non-null  object \n",
      " 4   date                    65216 non-null  object \n",
      " 5   home_club_id            65216 non-null  int64  \n",
      " 6   away_club_id            65216 non-null  int64  \n",
      " 7   home_club_goals         65216 non-null  int64  \n",
      " 8   away_club_goals         65216 non-null  int64  \n",
      " 9   home_club_position      45762 non-null  float64\n",
      " 10  away_club_position      45762 non-null  float64\n",
      " 11  home_club_manager_name  64474 non-null  object \n",
      " 12  away_club_manager_name  64474 non-null  object \n",
      " 13  stadium                 65005 non-null  object \n",
      " 14  attendance              55704 non-null  float64\n",
      " 15  referee                 64622 non-null  object \n",
      " 16  url                     65216 non-null  object \n",
      " 17  home_club_formation     2869 non-null   object \n",
      " 18  away_club_formation     2888 non-null   object \n",
      " 19  home_club_name          53964 non-null  object \n",
      " 20  away_club_name          55167 non-null  object \n",
      " 21  aggregate               65216 non-null  object \n",
      " 22  competition_type        65216 non-null  object \n",
      "dtypes: float64(3), int64(6), object(14)\n",
      "memory usage: 11.4+ MB\n"
     ]
    }
   ],
   "source": [
    "games = pd.read_csv('../Assignment_Data_2023-2024/games.csv')\n",
    "games.info()"
   ],
   "metadata": {
    "collapsed": false,
    "ExecuteTime": {
     "end_time": "2023-12-18T18:17:49.973825500Z",
     "start_time": "2023-12-18T18:17:49.690699Z"
    }
   },
   "id": "1a3cf3a3d8be51f0"
  },
  {
   "cell_type": "markdown",
   "source": [
    "> ### We try to see if games have all the competitions or a part of it. It links with clubs and appearance, competition is obviously intended."
   ],
   "metadata": {
    "collapsed": false
   },
   "id": "b087e96ea905a497"
  },
  {
   "cell_type": "code",
   "execution_count": 4,
   "outputs": [
    {
     "name": "stdout",
     "output_type": "stream",
     "text": [
      "<class 'pandas.core.frame.DataFrame'>\n",
      "RangeIndex: 43 entries, 0 to 42\n",
      "Data columns (total 10 columns):\n",
      " #   Column                Non-Null Count  Dtype \n",
      "---  ------                --------------  ----- \n",
      " 0   competition_id        43 non-null     object\n",
      " 1   competition_code      43 non-null     object\n",
      " 2   name                  43 non-null     object\n",
      " 3   sub_type              43 non-null     object\n",
      " 4   type                  43 non-null     object\n",
      " 5   country_id            43 non-null     int64 \n",
      " 6   country_name          36 non-null     object\n",
      " 7   domestic_league_code  36 non-null     object\n",
      " 8   confederation         43 non-null     object\n",
      " 9   url                   43 non-null     object\n",
      "dtypes: int64(1), object(9)\n",
      "memory usage: 3.5+ KB\n"
     ]
    }
   ],
   "source": [
    "competitions = pd.read_csv('../Assignment_Data_2023-2024/competitions.csv')\n",
    "competitions.info()"
   ],
   "metadata": {
    "collapsed": false,
    "ExecuteTime": {
     "end_time": "2023-12-18T18:17:49.992828700Z",
     "start_time": "2023-12-18T18:17:49.976825400Z"
    }
   },
   "id": "f961ad319c4c08a5"
  },
  {
   "cell_type": "code",
   "execution_count": 5,
   "outputs": [
    {
     "data": {
      "text/plain": "43"
     },
     "execution_count": 5,
     "metadata": {},
     "output_type": "execute_result"
    }
   ],
   "source": [
    "games['competition_id'].drop_duplicates().isin(competitions['competition_id']).sum()"
   ],
   "metadata": {
    "collapsed": false,
    "ExecuteTime": {
     "end_time": "2023-12-18T18:17:50.045004100Z",
     "start_time": "2023-12-18T18:17:49.991825100Z"
    }
   },
   "id": "c2f3d13d333260c"
  },
  {
   "cell_type": "code",
   "execution_count": 6,
   "outputs": [
    {
     "data": {
      "text/plain": "(43,)"
     },
     "execution_count": 6,
     "metadata": {},
     "output_type": "execute_result"
    }
   ],
   "source": [
    "games['competition_id'].drop_duplicates().shape"
   ],
   "metadata": {
    "collapsed": false,
    "ExecuteTime": {
     "end_time": "2023-12-18T18:17:50.060932400Z",
     "start_time": "2023-12-18T18:17:50.002827Z"
    }
   },
   "id": "ff1e2b1913517c10"
  },
  {
   "cell_type": "code",
   "execution_count": 7,
   "outputs": [
    {
     "data": {
      "text/plain": "   competition_id domestic_league_code\n0             CIT                  IT1\n1            NLSC                  NL1\n2             GRP                  GR1\n3            POSU                  PO1\n4            RUSS                  RU1\n5             SUC                  ES1\n6             USC                  NaN\n7             DK1                  DK1\n8              EL                  NaN\n9             ES1                  ES1\n10            FR1                  FR1\n11            IT1                  IT1\n12            NL1                  NL1\n13            RUP                  RU1\n14            PO1                  PO1\n15           BESC                  BE1\n16            GB1                  GB1\n17            ELQ                  NaN\n18            CGB                  GB1\n19            DKP                  DK1\n20           ECLQ                  NaN\n21            FAC                  GB1\n22            NLP                  NL1\n23           UKRS                 UKR1\n24           UKR1                 UKR1\n25            CDR                  ES1\n26             CL                  NaN\n27            GR1                  GR1\n28            TR1                  TR1\n29           POCP                  PO1\n30           GBCS                  GB1\n31           KLUB                  NaN\n32             L1                   L1\n33            RU1                  RU1\n34            SC1                  SC1\n35            SCI                  IT1\n36            BE1                  BE1\n37            CLQ                  NaN\n38            DFL                   L1\n39            SFA                  SC1\n40           UKRP                 UKR1\n41            DFB                   L1\n42           FRCH                  FR1",
      "text/html": "<div>\n<style scoped>\n    .dataframe tbody tr th:only-of-type {\n        vertical-align: middle;\n    }\n\n    .dataframe tbody tr th {\n        vertical-align: top;\n    }\n\n    .dataframe thead th {\n        text-align: right;\n    }\n</style>\n<table border=\"1\" class=\"dataframe\">\n  <thead>\n    <tr style=\"text-align: right;\">\n      <th></th>\n      <th>competition_id</th>\n      <th>domestic_league_code</th>\n    </tr>\n  </thead>\n  <tbody>\n    <tr>\n      <th>0</th>\n      <td>CIT</td>\n      <td>IT1</td>\n    </tr>\n    <tr>\n      <th>1</th>\n      <td>NLSC</td>\n      <td>NL1</td>\n    </tr>\n    <tr>\n      <th>2</th>\n      <td>GRP</td>\n      <td>GR1</td>\n    </tr>\n    <tr>\n      <th>3</th>\n      <td>POSU</td>\n      <td>PO1</td>\n    </tr>\n    <tr>\n      <th>4</th>\n      <td>RUSS</td>\n      <td>RU1</td>\n    </tr>\n    <tr>\n      <th>5</th>\n      <td>SUC</td>\n      <td>ES1</td>\n    </tr>\n    <tr>\n      <th>6</th>\n      <td>USC</td>\n      <td>NaN</td>\n    </tr>\n    <tr>\n      <th>7</th>\n      <td>DK1</td>\n      <td>DK1</td>\n    </tr>\n    <tr>\n      <th>8</th>\n      <td>EL</td>\n      <td>NaN</td>\n    </tr>\n    <tr>\n      <th>9</th>\n      <td>ES1</td>\n      <td>ES1</td>\n    </tr>\n    <tr>\n      <th>10</th>\n      <td>FR1</td>\n      <td>FR1</td>\n    </tr>\n    <tr>\n      <th>11</th>\n      <td>IT1</td>\n      <td>IT1</td>\n    </tr>\n    <tr>\n      <th>12</th>\n      <td>NL1</td>\n      <td>NL1</td>\n    </tr>\n    <tr>\n      <th>13</th>\n      <td>RUP</td>\n      <td>RU1</td>\n    </tr>\n    <tr>\n      <th>14</th>\n      <td>PO1</td>\n      <td>PO1</td>\n    </tr>\n    <tr>\n      <th>15</th>\n      <td>BESC</td>\n      <td>BE1</td>\n    </tr>\n    <tr>\n      <th>16</th>\n      <td>GB1</td>\n      <td>GB1</td>\n    </tr>\n    <tr>\n      <th>17</th>\n      <td>ELQ</td>\n      <td>NaN</td>\n    </tr>\n    <tr>\n      <th>18</th>\n      <td>CGB</td>\n      <td>GB1</td>\n    </tr>\n    <tr>\n      <th>19</th>\n      <td>DKP</td>\n      <td>DK1</td>\n    </tr>\n    <tr>\n      <th>20</th>\n      <td>ECLQ</td>\n      <td>NaN</td>\n    </tr>\n    <tr>\n      <th>21</th>\n      <td>FAC</td>\n      <td>GB1</td>\n    </tr>\n    <tr>\n      <th>22</th>\n      <td>NLP</td>\n      <td>NL1</td>\n    </tr>\n    <tr>\n      <th>23</th>\n      <td>UKRS</td>\n      <td>UKR1</td>\n    </tr>\n    <tr>\n      <th>24</th>\n      <td>UKR1</td>\n      <td>UKR1</td>\n    </tr>\n    <tr>\n      <th>25</th>\n      <td>CDR</td>\n      <td>ES1</td>\n    </tr>\n    <tr>\n      <th>26</th>\n      <td>CL</td>\n      <td>NaN</td>\n    </tr>\n    <tr>\n      <th>27</th>\n      <td>GR1</td>\n      <td>GR1</td>\n    </tr>\n    <tr>\n      <th>28</th>\n      <td>TR1</td>\n      <td>TR1</td>\n    </tr>\n    <tr>\n      <th>29</th>\n      <td>POCP</td>\n      <td>PO1</td>\n    </tr>\n    <tr>\n      <th>30</th>\n      <td>GBCS</td>\n      <td>GB1</td>\n    </tr>\n    <tr>\n      <th>31</th>\n      <td>KLUB</td>\n      <td>NaN</td>\n    </tr>\n    <tr>\n      <th>32</th>\n      <td>L1</td>\n      <td>L1</td>\n    </tr>\n    <tr>\n      <th>33</th>\n      <td>RU1</td>\n      <td>RU1</td>\n    </tr>\n    <tr>\n      <th>34</th>\n      <td>SC1</td>\n      <td>SC1</td>\n    </tr>\n    <tr>\n      <th>35</th>\n      <td>SCI</td>\n      <td>IT1</td>\n    </tr>\n    <tr>\n      <th>36</th>\n      <td>BE1</td>\n      <td>BE1</td>\n    </tr>\n    <tr>\n      <th>37</th>\n      <td>CLQ</td>\n      <td>NaN</td>\n    </tr>\n    <tr>\n      <th>38</th>\n      <td>DFL</td>\n      <td>L1</td>\n    </tr>\n    <tr>\n      <th>39</th>\n      <td>SFA</td>\n      <td>SC1</td>\n    </tr>\n    <tr>\n      <th>40</th>\n      <td>UKRP</td>\n      <td>UKR1</td>\n    </tr>\n    <tr>\n      <th>41</th>\n      <td>DFB</td>\n      <td>L1</td>\n    </tr>\n    <tr>\n      <th>42</th>\n      <td>FRCH</td>\n      <td>FR1</td>\n    </tr>\n  </tbody>\n</table>\n</div>"
     },
     "execution_count": 7,
     "metadata": {},
     "output_type": "execute_result"
    }
   ],
   "source": [
    "competitions[['competition_id', 'domestic_league_code']]"
   ],
   "metadata": {
    "collapsed": false,
    "ExecuteTime": {
     "end_time": "2023-12-18T18:17:50.064934Z",
     "start_time": "2023-12-18T18:17:50.022825600Z"
    }
   },
   "id": "e3e6574f84ebae43"
  },
  {
   "cell_type": "code",
   "execution_count": 8,
   "outputs": [
    {
     "data": {
      "text/plain": "       game_id competition_id  season  round        date  home_club_id  \\\n26029  4082955           NLSC    2023  Final  2023-08-04           234   \n26266  3605432           NLSC    2021  Final  2021-08-07           610   \n27293  2594063           NLSC    2015  Final  2015-08-02           202   \n27637  2697911           NLSC    2016  Final  2016-07-31           234   \n35766  2457642           NLSC    2014  Final  2014-08-03          1269   \n36402  2864947           NLSC    2017  Final  2017-08-05           234   \n49754  2317258           NLSC    2013  Final  2013-07-27          1090   \n56943  3224106           NLSC    2019  Final  2019-07-27           610   \n57683  3837323           NLSC    2022  Final  2022-07-30           610   \n64313  2211607           NLSC    2012  Final  2012-08-05           383   \n64568  3055009           NLSC    2018  Final  2018-08-04           383   \n\n       away_club_id  home_club_goals  away_club_goals  home_club_position  \\\n26029           383                0                1                 NaN   \n26266           383                0                4                 NaN   \n27293           383                0                3                 NaN   \n27637           383                0                1                 NaN   \n35766           610                1                0                 NaN   \n36402           499                5                3                 NaN   \n49754           610                2                3                 NaN   \n56943           383                2                0                 NaN   \n57683           383                3                5                 NaN   \n64313           610                4                2                 NaN   \n64568           234                6                7                 NaN   \n\n       ...                      stadium attendance           referee  \\\n26029  ...  Stadion Feyenoord \"De Kuip\"    47500.0   Allard Lindhout   \n26266  ...          Johan Cruijff ArenA    25000.0     Björn Kuipers   \n27293  ...          Johan Cruijff ArenA    24000.0       Bas Nijhuis   \n27637  ...          Johan Cruijff ArenA    30000.0  Serdar Gözübüyük   \n35766  ...          Johan Cruijff ArenA    42000.0    Danny Makkelie   \n36402  ...  Stadion Feyenoord \"De Kuip\"    47500.0    Danny Makkelie   \n49754  ...          Johan Cruijff ArenA    47000.0  Richard Liesveld   \n56943  ...          Johan Cruijff ArenA    51837.0     Dennis Higler   \n57683  ...          Johan Cruijff ArenA    52000.0     Dennis Higler   \n64313  ...          Johan Cruijff ArenA    50000.0     Björn Kuipers   \n64568  ...              Philips Stadion    35000.0  Serdar Gözübüyük   \n\n                                                     url  home_club_formation  \\\n26029  https://www.transfermarkt.co.uk/spielbericht/i...      4-3-3 Defending   \n26266  https://www.transfermarkt.co.uk/spielbericht/i...                  NaN   \n27293  https://www.transfermarkt.co.uk/spielbericht/i...                  NaN   \n27637  https://www.transfermarkt.co.uk/spielbericht/i...                  NaN   \n35766  https://www.transfermarkt.co.uk/spielbericht/i...                  NaN   \n36402  https://www.transfermarkt.co.uk/spielbericht/i...                  NaN   \n49754  https://www.transfermarkt.co.uk/spielbericht/i...                  NaN   \n56943  https://www.transfermarkt.co.uk/spielbericht/i...                  NaN   \n57683  https://www.transfermarkt.co.uk/spielbericht/i...                  NaN   \n64313  https://www.transfermarkt.co.uk/spielbericht/i...                  NaN   \n64568  https://www.transfermarkt.co.uk/spielbericht/i...                  NaN   \n\n      away_club_formation                                     home_club_name  \\\n26029     4-3-3 Attacking                                Feyenoord Rotterdam   \n26266                 NaN                                 AFC Ajax Amsterdam   \n27293                 NaN                                       FC Groningen   \n27637                 NaN                                Feyenoord Rotterdam   \n35766                 NaN  Prins Hendrik Ende Desespereert Nimmer Combina...   \n36402                 NaN                                Feyenoord Rotterdam   \n49754                 NaN                                 Alkmaar Zaanstreek   \n56943                 NaN                                 AFC Ajax Amsterdam   \n57683                 NaN                                 AFC Ajax Amsterdam   \n64313                 NaN  Eindhovense Voetbalvereniging Philips Sport Ve...   \n64568                 NaN  Eindhovense Voetbalvereniging Philips Sport Ve...   \n\n                                          away_club_name aggregate  \\\n26029  Eindhovense Voetbalvereniging Philips Sport Ve...       0:1   \n26266  Eindhovense Voetbalvereniging Philips Sport Ve...       0:4   \n27293  Eindhovense Voetbalvereniging Philips Sport Ve...       0:3   \n27637  Eindhovense Voetbalvereniging Philips Sport Ve...       0:1   \n35766                                 AFC Ajax Amsterdam       1:0   \n36402           Stichting Betaald Voetbal Vitesse Arnhem       5:3   \n49754                                 AFC Ajax Amsterdam       2:3   \n56943  Eindhovense Voetbalvereniging Philips Sport Ve...       2:0   \n57683  Eindhovense Voetbalvereniging Philips Sport Ve...       3:5   \n64313                                 AFC Ajax Amsterdam       4:2   \n64568                                Feyenoord Rotterdam       6:7   \n\n      competition_type  \n26029            other  \n26266            other  \n27293            other  \n27637            other  \n35766            other  \n36402            other  \n49754            other  \n56943            other  \n57683            other  \n64313            other  \n64568            other  \n\n[11 rows x 23 columns]",
      "text/html": "<div>\n<style scoped>\n    .dataframe tbody tr th:only-of-type {\n        vertical-align: middle;\n    }\n\n    .dataframe tbody tr th {\n        vertical-align: top;\n    }\n\n    .dataframe thead th {\n        text-align: right;\n    }\n</style>\n<table border=\"1\" class=\"dataframe\">\n  <thead>\n    <tr style=\"text-align: right;\">\n      <th></th>\n      <th>game_id</th>\n      <th>competition_id</th>\n      <th>season</th>\n      <th>round</th>\n      <th>date</th>\n      <th>home_club_id</th>\n      <th>away_club_id</th>\n      <th>home_club_goals</th>\n      <th>away_club_goals</th>\n      <th>home_club_position</th>\n      <th>...</th>\n      <th>stadium</th>\n      <th>attendance</th>\n      <th>referee</th>\n      <th>url</th>\n      <th>home_club_formation</th>\n      <th>away_club_formation</th>\n      <th>home_club_name</th>\n      <th>away_club_name</th>\n      <th>aggregate</th>\n      <th>competition_type</th>\n    </tr>\n  </thead>\n  <tbody>\n    <tr>\n      <th>26029</th>\n      <td>4082955</td>\n      <td>NLSC</td>\n      <td>2023</td>\n      <td>Final</td>\n      <td>2023-08-04</td>\n      <td>234</td>\n      <td>383</td>\n      <td>0</td>\n      <td>1</td>\n      <td>NaN</td>\n      <td>...</td>\n      <td>Stadion Feyenoord \"De Kuip\"</td>\n      <td>47500.0</td>\n      <td>Allard Lindhout</td>\n      <td>https://www.transfermarkt.co.uk/spielbericht/i...</td>\n      <td>4-3-3 Defending</td>\n      <td>4-3-3 Attacking</td>\n      <td>Feyenoord Rotterdam</td>\n      <td>Eindhovense Voetbalvereniging Philips Sport Ve...</td>\n      <td>0:1</td>\n      <td>other</td>\n    </tr>\n    <tr>\n      <th>26266</th>\n      <td>3605432</td>\n      <td>NLSC</td>\n      <td>2021</td>\n      <td>Final</td>\n      <td>2021-08-07</td>\n      <td>610</td>\n      <td>383</td>\n      <td>0</td>\n      <td>4</td>\n      <td>NaN</td>\n      <td>...</td>\n      <td>Johan Cruijff ArenA</td>\n      <td>25000.0</td>\n      <td>Björn Kuipers</td>\n      <td>https://www.transfermarkt.co.uk/spielbericht/i...</td>\n      <td>NaN</td>\n      <td>NaN</td>\n      <td>AFC Ajax Amsterdam</td>\n      <td>Eindhovense Voetbalvereniging Philips Sport Ve...</td>\n      <td>0:4</td>\n      <td>other</td>\n    </tr>\n    <tr>\n      <th>27293</th>\n      <td>2594063</td>\n      <td>NLSC</td>\n      <td>2015</td>\n      <td>Final</td>\n      <td>2015-08-02</td>\n      <td>202</td>\n      <td>383</td>\n      <td>0</td>\n      <td>3</td>\n      <td>NaN</td>\n      <td>...</td>\n      <td>Johan Cruijff ArenA</td>\n      <td>24000.0</td>\n      <td>Bas Nijhuis</td>\n      <td>https://www.transfermarkt.co.uk/spielbericht/i...</td>\n      <td>NaN</td>\n      <td>NaN</td>\n      <td>FC Groningen</td>\n      <td>Eindhovense Voetbalvereniging Philips Sport Ve...</td>\n      <td>0:3</td>\n      <td>other</td>\n    </tr>\n    <tr>\n      <th>27637</th>\n      <td>2697911</td>\n      <td>NLSC</td>\n      <td>2016</td>\n      <td>Final</td>\n      <td>2016-07-31</td>\n      <td>234</td>\n      <td>383</td>\n      <td>0</td>\n      <td>1</td>\n      <td>NaN</td>\n      <td>...</td>\n      <td>Johan Cruijff ArenA</td>\n      <td>30000.0</td>\n      <td>Serdar Gözübüyük</td>\n      <td>https://www.transfermarkt.co.uk/spielbericht/i...</td>\n      <td>NaN</td>\n      <td>NaN</td>\n      <td>Feyenoord Rotterdam</td>\n      <td>Eindhovense Voetbalvereniging Philips Sport Ve...</td>\n      <td>0:1</td>\n      <td>other</td>\n    </tr>\n    <tr>\n      <th>35766</th>\n      <td>2457642</td>\n      <td>NLSC</td>\n      <td>2014</td>\n      <td>Final</td>\n      <td>2014-08-03</td>\n      <td>1269</td>\n      <td>610</td>\n      <td>1</td>\n      <td>0</td>\n      <td>NaN</td>\n      <td>...</td>\n      <td>Johan Cruijff ArenA</td>\n      <td>42000.0</td>\n      <td>Danny Makkelie</td>\n      <td>https://www.transfermarkt.co.uk/spielbericht/i...</td>\n      <td>NaN</td>\n      <td>NaN</td>\n      <td>Prins Hendrik Ende Desespereert Nimmer Combina...</td>\n      <td>AFC Ajax Amsterdam</td>\n      <td>1:0</td>\n      <td>other</td>\n    </tr>\n    <tr>\n      <th>36402</th>\n      <td>2864947</td>\n      <td>NLSC</td>\n      <td>2017</td>\n      <td>Final</td>\n      <td>2017-08-05</td>\n      <td>234</td>\n      <td>499</td>\n      <td>5</td>\n      <td>3</td>\n      <td>NaN</td>\n      <td>...</td>\n      <td>Stadion Feyenoord \"De Kuip\"</td>\n      <td>47500.0</td>\n      <td>Danny Makkelie</td>\n      <td>https://www.transfermarkt.co.uk/spielbericht/i...</td>\n      <td>NaN</td>\n      <td>NaN</td>\n      <td>Feyenoord Rotterdam</td>\n      <td>Stichting Betaald Voetbal Vitesse Arnhem</td>\n      <td>5:3</td>\n      <td>other</td>\n    </tr>\n    <tr>\n      <th>49754</th>\n      <td>2317258</td>\n      <td>NLSC</td>\n      <td>2013</td>\n      <td>Final</td>\n      <td>2013-07-27</td>\n      <td>1090</td>\n      <td>610</td>\n      <td>2</td>\n      <td>3</td>\n      <td>NaN</td>\n      <td>...</td>\n      <td>Johan Cruijff ArenA</td>\n      <td>47000.0</td>\n      <td>Richard Liesveld</td>\n      <td>https://www.transfermarkt.co.uk/spielbericht/i...</td>\n      <td>NaN</td>\n      <td>NaN</td>\n      <td>Alkmaar Zaanstreek</td>\n      <td>AFC Ajax Amsterdam</td>\n      <td>2:3</td>\n      <td>other</td>\n    </tr>\n    <tr>\n      <th>56943</th>\n      <td>3224106</td>\n      <td>NLSC</td>\n      <td>2019</td>\n      <td>Final</td>\n      <td>2019-07-27</td>\n      <td>610</td>\n      <td>383</td>\n      <td>2</td>\n      <td>0</td>\n      <td>NaN</td>\n      <td>...</td>\n      <td>Johan Cruijff ArenA</td>\n      <td>51837.0</td>\n      <td>Dennis Higler</td>\n      <td>https://www.transfermarkt.co.uk/spielbericht/i...</td>\n      <td>NaN</td>\n      <td>NaN</td>\n      <td>AFC Ajax Amsterdam</td>\n      <td>Eindhovense Voetbalvereniging Philips Sport Ve...</td>\n      <td>2:0</td>\n      <td>other</td>\n    </tr>\n    <tr>\n      <th>57683</th>\n      <td>3837323</td>\n      <td>NLSC</td>\n      <td>2022</td>\n      <td>Final</td>\n      <td>2022-07-30</td>\n      <td>610</td>\n      <td>383</td>\n      <td>3</td>\n      <td>5</td>\n      <td>NaN</td>\n      <td>...</td>\n      <td>Johan Cruijff ArenA</td>\n      <td>52000.0</td>\n      <td>Dennis Higler</td>\n      <td>https://www.transfermarkt.co.uk/spielbericht/i...</td>\n      <td>NaN</td>\n      <td>NaN</td>\n      <td>AFC Ajax Amsterdam</td>\n      <td>Eindhovense Voetbalvereniging Philips Sport Ve...</td>\n      <td>3:5</td>\n      <td>other</td>\n    </tr>\n    <tr>\n      <th>64313</th>\n      <td>2211607</td>\n      <td>NLSC</td>\n      <td>2012</td>\n      <td>Final</td>\n      <td>2012-08-05</td>\n      <td>383</td>\n      <td>610</td>\n      <td>4</td>\n      <td>2</td>\n      <td>NaN</td>\n      <td>...</td>\n      <td>Johan Cruijff ArenA</td>\n      <td>50000.0</td>\n      <td>Björn Kuipers</td>\n      <td>https://www.transfermarkt.co.uk/spielbericht/i...</td>\n      <td>NaN</td>\n      <td>NaN</td>\n      <td>Eindhovense Voetbalvereniging Philips Sport Ve...</td>\n      <td>AFC Ajax Amsterdam</td>\n      <td>4:2</td>\n      <td>other</td>\n    </tr>\n    <tr>\n      <th>64568</th>\n      <td>3055009</td>\n      <td>NLSC</td>\n      <td>2018</td>\n      <td>Final</td>\n      <td>2018-08-04</td>\n      <td>383</td>\n      <td>234</td>\n      <td>6</td>\n      <td>7</td>\n      <td>NaN</td>\n      <td>...</td>\n      <td>Philips Stadion</td>\n      <td>35000.0</td>\n      <td>Serdar Gözübüyük</td>\n      <td>https://www.transfermarkt.co.uk/spielbericht/i...</td>\n      <td>NaN</td>\n      <td>NaN</td>\n      <td>Eindhovense Voetbalvereniging Philips Sport Ve...</td>\n      <td>Feyenoord Rotterdam</td>\n      <td>6:7</td>\n      <td>other</td>\n    </tr>\n  </tbody>\n</table>\n<p>11 rows × 23 columns</p>\n</div>"
     },
     "execution_count": 8,
     "metadata": {},
     "output_type": "execute_result"
    }
   ],
   "source": [
    "games.query('competition_id==\"NLSC\"')"
   ],
   "metadata": {
    "collapsed": false,
    "ExecuteTime": {
     "end_time": "2023-12-18T18:17:50.122941800Z",
     "start_time": "2023-12-18T18:17:50.048932800Z"
    }
   },
   "id": "8e2e760d5e46930c"
  }
 ],
 "metadata": {
  "kernelspec": {
   "display_name": "Python 3",
   "language": "python",
   "name": "python3"
  },
  "language_info": {
   "codemirror_mode": {
    "name": "ipython",
    "version": 2
   },
   "file_extension": ".py",
   "mimetype": "text/x-python",
   "name": "python",
   "nbconvert_exporter": "python",
   "pygments_lexer": "ipython2",
   "version": "2.7.6"
  }
 },
 "nbformat": 4,
 "nbformat_minor": 5
}

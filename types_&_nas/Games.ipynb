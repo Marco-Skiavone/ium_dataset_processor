{
 "cells": [
  {
   "cell_type": "code",
   "execution_count": null,
   "id": "initial_id",
   "metadata": {
    "collapsed": true
   },
   "outputs": [],
   "source": [
    "from modules.module_for_imports import *"
   ]
  },
  {
   "cell_type": "markdown",
   "source": [
    "# Games analysis"
   ],
   "metadata": {
    "collapsed": false
   },
   "id": "558da999113ea324"
  },
  {
   "cell_type": "code",
   "execution_count": null,
   "outputs": [],
   "source": [
    "games = pd.read_csv('../Assignment_Data_2023-2024/games.csv')\n",
    "games.info()"
   ],
   "metadata": {
    "collapsed": false
   },
   "id": "1a3cf3a3d8be51f0"
  },
  {
   "cell_type": "markdown",
   "source": [
    "> ### We try to see if games have all the competitions or a part of it. It links with clubs and appearance, competition is obviously intended."
   ],
   "metadata": {
    "collapsed": false
   },
   "id": "b087e96ea905a497"
  },
  {
   "cell_type": "code",
   "execution_count": null,
   "outputs": [],
   "source": [
    "competitions = pd.read_csv('../Assignment_Data_2023-2024/competitions.csv')\n",
    "competitions.info()"
   ],
   "metadata": {
    "collapsed": false
   },
   "id": "f961ad319c4c08a5"
  },
  {
   "cell_type": "code",
   "execution_count": null,
   "outputs": [],
   "source": [
    "games['competition_id'].drop_duplicates().isin(competitions['competition_id']).sum()"
   ],
   "metadata": {
    "collapsed": false
   },
   "id": "c2f3d13d333260c"
  },
  {
   "cell_type": "code",
   "execution_count": null,
   "outputs": [],
   "source": [
    "games['competition_id'].drop_duplicates().shape"
   ],
   "metadata": {
    "collapsed": false
   },
   "id": "ff1e2b1913517c10"
  },
  {
   "cell_type": "code",
   "execution_count": null,
   "outputs": [],
   "source": [
    "competitions[['competition_id', 'domestic_league_code']]"
   ],
   "metadata": {
    "collapsed": false
   },
   "id": "e3e6574f84ebae43"
  },
  {
   "cell_type": "code",
   "execution_count": null,
   "outputs": [],
   "source": [
    "games.query('competition_id==\"NLSC\"')"
   ],
   "metadata": {
    "collapsed": false
   },
   "id": "8e2e760d5e46930c"
  }
 ],
 "metadata": {
  "kernelspec": {
   "display_name": "Python 3",
   "language": "python",
   "name": "python3"
  },
  "language_info": {
   "codemirror_mode": {
    "name": "ipython",
    "version": 2
   },
   "file_extension": ".py",
   "mimetype": "text/x-python",
   "name": "python",
   "nbconvert_exporter": "python",
   "pygments_lexer": "ipython2",
   "version": "2.7.6"
  }
 },
 "nbformat": 4,
 "nbformat_minor": 5
}

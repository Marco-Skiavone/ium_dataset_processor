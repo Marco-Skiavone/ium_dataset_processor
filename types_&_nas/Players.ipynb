{
 "cells": [
  {
   "cell_type": "code",
   "execution_count": 4,
   "outputs": [],
   "source": [
    "from module_for_imports import *"
   ],
   "metadata": {
    "collapsed": false,
    "ExecuteTime": {
     "end_time": "2023-12-11T10:13:43.311151300Z",
     "start_time": "2023-12-11T10:13:43.272254100Z"
    }
   },
   "id": "cd3342478ddbf59f"
  },
  {
   "cell_type": "markdown",
   "source": [
    "# Players analysis <a class=\"anchor\" id=\"players-analysis\"></a>"
   ],
   "metadata": {
    "collapsed": false
   },
   "id": "5dcb5df1489d6e03"
  },
  {
   "cell_type": "code",
   "execution_count": 5,
   "outputs": [
    {
     "name": "stdout",
     "output_type": "stream",
     "text": [
      "<class 'pandas.core.frame.DataFrame'>\n",
      "Index: 30302 entries, 598 to 925584\n",
      "Data columns (total 22 columns):\n",
      " #   Column                                Non-Null Count  Dtype  \n",
      "---  ------                                --------------  -----  \n",
      " 0   first_name                            28337 non-null  object \n",
      " 1   last_name                             30302 non-null  object \n",
      " 2   name                                  30302 non-null  object \n",
      " 3   last_season                           30302 non-null  int64  \n",
      " 4   current_club_id                       30302 non-null  int64  \n",
      " 5   player_code                           30302 non-null  object \n",
      " 6   country_of_birth                      27613 non-null  object \n",
      " 7   city_of_birth                         28099 non-null  object \n",
      " 8   country_of_citizenship                29759 non-null  object \n",
      " 9   date_of_birth                         30255 non-null  object \n",
      " 10  sub_position                          30130 non-null  object \n",
      " 11  position                              30302 non-null  object \n",
      " 12  foot                                  27913 non-null  object \n",
      " 13  height_in_cm                          28204 non-null  float64\n",
      " 14  market_value_in_eur                   19383 non-null  float64\n",
      " 15  highest_market_value_in_eur           28981 non-null  float64\n",
      " 16  contract_expiration_date              18835 non-null  object \n",
      " 17  agent_name                            14941 non-null  object \n",
      " 18  image_url                             30302 non-null  object \n",
      " 19  url                                   30302 non-null  object \n",
      " 20  current_club_domestic_competition_id  30302 non-null  object \n",
      " 21  current_club_name                     30302 non-null  object \n",
      "dtypes: float64(3), int64(2), object(17)\n",
      "memory usage: 5.3+ MB\n"
     ]
    }
   ],
   "source": [
    "players = pd.read_csv('../Assignment_Data_2023-2024/players.csv')   \n",
    "# note:\n",
    "#the index_col=[0] avoids indexing the dataframe, so we save space and use the ids as index\n",
    "players.info()"
   ],
   "metadata": {
    "collapsed": false,
    "ExecuteTime": {
     "end_time": "2023-12-11T10:13:43.897096800Z",
     "start_time": "2023-12-11T10:13:43.315140400Z"
    }
   },
   "id": "39cdd21782830281"
  },
  {
   "cell_type": "code",
   "execution_count": 6,
   "outputs": [
    {
     "data": {
      "text/plain": "          first_name    last_name                name  last_season  \\\nplayer_id                                                            \n598             Timo   Hildebrand     Timo Hildebrand         2014   \n670           Martin       Petrov       Martin Petrov         2012   \n1323          Martin      Amedick      Martin Amedick         2012   \n3195        Jermaine      Pennant    Jermaine Pennant         2013   \n3259          Damien         Duff         Damien Duff         2013   \n...              ...          ...                 ...          ...   \n371851          Jaka        Bijol          Jaka Bijol         2023   \n537171        Semuel  Pizzignacco  Semuel Pizzignacco         2018   \n586756         Festy      Ebosele       Festy Ebosele         2023   \n704692        Nicolò      Cocetta      Nicolò Cocetta         2022   \n925584          Axel     Guessand       Axel Guessand         2023   \n\n           current_club_id         player_code country_of_birth  \\\nplayer_id                                                         \n598                     24     timo-hildebrand          Germany   \n670                    714       martin-petrov         Bulgaria   \n1323                    24      martin-amedick          Germany   \n3195                   512    jermaine-pennant          England   \n3259                   931         damien-duff          Ireland   \n...                    ...                 ...              ...   \n371851                 410          jaka-bijol         Slovenia   \n537171                 410  semuel-pizzignacco            Italy   \n586756                 410       festy-ebosele          Ireland   \n704692                 410      nicolo-cocetta            Italy   \n925584                 410       axel-guessand           France   \n\n                    city_of_birth country_of_citizenship date_of_birth  ...  \\\nplayer_id                                                               ...   \n598                         Worms                Germany    1979-04-05  ...   \n670                        Vratsa               Bulgaria    1979-01-15  ...   \n1323                    Paderborn                Germany    1982-09-06  ...   \n3195                   Nottingham                England    1983-01-15  ...   \n3259                   Ballyboden                Ireland    1979-03-02  ...   \n...                           ...                    ...           ...  ...   \n371851                   Vuzenica               Slovenia    1999-02-05  ...   \n537171                 Monfalcone                  Italy    2001-09-01  ...   \n586756       Enniscorthy, Wexford                Ireland    2002-08-02  ...   \n704692     San Daniele del Friuli                  Italy    2003-12-19  ...   \n925584               Schiltigheim                 France    2004-11-06  ...   \n\n            foot height_in_cm market_value_in_eur  \\\nplayer_id                                           \n598          NaN          NaN                 NaN   \n670          NaN          NaN                 NaN   \n1323         NaN          NaN                 NaN   \n3195       right        173.0                 NaN   \n3259        left        177.0                 NaN   \n...          ...          ...                 ...   \n371851     right        190.0          10000000.0   \n537171     right        188.0            325000.0   \n586756     right        180.0           4500000.0   \n704692       NaN          NaN             75000.0   \n925584      left        184.0            250000.0   \n\n           highest_market_value_in_eur  contract_expiration_date  \\\nplayer_id                                                          \n598                         10000000.0                       NaN   \n670                         12000000.0                       NaN   \n1323                         2750000.0                       NaN   \n3195                        10500000.0                       NaN   \n3259                        17000000.0                       NaN   \n...                                ...                       ...   \n371851                      10000000.0       2027-06-30 00:00:00   \n537171                        350000.0       2025-06-30 00:00:00   \n586756                       4500000.0       2027-06-30 00:00:00   \n704692                         75000.0       2023-06-30 00:00:00   \n925584                        300000.0       2027-06-30 00:00:00   \n\n                  agent_name  \\\nplayer_id                      \n598                      NaN   \n670                      IFM   \n1323                     NaN   \n3195              Andrew Sky   \n3259                     NaN   \n...                      ...   \n371851             MSC GROUP   \n537171                   NaN   \n586756     The Kulture Group   \n704692                   NaN   \n925584           CAA Stellar   \n\n                                                   image_url  \\\nplayer_id                                                      \n598        https://img.a.transfermarkt.technology/portrai...   \n670        https://img.a.transfermarkt.technology/portrai...   \n1323       https://img.a.transfermarkt.technology/portrai...   \n3195       https://img.a.transfermarkt.technology/portrai...   \n3259       https://img.a.transfermarkt.technology/portrai...   \n...                                                      ...   \n371851     https://img.a.transfermarkt.technology/portrai...   \n537171     https://img.a.transfermarkt.technology/portrai...   \n586756     https://img.a.transfermarkt.technology/portrai...   \n704692     https://img.a.transfermarkt.technology/portrai...   \n925584     https://img.a.transfermarkt.technology/portrai...   \n\n                                                         url  \\\nplayer_id                                                      \n598        https://www.transfermarkt.co.uk/timo-hildebran...   \n670        https://www.transfermarkt.co.uk/martin-petrov/...   \n1323       https://www.transfermarkt.co.uk/martin-amedick...   \n3195       https://www.transfermarkt.co.uk/jermaine-penna...   \n3259       https://www.transfermarkt.co.uk/damien-duff/pr...   \n...                                                      ...   \n371851     https://www.transfermarkt.co.uk/jaka-bijol/pro...   \n537171     https://www.transfermarkt.co.uk/semuel-pizzign...   \n586756     https://www.transfermarkt.co.uk/festy-ebosele/...   \n704692     https://www.transfermarkt.co.uk/nicolo-cocetta...   \n925584     https://www.transfermarkt.co.uk/axel-guessand/...   \n\n          current_club_domestic_competition_id       current_club_name  \nplayer_id                                                               \n598                                         L1     Eintracht Frankfurt  \n670                                        ES1  RCD Espanyol Barcelona  \n1323                                        L1     Eintracht Frankfurt  \n3195                                       GB1              Stoke City  \n3259                                       GB1               Fulham FC  \n...                                        ...                     ...  \n371851                                     IT1          Udinese Calcio  \n537171                                     IT1          Udinese Calcio  \n586756                                     IT1          Udinese Calcio  \n704692                                     IT1          Udinese Calcio  \n925584                                     IT1          Udinese Calcio  \n\n[30302 rows x 22 columns]",
      "text/html": "<div>\n<style scoped>\n    .dataframe tbody tr th:only-of-type {\n        vertical-align: middle;\n    }\n\n    .dataframe tbody tr th {\n        vertical-align: top;\n    }\n\n    .dataframe thead th {\n        text-align: right;\n    }\n</style>\n<table border=\"1\" class=\"dataframe\">\n  <thead>\n    <tr style=\"text-align: right;\">\n      <th></th>\n      <th>first_name</th>\n      <th>last_name</th>\n      <th>name</th>\n      <th>last_season</th>\n      <th>current_club_id</th>\n      <th>player_code</th>\n      <th>country_of_birth</th>\n      <th>city_of_birth</th>\n      <th>country_of_citizenship</th>\n      <th>date_of_birth</th>\n      <th>...</th>\n      <th>foot</th>\n      <th>height_in_cm</th>\n      <th>market_value_in_eur</th>\n      <th>highest_market_value_in_eur</th>\n      <th>contract_expiration_date</th>\n      <th>agent_name</th>\n      <th>image_url</th>\n      <th>url</th>\n      <th>current_club_domestic_competition_id</th>\n      <th>current_club_name</th>\n    </tr>\n    <tr>\n      <th>player_id</th>\n      <th></th>\n      <th></th>\n      <th></th>\n      <th></th>\n      <th></th>\n      <th></th>\n      <th></th>\n      <th></th>\n      <th></th>\n      <th></th>\n      <th></th>\n      <th></th>\n      <th></th>\n      <th></th>\n      <th></th>\n      <th></th>\n      <th></th>\n      <th></th>\n      <th></th>\n      <th></th>\n      <th></th>\n    </tr>\n  </thead>\n  <tbody>\n    <tr>\n      <th>598</th>\n      <td>Timo</td>\n      <td>Hildebrand</td>\n      <td>Timo Hildebrand</td>\n      <td>2014</td>\n      <td>24</td>\n      <td>timo-hildebrand</td>\n      <td>Germany</td>\n      <td>Worms</td>\n      <td>Germany</td>\n      <td>1979-04-05</td>\n      <td>...</td>\n      <td>NaN</td>\n      <td>NaN</td>\n      <td>NaN</td>\n      <td>10000000.0</td>\n      <td>NaN</td>\n      <td>NaN</td>\n      <td>https://img.a.transfermarkt.technology/portrai...</td>\n      <td>https://www.transfermarkt.co.uk/timo-hildebran...</td>\n      <td>L1</td>\n      <td>Eintracht Frankfurt</td>\n    </tr>\n    <tr>\n      <th>670</th>\n      <td>Martin</td>\n      <td>Petrov</td>\n      <td>Martin Petrov</td>\n      <td>2012</td>\n      <td>714</td>\n      <td>martin-petrov</td>\n      <td>Bulgaria</td>\n      <td>Vratsa</td>\n      <td>Bulgaria</td>\n      <td>1979-01-15</td>\n      <td>...</td>\n      <td>NaN</td>\n      <td>NaN</td>\n      <td>NaN</td>\n      <td>12000000.0</td>\n      <td>NaN</td>\n      <td>IFM</td>\n      <td>https://img.a.transfermarkt.technology/portrai...</td>\n      <td>https://www.transfermarkt.co.uk/martin-petrov/...</td>\n      <td>ES1</td>\n      <td>RCD Espanyol Barcelona</td>\n    </tr>\n    <tr>\n      <th>1323</th>\n      <td>Martin</td>\n      <td>Amedick</td>\n      <td>Martin Amedick</td>\n      <td>2012</td>\n      <td>24</td>\n      <td>martin-amedick</td>\n      <td>Germany</td>\n      <td>Paderborn</td>\n      <td>Germany</td>\n      <td>1982-09-06</td>\n      <td>...</td>\n      <td>NaN</td>\n      <td>NaN</td>\n      <td>NaN</td>\n      <td>2750000.0</td>\n      <td>NaN</td>\n      <td>NaN</td>\n      <td>https://img.a.transfermarkt.technology/portrai...</td>\n      <td>https://www.transfermarkt.co.uk/martin-amedick...</td>\n      <td>L1</td>\n      <td>Eintracht Frankfurt</td>\n    </tr>\n    <tr>\n      <th>3195</th>\n      <td>Jermaine</td>\n      <td>Pennant</td>\n      <td>Jermaine Pennant</td>\n      <td>2013</td>\n      <td>512</td>\n      <td>jermaine-pennant</td>\n      <td>England</td>\n      <td>Nottingham</td>\n      <td>England</td>\n      <td>1983-01-15</td>\n      <td>...</td>\n      <td>right</td>\n      <td>173.0</td>\n      <td>NaN</td>\n      <td>10500000.0</td>\n      <td>NaN</td>\n      <td>Andrew Sky</td>\n      <td>https://img.a.transfermarkt.technology/portrai...</td>\n      <td>https://www.transfermarkt.co.uk/jermaine-penna...</td>\n      <td>GB1</td>\n      <td>Stoke City</td>\n    </tr>\n    <tr>\n      <th>3259</th>\n      <td>Damien</td>\n      <td>Duff</td>\n      <td>Damien Duff</td>\n      <td>2013</td>\n      <td>931</td>\n      <td>damien-duff</td>\n      <td>Ireland</td>\n      <td>Ballyboden</td>\n      <td>Ireland</td>\n      <td>1979-03-02</td>\n      <td>...</td>\n      <td>left</td>\n      <td>177.0</td>\n      <td>NaN</td>\n      <td>17000000.0</td>\n      <td>NaN</td>\n      <td>NaN</td>\n      <td>https://img.a.transfermarkt.technology/portrai...</td>\n      <td>https://www.transfermarkt.co.uk/damien-duff/pr...</td>\n      <td>GB1</td>\n      <td>Fulham FC</td>\n    </tr>\n    <tr>\n      <th>...</th>\n      <td>...</td>\n      <td>...</td>\n      <td>...</td>\n      <td>...</td>\n      <td>...</td>\n      <td>...</td>\n      <td>...</td>\n      <td>...</td>\n      <td>...</td>\n      <td>...</td>\n      <td>...</td>\n      <td>...</td>\n      <td>...</td>\n      <td>...</td>\n      <td>...</td>\n      <td>...</td>\n      <td>...</td>\n      <td>...</td>\n      <td>...</td>\n      <td>...</td>\n      <td>...</td>\n    </tr>\n    <tr>\n      <th>371851</th>\n      <td>Jaka</td>\n      <td>Bijol</td>\n      <td>Jaka Bijol</td>\n      <td>2023</td>\n      <td>410</td>\n      <td>jaka-bijol</td>\n      <td>Slovenia</td>\n      <td>Vuzenica</td>\n      <td>Slovenia</td>\n      <td>1999-02-05</td>\n      <td>...</td>\n      <td>right</td>\n      <td>190.0</td>\n      <td>10000000.0</td>\n      <td>10000000.0</td>\n      <td>2027-06-30 00:00:00</td>\n      <td>MSC GROUP</td>\n      <td>https://img.a.transfermarkt.technology/portrai...</td>\n      <td>https://www.transfermarkt.co.uk/jaka-bijol/pro...</td>\n      <td>IT1</td>\n      <td>Udinese Calcio</td>\n    </tr>\n    <tr>\n      <th>537171</th>\n      <td>Semuel</td>\n      <td>Pizzignacco</td>\n      <td>Semuel Pizzignacco</td>\n      <td>2018</td>\n      <td>410</td>\n      <td>semuel-pizzignacco</td>\n      <td>Italy</td>\n      <td>Monfalcone</td>\n      <td>Italy</td>\n      <td>2001-09-01</td>\n      <td>...</td>\n      <td>right</td>\n      <td>188.0</td>\n      <td>325000.0</td>\n      <td>350000.0</td>\n      <td>2025-06-30 00:00:00</td>\n      <td>NaN</td>\n      <td>https://img.a.transfermarkt.technology/portrai...</td>\n      <td>https://www.transfermarkt.co.uk/semuel-pizzign...</td>\n      <td>IT1</td>\n      <td>Udinese Calcio</td>\n    </tr>\n    <tr>\n      <th>586756</th>\n      <td>Festy</td>\n      <td>Ebosele</td>\n      <td>Festy Ebosele</td>\n      <td>2023</td>\n      <td>410</td>\n      <td>festy-ebosele</td>\n      <td>Ireland</td>\n      <td>Enniscorthy, Wexford</td>\n      <td>Ireland</td>\n      <td>2002-08-02</td>\n      <td>...</td>\n      <td>right</td>\n      <td>180.0</td>\n      <td>4500000.0</td>\n      <td>4500000.0</td>\n      <td>2027-06-30 00:00:00</td>\n      <td>The Kulture Group</td>\n      <td>https://img.a.transfermarkt.technology/portrai...</td>\n      <td>https://www.transfermarkt.co.uk/festy-ebosele/...</td>\n      <td>IT1</td>\n      <td>Udinese Calcio</td>\n    </tr>\n    <tr>\n      <th>704692</th>\n      <td>Nicolò</td>\n      <td>Cocetta</td>\n      <td>Nicolò Cocetta</td>\n      <td>2022</td>\n      <td>410</td>\n      <td>nicolo-cocetta</td>\n      <td>Italy</td>\n      <td>San Daniele del Friuli</td>\n      <td>Italy</td>\n      <td>2003-12-19</td>\n      <td>...</td>\n      <td>NaN</td>\n      <td>NaN</td>\n      <td>75000.0</td>\n      <td>75000.0</td>\n      <td>2023-06-30 00:00:00</td>\n      <td>NaN</td>\n      <td>https://img.a.transfermarkt.technology/portrai...</td>\n      <td>https://www.transfermarkt.co.uk/nicolo-cocetta...</td>\n      <td>IT1</td>\n      <td>Udinese Calcio</td>\n    </tr>\n    <tr>\n      <th>925584</th>\n      <td>Axel</td>\n      <td>Guessand</td>\n      <td>Axel Guessand</td>\n      <td>2023</td>\n      <td>410</td>\n      <td>axel-guessand</td>\n      <td>France</td>\n      <td>Schiltigheim</td>\n      <td>France</td>\n      <td>2004-11-06</td>\n      <td>...</td>\n      <td>left</td>\n      <td>184.0</td>\n      <td>250000.0</td>\n      <td>300000.0</td>\n      <td>2027-06-30 00:00:00</td>\n      <td>CAA Stellar</td>\n      <td>https://img.a.transfermarkt.technology/portrai...</td>\n      <td>https://www.transfermarkt.co.uk/axel-guessand/...</td>\n      <td>IT1</td>\n      <td>Udinese Calcio</td>\n    </tr>\n  </tbody>\n</table>\n<p>30302 rows × 22 columns</p>\n</div>"
     },
     "execution_count": 6,
     "metadata": {},
     "output_type": "execute_result"
    }
   ],
   "source": [
    "players"
   ],
   "metadata": {
    "collapsed": false,
    "ExecuteTime": {
     "end_time": "2023-12-11T10:13:44.007504300Z",
     "start_time": "2023-12-11T10:13:43.884130800Z"
    }
   },
   "id": "54c3e7a8fa28bf12"
  },
  {
   "cell_type": "code",
   "execution_count": 7,
   "outputs": [
    {
     "data": {
      "text/plain": "first_name                               1965\nlast_name                                   0\nname                                        0\nlast_season                                 0\ncurrent_club_id                             0\nplayer_code                                 0\ncountry_of_birth                         2689\ncity_of_birth                            2203\ncountry_of_citizenship                    543\ndate_of_birth                              47\nsub_position                              172\nposition                                    0\nfoot                                     2389\nheight_in_cm                             2098\nmarket_value_in_eur                     10919\nhighest_market_value_in_eur              1321\ncontract_expiration_date                11467\nagent_name                              15361\nimage_url                                   0\nurl                                         0\ncurrent_club_domestic_competition_id        0\ncurrent_club_name                           0\ndtype: int64"
     },
     "execution_count": 7,
     "metadata": {},
     "output_type": "execute_result"
    }
   ],
   "source": [
    "players.isna().sum()"
   ],
   "metadata": {
    "collapsed": false,
    "ExecuteTime": {
     "end_time": "2023-12-11T10:13:44.075895100Z",
     "start_time": "2023-12-11T10:13:43.995537Z"
    }
   },
   "id": "5e468ca939bbb785"
  },
  {
   "cell_type": "markdown",
   "source": [
    "> ## So now we know that players have many fields left as 'None'"
   ],
   "metadata": {
    "collapsed": false
   },
   "id": "2b38d62e45f26ead"
  },
  {
   "cell_type": "code",
   "execution_count": 8,
   "outputs": [
    {
     "data": {
      "text/plain": "          first_name  last_name       name player_code\nplayer_id                                             \n5974             NaN  Matuzalém  Matuzalém   matuzalem\n13952            NaN    Liedson    Liedson     liedson\n14137            NaN    Briguel    Briguel     briguel\n14282            NaN  Danielson  Danielson   danielson\n17292            NaN     Joeano     Joeano      joeano\n...              ...        ...        ...         ...\n105468           NaN     Neuton     Neuton      neuton\n54183            NaN  Maicosuel  Maicosuel   maicosuel\n323954           NaN     Walace     Walace      walace\n217863           NaN  Guilherme  Guilherme   guilherme\n99523            NaN    Nícolas    Nícolas     nicolas\n\n[1965 rows x 4 columns]",
      "text/html": "<div>\n<style scoped>\n    .dataframe tbody tr th:only-of-type {\n        vertical-align: middle;\n    }\n\n    .dataframe tbody tr th {\n        vertical-align: top;\n    }\n\n    .dataframe thead th {\n        text-align: right;\n    }\n</style>\n<table border=\"1\" class=\"dataframe\">\n  <thead>\n    <tr style=\"text-align: right;\">\n      <th></th>\n      <th>first_name</th>\n      <th>last_name</th>\n      <th>name</th>\n      <th>player_code</th>\n    </tr>\n    <tr>\n      <th>player_id</th>\n      <th></th>\n      <th></th>\n      <th></th>\n      <th></th>\n    </tr>\n  </thead>\n  <tbody>\n    <tr>\n      <th>5974</th>\n      <td>NaN</td>\n      <td>Matuzalém</td>\n      <td>Matuzalém</td>\n      <td>matuzalem</td>\n    </tr>\n    <tr>\n      <th>13952</th>\n      <td>NaN</td>\n      <td>Liedson</td>\n      <td>Liedson</td>\n      <td>liedson</td>\n    </tr>\n    <tr>\n      <th>14137</th>\n      <td>NaN</td>\n      <td>Briguel</td>\n      <td>Briguel</td>\n      <td>briguel</td>\n    </tr>\n    <tr>\n      <th>14282</th>\n      <td>NaN</td>\n      <td>Danielson</td>\n      <td>Danielson</td>\n      <td>danielson</td>\n    </tr>\n    <tr>\n      <th>17292</th>\n      <td>NaN</td>\n      <td>Joeano</td>\n      <td>Joeano</td>\n      <td>joeano</td>\n    </tr>\n    <tr>\n      <th>...</th>\n      <td>...</td>\n      <td>...</td>\n      <td>...</td>\n      <td>...</td>\n    </tr>\n    <tr>\n      <th>105468</th>\n      <td>NaN</td>\n      <td>Neuton</td>\n      <td>Neuton</td>\n      <td>neuton</td>\n    </tr>\n    <tr>\n      <th>54183</th>\n      <td>NaN</td>\n      <td>Maicosuel</td>\n      <td>Maicosuel</td>\n      <td>maicosuel</td>\n    </tr>\n    <tr>\n      <th>323954</th>\n      <td>NaN</td>\n      <td>Walace</td>\n      <td>Walace</td>\n      <td>walace</td>\n    </tr>\n    <tr>\n      <th>217863</th>\n      <td>NaN</td>\n      <td>Guilherme</td>\n      <td>Guilherme</td>\n      <td>guilherme</td>\n    </tr>\n    <tr>\n      <th>99523</th>\n      <td>NaN</td>\n      <td>Nícolas</td>\n      <td>Nícolas</td>\n      <td>nicolas</td>\n    </tr>\n  </tbody>\n</table>\n<p>1965 rows × 4 columns</p>\n</div>"
     },
     "execution_count": 8,
     "metadata": {},
     "output_type": "execute_result"
    }
   ],
   "source": [
    "players.loc[players['first_name'].isna()][['first_name','last_name',\n",
    "                                           'name', 'player_code']]"
   ],
   "metadata": {
    "collapsed": false,
    "ExecuteTime": {
     "end_time": "2023-12-11T10:13:44.329951600Z",
     "start_time": "2023-12-11T10:13:44.042471300Z"
    }
   },
   "id": "d432586cc01f4771"
  },
  {
   "cell_type": "code",
   "execution_count": 9,
   "outputs": [
    {
     "data": {
      "text/plain": "True"
     },
     "execution_count": 9,
     "metadata": {},
     "output_type": "execute_result"
    }
   ],
   "source": [
    "players.shape == players.drop_duplicates().shape"
   ],
   "metadata": {
    "collapsed": false,
    "ExecuteTime": {
     "end_time": "2023-12-11T10:13:44.414298800Z",
     "start_time": "2023-12-11T10:13:44.076892200Z"
    }
   },
   "id": "9cb07c3a7eb8ffcf"
  },
  {
   "cell_type": "code",
   "execution_count": 10,
   "outputs": [
    {
     "data": {
      "text/plain": "height_in_cm\n180.0    2051\n185.0    1894\n183.0    1654\n178.0    1654\n188.0    1440\n182.0    1424\n184.0    1412\n186.0    1356\n187.0    1326\n175.0    1317\n190.0    1176\n181.0    1148\n177.0    1013\n179.0     988\n176.0     941\n189.0     808\n173.0     744\n191.0     724\n174.0     718\n192.0     591\n172.0     567\n170.0     539\n193.0     528\n194.0     332\n171.0     329\n195.0     261\n196.0     223\n168.0     205\n169.0     199\n197.0     128\n167.0     101\n198.0      95\n165.0      69\n166.0      63\n164.0      32\n199.0      31\n201.0      23\n200.0      23\n163.0      20\n202.0      15\n203.0      10\n162.0       8\n204.0       6\n206.0       4\n205.0       4\n160.0       3\n18.0        2\n159.0       2\n161.0       2\n207.0       1\nName: count, dtype: int64"
     },
     "execution_count": 10,
     "metadata": {},
     "output_type": "execute_result"
    }
   ],
   "source": [
    "players['height_in_cm'].value_counts()"
   ],
   "metadata": {
    "collapsed": false,
    "ExecuteTime": {
     "end_time": "2023-12-11T10:13:44.547334900Z",
     "start_time": "2023-12-11T10:13:44.221522100Z"
    }
   },
   "id": "a3df038eaac1becc"
  },
  {
   "cell_type": "code",
   "execution_count": 11,
   "outputs": [
    {
     "data": {
      "text/plain": "2098"
     },
     "execution_count": 11,
     "metadata": {},
     "output_type": "execute_result"
    }
   ],
   "source": [
    "players['height_in_cm'].isna().sum()"
   ],
   "metadata": {
    "collapsed": false,
    "ExecuteTime": {
     "end_time": "2023-12-11T10:13:44.548332200Z",
     "start_time": "2023-12-11T10:13:44.242465600Z"
    }
   },
   "id": "19e8aca1a12e17ff"
  },
  {
   "cell_type": "markdown",
   "source": [
    "# WE HAVE 2 PLAYERS THAT ARE 18 cm TALL!!"
   ],
   "metadata": {
    "collapsed": false
   },
   "id": "be358e7ab1c3b1af"
  },
  {
   "cell_type": "markdown",
   "source": [
    "> ## Now we convert some types"
   ],
   "metadata": {
    "collapsed": false
   },
   "id": "9778857e8415ff37"
  },
  {
   "cell_type": "code",
   "execution_count": 12,
   "outputs": [
    {
     "name": "stdout",
     "output_type": "stream",
     "text": [
      "<class 'pandas.core.frame.DataFrame'>\n",
      "Index: 30302 entries, 598 to 925584\n",
      "Data columns (total 22 columns):\n",
      " #   Column                                Non-Null Count  Dtype   \n",
      "---  ------                                --------------  -----   \n",
      " 0   first_name                            28337 non-null  object  \n",
      " 1   last_name                             30302 non-null  string  \n",
      " 2   name                                  30302 non-null  string  \n",
      " 3   last_season                           30302 non-null  int64   \n",
      " 4   current_club_id                       30302 non-null  int64   \n",
      " 5   player_code                           30302 non-null  string  \n",
      " 6   country_of_birth                      27613 non-null  object  \n",
      " 7   city_of_birth                         28099 non-null  object  \n",
      " 8   country_of_citizenship                29759 non-null  object  \n",
      " 9   date_of_birth                         30255 non-null  object  \n",
      " 10  sub_position                          30130 non-null  object  \n",
      " 11  position                              30302 non-null  category\n",
      " 12  foot                                  27913 non-null  object  \n",
      " 13  height_in_cm                          28204 non-null  float64 \n",
      " 14  market_value_in_eur                   19383 non-null  float64 \n",
      " 15  highest_market_value_in_eur           28981 non-null  float64 \n",
      " 16  contract_expiration_date              18835 non-null  object  \n",
      " 17  agent_name                            14941 non-null  object  \n",
      " 18  image_url                             30302 non-null  object  \n",
      " 19  url                                   30302 non-null  object  \n",
      " 20  current_club_domestic_competition_id  30302 non-null  string  \n",
      " 21  current_club_name                     30302 non-null  string  \n",
      "dtypes: category(1), float64(3), int64(2), object(11), string(5)\n",
      "memory usage: 5.1+ MB\n"
     ]
    }
   ],
   "source": [
    "players['last_name'] = players['last_name'].astype('string')\n",
    "players['name'] = players['name'].astype('string')\n",
    "players['player_code'] = players['player_code'].astype('string')\n",
    "players['position'] = players['position'].astype('category')\n",
    "players['current_club_domestic_competition_id'] = players['current_club_domestic_competition_id'].astype('string')\n",
    "players['current_club_name'] = players['current_club_name'].astype('string')\n",
    "\n",
    "players.info()"
   ],
   "metadata": {
    "collapsed": false,
    "ExecuteTime": {
     "end_time": "2023-12-11T10:13:44.571270700Z",
     "start_time": "2023-12-11T10:13:44.254155Z"
    }
   },
   "id": "d599f31365e55cef"
  },
  {
   "cell_type": "code",
   "execution_count": 13,
   "outputs": [
    {
     "ename": "NameError",
     "evalue": "name 'na_player_name_apps' is not defined",
     "output_type": "error",
     "traceback": [
      "\u001B[1;31m---------------------------------------------------------------------------\u001B[0m",
      "\u001B[1;31mNameError\u001B[0m                                 Traceback (most recent call last)",
      "Cell \u001B[1;32mIn[13], line 2\u001B[0m\n\u001B[0;32m      1\u001B[0m \u001B[38;5;66;03m# it works as well as na_player_name_apps.isin(players['player_id']).sum()\u001B[39;00m\n\u001B[1;32m----> 2\u001B[0m \u001B[43mna_player_name_apps\u001B[49m\u001B[38;5;241m.\u001B[39misin(players)\u001B[38;5;241m.\u001B[39msum()\n",
      "\u001B[1;31mNameError\u001B[0m: name 'na_player_name_apps' is not defined"
     ]
    }
   ],
   "source": [
    "# it works as well as na_player_name_apps.isin(players['player_id']).sum()\n",
    "na_player_name_apps.isin(players).sum()"
   ],
   "metadata": {
    "collapsed": false,
    "ExecuteTime": {
     "end_time": "2023-12-11T10:13:44.695937900Z",
     "start_time": "2023-12-11T10:13:44.374404800Z"
    }
   },
   "id": "e4e39fefbf1e5a98"
  },
  {
   "cell_type": "code",
   "execution_count": null,
   "outputs": [],
   "source": [
    "players['first_name'] = (players['first_name'].fillna(\"\")\n",
    "                            .astype('string'))\n",
    "players.info()"
   ],
   "metadata": {
    "collapsed": false,
    "ExecuteTime": {
     "start_time": "2023-12-11T10:13:44.456578200Z"
    }
   },
   "id": "afb0aef99e11fe9a"
  }
 ],
 "metadata": {
  "kernelspec": {
   "display_name": "Python 3",
   "language": "python",
   "name": "python3"
  },
  "language_info": {
   "codemirror_mode": {
    "name": "ipython",
    "version": 2
   },
   "file_extension": ".py",
   "mimetype": "text/x-python",
   "name": "python",
   "nbconvert_exporter": "python",
   "pygments_lexer": "ipython2",
   "version": "2.7.6"
  }
 },
 "nbformat": 4,
 "nbformat_minor": 5
}

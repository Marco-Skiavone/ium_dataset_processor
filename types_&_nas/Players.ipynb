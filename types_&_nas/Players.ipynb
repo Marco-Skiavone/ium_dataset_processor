{
 "cells": [
  {
   "cell_type": "code",
   "execution_count": null,
   "outputs": [],
   "source": [
    "from modules.module_for_imports import *"
   ],
   "metadata": {
    "collapsed": false
   },
   "id": "cd3342478ddbf59f"
  },
  {
   "cell_type": "markdown",
   "source": [
    "# Players analysis"
   ],
   "metadata": {
    "collapsed": false
   },
   "id": "5dcb5df1489d6e03"
  },
  {
   "cell_type": "code",
   "execution_count": null,
   "outputs": [],
   "source": [
    "players = pd.read_csv('../Assignment_Data_2023-2024/players.csv')   \n",
    "# note:\n",
    "#the index_col=[0] avoids indexing the dataframe, so we save space and use the ids as index\n",
    "players.info()"
   ],
   "metadata": {
    "collapsed": false
   },
   "id": "39cdd21782830281"
  },
  {
   "cell_type": "code",
   "execution_count": null,
   "outputs": [],
   "source": [
    "players"
   ],
   "metadata": {
    "collapsed": false
   },
   "id": "54c3e7a8fa28bf12"
  },
  {
   "cell_type": "code",
   "execution_count": null,
   "outputs": [],
   "source": [
    "players.isna().sum()"
   ],
   "metadata": {
    "collapsed": false
   },
   "id": "5e468ca939bbb785"
  },
  {
   "cell_type": "markdown",
   "source": [
    "> ## So now we know that players have many fields left as 'None'"
   ],
   "metadata": {
    "collapsed": false
   },
   "id": "2b38d62e45f26ead"
  },
  {
   "cell_type": "code",
   "execution_count": null,
   "outputs": [],
   "source": [
    "players.loc[players['first_name'].isna()][['first_name','last_name',\n",
    "                                           'name', 'player_code']]"
   ],
   "metadata": {
    "collapsed": false
   },
   "id": "d432586cc01f4771"
  },
  {
   "cell_type": "code",
   "execution_count": null,
   "outputs": [],
   "source": [
    "players.shape == players.drop_duplicates().shape"
   ],
   "metadata": {
    "collapsed": false
   },
   "id": "9cb07c3a7eb8ffcf"
  },
  {
   "cell_type": "code",
   "execution_count": null,
   "outputs": [],
   "source": [
    "players['height_in_cm'].value_counts()"
   ],
   "metadata": {
    "collapsed": false
   },
   "id": "a3df038eaac1becc"
  },
  {
   "cell_type": "code",
   "execution_count": null,
   "outputs": [],
   "source": [
    "players['height_in_cm'].isna().sum()"
   ],
   "metadata": {
    "collapsed": false
   },
   "id": "19e8aca1a12e17ff"
  },
  {
   "cell_type": "markdown",
   "source": [
    "# WE HAVE 2 PLAYERS THAT ARE 18 cm TALL!!"
   ],
   "metadata": {
    "collapsed": false
   },
   "id": "be358e7ab1c3b1af"
  },
  {
   "cell_type": "markdown",
   "source": [
    "> ## Now we convert some types"
   ],
   "metadata": {
    "collapsed": false
   },
   "id": "9778857e8415ff37"
  },
  {
   "cell_type": "code",
   "execution_count": null,
   "outputs": [],
   "source": [
    "players['last_name'] = players['last_name'].astype('string')\n",
    "players['name'] = players['name'].astype('string')\n",
    "players['player_code'] = players['player_code'].astype('string')\n",
    "players['country_of_birth'] = players['country_of_birth'].astype('string')\n",
    "players['city_of_birth'] = players['city_of_birth'].astype('string')\n",
    "players['country_of_citizenship'] = players['country_of_citizenship'].astype('string')\n",
    "players['date_of_birth'] = pd.to_datetime(players['date_of_birth'].astype('string'))\n",
    "players['sub_position'] = players['sub_position'].astype('category')\n",
    "players['position'] = players['position'].astype('category')\n",
    "players['foot'] = players['foot'].astype('string')\n",
    "players['contract_expiration_date'] = pd.to_datetime(players['contract_expiration_date'].astype('string'))\n",
    "players['agent_name'] = players['agent_name'].astype('string') \n",
    "players['image_url'] = players['image_url'].astype('string')\n",
    "players['url'] = players['url'].astype('string')\n",
    "players['current_club_domestic_competition_id'] = players['current_club_domestic_competition_id'].astype('string')\n",
    "players['current_club_name'] = players['current_club_name'].astype('string')\n",
    "\n",
    "players.info()"
   ],
   "metadata": {
    "collapsed": false
   },
   "id": "d599f31365e55cef"
  },
  {
   "cell_type": "code",
   "execution_count": null,
   "outputs": [],
   "source": [
    "# na_player_name_apps.isin(players['player_id']).sum()  <------------ we see after"
   ],
   "metadata": {
    "collapsed": false
   },
   "id": "e4e39fefbf1e5a98"
  },
  {
   "cell_type": "code",
   "execution_count": null,
   "outputs": [],
   "source": [
    "players['first_name'] = (players['first_name']#.fillna(\"\")\n",
    "                            .astype('string'))\n",
    "players.info()"
   ],
   "metadata": {
    "collapsed": false
   },
   "id": "afb0aef99e11fe9a"
  },
  {
   "cell_type": "code",
   "execution_count": null,
   "outputs": [],
   "source": [
    "def handle_short_ppl(x):\n",
    "    if x is not None and x<100:\n",
    "        return x*10\n",
    "    return x\n",
    "\n",
    "\n",
    "players['height_in_cm'] = players['height_in_cm'].apply(lambda x : handle_short_ppl(x))\n",
    "players['height_in_cm'].value_counts()"
   ],
   "metadata": {
    "collapsed": false
   },
   "id": "b38ca307587cf272"
  },
  {
   "cell_type": "code",
   "execution_count": null,
   "outputs": [],
   "source": [
    "players['first_name'].isna()"
   ],
   "metadata": {
    "collapsed": false
   },
   "id": "3089388872abf948"
  },
  {
   "cell_type": "code",
   "execution_count": null,
   "outputs": [],
   "source": [
    "players.query('position==\"Missing\"').apply(set)  # todo: set them as None\n"
   ],
   "metadata": {
    "collapsed": false
   },
   "id": "c92f82ed523e51e9"
  }
 ],
 "metadata": {
  "kernelspec": {
   "display_name": "Python 3",
   "language": "python",
   "name": "python3"
  },
  "language_info": {
   "codemirror_mode": {
    "name": "ipython",
    "version": 2
   },
   "file_extension": ".py",
   "mimetype": "text/x-python",
   "name": "python",
   "nbconvert_exporter": "python",
   "pygments_lexer": "ipython2",
   "version": "2.7.6"
  }
 },
 "nbformat": 4,
 "nbformat_minor": 5
}

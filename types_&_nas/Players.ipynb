{
 "cells": [
  {
   "cell_type": "code",
   "execution_count": 1,
   "outputs": [],
   "source": [
    "from modules.module_for_imports import *"
   ],
   "metadata": {
    "collapsed": false,
    "ExecuteTime": {
     "end_time": "2023-12-14T15:04:48.315538400Z",
     "start_time": "2023-12-14T15:04:47.144731800Z"
    }
   },
   "id": "cd3342478ddbf59f"
  },
  {
   "cell_type": "markdown",
   "source": [
    "# Players analysis"
   ],
   "metadata": {
    "collapsed": false
   },
   "id": "5dcb5df1489d6e03"
  },
  {
   "cell_type": "code",
   "execution_count": 2,
   "outputs": [
    {
     "name": "stdout",
     "output_type": "stream",
     "text": [
      "<class 'pandas.core.frame.DataFrame'>\n",
      "RangeIndex: 30302 entries, 0 to 30301\n",
      "Data columns (total 23 columns):\n",
      " #   Column                                Non-Null Count  Dtype  \n",
      "---  ------                                --------------  -----  \n",
      " 0   player_id                             30302 non-null  int64  \n",
      " 1   first_name                            28337 non-null  object \n",
      " 2   last_name                             30302 non-null  object \n",
      " 3   name                                  30302 non-null  object \n",
      " 4   last_season                           30302 non-null  int64  \n",
      " 5   current_club_id                       30302 non-null  int64  \n",
      " 6   player_code                           30302 non-null  object \n",
      " 7   country_of_birth                      27613 non-null  object \n",
      " 8   city_of_birth                         28099 non-null  object \n",
      " 9   country_of_citizenship                29759 non-null  object \n",
      " 10  date_of_birth                         30255 non-null  object \n",
      " 11  sub_position                          30130 non-null  object \n",
      " 12  position                              30302 non-null  object \n",
      " 13  foot                                  27913 non-null  object \n",
      " 14  height_in_cm                          28204 non-null  float64\n",
      " 15  market_value_in_eur                   19383 non-null  float64\n",
      " 16  highest_market_value_in_eur           28981 non-null  float64\n",
      " 17  contract_expiration_date              18835 non-null  object \n",
      " 18  agent_name                            14941 non-null  object \n",
      " 19  image_url                             30302 non-null  object \n",
      " 20  url                                   30302 non-null  object \n",
      " 21  current_club_domestic_competition_id  30302 non-null  object \n",
      " 22  current_club_name                     30302 non-null  object \n",
      "dtypes: float64(3), int64(3), object(17)\n",
      "memory usage: 5.3+ MB\n"
     ]
    }
   ],
   "source": [
    "players = pd.read_csv('../Assignment_Data_2023-2024/players.csv')   \n",
    "# note:\n",
    "#the index_col=[0] avoids indexing the dataframe, so we save space and use the ids as index\n",
    "players.info()"
   ],
   "metadata": {
    "collapsed": false,
    "ExecuteTime": {
     "end_time": "2023-12-14T15:04:49.872245600Z",
     "start_time": "2023-12-14T15:04:49.680743700Z"
    }
   },
   "id": "39cdd21782830281"
  },
  {
   "cell_type": "code",
   "execution_count": 3,
   "outputs": [
    {
     "data": {
      "text/plain": "       player_id first_name    last_name                name  last_season  \\\n0            598       Timo   Hildebrand     Timo Hildebrand         2014   \n1            670     Martin       Petrov       Martin Petrov         2012   \n2           1323     Martin      Amedick      Martin Amedick         2012   \n3           3195   Jermaine      Pennant    Jermaine Pennant         2013   \n4           3259     Damien         Duff         Damien Duff         2013   \n...          ...        ...          ...                 ...          ...   \n30297     371851       Jaka        Bijol          Jaka Bijol         2023   \n30298     537171     Semuel  Pizzignacco  Semuel Pizzignacco         2018   \n30299     586756      Festy      Ebosele       Festy Ebosele         2023   \n30300     704692     Nicolò      Cocetta      Nicolò Cocetta         2022   \n30301     925584       Axel     Guessand       Axel Guessand         2023   \n\n       current_club_id         player_code country_of_birth  \\\n0                   24     timo-hildebrand          Germany   \n1                  714       martin-petrov         Bulgaria   \n2                   24      martin-amedick          Germany   \n3                  512    jermaine-pennant          England   \n4                  931         damien-duff          Ireland   \n...                ...                 ...              ...   \n30297              410          jaka-bijol         Slovenia   \n30298              410  semuel-pizzignacco            Italy   \n30299              410       festy-ebosele          Ireland   \n30300              410      nicolo-cocetta            Italy   \n30301              410       axel-guessand           France   \n\n                city_of_birth country_of_citizenship  ...   foot height_in_cm  \\\n0                       Worms                Germany  ...    NaN          NaN   \n1                      Vratsa               Bulgaria  ...    NaN          NaN   \n2                   Paderborn                Germany  ...    NaN          NaN   \n3                  Nottingham                England  ...  right        173.0   \n4                  Ballyboden                Ireland  ...   left        177.0   \n...                       ...                    ...  ...    ...          ...   \n30297                Vuzenica               Slovenia  ...  right        190.0   \n30298              Monfalcone                  Italy  ...  right        188.0   \n30299    Enniscorthy, Wexford                Ireland  ...  right        180.0   \n30300  San Daniele del Friuli                  Italy  ...    NaN          NaN   \n30301            Schiltigheim                 France  ...   left        184.0   \n\n      market_value_in_eur highest_market_value_in_eur  \\\n0                     NaN                  10000000.0   \n1                     NaN                  12000000.0   \n2                     NaN                   2750000.0   \n3                     NaN                  10500000.0   \n4                     NaN                  17000000.0   \n...                   ...                         ...   \n30297          10000000.0                  10000000.0   \n30298            325000.0                    350000.0   \n30299           4500000.0                   4500000.0   \n30300             75000.0                     75000.0   \n30301            250000.0                    300000.0   \n\n       contract_expiration_date         agent_name  \\\n0                           NaN                NaN   \n1                           NaN                IFM   \n2                           NaN                NaN   \n3                           NaN         Andrew Sky   \n4                           NaN                NaN   \n...                         ...                ...   \n30297       2027-06-30 00:00:00          MSC GROUP   \n30298       2025-06-30 00:00:00                NaN   \n30299       2027-06-30 00:00:00  The Kulture Group   \n30300       2023-06-30 00:00:00                NaN   \n30301       2027-06-30 00:00:00        CAA Stellar   \n\n                                               image_url  \\\n0      https://img.a.transfermarkt.technology/portrai...   \n1      https://img.a.transfermarkt.technology/portrai...   \n2      https://img.a.transfermarkt.technology/portrai...   \n3      https://img.a.transfermarkt.technology/portrai...   \n4      https://img.a.transfermarkt.technology/portrai...   \n...                                                  ...   \n30297  https://img.a.transfermarkt.technology/portrai...   \n30298  https://img.a.transfermarkt.technology/portrai...   \n30299  https://img.a.transfermarkt.technology/portrai...   \n30300  https://img.a.transfermarkt.technology/portrai...   \n30301  https://img.a.transfermarkt.technology/portrai...   \n\n                                                     url  \\\n0      https://www.transfermarkt.co.uk/timo-hildebran...   \n1      https://www.transfermarkt.co.uk/martin-petrov/...   \n2      https://www.transfermarkt.co.uk/martin-amedick...   \n3      https://www.transfermarkt.co.uk/jermaine-penna...   \n4      https://www.transfermarkt.co.uk/damien-duff/pr...   \n...                                                  ...   \n30297  https://www.transfermarkt.co.uk/jaka-bijol/pro...   \n30298  https://www.transfermarkt.co.uk/semuel-pizzign...   \n30299  https://www.transfermarkt.co.uk/festy-ebosele/...   \n30300  https://www.transfermarkt.co.uk/nicolo-cocetta...   \n30301  https://www.transfermarkt.co.uk/axel-guessand/...   \n\n      current_club_domestic_competition_id       current_club_name  \n0                                       L1     Eintracht Frankfurt  \n1                                      ES1  RCD Espanyol Barcelona  \n2                                       L1     Eintracht Frankfurt  \n3                                      GB1              Stoke City  \n4                                      GB1               Fulham FC  \n...                                    ...                     ...  \n30297                                  IT1          Udinese Calcio  \n30298                                  IT1          Udinese Calcio  \n30299                                  IT1          Udinese Calcio  \n30300                                  IT1          Udinese Calcio  \n30301                                  IT1          Udinese Calcio  \n\n[30302 rows x 23 columns]",
      "text/html": "<div>\n<style scoped>\n    .dataframe tbody tr th:only-of-type {\n        vertical-align: middle;\n    }\n\n    .dataframe tbody tr th {\n        vertical-align: top;\n    }\n\n    .dataframe thead th {\n        text-align: right;\n    }\n</style>\n<table border=\"1\" class=\"dataframe\">\n  <thead>\n    <tr style=\"text-align: right;\">\n      <th></th>\n      <th>player_id</th>\n      <th>first_name</th>\n      <th>last_name</th>\n      <th>name</th>\n      <th>last_season</th>\n      <th>current_club_id</th>\n      <th>player_code</th>\n      <th>country_of_birth</th>\n      <th>city_of_birth</th>\n      <th>country_of_citizenship</th>\n      <th>...</th>\n      <th>foot</th>\n      <th>height_in_cm</th>\n      <th>market_value_in_eur</th>\n      <th>highest_market_value_in_eur</th>\n      <th>contract_expiration_date</th>\n      <th>agent_name</th>\n      <th>image_url</th>\n      <th>url</th>\n      <th>current_club_domestic_competition_id</th>\n      <th>current_club_name</th>\n    </tr>\n  </thead>\n  <tbody>\n    <tr>\n      <th>0</th>\n      <td>598</td>\n      <td>Timo</td>\n      <td>Hildebrand</td>\n      <td>Timo Hildebrand</td>\n      <td>2014</td>\n      <td>24</td>\n      <td>timo-hildebrand</td>\n      <td>Germany</td>\n      <td>Worms</td>\n      <td>Germany</td>\n      <td>...</td>\n      <td>NaN</td>\n      <td>NaN</td>\n      <td>NaN</td>\n      <td>10000000.0</td>\n      <td>NaN</td>\n      <td>NaN</td>\n      <td>https://img.a.transfermarkt.technology/portrai...</td>\n      <td>https://www.transfermarkt.co.uk/timo-hildebran...</td>\n      <td>L1</td>\n      <td>Eintracht Frankfurt</td>\n    </tr>\n    <tr>\n      <th>1</th>\n      <td>670</td>\n      <td>Martin</td>\n      <td>Petrov</td>\n      <td>Martin Petrov</td>\n      <td>2012</td>\n      <td>714</td>\n      <td>martin-petrov</td>\n      <td>Bulgaria</td>\n      <td>Vratsa</td>\n      <td>Bulgaria</td>\n      <td>...</td>\n      <td>NaN</td>\n      <td>NaN</td>\n      <td>NaN</td>\n      <td>12000000.0</td>\n      <td>NaN</td>\n      <td>IFM</td>\n      <td>https://img.a.transfermarkt.technology/portrai...</td>\n      <td>https://www.transfermarkt.co.uk/martin-petrov/...</td>\n      <td>ES1</td>\n      <td>RCD Espanyol Barcelona</td>\n    </tr>\n    <tr>\n      <th>2</th>\n      <td>1323</td>\n      <td>Martin</td>\n      <td>Amedick</td>\n      <td>Martin Amedick</td>\n      <td>2012</td>\n      <td>24</td>\n      <td>martin-amedick</td>\n      <td>Germany</td>\n      <td>Paderborn</td>\n      <td>Germany</td>\n      <td>...</td>\n      <td>NaN</td>\n      <td>NaN</td>\n      <td>NaN</td>\n      <td>2750000.0</td>\n      <td>NaN</td>\n      <td>NaN</td>\n      <td>https://img.a.transfermarkt.technology/portrai...</td>\n      <td>https://www.transfermarkt.co.uk/martin-amedick...</td>\n      <td>L1</td>\n      <td>Eintracht Frankfurt</td>\n    </tr>\n    <tr>\n      <th>3</th>\n      <td>3195</td>\n      <td>Jermaine</td>\n      <td>Pennant</td>\n      <td>Jermaine Pennant</td>\n      <td>2013</td>\n      <td>512</td>\n      <td>jermaine-pennant</td>\n      <td>England</td>\n      <td>Nottingham</td>\n      <td>England</td>\n      <td>...</td>\n      <td>right</td>\n      <td>173.0</td>\n      <td>NaN</td>\n      <td>10500000.0</td>\n      <td>NaN</td>\n      <td>Andrew Sky</td>\n      <td>https://img.a.transfermarkt.technology/portrai...</td>\n      <td>https://www.transfermarkt.co.uk/jermaine-penna...</td>\n      <td>GB1</td>\n      <td>Stoke City</td>\n    </tr>\n    <tr>\n      <th>4</th>\n      <td>3259</td>\n      <td>Damien</td>\n      <td>Duff</td>\n      <td>Damien Duff</td>\n      <td>2013</td>\n      <td>931</td>\n      <td>damien-duff</td>\n      <td>Ireland</td>\n      <td>Ballyboden</td>\n      <td>Ireland</td>\n      <td>...</td>\n      <td>left</td>\n      <td>177.0</td>\n      <td>NaN</td>\n      <td>17000000.0</td>\n      <td>NaN</td>\n      <td>NaN</td>\n      <td>https://img.a.transfermarkt.technology/portrai...</td>\n      <td>https://www.transfermarkt.co.uk/damien-duff/pr...</td>\n      <td>GB1</td>\n      <td>Fulham FC</td>\n    </tr>\n    <tr>\n      <th>...</th>\n      <td>...</td>\n      <td>...</td>\n      <td>...</td>\n      <td>...</td>\n      <td>...</td>\n      <td>...</td>\n      <td>...</td>\n      <td>...</td>\n      <td>...</td>\n      <td>...</td>\n      <td>...</td>\n      <td>...</td>\n      <td>...</td>\n      <td>...</td>\n      <td>...</td>\n      <td>...</td>\n      <td>...</td>\n      <td>...</td>\n      <td>...</td>\n      <td>...</td>\n      <td>...</td>\n    </tr>\n    <tr>\n      <th>30297</th>\n      <td>371851</td>\n      <td>Jaka</td>\n      <td>Bijol</td>\n      <td>Jaka Bijol</td>\n      <td>2023</td>\n      <td>410</td>\n      <td>jaka-bijol</td>\n      <td>Slovenia</td>\n      <td>Vuzenica</td>\n      <td>Slovenia</td>\n      <td>...</td>\n      <td>right</td>\n      <td>190.0</td>\n      <td>10000000.0</td>\n      <td>10000000.0</td>\n      <td>2027-06-30 00:00:00</td>\n      <td>MSC GROUP</td>\n      <td>https://img.a.transfermarkt.technology/portrai...</td>\n      <td>https://www.transfermarkt.co.uk/jaka-bijol/pro...</td>\n      <td>IT1</td>\n      <td>Udinese Calcio</td>\n    </tr>\n    <tr>\n      <th>30298</th>\n      <td>537171</td>\n      <td>Semuel</td>\n      <td>Pizzignacco</td>\n      <td>Semuel Pizzignacco</td>\n      <td>2018</td>\n      <td>410</td>\n      <td>semuel-pizzignacco</td>\n      <td>Italy</td>\n      <td>Monfalcone</td>\n      <td>Italy</td>\n      <td>...</td>\n      <td>right</td>\n      <td>188.0</td>\n      <td>325000.0</td>\n      <td>350000.0</td>\n      <td>2025-06-30 00:00:00</td>\n      <td>NaN</td>\n      <td>https://img.a.transfermarkt.technology/portrai...</td>\n      <td>https://www.transfermarkt.co.uk/semuel-pizzign...</td>\n      <td>IT1</td>\n      <td>Udinese Calcio</td>\n    </tr>\n    <tr>\n      <th>30299</th>\n      <td>586756</td>\n      <td>Festy</td>\n      <td>Ebosele</td>\n      <td>Festy Ebosele</td>\n      <td>2023</td>\n      <td>410</td>\n      <td>festy-ebosele</td>\n      <td>Ireland</td>\n      <td>Enniscorthy, Wexford</td>\n      <td>Ireland</td>\n      <td>...</td>\n      <td>right</td>\n      <td>180.0</td>\n      <td>4500000.0</td>\n      <td>4500000.0</td>\n      <td>2027-06-30 00:00:00</td>\n      <td>The Kulture Group</td>\n      <td>https://img.a.transfermarkt.technology/portrai...</td>\n      <td>https://www.transfermarkt.co.uk/festy-ebosele/...</td>\n      <td>IT1</td>\n      <td>Udinese Calcio</td>\n    </tr>\n    <tr>\n      <th>30300</th>\n      <td>704692</td>\n      <td>Nicolò</td>\n      <td>Cocetta</td>\n      <td>Nicolò Cocetta</td>\n      <td>2022</td>\n      <td>410</td>\n      <td>nicolo-cocetta</td>\n      <td>Italy</td>\n      <td>San Daniele del Friuli</td>\n      <td>Italy</td>\n      <td>...</td>\n      <td>NaN</td>\n      <td>NaN</td>\n      <td>75000.0</td>\n      <td>75000.0</td>\n      <td>2023-06-30 00:00:00</td>\n      <td>NaN</td>\n      <td>https://img.a.transfermarkt.technology/portrai...</td>\n      <td>https://www.transfermarkt.co.uk/nicolo-cocetta...</td>\n      <td>IT1</td>\n      <td>Udinese Calcio</td>\n    </tr>\n    <tr>\n      <th>30301</th>\n      <td>925584</td>\n      <td>Axel</td>\n      <td>Guessand</td>\n      <td>Axel Guessand</td>\n      <td>2023</td>\n      <td>410</td>\n      <td>axel-guessand</td>\n      <td>France</td>\n      <td>Schiltigheim</td>\n      <td>France</td>\n      <td>...</td>\n      <td>left</td>\n      <td>184.0</td>\n      <td>250000.0</td>\n      <td>300000.0</td>\n      <td>2027-06-30 00:00:00</td>\n      <td>CAA Stellar</td>\n      <td>https://img.a.transfermarkt.technology/portrai...</td>\n      <td>https://www.transfermarkt.co.uk/axel-guessand/...</td>\n      <td>IT1</td>\n      <td>Udinese Calcio</td>\n    </tr>\n  </tbody>\n</table>\n<p>30302 rows × 23 columns</p>\n</div>"
     },
     "execution_count": 3,
     "metadata": {},
     "output_type": "execute_result"
    }
   ],
   "source": [
    "players"
   ],
   "metadata": {
    "collapsed": false,
    "ExecuteTime": {
     "end_time": "2023-12-14T15:04:52.365631300Z",
     "start_time": "2023-12-14T15:04:52.313657200Z"
    }
   },
   "id": "54c3e7a8fa28bf12"
  },
  {
   "cell_type": "code",
   "execution_count": 4,
   "outputs": [
    {
     "data": {
      "text/plain": "player_id                                   0\nfirst_name                               1965\nlast_name                                   0\nname                                        0\nlast_season                                 0\ncurrent_club_id                             0\nplayer_code                                 0\ncountry_of_birth                         2689\ncity_of_birth                            2203\ncountry_of_citizenship                    543\ndate_of_birth                              47\nsub_position                              172\nposition                                    0\nfoot                                     2389\nheight_in_cm                             2098\nmarket_value_in_eur                     10919\nhighest_market_value_in_eur              1321\ncontract_expiration_date                11467\nagent_name                              15361\nimage_url                                   0\nurl                                         0\ncurrent_club_domestic_competition_id        0\ncurrent_club_name                           0\ndtype: int64"
     },
     "execution_count": 4,
     "metadata": {},
     "output_type": "execute_result"
    }
   ],
   "source": [
    "players.isna().sum()"
   ],
   "metadata": {
    "collapsed": false,
    "ExecuteTime": {
     "end_time": "2023-12-14T15:04:54.675806100Z",
     "start_time": "2023-12-14T15:04:54.645003800Z"
    }
   },
   "id": "5e468ca939bbb785"
  },
  {
   "cell_type": "markdown",
   "source": [
    "> ## So now we know that players have many fields left as 'None'"
   ],
   "metadata": {
    "collapsed": false
   },
   "id": "2b38d62e45f26ead"
  },
  {
   "cell_type": "code",
   "execution_count": 5,
   "outputs": [
    {
     "data": {
      "text/plain": "      first_name  last_name       name player_code\n24           NaN  Matuzalém  Matuzalém   matuzalem\n47           NaN    Liedson    Liedson     liedson\n49           NaN    Briguel    Briguel     briguel\n51           NaN  Danielson  Danielson   danielson\n66           NaN     Joeano     Joeano      joeano\n...          ...        ...        ...         ...\n30200        NaN     Neuton     Neuton      neuton\n30218        NaN  Maicosuel  Maicosuel   maicosuel\n30221        NaN     Walace     Walace      walace\n30250        NaN  Guilherme  Guilherme   guilherme\n30293        NaN    Nícolas    Nícolas     nicolas\n\n[1965 rows x 4 columns]",
      "text/html": "<div>\n<style scoped>\n    .dataframe tbody tr th:only-of-type {\n        vertical-align: middle;\n    }\n\n    .dataframe tbody tr th {\n        vertical-align: top;\n    }\n\n    .dataframe thead th {\n        text-align: right;\n    }\n</style>\n<table border=\"1\" class=\"dataframe\">\n  <thead>\n    <tr style=\"text-align: right;\">\n      <th></th>\n      <th>first_name</th>\n      <th>last_name</th>\n      <th>name</th>\n      <th>player_code</th>\n    </tr>\n  </thead>\n  <tbody>\n    <tr>\n      <th>24</th>\n      <td>NaN</td>\n      <td>Matuzalém</td>\n      <td>Matuzalém</td>\n      <td>matuzalem</td>\n    </tr>\n    <tr>\n      <th>47</th>\n      <td>NaN</td>\n      <td>Liedson</td>\n      <td>Liedson</td>\n      <td>liedson</td>\n    </tr>\n    <tr>\n      <th>49</th>\n      <td>NaN</td>\n      <td>Briguel</td>\n      <td>Briguel</td>\n      <td>briguel</td>\n    </tr>\n    <tr>\n      <th>51</th>\n      <td>NaN</td>\n      <td>Danielson</td>\n      <td>Danielson</td>\n      <td>danielson</td>\n    </tr>\n    <tr>\n      <th>66</th>\n      <td>NaN</td>\n      <td>Joeano</td>\n      <td>Joeano</td>\n      <td>joeano</td>\n    </tr>\n    <tr>\n      <th>...</th>\n      <td>...</td>\n      <td>...</td>\n      <td>...</td>\n      <td>...</td>\n    </tr>\n    <tr>\n      <th>30200</th>\n      <td>NaN</td>\n      <td>Neuton</td>\n      <td>Neuton</td>\n      <td>neuton</td>\n    </tr>\n    <tr>\n      <th>30218</th>\n      <td>NaN</td>\n      <td>Maicosuel</td>\n      <td>Maicosuel</td>\n      <td>maicosuel</td>\n    </tr>\n    <tr>\n      <th>30221</th>\n      <td>NaN</td>\n      <td>Walace</td>\n      <td>Walace</td>\n      <td>walace</td>\n    </tr>\n    <tr>\n      <th>30250</th>\n      <td>NaN</td>\n      <td>Guilherme</td>\n      <td>Guilherme</td>\n      <td>guilherme</td>\n    </tr>\n    <tr>\n      <th>30293</th>\n      <td>NaN</td>\n      <td>Nícolas</td>\n      <td>Nícolas</td>\n      <td>nicolas</td>\n    </tr>\n  </tbody>\n</table>\n<p>1965 rows × 4 columns</p>\n</div>"
     },
     "execution_count": 5,
     "metadata": {},
     "output_type": "execute_result"
    }
   ],
   "source": [
    "players.loc[players['first_name'].isna()][['first_name','last_name',\n",
    "                                           'name', 'player_code']]"
   ],
   "metadata": {
    "collapsed": false,
    "ExecuteTime": {
     "end_time": "2023-12-14T15:11:27.640928800Z",
     "start_time": "2023-12-14T15:11:27.623107300Z"
    }
   },
   "id": "d432586cc01f4771"
  },
  {
   "cell_type": "code",
   "execution_count": 6,
   "outputs": [
    {
     "data": {
      "text/plain": "True"
     },
     "execution_count": 6,
     "metadata": {},
     "output_type": "execute_result"
    }
   ],
   "source": [
    "players.shape == players.drop_duplicates().shape"
   ],
   "metadata": {
    "collapsed": false,
    "ExecuteTime": {
     "end_time": "2023-12-14T15:11:29.824887400Z",
     "start_time": "2023-12-14T15:11:29.770355400Z"
    }
   },
   "id": "9cb07c3a7eb8ffcf"
  },
  {
   "cell_type": "code",
   "execution_count": 7,
   "outputs": [
    {
     "data": {
      "text/plain": "height_in_cm\n180.0    2051\n185.0    1894\n183.0    1654\n178.0    1654\n188.0    1440\n182.0    1424\n184.0    1412\n186.0    1356\n187.0    1326\n175.0    1317\n190.0    1176\n181.0    1148\n177.0    1013\n179.0     988\n176.0     941\n189.0     808\n173.0     744\n191.0     724\n174.0     718\n192.0     591\n172.0     567\n170.0     539\n193.0     528\n194.0     332\n171.0     329\n195.0     261\n196.0     223\n168.0     205\n169.0     199\n197.0     128\n167.0     101\n198.0      95\n165.0      69\n166.0      63\n164.0      32\n199.0      31\n201.0      23\n200.0      23\n163.0      20\n202.0      15\n203.0      10\n162.0       8\n204.0       6\n206.0       4\n205.0       4\n160.0       3\n18.0        2\n159.0       2\n161.0       2\n207.0       1\nName: count, dtype: int64"
     },
     "execution_count": 7,
     "metadata": {},
     "output_type": "execute_result"
    }
   ],
   "source": [
    "players['height_in_cm'].value_counts()"
   ],
   "metadata": {
    "collapsed": false,
    "ExecuteTime": {
     "end_time": "2023-12-14T15:11:31.676678700Z",
     "start_time": "2023-12-14T15:11:31.653625800Z"
    }
   },
   "id": "a3df038eaac1becc"
  },
  {
   "cell_type": "code",
   "execution_count": null,
   "outputs": [],
   "source": [
    "players['height_in_cm'].isna().sum()"
   ],
   "metadata": {
    "collapsed": false
   },
   "id": "19e8aca1a12e17ff"
  },
  {
   "cell_type": "markdown",
   "source": [
    "# WE HAVE 2 PLAYERS THAT ARE 18 cm TALL!!"
   ],
   "metadata": {
    "collapsed": false
   },
   "id": "be358e7ab1c3b1af"
  },
  {
   "cell_type": "markdown",
   "source": [
    "> ## Now we convert some types"
   ],
   "metadata": {
    "collapsed": false
   },
   "id": "9778857e8415ff37"
  },
  {
   "cell_type": "code",
   "execution_count": 8,
   "outputs": [
    {
     "name": "stdout",
     "output_type": "stream",
     "text": [
      "<class 'pandas.core.frame.DataFrame'>\n",
      "RangeIndex: 30302 entries, 0 to 30301\n",
      "Data columns (total 23 columns):\n",
      " #   Column                                Non-Null Count  Dtype         \n",
      "---  ------                                --------------  -----         \n",
      " 0   player_id                             30302 non-null  int64         \n",
      " 1   first_name                            28337 non-null  object        \n",
      " 2   last_name                             30302 non-null  string        \n",
      " 3   name                                  30302 non-null  string        \n",
      " 4   last_season                           30302 non-null  int64         \n",
      " 5   current_club_id                       30302 non-null  int64         \n",
      " 6   player_code                           30302 non-null  string        \n",
      " 7   country_of_birth                      27613 non-null  string        \n",
      " 8   city_of_birth                         28099 non-null  string        \n",
      " 9   country_of_citizenship                29759 non-null  string        \n",
      " 10  date_of_birth                         30255 non-null  datetime64[ns]\n",
      " 11  sub_position                          30130 non-null  category      \n",
      " 12  position                              30302 non-null  category      \n",
      " 13  foot                                  27913 non-null  string        \n",
      " 14  height_in_cm                          28204 non-null  float64       \n",
      " 15  market_value_in_eur                   19383 non-null  float64       \n",
      " 16  highest_market_value_in_eur           28981 non-null  float64       \n",
      " 17  contract_expiration_date              18835 non-null  datetime64[ns]\n",
      " 18  agent_name                            14941 non-null  string        \n",
      " 19  image_url                             30302 non-null  string        \n",
      " 20  url                                   30302 non-null  string        \n",
      " 21  current_club_domestic_competition_id  30302 non-null  string        \n",
      " 22  current_club_name                     30302 non-null  string        \n",
      "dtypes: category(2), datetime64[ns](2), float64(3), int64(3), object(1), string(12)\n",
      "memory usage: 4.9+ MB\n"
     ]
    }
   ],
   "source": [
    "players['last_name'] = players['last_name'].astype('string')\n",
    "players['name'] = players['name'].astype('string')\n",
    "players['player_code'] = players['player_code'].astype('string')\n",
    "players['country_of_birth'] = players['country_of_birth'].astype('string')\n",
    "players['city_of_birth'] = players['city_of_birth'].astype('string')\n",
    "players['country_of_citizenship'] = players['country_of_citizenship'].astype('string')\n",
    "players['date_of_birth'] = pd.to_datetime(players['date_of_birth'].astype('string'))\n",
    "players['sub_position'] = players['sub_position'].astype('category')\n",
    "players['position'] = players['position'].astype('category')\n",
    "players['foot'] = players['foot'].astype('string')\n",
    "players['contract_expiration_date'] = pd.to_datetime(players['contract_expiration_date'].astype('string'))\n",
    "players['agent_name'] = players['agent_name'].astype('string') \n",
    "players['image_url'] = players['image_url'].astype('string')\n",
    "players['url'] = players['url'].astype('string')\n",
    "players['current_club_domestic_competition_id'] = players['current_club_domestic_competition_id'].astype('string')\n",
    "players['current_club_name'] = players['current_club_name'].astype('string')\n",
    "\n",
    "players.info()"
   ],
   "metadata": {
    "collapsed": false,
    "ExecuteTime": {
     "end_time": "2023-12-14T15:11:42.064368500Z",
     "start_time": "2023-12-14T15:11:41.997650Z"
    }
   },
   "id": "d599f31365e55cef"
  },
  {
   "cell_type": "code",
   "execution_count": null,
   "outputs": [],
   "source": [
    "# na_player_name_apps.isin(players['player_id']).sum()  <------------ we see after"
   ],
   "metadata": {
    "collapsed": false
   },
   "id": "e4e39fefbf1e5a98"
  },
  {
   "cell_type": "code",
   "execution_count": 9,
   "outputs": [
    {
     "name": "stdout",
     "output_type": "stream",
     "text": [
      "<class 'pandas.core.frame.DataFrame'>\n",
      "RangeIndex: 30302 entries, 0 to 30301\n",
      "Data columns (total 23 columns):\n",
      " #   Column                                Non-Null Count  Dtype         \n",
      "---  ------                                --------------  -----         \n",
      " 0   player_id                             30302 non-null  int64         \n",
      " 1   first_name                            28337 non-null  string        \n",
      " 2   last_name                             30302 non-null  string        \n",
      " 3   name                                  30302 non-null  string        \n",
      " 4   last_season                           30302 non-null  int64         \n",
      " 5   current_club_id                       30302 non-null  int64         \n",
      " 6   player_code                           30302 non-null  string        \n",
      " 7   country_of_birth                      27613 non-null  string        \n",
      " 8   city_of_birth                         28099 non-null  string        \n",
      " 9   country_of_citizenship                29759 non-null  string        \n",
      " 10  date_of_birth                         30255 non-null  datetime64[ns]\n",
      " 11  sub_position                          30130 non-null  category      \n",
      " 12  position                              30302 non-null  category      \n",
      " 13  foot                                  27913 non-null  string        \n",
      " 14  height_in_cm                          28204 non-null  float64       \n",
      " 15  market_value_in_eur                   19383 non-null  float64       \n",
      " 16  highest_market_value_in_eur           28981 non-null  float64       \n",
      " 17  contract_expiration_date              18835 non-null  datetime64[ns]\n",
      " 18  agent_name                            14941 non-null  string        \n",
      " 19  image_url                             30302 non-null  string        \n",
      " 20  url                                   30302 non-null  string        \n",
      " 21  current_club_domestic_competition_id  30302 non-null  string        \n",
      " 22  current_club_name                     30302 non-null  string        \n",
      "dtypes: category(2), datetime64[ns](2), float64(3), int64(3), string(13)\n",
      "memory usage: 4.9 MB\n"
     ]
    }
   ],
   "source": [
    "players['first_name'] = (players['first_name']#.fillna(\"\")\n",
    "                            .astype('string'))\n",
    "players.info()"
   ],
   "metadata": {
    "collapsed": false,
    "ExecuteTime": {
     "end_time": "2023-12-14T15:12:06.210158Z",
     "start_time": "2023-12-14T15:12:06.157287200Z"
    }
   },
   "id": "afb0aef99e11fe9a"
  },
  {
   "cell_type": "code",
   "execution_count": 10,
   "outputs": [
    {
     "data": {
      "text/plain": "height_in_cm\n180.0    2053\n185.0    1894\n183.0    1654\n178.0    1654\n188.0    1440\n182.0    1424\n184.0    1412\n186.0    1356\n187.0    1326\n175.0    1317\n190.0    1176\n181.0    1148\n177.0    1013\n179.0     988\n176.0     941\n189.0     808\n173.0     744\n191.0     724\n174.0     718\n192.0     591\n172.0     567\n170.0     539\n193.0     528\n194.0     332\n171.0     329\n195.0     261\n196.0     223\n168.0     205\n169.0     199\n197.0     128\n167.0     101\n198.0      95\n165.0      69\n166.0      63\n164.0      32\n199.0      31\n201.0      23\n200.0      23\n163.0      20\n202.0      15\n203.0      10\n162.0       8\n204.0       6\n206.0       4\n205.0       4\n160.0       3\n159.0       2\n161.0       2\n207.0       1\nName: count, dtype: int64"
     },
     "execution_count": 10,
     "metadata": {},
     "output_type": "execute_result"
    }
   ],
   "source": [
    "def handle_short_ppl(x):\n",
    "    if x is not None and x<100:\n",
    "        return x*10\n",
    "    return x\n",
    "\n",
    "\n",
    "players['height_in_cm'] = players['height_in_cm'].apply(lambda x : handle_short_ppl(x))\n",
    "players['height_in_cm'].value_counts()"
   ],
   "metadata": {
    "collapsed": false,
    "ExecuteTime": {
     "end_time": "2023-12-14T15:12:17.872565100Z",
     "start_time": "2023-12-14T15:12:17.847963500Z"
    }
   },
   "id": "b38ca307587cf272"
  },
  {
   "cell_type": "code",
   "execution_count": 11,
   "outputs": [
    {
     "data": {
      "text/plain": "0        False\n1        False\n2        False\n3        False\n4        False\n         ...  \n30297    False\n30298    False\n30299    False\n30300    False\n30301    False\nName: first_name, Length: 30302, dtype: bool"
     },
     "execution_count": 11,
     "metadata": {},
     "output_type": "execute_result"
    }
   ],
   "source": [
    "players['first_name'].isna()"
   ],
   "metadata": {
    "collapsed": false,
    "ExecuteTime": {
     "end_time": "2023-12-14T15:13:54.326200700Z",
     "start_time": "2023-12-14T15:13:54.302129500Z"
    }
   },
   "id": "3089388872abf948"
  },
  {
   "cell_type": "code",
   "execution_count": 16,
   "outputs": [
    {
     "ename": "AssertionError",
     "evalue": "",
     "output_type": "error",
     "traceback": [
      "\u001B[1;31m---------------------------------------------------------------------------\u001B[0m",
      "\u001B[1;31mAssertionError\u001B[0m                            Traceback (most recent call last)",
      "Cell \u001B[1;32mIn[16], line 1\u001B[0m\n\u001B[1;32m----> 1\u001B[0m \u001B[43mplayers\u001B[49m\u001B[38;5;241;43m.\u001B[39;49m\u001B[43mquery\u001B[49m\u001B[43m(\u001B[49m\u001B[38;5;124;43m'\u001B[39;49m\u001B[38;5;124;43mposition==\u001B[39;49m\u001B[38;5;124;43m\"\u001B[39;49m\u001B[38;5;124;43mMissing\u001B[39;49m\u001B[38;5;124;43m\"\u001B[39;49m\u001B[38;5;124;43m'\u001B[39;49m\u001B[43m)\u001B[49m\u001B[38;5;241;43m.\u001B[39;49m\u001B[43mapply\u001B[49m\u001B[43m(\u001B[49m\u001B[43m{\u001B[49m\u001B[38;5;124;43m'\u001B[39;49m\u001B[38;5;124;43mposition\u001B[39;49m\u001B[38;5;124;43m'\u001B[39;49m\u001B[43m:\u001B[49m\u001B[43m \u001B[49m\u001B[38;5;28;43;01mNone\u001B[39;49;00m\u001B[43m}\u001B[49m\u001B[43m)\u001B[49m\n",
      "File \u001B[1;32m~\\miniconda3\\lib\\site-packages\\pandas\\core\\frame.py:10034\u001B[0m, in \u001B[0;36mDataFrame.apply\u001B[1;34m(self, func, axis, raw, result_type, args, by_row, **kwargs)\u001B[0m\n\u001B[0;32m  10022\u001B[0m \u001B[38;5;28;01mfrom\u001B[39;00m \u001B[38;5;21;01mpandas\u001B[39;00m\u001B[38;5;21;01m.\u001B[39;00m\u001B[38;5;21;01mcore\u001B[39;00m\u001B[38;5;21;01m.\u001B[39;00m\u001B[38;5;21;01mapply\u001B[39;00m \u001B[38;5;28;01mimport\u001B[39;00m frame_apply\n\u001B[0;32m  10024\u001B[0m op \u001B[38;5;241m=\u001B[39m frame_apply(\n\u001B[0;32m  10025\u001B[0m     \u001B[38;5;28mself\u001B[39m,\n\u001B[0;32m  10026\u001B[0m     func\u001B[38;5;241m=\u001B[39mfunc,\n\u001B[1;32m   (...)\u001B[0m\n\u001B[0;32m  10032\u001B[0m     kwargs\u001B[38;5;241m=\u001B[39mkwargs,\n\u001B[0;32m  10033\u001B[0m )\n\u001B[1;32m> 10034\u001B[0m \u001B[38;5;28;01mreturn\u001B[39;00m \u001B[43mop\u001B[49m\u001B[38;5;241;43m.\u001B[39;49m\u001B[43mapply\u001B[49m\u001B[43m(\u001B[49m\u001B[43m)\u001B[49m\u001B[38;5;241m.\u001B[39m__finalize__(\u001B[38;5;28mself\u001B[39m, method\u001B[38;5;241m=\u001B[39m\u001B[38;5;124m\"\u001B[39m\u001B[38;5;124mapply\u001B[39m\u001B[38;5;124m\"\u001B[39m)\n",
      "File \u001B[1;32m~\\miniconda3\\lib\\site-packages\\pandas\\core\\apply.py:808\u001B[0m, in \u001B[0;36mFrameApply.apply\u001B[1;34m(self)\u001B[0m\n\u001B[0;32m    806\u001B[0m \u001B[38;5;66;03m# dispatch to handle list-like or dict-like\u001B[39;00m\n\u001B[0;32m    807\u001B[0m \u001B[38;5;28;01mif\u001B[39;00m is_list_like(\u001B[38;5;28mself\u001B[39m\u001B[38;5;241m.\u001B[39mfunc):\n\u001B[1;32m--> 808\u001B[0m     \u001B[38;5;28;01mreturn\u001B[39;00m \u001B[38;5;28;43mself\u001B[39;49m\u001B[38;5;241;43m.\u001B[39;49m\u001B[43mapply_list_or_dict_like\u001B[49m\u001B[43m(\u001B[49m\u001B[43m)\u001B[49m\n\u001B[0;32m    810\u001B[0m \u001B[38;5;66;03m# all empty\u001B[39;00m\n\u001B[0;32m    811\u001B[0m \u001B[38;5;28;01mif\u001B[39;00m \u001B[38;5;28mlen\u001B[39m(\u001B[38;5;28mself\u001B[39m\u001B[38;5;241m.\u001B[39mcolumns) \u001B[38;5;241m==\u001B[39m \u001B[38;5;241m0\u001B[39m \u001B[38;5;129;01mand\u001B[39;00m \u001B[38;5;28mlen\u001B[39m(\u001B[38;5;28mself\u001B[39m\u001B[38;5;241m.\u001B[39mindex) \u001B[38;5;241m==\u001B[39m \u001B[38;5;241m0\u001B[39m:\n",
      "File \u001B[1;32m~\\miniconda3\\lib\\site-packages\\pandas\\core\\apply.py:604\u001B[0m, in \u001B[0;36mApply.apply_list_or_dict_like\u001B[1;34m(self)\u001B[0m\n\u001B[0;32m    601\u001B[0m kwargs \u001B[38;5;241m=\u001B[39m \u001B[38;5;28mself\u001B[39m\u001B[38;5;241m.\u001B[39mkwargs\n\u001B[0;32m    603\u001B[0m \u001B[38;5;28;01mif\u001B[39;00m is_dict_like(func):\n\u001B[1;32m--> 604\u001B[0m     result \u001B[38;5;241m=\u001B[39m \u001B[38;5;28;43mself\u001B[39;49m\u001B[38;5;241;43m.\u001B[39;49m\u001B[43magg_or_apply_dict_like\u001B[49m\u001B[43m(\u001B[49m\u001B[43mop_name\u001B[49m\u001B[38;5;241;43m=\u001B[39;49m\u001B[38;5;124;43m\"\u001B[39;49m\u001B[38;5;124;43mapply\u001B[39;49m\u001B[38;5;124;43m\"\u001B[39;49m\u001B[43m)\u001B[49m\n\u001B[0;32m    605\u001B[0m \u001B[38;5;28;01melse\u001B[39;00m:\n\u001B[0;32m    606\u001B[0m     result \u001B[38;5;241m=\u001B[39m \u001B[38;5;28mself\u001B[39m\u001B[38;5;241m.\u001B[39magg_or_apply_list_like(op_name\u001B[38;5;241m=\u001B[39m\u001B[38;5;124m\"\u001B[39m\u001B[38;5;124mapply\u001B[39m\u001B[38;5;124m\"\u001B[39m)\n",
      "File \u001B[1;32m~\\miniconda3\\lib\\site-packages\\pandas\\core\\apply.py:739\u001B[0m, in \u001B[0;36mNDFrameApply.agg_or_apply_dict_like\u001B[1;34m(self, op_name)\u001B[0m\n\u001B[0;32m    736\u001B[0m     \u001B[38;5;28;01mraise\u001B[39;00m \u001B[38;5;167;01mNotImplementedError\u001B[39;00m(\u001B[38;5;124m\"\u001B[39m\u001B[38;5;124maxis other than 0 is not supported\u001B[39m\u001B[38;5;124m\"\u001B[39m)\n\u001B[0;32m    738\u001B[0m selection \u001B[38;5;241m=\u001B[39m \u001B[38;5;28;01mNone\u001B[39;00m\n\u001B[1;32m--> 739\u001B[0m result_index, result_data \u001B[38;5;241m=\u001B[39m \u001B[38;5;28;43mself\u001B[39;49m\u001B[38;5;241;43m.\u001B[39;49m\u001B[43mcompute_dict_like\u001B[49m\u001B[43m(\u001B[49m\n\u001B[0;32m    740\u001B[0m \u001B[43m    \u001B[49m\u001B[43mop_name\u001B[49m\u001B[43m,\u001B[49m\u001B[43m \u001B[49m\u001B[43mobj\u001B[49m\u001B[43m,\u001B[49m\u001B[43m \u001B[49m\u001B[43mselection\u001B[49m\u001B[43m,\u001B[49m\u001B[43m \u001B[49m\u001B[43mkwargs\u001B[49m\n\u001B[0;32m    741\u001B[0m \u001B[43m\u001B[49m\u001B[43m)\u001B[49m\n\u001B[0;32m    742\u001B[0m result \u001B[38;5;241m=\u001B[39m \u001B[38;5;28mself\u001B[39m\u001B[38;5;241m.\u001B[39mwrap_results_dict_like(obj, result_index, result_data)\n\u001B[0;32m    743\u001B[0m \u001B[38;5;28;01mreturn\u001B[39;00m result\n",
      "File \u001B[1;32m~\\miniconda3\\lib\\site-packages\\pandas\\core\\apply.py:479\u001B[0m, in \u001B[0;36mApply.compute_dict_like\u001B[1;34m(self, op_name, selected_obj, selection, kwargs)\u001B[0m\n\u001B[0;32m    476\u001B[0m         results \u001B[38;5;241m+\u001B[39m\u001B[38;5;241m=\u001B[39m key_data\n\u001B[0;32m    477\u001B[0m \u001B[38;5;28;01melse\u001B[39;00m:\n\u001B[0;32m    478\u001B[0m     \u001B[38;5;66;03m# key used for column selection and output\u001B[39;00m\n\u001B[1;32m--> 479\u001B[0m     results \u001B[38;5;241m=\u001B[39m [\n\u001B[0;32m    480\u001B[0m         \u001B[38;5;28mgetattr\u001B[39m(obj\u001B[38;5;241m.\u001B[39m_gotitem(key, ndim\u001B[38;5;241m=\u001B[39m\u001B[38;5;241m1\u001B[39m), op_name)(how, \u001B[38;5;241m*\u001B[39m\u001B[38;5;241m*\u001B[39mkwargs)\n\u001B[0;32m    481\u001B[0m         \u001B[38;5;28;01mfor\u001B[39;00m key, how \u001B[38;5;129;01min\u001B[39;00m func\u001B[38;5;241m.\u001B[39mitems()\n\u001B[0;32m    482\u001B[0m     ]\n\u001B[0;32m    483\u001B[0m     keys \u001B[38;5;241m=\u001B[39m \u001B[38;5;28mlist\u001B[39m(func\u001B[38;5;241m.\u001B[39mkeys())\n\u001B[0;32m    485\u001B[0m \u001B[38;5;28;01mreturn\u001B[39;00m keys, results\n",
      "File \u001B[1;32m~\\miniconda3\\lib\\site-packages\\pandas\\core\\apply.py:480\u001B[0m, in \u001B[0;36m<listcomp>\u001B[1;34m(.0)\u001B[0m\n\u001B[0;32m    476\u001B[0m         results \u001B[38;5;241m+\u001B[39m\u001B[38;5;241m=\u001B[39m key_data\n\u001B[0;32m    477\u001B[0m \u001B[38;5;28;01melse\u001B[39;00m:\n\u001B[0;32m    478\u001B[0m     \u001B[38;5;66;03m# key used for column selection and output\u001B[39;00m\n\u001B[0;32m    479\u001B[0m     results \u001B[38;5;241m=\u001B[39m [\n\u001B[1;32m--> 480\u001B[0m         \u001B[38;5;28mgetattr\u001B[39m(obj\u001B[38;5;241m.\u001B[39m_gotitem(key, ndim\u001B[38;5;241m=\u001B[39m\u001B[38;5;241m1\u001B[39m), op_name)(how, \u001B[38;5;241m*\u001B[39m\u001B[38;5;241m*\u001B[39mkwargs)\n\u001B[0;32m    481\u001B[0m         \u001B[38;5;28;01mfor\u001B[39;00m key, how \u001B[38;5;129;01min\u001B[39;00m func\u001B[38;5;241m.\u001B[39mitems()\n\u001B[0;32m    482\u001B[0m     ]\n\u001B[0;32m    483\u001B[0m     keys \u001B[38;5;241m=\u001B[39m \u001B[38;5;28mlist\u001B[39m(func\u001B[38;5;241m.\u001B[39mkeys())\n\u001B[0;32m    485\u001B[0m \u001B[38;5;28;01mreturn\u001B[39;00m keys, results\n",
      "File \u001B[1;32m~\\miniconda3\\lib\\site-packages\\pandas\\core\\series.py:4764\u001B[0m, in \u001B[0;36mSeries.apply\u001B[1;34m(self, func, convert_dtype, args, by_row, **kwargs)\u001B[0m\n\u001B[0;32m   4629\u001B[0m \u001B[38;5;28;01mdef\u001B[39;00m \u001B[38;5;21mapply\u001B[39m(\n\u001B[0;32m   4630\u001B[0m     \u001B[38;5;28mself\u001B[39m,\n\u001B[0;32m   4631\u001B[0m     func: AggFuncType,\n\u001B[1;32m   (...)\u001B[0m\n\u001B[0;32m   4636\u001B[0m     \u001B[38;5;241m*\u001B[39m\u001B[38;5;241m*\u001B[39mkwargs,\n\u001B[0;32m   4637\u001B[0m ) \u001B[38;5;241m-\u001B[39m\u001B[38;5;241m>\u001B[39m DataFrame \u001B[38;5;241m|\u001B[39m Series:\n\u001B[0;32m   4638\u001B[0m \u001B[38;5;250m    \u001B[39m\u001B[38;5;124;03m\"\"\"\u001B[39;00m\n\u001B[0;32m   4639\u001B[0m \u001B[38;5;124;03m    Invoke function on values of Series.\u001B[39;00m\n\u001B[0;32m   4640\u001B[0m \n\u001B[1;32m   (...)\u001B[0m\n\u001B[0;32m   4755\u001B[0m \u001B[38;5;124;03m    dtype: float64\u001B[39;00m\n\u001B[0;32m   4756\u001B[0m \u001B[38;5;124;03m    \"\"\"\u001B[39;00m\n\u001B[0;32m   4757\u001B[0m     \u001B[38;5;28;01mreturn\u001B[39;00m \u001B[43mSeriesApply\u001B[49m\u001B[43m(\u001B[49m\n\u001B[0;32m   4758\u001B[0m \u001B[43m        \u001B[49m\u001B[38;5;28;43mself\u001B[39;49m\u001B[43m,\u001B[49m\n\u001B[0;32m   4759\u001B[0m \u001B[43m        \u001B[49m\u001B[43mfunc\u001B[49m\u001B[43m,\u001B[49m\n\u001B[0;32m   4760\u001B[0m \u001B[43m        \u001B[49m\u001B[43mconvert_dtype\u001B[49m\u001B[38;5;241;43m=\u001B[39;49m\u001B[43mconvert_dtype\u001B[49m\u001B[43m,\u001B[49m\n\u001B[0;32m   4761\u001B[0m \u001B[43m        \u001B[49m\u001B[43mby_row\u001B[49m\u001B[38;5;241;43m=\u001B[39;49m\u001B[43mby_row\u001B[49m\u001B[43m,\u001B[49m\n\u001B[0;32m   4762\u001B[0m \u001B[43m        \u001B[49m\u001B[43margs\u001B[49m\u001B[38;5;241;43m=\u001B[39;49m\u001B[43margs\u001B[49m\u001B[43m,\u001B[49m\n\u001B[0;32m   4763\u001B[0m \u001B[43m        \u001B[49m\u001B[43mkwargs\u001B[49m\u001B[38;5;241;43m=\u001B[39;49m\u001B[43mkwargs\u001B[49m\u001B[43m,\u001B[49m\n\u001B[1;32m-> 4764\u001B[0m \u001B[43m    \u001B[49m\u001B[43m)\u001B[49m\u001B[38;5;241;43m.\u001B[39;49m\u001B[43mapply\u001B[49m\u001B[43m(\u001B[49m\u001B[43m)\u001B[49m\n",
      "File \u001B[1;32m~\\miniconda3\\lib\\site-packages\\pandas\\core\\apply.py:1206\u001B[0m, in \u001B[0;36mSeriesApply.apply\u001B[1;34m(self)\u001B[0m\n\u001B[0;32m   1203\u001B[0m     \u001B[38;5;28;01mreturn\u001B[39;00m \u001B[38;5;28mself\u001B[39m\u001B[38;5;241m.\u001B[39mapply_str()\n\u001B[0;32m   1205\u001B[0m \u001B[38;5;28;01mif\u001B[39;00m \u001B[38;5;28mself\u001B[39m\u001B[38;5;241m.\u001B[39mby_row \u001B[38;5;241m==\u001B[39m \u001B[38;5;124m\"\u001B[39m\u001B[38;5;124m_compat\u001B[39m\u001B[38;5;124m\"\u001B[39m:\n\u001B[1;32m-> 1206\u001B[0m     \u001B[38;5;28;01mreturn\u001B[39;00m \u001B[38;5;28;43mself\u001B[39;49m\u001B[38;5;241;43m.\u001B[39;49m\u001B[43mapply_compat\u001B[49m\u001B[43m(\u001B[49m\u001B[43m)\u001B[49m\n\u001B[0;32m   1208\u001B[0m \u001B[38;5;66;03m# self.func is Callable\u001B[39;00m\n\u001B[0;32m   1209\u001B[0m \u001B[38;5;28;01mreturn\u001B[39;00m \u001B[38;5;28mself\u001B[39m\u001B[38;5;241m.\u001B[39mapply_standard()\n",
      "File \u001B[1;32m~\\miniconda3\\lib\\site-packages\\pandas\\core\\apply.py:1259\u001B[0m, in \u001B[0;36mSeriesApply.apply_compat\u001B[1;34m(self)\u001B[0m\n\u001B[0;32m   1256\u001B[0m         \u001B[38;5;28;01mreturn\u001B[39;00m obj\u001B[38;5;241m.\u001B[39mapply(func, by_row\u001B[38;5;241m=\u001B[39m\u001B[38;5;28;01mFalse\u001B[39;00m)\n\u001B[0;32m   1258\u001B[0m \u001B[38;5;28;01mtry\u001B[39;00m:\n\u001B[1;32m-> 1259\u001B[0m     result \u001B[38;5;241m=\u001B[39m \u001B[43mobj\u001B[49m\u001B[38;5;241;43m.\u001B[39;49m\u001B[43mapply\u001B[49m\u001B[43m(\u001B[49m\u001B[43mfunc\u001B[49m\u001B[43m,\u001B[49m\u001B[43m \u001B[49m\u001B[43mby_row\u001B[49m\u001B[38;5;241;43m=\u001B[39;49m\u001B[38;5;124;43m\"\u001B[39;49m\u001B[38;5;124;43mcompat\u001B[39;49m\u001B[38;5;124;43m\"\u001B[39;49m\u001B[43m)\u001B[49m\n\u001B[0;32m   1260\u001B[0m \u001B[38;5;28;01mexcept\u001B[39;00m (\u001B[38;5;167;01mValueError\u001B[39;00m, \u001B[38;5;167;01mAttributeError\u001B[39;00m, \u001B[38;5;167;01mTypeError\u001B[39;00m):\n\u001B[0;32m   1261\u001B[0m     result \u001B[38;5;241m=\u001B[39m obj\u001B[38;5;241m.\u001B[39mapply(func, by_row\u001B[38;5;241m=\u001B[39m\u001B[38;5;28;01mFalse\u001B[39;00m)\n",
      "File \u001B[1;32m~\\miniconda3\\lib\\site-packages\\pandas\\core\\series.py:4764\u001B[0m, in \u001B[0;36mSeries.apply\u001B[1;34m(self, func, convert_dtype, args, by_row, **kwargs)\u001B[0m\n\u001B[0;32m   4629\u001B[0m \u001B[38;5;28;01mdef\u001B[39;00m \u001B[38;5;21mapply\u001B[39m(\n\u001B[0;32m   4630\u001B[0m     \u001B[38;5;28mself\u001B[39m,\n\u001B[0;32m   4631\u001B[0m     func: AggFuncType,\n\u001B[1;32m   (...)\u001B[0m\n\u001B[0;32m   4636\u001B[0m     \u001B[38;5;241m*\u001B[39m\u001B[38;5;241m*\u001B[39mkwargs,\n\u001B[0;32m   4637\u001B[0m ) \u001B[38;5;241m-\u001B[39m\u001B[38;5;241m>\u001B[39m DataFrame \u001B[38;5;241m|\u001B[39m Series:\n\u001B[0;32m   4638\u001B[0m \u001B[38;5;250m    \u001B[39m\u001B[38;5;124;03m\"\"\"\u001B[39;00m\n\u001B[0;32m   4639\u001B[0m \u001B[38;5;124;03m    Invoke function on values of Series.\u001B[39;00m\n\u001B[0;32m   4640\u001B[0m \n\u001B[1;32m   (...)\u001B[0m\n\u001B[0;32m   4755\u001B[0m \u001B[38;5;124;03m    dtype: float64\u001B[39;00m\n\u001B[0;32m   4756\u001B[0m \u001B[38;5;124;03m    \"\"\"\u001B[39;00m\n\u001B[0;32m   4757\u001B[0m     \u001B[38;5;28;01mreturn\u001B[39;00m \u001B[43mSeriesApply\u001B[49m\u001B[43m(\u001B[49m\n\u001B[0;32m   4758\u001B[0m \u001B[43m        \u001B[49m\u001B[38;5;28;43mself\u001B[39;49m\u001B[43m,\u001B[49m\n\u001B[0;32m   4759\u001B[0m \u001B[43m        \u001B[49m\u001B[43mfunc\u001B[49m\u001B[43m,\u001B[49m\n\u001B[0;32m   4760\u001B[0m \u001B[43m        \u001B[49m\u001B[43mconvert_dtype\u001B[49m\u001B[38;5;241;43m=\u001B[39;49m\u001B[43mconvert_dtype\u001B[49m\u001B[43m,\u001B[49m\n\u001B[0;32m   4761\u001B[0m \u001B[43m        \u001B[49m\u001B[43mby_row\u001B[49m\u001B[38;5;241;43m=\u001B[39;49m\u001B[43mby_row\u001B[49m\u001B[43m,\u001B[49m\n\u001B[0;32m   4762\u001B[0m \u001B[43m        \u001B[49m\u001B[43margs\u001B[49m\u001B[38;5;241;43m=\u001B[39;49m\u001B[43margs\u001B[49m\u001B[43m,\u001B[49m\n\u001B[0;32m   4763\u001B[0m \u001B[43m        \u001B[49m\u001B[43mkwargs\u001B[49m\u001B[38;5;241;43m=\u001B[39;49m\u001B[43mkwargs\u001B[49m\u001B[43m,\u001B[49m\n\u001B[1;32m-> 4764\u001B[0m \u001B[43m    \u001B[49m\u001B[43m)\u001B[49m\u001B[38;5;241;43m.\u001B[39;49m\u001B[43mapply\u001B[49m\u001B[43m(\u001B[49m\u001B[43m)\u001B[49m\n",
      "File \u001B[1;32m~\\miniconda3\\lib\\site-packages\\pandas\\core\\apply.py:1209\u001B[0m, in \u001B[0;36mSeriesApply.apply\u001B[1;34m(self)\u001B[0m\n\u001B[0;32m   1206\u001B[0m     \u001B[38;5;28;01mreturn\u001B[39;00m \u001B[38;5;28mself\u001B[39m\u001B[38;5;241m.\u001B[39mapply_compat()\n\u001B[0;32m   1208\u001B[0m \u001B[38;5;66;03m# self.func is Callable\u001B[39;00m\n\u001B[1;32m-> 1209\u001B[0m \u001B[38;5;28;01mreturn\u001B[39;00m \u001B[38;5;28;43mself\u001B[39;49m\u001B[38;5;241;43m.\u001B[39;49m\u001B[43mapply_standard\u001B[49m\u001B[43m(\u001B[49m\u001B[43m)\u001B[49m\n",
      "File \u001B[1;32m~\\miniconda3\\lib\\site-packages\\pandas\\core\\apply.py:1289\u001B[0m, in \u001B[0;36mSeriesApply.apply_standard\u001B[1;34m(self)\u001B[0m\n\u001B[0;32m   1283\u001B[0m \u001B[38;5;66;03m# row-wise access\u001B[39;00m\n\u001B[0;32m   1284\u001B[0m \u001B[38;5;66;03m# apply doesn't have a `na_action` keyword and for backward compat reasons\u001B[39;00m\n\u001B[0;32m   1285\u001B[0m \u001B[38;5;66;03m# we need to give `na_action=\"ignore\"` for categorical data.\u001B[39;00m\n\u001B[0;32m   1286\u001B[0m \u001B[38;5;66;03m# TODO: remove the `na_action=\"ignore\"` when that default has been changed in\u001B[39;00m\n\u001B[0;32m   1287\u001B[0m \u001B[38;5;66;03m#  Categorical (GH51645).\u001B[39;00m\n\u001B[0;32m   1288\u001B[0m action \u001B[38;5;241m=\u001B[39m \u001B[38;5;124m\"\u001B[39m\u001B[38;5;124mignore\u001B[39m\u001B[38;5;124m\"\u001B[39m \u001B[38;5;28;01mif\u001B[39;00m \u001B[38;5;28misinstance\u001B[39m(obj\u001B[38;5;241m.\u001B[39mdtype, CategoricalDtype) \u001B[38;5;28;01melse\u001B[39;00m \u001B[38;5;28;01mNone\u001B[39;00m\n\u001B[1;32m-> 1289\u001B[0m mapped \u001B[38;5;241m=\u001B[39m \u001B[43mobj\u001B[49m\u001B[38;5;241;43m.\u001B[39;49m\u001B[43m_map_values\u001B[49m\u001B[43m(\u001B[49m\n\u001B[0;32m   1290\u001B[0m \u001B[43m    \u001B[49m\u001B[43mmapper\u001B[49m\u001B[38;5;241;43m=\u001B[39;49m\u001B[43mcurried\u001B[49m\u001B[43m,\u001B[49m\u001B[43m \u001B[49m\u001B[43mna_action\u001B[49m\u001B[38;5;241;43m=\u001B[39;49m\u001B[43maction\u001B[49m\u001B[43m,\u001B[49m\u001B[43m \u001B[49m\u001B[43mconvert\u001B[49m\u001B[38;5;241;43m=\u001B[39;49m\u001B[38;5;28;43mself\u001B[39;49m\u001B[38;5;241;43m.\u001B[39;49m\u001B[43mconvert_dtype\u001B[49m\n\u001B[0;32m   1291\u001B[0m \u001B[43m\u001B[49m\u001B[43m)\u001B[49m\n\u001B[0;32m   1293\u001B[0m \u001B[38;5;28;01mif\u001B[39;00m \u001B[38;5;28mlen\u001B[39m(mapped) \u001B[38;5;129;01mand\u001B[39;00m \u001B[38;5;28misinstance\u001B[39m(mapped[\u001B[38;5;241m0\u001B[39m], ABCSeries):\n\u001B[0;32m   1294\u001B[0m     \u001B[38;5;66;03m# GH#43986 Need to do list(mapped) in order to get treated as nested\u001B[39;00m\n\u001B[0;32m   1295\u001B[0m     \u001B[38;5;66;03m#  See also GH#25959 regarding EA support\u001B[39;00m\n\u001B[0;32m   1296\u001B[0m     \u001B[38;5;28;01mreturn\u001B[39;00m obj\u001B[38;5;241m.\u001B[39m_constructor_expanddim(\u001B[38;5;28mlist\u001B[39m(mapped), index\u001B[38;5;241m=\u001B[39mobj\u001B[38;5;241m.\u001B[39mindex)\n",
      "File \u001B[1;32m~\\miniconda3\\lib\\site-packages\\pandas\\core\\base.py:919\u001B[0m, in \u001B[0;36mIndexOpsMixin._map_values\u001B[1;34m(self, mapper, na_action, convert)\u001B[0m\n\u001B[0;32m    916\u001B[0m arr \u001B[38;5;241m=\u001B[39m \u001B[38;5;28mself\u001B[39m\u001B[38;5;241m.\u001B[39m_values\n\u001B[0;32m    918\u001B[0m \u001B[38;5;28;01mif\u001B[39;00m \u001B[38;5;28misinstance\u001B[39m(arr, ExtensionArray):\n\u001B[1;32m--> 919\u001B[0m     \u001B[38;5;28;01mreturn\u001B[39;00m \u001B[43marr\u001B[49m\u001B[38;5;241;43m.\u001B[39;49m\u001B[43mmap\u001B[49m\u001B[43m(\u001B[49m\u001B[43mmapper\u001B[49m\u001B[43m,\u001B[49m\u001B[43m \u001B[49m\u001B[43mna_action\u001B[49m\u001B[38;5;241;43m=\u001B[39;49m\u001B[43mna_action\u001B[49m\u001B[43m)\u001B[49m\n\u001B[0;32m    921\u001B[0m \u001B[38;5;28;01mreturn\u001B[39;00m algorithms\u001B[38;5;241m.\u001B[39mmap_array(arr, mapper, na_action\u001B[38;5;241m=\u001B[39mna_action, convert\u001B[38;5;241m=\u001B[39mconvert)\n",
      "File \u001B[1;32m~\\miniconda3\\lib\\site-packages\\pandas\\core\\arrays\\categorical.py:1528\u001B[0m, in \u001B[0;36mCategorical.map\u001B[1;34m(self, mapper, na_action)\u001B[0m\n\u001B[0;32m   1518\u001B[0m     warnings\u001B[38;5;241m.\u001B[39mwarn(\n\u001B[0;32m   1519\u001B[0m         \u001B[38;5;124m\"\u001B[39m\u001B[38;5;124mThe default value of \u001B[39m\u001B[38;5;124m'\u001B[39m\u001B[38;5;124mignore\u001B[39m\u001B[38;5;124m'\u001B[39m\u001B[38;5;124m for the `na_action` parameter in \u001B[39m\u001B[38;5;124m\"\u001B[39m\n\u001B[0;32m   1520\u001B[0m         \u001B[38;5;124m\"\u001B[39m\u001B[38;5;124mpandas.Categorical.map is deprecated and will be \u001B[39m\u001B[38;5;124m\"\u001B[39m\n\u001B[1;32m   (...)\u001B[0m\n\u001B[0;32m   1524\u001B[0m         stacklevel\u001B[38;5;241m=\u001B[39mfind_stack_level(),\n\u001B[0;32m   1525\u001B[0m     )\n\u001B[0;32m   1526\u001B[0m     na_action \u001B[38;5;241m=\u001B[39m \u001B[38;5;124m\"\u001B[39m\u001B[38;5;124mignore\u001B[39m\u001B[38;5;124m\"\u001B[39m\n\u001B[1;32m-> 1528\u001B[0m \u001B[38;5;28;01massert\u001B[39;00m \u001B[38;5;28mcallable\u001B[39m(mapper) \u001B[38;5;129;01mor\u001B[39;00m is_dict_like(mapper)\n\u001B[0;32m   1530\u001B[0m new_categories \u001B[38;5;241m=\u001B[39m \u001B[38;5;28mself\u001B[39m\u001B[38;5;241m.\u001B[39mcategories\u001B[38;5;241m.\u001B[39mmap(mapper)\n\u001B[0;32m   1532\u001B[0m has_nans \u001B[38;5;241m=\u001B[39m np\u001B[38;5;241m.\u001B[39many(\u001B[38;5;28mself\u001B[39m\u001B[38;5;241m.\u001B[39m_codes \u001B[38;5;241m==\u001B[39m \u001B[38;5;241m-\u001B[39m\u001B[38;5;241m1\u001B[39m)\n",
      "\u001B[1;31mAssertionError\u001B[0m: "
     ]
    }
   ],
   "source": [
    "players.query('position==\"Missing\"').apply(set)  # todo: set them as None\n"
   ],
   "metadata": {
    "collapsed": false,
    "ExecuteTime": {
     "end_time": "2023-12-14T15:29:46.179619600Z",
     "start_time": "2023-12-14T15:29:44.852966200Z"
    }
   },
   "id": "c92f82ed523e51e9"
  }
 ],
 "metadata": {
  "kernelspec": {
   "display_name": "Python 3",
   "language": "python",
   "name": "python3"
  },
  "language_info": {
   "codemirror_mode": {
    "name": "ipython",
    "version": 2
   },
   "file_extension": ".py",
   "mimetype": "text/x-python",
   "name": "python",
   "nbconvert_exporter": "python",
   "pygments_lexer": "ipython2",
   "version": "2.7.6"
  }
 },
 "nbformat": 4,
 "nbformat_minor": 5
}

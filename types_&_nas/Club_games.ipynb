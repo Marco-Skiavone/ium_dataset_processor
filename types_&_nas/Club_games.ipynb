{
 "cells": [
  {
   "cell_type": "code",
   "execution_count": null,
   "id": "initial_id",
   "metadata": {
    "collapsed": true
   },
   "outputs": [],
   "source": [
    "from modules.module_for_imports import *"
   ]
  },
  {
   "cell_type": "markdown",
   "source": [
    "# Club_games analysis"
   ],
   "metadata": {
    "collapsed": false
   },
   "id": "baa17527cee1f301"
  },
  {
   "cell_type": "code",
   "execution_count": null,
   "outputs": [],
   "source": [
    "club_games = get_club_games('../')\n",
    "club_games.info()"
   ],
   "metadata": {
    "collapsed": false
   },
   "id": "a727b7b14a34f4ba"
  },
  {
   "cell_type": "code",
   "execution_count": null,
   "outputs": [],
   "source": [
    "club_games['game_id'].drop_duplicates().shape[0]"
   ],
   "metadata": {
    "collapsed": false
   },
   "id": "87153ba9cbea5619"
  },
  {
   "cell_type": "markdown",
   "source": [
    "> ### So we have 2 tuples for every games' tuple."
   ],
   "metadata": {
    "collapsed": false
   },
   "id": "524852ac59b53bab"
  },
  {
   "cell_type": "code",
   "execution_count": null,
   "outputs": [],
   "source": [
    "# See what kind of type is 'hosting'\n",
    "club_games['hosting'].value_counts()"
   ],
   "metadata": {
    "collapsed": false
   },
   "id": "daa96db6df0a85f4"
  },
  {
   "cell_type": "code",
   "execution_count": null,
   "outputs": [],
   "source": [
    "(club_games.drop_duplicates('game_id')['opponent_manager_name'].shape == \n",
    "club_games.drop_duplicates('game_id')['own_manager_name'].shape)"
   ],
   "metadata": {
    "collapsed": false
   },
   "id": "8ff109e4e895b2c0"
  },
  {
   "cell_type": "code",
   "execution_count": null,
   "outputs": [],
   "source": [
    "club_games['is_win'].value_counts()"
   ],
   "metadata": {
    "collapsed": false
   },
   "id": "715d7f8cec7032da"
  },
  {
   "cell_type": "markdown",
   "source": [
    "> # 'is_win' can be casted to a boolean!"
   ],
   "metadata": {
    "collapsed": false
   },
   "id": "175e415d1aa2a058"
  }
 ],
 "metadata": {
  "kernelspec": {
   "display_name": "Python 3",
   "language": "python",
   "name": "python3"
  },
  "language_info": {
   "codemirror_mode": {
    "name": "ipython",
    "version": 2
   },
   "file_extension": ".py",
   "mimetype": "text/x-python",
   "name": "python",
   "nbconvert_exporter": "python",
   "pygments_lexer": "ipython2",
   "version": "2.7.6"
  }
 },
 "nbformat": 4,
 "nbformat_minor": 5
}

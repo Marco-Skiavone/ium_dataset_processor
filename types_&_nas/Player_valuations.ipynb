{
 "cells": [
  {
   "cell_type": "code",
   "execution_count": 38,
   "outputs": [],
   "source": [
    "from modules.module_for_imports import *"
   ],
   "metadata": {
    "collapsed": false,
    "ExecuteTime": {
     "end_time": "2023-12-15T13:47:21.580869300Z",
     "start_time": "2023-12-15T13:47:21.527900800Z"
    }
   },
   "id": "a5d40ea0522dafe3"
  },
  {
   "cell_type": "markdown",
   "source": [
    "# Player Valuations"
   ],
   "metadata": {
    "collapsed": false
   },
   "id": "81955830577749e6"
  },
  {
   "cell_type": "code",
   "execution_count": 39,
   "outputs": [
    {
     "data": {
      "text/plain": "        player_id  last_season             datetime        date    dateweek  \\\n0            3132         2013  2003-12-09 00:00:00  2003-12-09  2003-12-08   \n1            6893         2012  2003-12-15 00:00:00  2003-12-15  2003-12-15   \n2              10         2015  2004-10-04 00:00:00  2004-10-04  2004-10-04   \n3              26         2017  2004-10-04 00:00:00  2004-10-04  2004-10-04   \n4              65         2015  2004-10-04 00:00:00  2004-10-04  2004-10-04   \n...           ...          ...                  ...         ...         ...   \n440658     950091         2023  2023-09-21 00:00:00  2023-09-21  2023-09-18   \n440659     968903         2023  2023-09-21 00:00:00  2023-09-21  2023-09-18   \n440660    1031590         2023  2023-09-21 00:00:00  2023-09-21  2023-09-18   \n440661    1166093         2023  2023-09-21 00:00:00  2023-09-21  2023-09-18   \n440662     405676         2018  2023-12-19 00:00:00  2023-12-19  2023-12-18   \n\n        market_value_in_eur  n  current_club_id  \\\n0                    400000  1              126   \n1                    900000  1              984   \n2                   7000000  1              398   \n3                   1500000  1               16   \n4                   8000000  1             1091   \n...                     ... ..              ...   \n440658              1000000  1             1091   \n440659                50000  1              653   \n440660                50000  1             6418   \n440661                50000  1            30120   \n440662                50000  1            23826   \n\n       player_club_domestic_competition_id  \n0                                      TR1  \n1                                      GB1  \n2                                      IT1  \n3                                       L1  \n4                                      GR1  \n...                                    ...  \n440658                                 GR1  \n440659                                 GR1  \n440660                                 GR1  \n440661                                 GR1  \n440662                                  L1  \n\n[440663 rows x 9 columns]",
      "text/html": "<div>\n<style scoped>\n    .dataframe tbody tr th:only-of-type {\n        vertical-align: middle;\n    }\n\n    .dataframe tbody tr th {\n        vertical-align: top;\n    }\n\n    .dataframe thead th {\n        text-align: right;\n    }\n</style>\n<table border=\"1\" class=\"dataframe\">\n  <thead>\n    <tr style=\"text-align: right;\">\n      <th></th>\n      <th>player_id</th>\n      <th>last_season</th>\n      <th>datetime</th>\n      <th>date</th>\n      <th>dateweek</th>\n      <th>market_value_in_eur</th>\n      <th>n</th>\n      <th>current_club_id</th>\n      <th>player_club_domestic_competition_id</th>\n    </tr>\n  </thead>\n  <tbody>\n    <tr>\n      <th>0</th>\n      <td>3132</td>\n      <td>2013</td>\n      <td>2003-12-09 00:00:00</td>\n      <td>2003-12-09</td>\n      <td>2003-12-08</td>\n      <td>400000</td>\n      <td>1</td>\n      <td>126</td>\n      <td>TR1</td>\n    </tr>\n    <tr>\n      <th>1</th>\n      <td>6893</td>\n      <td>2012</td>\n      <td>2003-12-15 00:00:00</td>\n      <td>2003-12-15</td>\n      <td>2003-12-15</td>\n      <td>900000</td>\n      <td>1</td>\n      <td>984</td>\n      <td>GB1</td>\n    </tr>\n    <tr>\n      <th>2</th>\n      <td>10</td>\n      <td>2015</td>\n      <td>2004-10-04 00:00:00</td>\n      <td>2004-10-04</td>\n      <td>2004-10-04</td>\n      <td>7000000</td>\n      <td>1</td>\n      <td>398</td>\n      <td>IT1</td>\n    </tr>\n    <tr>\n      <th>3</th>\n      <td>26</td>\n      <td>2017</td>\n      <td>2004-10-04 00:00:00</td>\n      <td>2004-10-04</td>\n      <td>2004-10-04</td>\n      <td>1500000</td>\n      <td>1</td>\n      <td>16</td>\n      <td>L1</td>\n    </tr>\n    <tr>\n      <th>4</th>\n      <td>65</td>\n      <td>2015</td>\n      <td>2004-10-04 00:00:00</td>\n      <td>2004-10-04</td>\n      <td>2004-10-04</td>\n      <td>8000000</td>\n      <td>1</td>\n      <td>1091</td>\n      <td>GR1</td>\n    </tr>\n    <tr>\n      <th>...</th>\n      <td>...</td>\n      <td>...</td>\n      <td>...</td>\n      <td>...</td>\n      <td>...</td>\n      <td>...</td>\n      <td>...</td>\n      <td>...</td>\n      <td>...</td>\n    </tr>\n    <tr>\n      <th>440658</th>\n      <td>950091</td>\n      <td>2023</td>\n      <td>2023-09-21 00:00:00</td>\n      <td>2023-09-21</td>\n      <td>2023-09-18</td>\n      <td>1000000</td>\n      <td>1</td>\n      <td>1091</td>\n      <td>GR1</td>\n    </tr>\n    <tr>\n      <th>440659</th>\n      <td>968903</td>\n      <td>2023</td>\n      <td>2023-09-21 00:00:00</td>\n      <td>2023-09-21</td>\n      <td>2023-09-18</td>\n      <td>50000</td>\n      <td>1</td>\n      <td>653</td>\n      <td>GR1</td>\n    </tr>\n    <tr>\n      <th>440660</th>\n      <td>1031590</td>\n      <td>2023</td>\n      <td>2023-09-21 00:00:00</td>\n      <td>2023-09-21</td>\n      <td>2023-09-18</td>\n      <td>50000</td>\n      <td>1</td>\n      <td>6418</td>\n      <td>GR1</td>\n    </tr>\n    <tr>\n      <th>440661</th>\n      <td>1166093</td>\n      <td>2023</td>\n      <td>2023-09-21 00:00:00</td>\n      <td>2023-09-21</td>\n      <td>2023-09-18</td>\n      <td>50000</td>\n      <td>1</td>\n      <td>30120</td>\n      <td>GR1</td>\n    </tr>\n    <tr>\n      <th>440662</th>\n      <td>405676</td>\n      <td>2018</td>\n      <td>2023-12-19 00:00:00</td>\n      <td>2023-12-19</td>\n      <td>2023-12-18</td>\n      <td>50000</td>\n      <td>1</td>\n      <td>23826</td>\n      <td>L1</td>\n    </tr>\n  </tbody>\n</table>\n<p>440663 rows × 9 columns</p>\n</div>"
     },
     "execution_count": 39,
     "metadata": {},
     "output_type": "execute_result"
    }
   ],
   "source": [
    "player_val = pd.read_csv('../Assignment_Data_2023-2024/player_valuations.csv')\n",
    "player_val"
   ],
   "metadata": {
    "collapsed": false,
    "ExecuteTime": {
     "end_time": "2023-12-15T13:47:21.844871100Z",
     "start_time": "2023-12-15T13:47:21.545869600Z"
    }
   },
   "id": "f9529557e3d24f10"
  },
  {
   "cell_type": "code",
   "execution_count": 40,
   "outputs": [
    {
     "name": "stdout",
     "output_type": "stream",
     "text": [
      "<class 'pandas.core.frame.DataFrame'>\n",
      "RangeIndex: 440663 entries, 0 to 440662\n",
      "Data columns (total 9 columns):\n",
      " #   Column                               Non-Null Count   Dtype \n",
      "---  ------                               --------------   ----- \n",
      " 0   player_id                            440663 non-null  int64 \n",
      " 1   last_season                          440663 non-null  int64 \n",
      " 2   datetime                             440663 non-null  object\n",
      " 3   date                                 440663 non-null  object\n",
      " 4   dateweek                             440663 non-null  object\n",
      " 5   market_value_in_eur                  440663 non-null  int64 \n",
      " 6   n                                    440663 non-null  int64 \n",
      " 7   current_club_id                      440663 non-null  int64 \n",
      " 8   player_club_domestic_competition_id  440663 non-null  object\n",
      "dtypes: int64(5), object(4)\n",
      "memory usage: 30.3+ MB\n"
     ]
    }
   ],
   "source": [
    "player_val.info()"
   ],
   "metadata": {
    "collapsed": false,
    "ExecuteTime": {
     "end_time": "2023-12-15T13:47:21.935520200Z",
     "start_time": "2023-12-15T13:47:21.847869300Z"
    }
   },
   "id": "feb4d0b072564d89"
  },
  {
   "cell_type": "code",
   "execution_count": 41,
   "outputs": [
    {
     "data": {
      "text/plain": "                   datetime       date    dateweek  \\\n0       2003-12-09 00:00:00 2003-12-09  2003-12-08   \n1       2003-12-15 00:00:00 2003-12-15  2003-12-15   \n2       2004-10-04 00:00:00 2004-10-04  2004-10-04   \n3       2004-10-04 00:00:00 2004-10-04  2004-10-04   \n4       2004-10-04 00:00:00 2004-10-04  2004-10-04   \n...                     ...        ...         ...   \n440658  2023-09-21 00:00:00 2023-09-21  2023-09-18   \n440659  2023-09-21 00:00:00 2023-09-21  2023-09-18   \n440660  2023-09-21 00:00:00 2023-09-21  2023-09-18   \n440661  2023-09-21 00:00:00 2023-09-21  2023-09-18   \n440662  2023-12-19 00:00:00 2023-12-19  2023-12-18   \n\n       player_club_domestic_competition_id  \n0                                      TR1  \n1                                      GB1  \n2                                      IT1  \n3                                       L1  \n4                                      GR1  \n...                                    ...  \n440658                                 GR1  \n440659                                 GR1  \n440660                                 GR1  \n440661                                 GR1  \n440662                                  L1  \n\n[440663 rows x 4 columns]",
      "text/html": "<div>\n<style scoped>\n    .dataframe tbody tr th:only-of-type {\n        vertical-align: middle;\n    }\n\n    .dataframe tbody tr th {\n        vertical-align: top;\n    }\n\n    .dataframe thead th {\n        text-align: right;\n    }\n</style>\n<table border=\"1\" class=\"dataframe\">\n  <thead>\n    <tr style=\"text-align: right;\">\n      <th></th>\n      <th>datetime</th>\n      <th>date</th>\n      <th>dateweek</th>\n      <th>player_club_domestic_competition_id</th>\n    </tr>\n  </thead>\n  <tbody>\n    <tr>\n      <th>0</th>\n      <td>2003-12-09 00:00:00</td>\n      <td>2003-12-09</td>\n      <td>2003-12-08</td>\n      <td>TR1</td>\n    </tr>\n    <tr>\n      <th>1</th>\n      <td>2003-12-15 00:00:00</td>\n      <td>2003-12-15</td>\n      <td>2003-12-15</td>\n      <td>GB1</td>\n    </tr>\n    <tr>\n      <th>2</th>\n      <td>2004-10-04 00:00:00</td>\n      <td>2004-10-04</td>\n      <td>2004-10-04</td>\n      <td>IT1</td>\n    </tr>\n    <tr>\n      <th>3</th>\n      <td>2004-10-04 00:00:00</td>\n      <td>2004-10-04</td>\n      <td>2004-10-04</td>\n      <td>L1</td>\n    </tr>\n    <tr>\n      <th>4</th>\n      <td>2004-10-04 00:00:00</td>\n      <td>2004-10-04</td>\n      <td>2004-10-04</td>\n      <td>GR1</td>\n    </tr>\n    <tr>\n      <th>...</th>\n      <td>...</td>\n      <td>...</td>\n      <td>...</td>\n      <td>...</td>\n    </tr>\n    <tr>\n      <th>440658</th>\n      <td>2023-09-21 00:00:00</td>\n      <td>2023-09-21</td>\n      <td>2023-09-18</td>\n      <td>GR1</td>\n    </tr>\n    <tr>\n      <th>440659</th>\n      <td>2023-09-21 00:00:00</td>\n      <td>2023-09-21</td>\n      <td>2023-09-18</td>\n      <td>GR1</td>\n    </tr>\n    <tr>\n      <th>440660</th>\n      <td>2023-09-21 00:00:00</td>\n      <td>2023-09-21</td>\n      <td>2023-09-18</td>\n      <td>GR1</td>\n    </tr>\n    <tr>\n      <th>440661</th>\n      <td>2023-09-21 00:00:00</td>\n      <td>2023-09-21</td>\n      <td>2023-09-18</td>\n      <td>GR1</td>\n    </tr>\n    <tr>\n      <th>440662</th>\n      <td>2023-12-19 00:00:00</td>\n      <td>2023-12-19</td>\n      <td>2023-12-18</td>\n      <td>L1</td>\n    </tr>\n  </tbody>\n</table>\n<p>440663 rows × 4 columns</p>\n</div>"
     },
     "execution_count": 41,
     "metadata": {},
     "output_type": "execute_result"
    }
   ],
   "source": [
    "player_val['date'] = pd.to_datetime(player_val['date'].astype('string'))\n",
    "player_val['player_club_domestic_competition_id'] = player_val['player_club_domestic_competition_id'].astype('string')\n",
    "\n",
    "player_val[['datetime', 'date', \n",
    "            'dateweek', 'player_club_domestic_competition_id']]"
   ],
   "metadata": {
    "collapsed": false,
    "ExecuteTime": {
     "end_time": "2023-12-15T13:47:22.008442600Z",
     "start_time": "2023-12-15T13:47:21.892458800Z"
    }
   },
   "id": "68b359c3e56b105a"
  },
  {
   "cell_type": "markdown",
   "source": [
    "> # It seems that 'datetime' and 'date' have the same values (see below)\n",
    "- The following commands have been executed before the casting of their columns."
   ],
   "metadata": {
    "collapsed": false
   },
   "id": "69dc536e7afdc05f"
  },
  {
   "cell_type": "code",
   "execution_count": 42,
   "outputs": [
    {
     "data": {
      "text/plain": "0"
     },
     "execution_count": 42,
     "metadata": {},
     "output_type": "execute_result"
    }
   ],
   "source": [
    "dates_serie2 = ~(player_val['date'] == player_val['datetime'])\n",
    "dates_serie2.sum()"
   ],
   "metadata": {
    "collapsed": false,
    "ExecuteTime": {
     "end_time": "2023-12-15T13:47:22.305170100Z",
     "start_time": "2023-12-15T13:47:22.002443100Z"
    }
   },
   "id": "60e79d70403ea7b7"
  },
  {
   "cell_type": "markdown",
   "source": [
    "> # Note that 'dateweek' and 'date' are not the same!"
   ],
   "metadata": {
    "collapsed": false
   },
   "id": "cd024bfac35b0de0"
  },
  {
   "cell_type": "code",
   "execution_count": 43,
   "outputs": [
    {
     "data": {
      "text/plain": "354369"
     },
     "execution_count": 43,
     "metadata": {},
     "output_type": "execute_result"
    }
   ],
   "source": [
    "dates_serie = ~(player_val['date'] == player_val['dateweek'])\n",
    "dates_serie.sum()"
   ],
   "metadata": {
    "collapsed": false,
    "ExecuteTime": {
     "end_time": "2023-12-15T13:47:22.548170600Z",
     "start_time": "2023-12-15T13:47:22.322169900Z"
    }
   },
   "id": "9af7f8f139e247b7"
  },
  {
   "cell_type": "code",
   "execution_count": 44,
   "outputs": [],
   "source": [
    "dates_serie = None\n",
    "dates_serie2 = None"
   ],
   "metadata": {
    "collapsed": false,
    "ExecuteTime": {
     "end_time": "2023-12-15T13:47:22.557169700Z",
     "start_time": "2023-12-15T13:47:22.545170600Z"
    }
   },
   "id": "bc4c9bd5ac7683b0"
  },
  {
   "cell_type": "code",
   "execution_count": 45,
   "outputs": [],
   "source": [
    "del player_val['datetime']"
   ],
   "metadata": {
    "collapsed": false,
    "ExecuteTime": {
     "end_time": "2023-12-15T13:47:22.585053100Z",
     "start_time": "2023-12-15T13:47:22.560172100Z"
    }
   },
   "id": "c4d7b0a0519400ad"
  },
  {
   "cell_type": "code",
   "execution_count": 46,
   "outputs": [
    {
     "name": "stdout",
     "output_type": "stream",
     "text": [
      "<class 'pandas.core.frame.DataFrame'>\n",
      "RangeIndex: 440663 entries, 0 to 440662\n",
      "Data columns (total 8 columns):\n",
      " #   Column               Non-Null Count   Dtype         \n",
      "---  ------               --------------   -----         \n",
      " 0   player_id            440663 non-null  int64         \n",
      " 1   last_season          440663 non-null  int64         \n",
      " 2   date                 440663 non-null  datetime64[ns]\n",
      " 3   dateweek             440663 non-null  object        \n",
      " 4   market_value_in_eur  440663 non-null  int64         \n",
      " 5   n                    440663 non-null  int64         \n",
      " 6   current_club_id      440663 non-null  int64         \n",
      " 7   competition_id       440663 non-null  string        \n",
      "dtypes: datetime64[ns](1), int64(5), object(1), string(1)\n",
      "memory usage: 26.9+ MB\n"
     ]
    }
   ],
   "source": [
    "player_val.rename(columns={'player_club_domestic_competition_id': 'competition_id'}, inplace=True)\n",
    "player_val.info()"
   ],
   "metadata": {
    "collapsed": false,
    "ExecuteTime": {
     "end_time": "2023-12-15T13:47:22.648384700Z",
     "start_time": "2023-12-15T13:47:22.575052500Z"
    }
   },
   "id": "52650897603d20fa"
  },
  {
   "cell_type": "markdown",
   "source": [
    "> ## check 'n' column of the players"
   ],
   "metadata": {
    "collapsed": false
   },
   "id": "9e8a36a702dc11da"
  },
  {
   "cell_type": "code",
   "execution_count": 50,
   "outputs": [
    {
     "data": {
      "text/plain": "n\n1    440663\nName: count, dtype: int64"
     },
     "execution_count": 50,
     "metadata": {},
     "output_type": "execute_result"
    }
   ],
   "source": [
    "player_val['n'].value_counts()"
   ],
   "metadata": {
    "collapsed": false,
    "ExecuteTime": {
     "end_time": "2023-12-15T13:48:12.676509200Z",
     "start_time": "2023-12-15T13:48:12.638722600Z"
    }
   },
   "id": "f3d006aec4ec3ee6"
  },
  {
   "cell_type": "code",
   "execution_count": 51,
   "outputs": [],
   "source": [
    "del player_val['n']"
   ],
   "metadata": {
    "collapsed": false,
    "ExecuteTime": {
     "end_time": "2023-12-15T13:48:21.149495500Z",
     "start_time": "2023-12-15T13:48:21.131496400Z"
    }
   },
   "id": "d0752a67dd319f82"
  },
  {
   "cell_type": "markdown",
   "source": [
    "> # RESULT: we can remove it (?)"
   ],
   "metadata": {
    "collapsed": false
   },
   "id": "65efbce9f64044ca"
  },
  {
   "cell_type": "code",
   "execution_count": 49,
   "outputs": [],
   "source": [],
   "metadata": {
    "collapsed": false,
    "ExecuteTime": {
     "end_time": "2023-12-15T13:47:22.697423Z",
     "start_time": "2023-12-15T13:47:22.668745500Z"
    }
   },
   "id": "3a2ff497d73d2b88"
  }
 ],
 "metadata": {
  "kernelspec": {
   "display_name": "Python 3",
   "language": "python",
   "name": "python3"
  },
  "language_info": {
   "codemirror_mode": {
    "name": "ipython",
    "version": 2
   },
   "file_extension": ".py",
   "mimetype": "text/x-python",
   "name": "python",
   "nbconvert_exporter": "python",
   "pygments_lexer": "ipython2",
   "version": "2.7.6"
  }
 },
 "nbformat": 4,
 "nbformat_minor": 5
}

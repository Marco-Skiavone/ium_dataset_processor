{
 "cells": [
  {
   "cell_type": "code",
   "execution_count": 22,
   "outputs": [],
   "source": [
    "from modules.module_for_imports import *"
   ],
   "metadata": {
    "collapsed": false,
    "ExecuteTime": {
     "end_time": "2023-12-11T16:30:37.465669200Z",
     "start_time": "2023-12-11T16:30:37.451766600Z"
    }
   },
   "id": "a5d40ea0522dafe3"
  },
  {
   "cell_type": "markdown",
   "source": [
    "# Player Valuations"
   ],
   "metadata": {
    "collapsed": false
   },
   "id": "81955830577749e6"
  },
  {
   "cell_type": "code",
   "execution_count": 23,
   "outputs": [
    {
     "data": {
      "text/plain": "        player_id  last_season             datetime        date    dateweek  \\\n0            3132         2013  2003-12-09 00:00:00  2003-12-09  2003-12-08   \n1            6893         2012  2003-12-15 00:00:00  2003-12-15  2003-12-15   \n2              10         2015  2004-10-04 00:00:00  2004-10-04  2004-10-04   \n3              26         2017  2004-10-04 00:00:00  2004-10-04  2004-10-04   \n4              65         2015  2004-10-04 00:00:00  2004-10-04  2004-10-04   \n...           ...          ...                  ...         ...         ...   \n440658     950091         2023  2023-09-21 00:00:00  2023-09-21  2023-09-18   \n440659     968903         2023  2023-09-21 00:00:00  2023-09-21  2023-09-18   \n440660    1031590         2023  2023-09-21 00:00:00  2023-09-21  2023-09-18   \n440661    1166093         2023  2023-09-21 00:00:00  2023-09-21  2023-09-18   \n440662     405676         2018  2023-12-19 00:00:00  2023-12-19  2023-12-18   \n\n        market_value_in_eur  n  current_club_id  \\\n0                    400000  1              126   \n1                    900000  1              984   \n2                   7000000  1              398   \n3                   1500000  1               16   \n4                   8000000  1             1091   \n...                     ... ..              ...   \n440658              1000000  1             1091   \n440659                50000  1              653   \n440660                50000  1             6418   \n440661                50000  1            30120   \n440662                50000  1            23826   \n\n       player_club_domestic_competition_id  \n0                                      TR1  \n1                                      GB1  \n2                                      IT1  \n3                                       L1  \n4                                      GR1  \n...                                    ...  \n440658                                 GR1  \n440659                                 GR1  \n440660                                 GR1  \n440661                                 GR1  \n440662                                  L1  \n\n[440663 rows x 9 columns]",
      "text/html": "<div>\n<style scoped>\n    .dataframe tbody tr th:only-of-type {\n        vertical-align: middle;\n    }\n\n    .dataframe tbody tr th {\n        vertical-align: top;\n    }\n\n    .dataframe thead th {\n        text-align: right;\n    }\n</style>\n<table border=\"1\" class=\"dataframe\">\n  <thead>\n    <tr style=\"text-align: right;\">\n      <th></th>\n      <th>player_id</th>\n      <th>last_season</th>\n      <th>datetime</th>\n      <th>date</th>\n      <th>dateweek</th>\n      <th>market_value_in_eur</th>\n      <th>n</th>\n      <th>current_club_id</th>\n      <th>player_club_domestic_competition_id</th>\n    </tr>\n  </thead>\n  <tbody>\n    <tr>\n      <th>0</th>\n      <td>3132</td>\n      <td>2013</td>\n      <td>2003-12-09 00:00:00</td>\n      <td>2003-12-09</td>\n      <td>2003-12-08</td>\n      <td>400000</td>\n      <td>1</td>\n      <td>126</td>\n      <td>TR1</td>\n    </tr>\n    <tr>\n      <th>1</th>\n      <td>6893</td>\n      <td>2012</td>\n      <td>2003-12-15 00:00:00</td>\n      <td>2003-12-15</td>\n      <td>2003-12-15</td>\n      <td>900000</td>\n      <td>1</td>\n      <td>984</td>\n      <td>GB1</td>\n    </tr>\n    <tr>\n      <th>2</th>\n      <td>10</td>\n      <td>2015</td>\n      <td>2004-10-04 00:00:00</td>\n      <td>2004-10-04</td>\n      <td>2004-10-04</td>\n      <td>7000000</td>\n      <td>1</td>\n      <td>398</td>\n      <td>IT1</td>\n    </tr>\n    <tr>\n      <th>3</th>\n      <td>26</td>\n      <td>2017</td>\n      <td>2004-10-04 00:00:00</td>\n      <td>2004-10-04</td>\n      <td>2004-10-04</td>\n      <td>1500000</td>\n      <td>1</td>\n      <td>16</td>\n      <td>L1</td>\n    </tr>\n    <tr>\n      <th>4</th>\n      <td>65</td>\n      <td>2015</td>\n      <td>2004-10-04 00:00:00</td>\n      <td>2004-10-04</td>\n      <td>2004-10-04</td>\n      <td>8000000</td>\n      <td>1</td>\n      <td>1091</td>\n      <td>GR1</td>\n    </tr>\n    <tr>\n      <th>...</th>\n      <td>...</td>\n      <td>...</td>\n      <td>...</td>\n      <td>...</td>\n      <td>...</td>\n      <td>...</td>\n      <td>...</td>\n      <td>...</td>\n      <td>...</td>\n    </tr>\n    <tr>\n      <th>440658</th>\n      <td>950091</td>\n      <td>2023</td>\n      <td>2023-09-21 00:00:00</td>\n      <td>2023-09-21</td>\n      <td>2023-09-18</td>\n      <td>1000000</td>\n      <td>1</td>\n      <td>1091</td>\n      <td>GR1</td>\n    </tr>\n    <tr>\n      <th>440659</th>\n      <td>968903</td>\n      <td>2023</td>\n      <td>2023-09-21 00:00:00</td>\n      <td>2023-09-21</td>\n      <td>2023-09-18</td>\n      <td>50000</td>\n      <td>1</td>\n      <td>653</td>\n      <td>GR1</td>\n    </tr>\n    <tr>\n      <th>440660</th>\n      <td>1031590</td>\n      <td>2023</td>\n      <td>2023-09-21 00:00:00</td>\n      <td>2023-09-21</td>\n      <td>2023-09-18</td>\n      <td>50000</td>\n      <td>1</td>\n      <td>6418</td>\n      <td>GR1</td>\n    </tr>\n    <tr>\n      <th>440661</th>\n      <td>1166093</td>\n      <td>2023</td>\n      <td>2023-09-21 00:00:00</td>\n      <td>2023-09-21</td>\n      <td>2023-09-18</td>\n      <td>50000</td>\n      <td>1</td>\n      <td>30120</td>\n      <td>GR1</td>\n    </tr>\n    <tr>\n      <th>440662</th>\n      <td>405676</td>\n      <td>2018</td>\n      <td>2023-12-19 00:00:00</td>\n      <td>2023-12-19</td>\n      <td>2023-12-18</td>\n      <td>50000</td>\n      <td>1</td>\n      <td>23826</td>\n      <td>L1</td>\n    </tr>\n  </tbody>\n</table>\n<p>440663 rows × 9 columns</p>\n</div>"
     },
     "execution_count": 23,
     "metadata": {},
     "output_type": "execute_result"
    }
   ],
   "source": [
    "player_val = pd.read_csv('../Assignment_Data_2023-2024/player_valuations.csv')\n",
    "player_val"
   ],
   "metadata": {
    "collapsed": false,
    "ExecuteTime": {
     "end_time": "2023-12-11T16:30:37.762596100Z",
     "start_time": "2023-12-11T16:30:37.463642600Z"
    }
   },
   "id": "f9529557e3d24f10"
  },
  {
   "cell_type": "code",
   "execution_count": 24,
   "outputs": [
    {
     "name": "stdout",
     "output_type": "stream",
     "text": [
      "<class 'pandas.core.frame.DataFrame'>\n",
      "RangeIndex: 440663 entries, 0 to 440662\n",
      "Data columns (total 9 columns):\n",
      " #   Column                               Non-Null Count   Dtype \n",
      "---  ------                               --------------   ----- \n",
      " 0   player_id                            440663 non-null  int64 \n",
      " 1   last_season                          440663 non-null  int64 \n",
      " 2   datetime                             440663 non-null  object\n",
      " 3   date                                 440663 non-null  object\n",
      " 4   dateweek                             440663 non-null  object\n",
      " 5   market_value_in_eur                  440663 non-null  int64 \n",
      " 6   n                                    440663 non-null  int64 \n",
      " 7   current_club_id                      440663 non-null  int64 \n",
      " 8   player_club_domestic_competition_id  440663 non-null  object\n",
      "dtypes: int64(5), object(4)\n",
      "memory usage: 30.3+ MB\n"
     ]
    }
   ],
   "source": [
    "player_val.info()"
   ],
   "metadata": {
    "collapsed": false,
    "ExecuteTime": {
     "end_time": "2023-12-11T16:30:37.868848200Z",
     "start_time": "2023-12-11T16:30:37.763596100Z"
    }
   },
   "id": "feb4d0b072564d89"
  },
  {
   "cell_type": "code",
   "execution_count": 29,
   "outputs": [
    {
     "data": {
      "text/plain": "         datetime       date    dateweek player_club_domestic_competition_id\n0      2003-12-09 2003-12-09  2003-12-08                                 TR1\n1      2003-12-15 2003-12-15  2003-12-15                                 GB1\n2      2004-10-04 2004-10-04  2004-10-04                                 IT1\n3      2004-10-04 2004-10-04  2004-10-04                                  L1\n4      2004-10-04 2004-10-04  2004-10-04                                 GR1\n...           ...        ...         ...                                 ...\n440658 2023-09-21 2023-09-21  2023-09-18                                 GR1\n440659 2023-09-21 2023-09-21  2023-09-18                                 GR1\n440660 2023-09-21 2023-09-21  2023-09-18                                 GR1\n440661 2023-09-21 2023-09-21  2023-09-18                                 GR1\n440662 2023-12-19 2023-12-19  2023-12-18                                  L1\n\n[440663 rows x 4 columns]",
      "text/html": "<div>\n<style scoped>\n    .dataframe tbody tr th:only-of-type {\n        vertical-align: middle;\n    }\n\n    .dataframe tbody tr th {\n        vertical-align: top;\n    }\n\n    .dataframe thead th {\n        text-align: right;\n    }\n</style>\n<table border=\"1\" class=\"dataframe\">\n  <thead>\n    <tr style=\"text-align: right;\">\n      <th></th>\n      <th>datetime</th>\n      <th>date</th>\n      <th>dateweek</th>\n      <th>player_club_domestic_competition_id</th>\n    </tr>\n  </thead>\n  <tbody>\n    <tr>\n      <th>0</th>\n      <td>2003-12-09</td>\n      <td>2003-12-09</td>\n      <td>2003-12-08</td>\n      <td>TR1</td>\n    </tr>\n    <tr>\n      <th>1</th>\n      <td>2003-12-15</td>\n      <td>2003-12-15</td>\n      <td>2003-12-15</td>\n      <td>GB1</td>\n    </tr>\n    <tr>\n      <th>2</th>\n      <td>2004-10-04</td>\n      <td>2004-10-04</td>\n      <td>2004-10-04</td>\n      <td>IT1</td>\n    </tr>\n    <tr>\n      <th>3</th>\n      <td>2004-10-04</td>\n      <td>2004-10-04</td>\n      <td>2004-10-04</td>\n      <td>L1</td>\n    </tr>\n    <tr>\n      <th>4</th>\n      <td>2004-10-04</td>\n      <td>2004-10-04</td>\n      <td>2004-10-04</td>\n      <td>GR1</td>\n    </tr>\n    <tr>\n      <th>...</th>\n      <td>...</td>\n      <td>...</td>\n      <td>...</td>\n      <td>...</td>\n    </tr>\n    <tr>\n      <th>440658</th>\n      <td>2023-09-21</td>\n      <td>2023-09-21</td>\n      <td>2023-09-18</td>\n      <td>GR1</td>\n    </tr>\n    <tr>\n      <th>440659</th>\n      <td>2023-09-21</td>\n      <td>2023-09-21</td>\n      <td>2023-09-18</td>\n      <td>GR1</td>\n    </tr>\n    <tr>\n      <th>440660</th>\n      <td>2023-09-21</td>\n      <td>2023-09-21</td>\n      <td>2023-09-18</td>\n      <td>GR1</td>\n    </tr>\n    <tr>\n      <th>440661</th>\n      <td>2023-09-21</td>\n      <td>2023-09-21</td>\n      <td>2023-09-18</td>\n      <td>GR1</td>\n    </tr>\n    <tr>\n      <th>440662</th>\n      <td>2023-12-19</td>\n      <td>2023-12-19</td>\n      <td>2023-12-18</td>\n      <td>L1</td>\n    </tr>\n  </tbody>\n</table>\n<p>440663 rows × 4 columns</p>\n</div>"
     },
     "execution_count": 29,
     "metadata": {},
     "output_type": "execute_result"
    }
   ],
   "source": [
    "player_val['datetime'] = pd.to_datetime(player_val['datetime'].astype('string'))\n",
    "player_val['date'] = pd.to_datetime(player_val['date'].astype('string'))\n",
    "#player_val['dateweek'] = pd.to_datetime(player_val['dateweek'].astype('string'))\n",
    "player_val['player_club_domestic_competition_id'] = player_val['player_club_domestic_competition_id'].astype('string')\n",
    "\n",
    "player_val[['datetime', 'date', \n",
    "            'dateweek', 'player_club_domestic_competition_id']]"
   ],
   "metadata": {
    "collapsed": false,
    "ExecuteTime": {
     "end_time": "2023-12-11T16:31:19.608949Z",
     "start_time": "2023-12-11T16:31:18.984520700Z"
    }
   },
   "id": "68b359c3e56b105a"
  },
  {
   "cell_type": "markdown",
   "source": [
    "> # It seems that 'datetime' and 'date' have the same values (see below)\n",
    "- The following commands have been executed before the casting of their columns."
   ],
   "metadata": {
    "collapsed": false
   },
   "id": "69dc536e7afdc05f"
  },
  {
   "cell_type": "code",
   "execution_count": 30,
   "outputs": [
    {
     "data": {
      "text/plain": "0"
     },
     "execution_count": 30,
     "metadata": {},
     "output_type": "execute_result"
    }
   ],
   "source": [
    "dates_serie2 = ~(player_val['date'] == player_val['datetime'])\n",
    "dates_serie2.sum()"
   ],
   "metadata": {
    "collapsed": false,
    "ExecuteTime": {
     "end_time": "2023-12-11T16:33:44.035703900Z",
     "start_time": "2023-12-11T16:33:44.018704600Z"
    }
   },
   "id": "60e79d70403ea7b7"
  },
  {
   "cell_type": "markdown",
   "source": [
    "> # Note that 'dateweek' and 'date' are not the same!"
   ],
   "metadata": {
    "collapsed": false
   },
   "id": "cd024bfac35b0de0"
  },
  {
   "cell_type": "code",
   "execution_count": 31,
   "outputs": [
    {
     "data": {
      "text/plain": "354369"
     },
     "execution_count": 31,
     "metadata": {},
     "output_type": "execute_result"
    }
   ],
   "source": [
    "dates_serie = ~(player_val['date'] == player_val['dateweek'])\n",
    "dates_serie.sum()"
   ],
   "metadata": {
    "collapsed": false,
    "ExecuteTime": {
     "end_time": "2023-12-11T16:33:46.511703200Z",
     "start_time": "2023-12-11T16:33:46.291307500Z"
    }
   },
   "id": "9af7f8f139e247b7"
  }
 ],
 "metadata": {
  "kernelspec": {
   "display_name": "Python 3",
   "language": "python",
   "name": "python3"
  },
  "language_info": {
   "codemirror_mode": {
    "name": "ipython",
    "version": 2
   },
   "file_extension": ".py",
   "mimetype": "text/x-python",
   "name": "python",
   "nbconvert_exporter": "python",
   "pygments_lexer": "ipython2",
   "version": "2.7.6"
  }
 },
 "nbformat": 4,
 "nbformat_minor": 5
}

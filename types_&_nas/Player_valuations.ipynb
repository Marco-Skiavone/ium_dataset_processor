{
 "cells": [
  {
   "cell_type": "code",
   "execution_count": null,
   "outputs": [],
   "source": [
    "from modules.module_for_imports import *"
   ],
   "metadata": {
    "collapsed": false
   },
   "id": "a5d40ea0522dafe3"
  },
  {
   "cell_type": "markdown",
   "source": [
    "# Player Valuations"
   ],
   "metadata": {
    "collapsed": false
   },
   "id": "81955830577749e6"
  },
  {
   "cell_type": "code",
   "execution_count": null,
   "outputs": [],
   "source": [
    "player_val = pd.read_csv('../Assignment_Data_2023-2024/player_valuations.csv')\n",
    "player_val"
   ],
   "metadata": {
    "collapsed": false
   },
   "id": "f9529557e3d24f10"
  },
  {
   "cell_type": "code",
   "execution_count": null,
   "outputs": [],
   "source": [
    "player_val.info()"
   ],
   "metadata": {
    "collapsed": false
   },
   "id": "feb4d0b072564d89"
  },
  {
   "cell_type": "code",
   "execution_count": null,
   "outputs": [],
   "source": [
    "player_val['date'] = pd.to_datetime(player_val['date'].astype('string'))\n",
    "player_val['player_club_domestic_competition_id'] = player_val['player_club_domestic_competition_id'].astype('string')\n",
    "\n",
    "player_val[['datetime', 'date', \n",
    "            'dateweek', 'player_club_domestic_competition_id']]"
   ],
   "metadata": {
    "collapsed": false
   },
   "id": "68b359c3e56b105a"
  },
  {
   "cell_type": "markdown",
   "source": [
    "> # It seems that 'datetime' and 'date' have the same values (see below)\n",
    "- The following commands have been executed before the casting of their columns."
   ],
   "metadata": {
    "collapsed": false
   },
   "id": "69dc536e7afdc05f"
  },
  {
   "cell_type": "code",
   "execution_count": null,
   "outputs": [],
   "source": [
    "dates_serie2 = ~(player_val['date'] == player_val['datetime'])\n",
    "dates_serie2.sum()"
   ],
   "metadata": {
    "collapsed": false
   },
   "id": "60e79d70403ea7b7"
  },
  {
   "cell_type": "markdown",
   "source": [
    "> # Note that 'dateweek' and 'date' are not the same!"
   ],
   "metadata": {
    "collapsed": false
   },
   "id": "cd024bfac35b0de0"
  },
  {
   "cell_type": "code",
   "execution_count": null,
   "outputs": [],
   "source": [
    "dates_serie = ~(player_val['date'] == player_val['dateweek'])\n",
    "dates_serie.sum()"
   ],
   "metadata": {
    "collapsed": false
   },
   "id": "9af7f8f139e247b7"
  },
  {
   "cell_type": "code",
   "execution_count": null,
   "outputs": [],
   "source": [
    "dates_serie = None\n",
    "dates_serie2 = None"
   ],
   "metadata": {
    "collapsed": false
   },
   "id": "bc4c9bd5ac7683b0"
  },
  {
   "cell_type": "code",
   "execution_count": null,
   "outputs": [],
   "source": [
    "del player_val['datetime']"
   ],
   "metadata": {
    "collapsed": false
   },
   "id": "c4d7b0a0519400ad"
  },
  {
   "cell_type": "code",
   "execution_count": null,
   "outputs": [],
   "source": [
    "player_val.rename(columns={'player_club_domestic_competition_id': 'competition_id'}, inplace=True)\n",
    "player_val.info()"
   ],
   "metadata": {
    "collapsed": false
   },
   "id": "52650897603d20fa"
  },
  {
   "cell_type": "markdown",
   "source": [
    "> ## check 'n' column of the players"
   ],
   "metadata": {
    "collapsed": false
   },
   "id": "9e8a36a702dc11da"
  },
  {
   "cell_type": "code",
   "execution_count": null,
   "outputs": [],
   "source": [
    "player_val['n'].value_counts()"
   ],
   "metadata": {
    "collapsed": false
   },
   "id": "f3d006aec4ec3ee6"
  },
  {
   "cell_type": "code",
   "execution_count": null,
   "outputs": [],
   "source": [
    "del player_val['n']"
   ],
   "metadata": {
    "collapsed": false
   },
   "id": "d0752a67dd319f82"
  },
  {
   "cell_type": "markdown",
   "source": [
    "> # RESULT: we can remove it (?)"
   ],
   "metadata": {
    "collapsed": false
   },
   "id": "65efbce9f64044ca"
  },
  {
   "cell_type": "code",
   "execution_count": null,
   "outputs": [],
   "source": [],
   "metadata": {
    "collapsed": false
   },
   "id": "3a2ff497d73d2b88"
  }
 ],
 "metadata": {
  "kernelspec": {
   "display_name": "Python 3",
   "language": "python",
   "name": "python3"
  },
  "language_info": {
   "codemirror_mode": {
    "name": "ipython",
    "version": 2
   },
   "file_extension": ".py",
   "mimetype": "text/x-python",
   "name": "python",
   "nbconvert_exporter": "python",
   "pygments_lexer": "ipython2",
   "version": "2.7.6"
  }
 },
 "nbformat": 4,
 "nbformat_minor": 5
}

{
 "cells": [
  {
   "cell_type": "code",
   "source": [
    "import pandas as pd\n",
    "\n",
    "from Server_Cleaning.modules.Assignment_datasets import *\n",
    "\n",
    "path = \"./\""
   ],
   "metadata": {
    "collapsed": false
   },
   "id": "bd8ee5925e4ff6f2",
   "outputs": [],
   "execution_count": null
  },
  {
   "cell_type": "code",
   "source": [
    "cg_g = clean_club_games(get_club_games(path), path)\n",
    "club_games = cg_g[0]\n",
    "games = cg_g[1]\n",
    "print(\"doubles per match: \", ((club_games.drop_duplicates(\"game_id\").shape[0] * 2) == club_games.shape[0]))\n",
    "top_clubs_g = club_games.value_counts('club_id').reset_index().head(10)\n",
    "clubs = clean_clubs(get_clubs(path))\n",
    "top_10_clubs = clubs.query('club_id.isin(@top_clubs_g.club_id)', engine='python')\n",
    "top_clubs_g"
   ],
   "metadata": {
    "collapsed": false
   },
   "id": "3c5cb33a953a5f68",
   "outputs": [],
   "execution_count": null
  },
  {
   "cell_type": "markdown",
   "source": [
    " `top_club_g` sono i 10 clubs con una maggiore mole di dati di partite a nostra disposizione"
   ],
   "metadata": {
    "collapsed": false
   },
   "id": "2ea140a646cacf39"
  },
  {
   "cell_type": "markdown",
   "source": [
    "# --------------------------------------------------------------------------------\n",
    "# Players"
   ],
   "metadata": {
    "collapsed": false
   },
   "id": "1fb458aaa76caefb"
  },
  {
   "cell_type": "code",
   "source": [
    "players = clean_players(get_players(path))\n",
    "player_val = clean_player_valuations(get_player_valuations(path))\n",
    "appear = clean_appearances(get_appearances(path), games, path)"
   ],
   "metadata": {
    "collapsed": false
   },
   "id": "169597c2cde39b98",
   "outputs": [],
   "execution_count": null
  },
  {
   "cell_type": "code",
   "source": [
    "print(players.columns)\n",
    "print(player_val.columns)\n",
    "appear.columns"
   ],
   "metadata": {
    "collapsed": false
   },
   "id": "69bdef55f1f48d1d",
   "outputs": [],
   "execution_count": null
  },
  {
   "cell_type": "code",
   "source": [
    "players = players[players['last_season'] > 2021]\n",
    "player_val = player_val[player_val['last_season'] > 2021]\n",
    "appear = appear[appear['game_date'] > pd.to_datetime(\"2021-12-31\")]"
   ],
   "metadata": {
    "collapsed": false
   },
   "id": "fa4322bbecc6f9f7",
   "outputs": [],
   "execution_count": null
  },
  {
   "cell_type": "code",
   "source": [
    "appear.head()"
   ],
   "metadata": {
    "collapsed": false
   },
   "id": "85892f799ea87c28",
   "outputs": [],
   "execution_count": null
  },
  {
   "cell_type": "code",
   "source": [
    "player_val.sort_values(by='date')\n",
    "top_player_vals = player_val.drop_duplicates('player_id', keep='last').sort_values(by='market_value_eur', ascending=False).head(10)\n",
    "top_player_vals"
   ],
   "metadata": {
    "collapsed": false
   },
   "id": "236a415e1f682b93",
   "outputs": [],
   "execution_count": null
  },
  {
   "cell_type": "code",
   "source": [
    "top_10_players = players.loc[players['player_id'].isin(top_player_vals['player_id'])]\n",
    "top_10_players"
   ],
   "metadata": {
    "collapsed": false
   },
   "id": "b48717efa2938afc",
   "outputs": [],
   "execution_count": null
  },
  {
   "cell_type": "code",
   "source": [
    "df1 = player_val.drop_duplicates('player_id', keep='last').sort_values(by='market_value_eur', ascending=False).head(50)\n",
    "info_about_top_payed = players.loc[players['player_id'].isin(df1['player_id'])]\n",
    "info_about_top_payed = pd.merge(info_about_top_payed, df1[['player_id', 'market_value_eur', 'date_week', 'current_dom_competition_code']], on='player_id', how='left')\n",
    "info_about_top_payed = info_about_top_payed.drop(columns=['image_url'])\n",
    "info_about_top_payed"
   ],
   "metadata": {
    "collapsed": false
   },
   "id": "65dfa055905f8804",
   "outputs": [],
   "execution_count": null
  },
  {
   "cell_type": "code",
   "source": [
    "poor_players = players[~players['player_id'].isin(info_about_top_payed['player_id'])]\n",
    "print(players.shape)\n",
    "poor_players"
   ],
   "metadata": {
    "collapsed": false
   },
   "id": "dab73691eca63255",
   "outputs": [],
   "execution_count": null
  },
  {
   "cell_type": "code",
   "source": [
    "players.value_counts('height_in_cm').reset_index()"
   ],
   "metadata": {
    "collapsed": false
   },
   "id": "c21444dc60d346cc",
   "outputs": [],
   "execution_count": null
  },
  {
   "cell_type": "code",
   "source": [
    "countries = info_about_top_payed.groupby('country_of_citizenship').agg(count=pd.NamedAgg('country_of_citizenship', 'count')).reset_index()\n",
    "countries #no good"
   ],
   "metadata": {
    "collapsed": false
   },
   "id": "a24c796dc9122f89",
   "outputs": [],
   "execution_count": null
  },
  {
   "cell_type": "code",
   "source": "top_10_clubs.info()",
   "metadata": {
    "collapsed": false
   },
   "id": "65993f80b5a21314",
   "outputs": [],
   "execution_count": null
  },
  {
   "metadata": {},
   "cell_type": "markdown",
   "source": "# goals by minutes",
   "id": "2706c8a6098f3dec"
  },
  {
   "metadata": {},
   "cell_type": "code",
   "source": [
    "game_events = pd.read_csv(\"./Assignment_Data_2023-2024/game_events.csv\")\n",
    "game_events = game_events[game_events['type'] == \"Goals\"]\n",
    "game_events['date'] = game_events['date'].astype('datetime64[ns]')\n",
    "game_events = game_events[game_events['date'] > pd.to_datetime(\"2021-12-31\")]\n",
    "top_payed_game_events = game_events[game_events['player_id'].isin(info_about_top_payed['player_id'])]"
   ],
   "id": "49f1e60608e73e7b",
   "outputs": [],
   "execution_count": null
  },
  {
   "metadata": {},
   "cell_type": "code",
   "source": [
    "game_events = game_events.drop(columns=['date', 'game_event_id', 'game_id', 'type', 'club_id', 'description', 'player_in_id', 'player_assist_id'])\n",
    "top_payed_game_events"
   ],
   "id": "aa1f2168c04c22ed",
   "outputs": [],
   "execution_count": null
  },
  {
   "metadata": {},
   "cell_type": "markdown",
   "source": "goals by minutes achieved by every player since 2022",
   "id": "f26e3dfc17dc4af3"
  },
  {
   "metadata": {},
   "cell_type": "code",
   "source": [
    "game_events.set_index('player_id')\n",
    "game_events.value_counts('player_id')\n",
    "last_players = players[players['last_season']>=2022]\n",
    "last_players_game_events = game_events[game_events['player_id'].isin(last_players['player_id'])]\n",
    "last_players_game_events.value_counts('minute').sort_values(ascending=False)"
   ],
   "id": "70135cb2b16004c0",
   "outputs": [],
   "execution_count": null
  }
 ],
 "metadata": {
  "kernelspec": {
   "display_name": "Python 3",
   "language": "python",
   "name": "python3"
  },
  "language_info": {
   "codemirror_mode": {
    "name": "ipython",
    "version": 2
   },
   "file_extension": ".py",
   "mimetype": "text/x-python",
   "name": "python",
   "nbconvert_exporter": "python",
   "pygments_lexer": "ipython2",
   "version": "2.7.6"
  }
 },
 "nbformat": 4,
 "nbformat_minor": 5
}

{
 "cells": [
  {
   "cell_type": "markdown",
   "source": [
    "# Testing code for functions!"
   ],
   "metadata": {
    "collapsed": false
   },
   "id": "8bc522b3ee038a6a"
  },
  {
   "cell_type": "code",
   "execution_count": null,
   "outputs": [],
   "source": [
    "from modules.module_for_imports import *"
   ],
   "metadata": {
    "collapsed": false
   },
   "id": "76093e7989ed5a7c"
  },
  {
   "cell_type": "code",
   "execution_count": null,
   "outputs": [],
   "source": [
    "#try2 = clean_clubs(get_clubs())\n",
    "#try2.info()"
   ],
   "metadata": {
    "collapsed": false
   },
   "id": "1d2ccd44b5080eb5"
  },
  {
   "cell_type": "code",
   "execution_count": null,
   "outputs": [],
   "source": [
    "clubs = get_clubs()\n",
    "players = get_players()"
   ],
   "metadata": {
    "collapsed": false
   },
   "id": "9170eb6fb122adc3"
  },
  {
   "cell_type": "code",
   "execution_count": null,
   "outputs": [],
   "source": [
    "squad_sizes = players.groupby('current_club_id')['player_id'].count()\n",
    "squad_sizes = pd.DataFrame(squad_sizes)\n",
    "squad_sizes.rename(columns={'current_club_id': 'club_id', 'player_id': 'size'}, inplace=True)\n",
    "squad_sizes"
   ],
   "metadata": {
    "collapsed": false
   },
   "id": "cc07b151ae0414a0"
  },
  {
   "cell_type": "code",
   "execution_count": null,
   "outputs": [],
   "source": [
    "# to be sure it's right:\n",
    "players.query('current_club_id == 3').shape"
   ],
   "metadata": {
    "collapsed": false
   },
   "id": "d50a673c8cecbc1b"
  },
  {
   "cell_type": "code",
   "execution_count": null,
   "outputs": [],
   "source": [
    "merged_df = pd.merge(clubs, squad_sizes, left_on='club_id', right_on='current_club_id', how='left')\n",
    "\n",
    "merged_df.query('squad_size > 10 & squad_size != size')"
   ],
   "metadata": {
    "collapsed": false
   },
   "id": "28176a4d426c582e"
  },
  {
   "cell_type": "markdown",
   "source": [
    "> # How should we proceed?! We have different sizes in few cases!"
   ],
   "metadata": {
    "collapsed": false
   },
   "id": "773895817b8834b2"
  }
 ],
 "metadata": {
  "kernelspec": {
   "display_name": "Python 3",
   "language": "python",
   "name": "python3"
  },
  "language_info": {
   "codemirror_mode": {
    "name": "ipython",
    "version": 2
   },
   "file_extension": ".py",
   "mimetype": "text/x-python",
   "name": "python",
   "nbconvert_exporter": "python",
   "pygments_lexer": "ipython2",
   "version": "2.7.6"
  }
 },
 "nbformat": 4,
 "nbformat_minor": 5
}

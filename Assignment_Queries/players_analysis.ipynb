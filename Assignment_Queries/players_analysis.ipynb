{
 "cells": [
  {
   "cell_type": "code",
   "execution_count": null,
   "id": "initial_id",
   "metadata": {
    "collapsed": true
   },
   "outputs": [],
   "source": [
    "from Assignment_Queries.pandas_lib.func_lib import *\n",
    "from Server_Cleaning.modules.Assignment_datasets import *\n",
    "path = '../'"
   ]
  },
  {
   "cell_type": "markdown",
   "source": [
    "# Introduction\n",
    "This is meant to be an analysis on players and the data we have on them.\n",
    "Firstly, we are getting the data cleaned, then we are having a look at it."
   ],
   "metadata": {
    "collapsed": false
   },
   "id": "e225ab6f587ec1f"
  },
  {
   "cell_type": "code",
   "execution_count": null,
   "outputs": [],
   "source": [
    "players = clear_players(get_players(path), create_flags(path))\n",
    "print(players.info())\n",
    "players.head()"
   ],
   "metadata": {
    "collapsed": false
   },
   "id": "f3afc2747b7cf8ab"
  },
  {
   "cell_type": "code",
   "execution_count": null,
   "outputs": [],
   "source": [
    "#players.groupby('country_name').agg(mean=pd.NamedAgg('age', 'mean')).rename(\"England\": \"United Kingdom\")"
   ],
   "metadata": {
    "collapsed": false
   },
   "id": "857312acd7cd59de"
  },
  {
   "cell_type": "markdown",
   "source": [
    "# Height of players"
   ],
   "metadata": {
    "collapsed": false
   },
   "id": "7e3949b81bddb4c0"
  },
  {
   "cell_type": "code",
   "execution_count": null,
   "outputs": [],
   "source": [
    "# Set up the plot\n",
    "plt.figure(figsize=(12, 8))\n",
    "\n",
    "players_1 = players.query('not height_in_cm.isnull()', engine='python')\n",
    "\n",
    "# Plot the horizontal histogram\n",
    "sns.barplot(\n",
    "    data=players_1, \n",
    "    y='height_in_cm', \n",
    "    x='current_club_domestic_competition_id'\n",
    ")\n",
    "\n",
    "# Add labels and title\n",
    "plt.xlabel('Country')\n",
    "plt.ylabel('Height (cm)')\n",
    "plt.title('Height Distribution by Country')\n",
    "plt.show()"
   ],
   "metadata": {
    "collapsed": false
   },
   "id": "764895399c00e6ff"
  }
 ],
 "metadata": {
  "kernelspec": {
   "display_name": "Python 3",
   "language": "python",
   "name": "python3"
  },
  "language_info": {
   "codemirror_mode": {
    "name": "ipython",
    "version": 2
   },
   "file_extension": ".py",
   "mimetype": "text/x-python",
   "name": "python",
   "nbconvert_exporter": "python",
   "pygments_lexer": "ipython2",
   "version": "2.7.6"
  }
 },
 "nbformat": 4,
 "nbformat_minor": 5
}

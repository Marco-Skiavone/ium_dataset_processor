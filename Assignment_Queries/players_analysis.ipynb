{
 "cells": [
  {
   "cell_type": "code",
   "id": "initial_id",
   "metadata": {
    "collapsed": true,
    "ExecuteTime": {
     "end_time": "2024-09-05T22:54:13.562782Z",
     "start_time": "2024-09-05T22:54:10.453173Z"
    }
   },
   "source": [
    "from Assignment_Queries.pandas_lib.func_lib import *\n",
    "from Server_Cleaning.modules.Assignment_datasets import *\n",
    "path = '../'"
   ],
   "outputs": [],
   "execution_count": 1
  },
  {
   "cell_type": "markdown",
   "source": [
    "# Introduction\n",
    "This is meant to be an analysis on players and the data we have on them, focusing on their events"
   ],
   "metadata": {
    "collapsed": false
   },
   "id": "e225ab6f587ec1f"
  },
  {
   "metadata": {},
   "cell_type": "markdown",
   "source": [
    "> ### **Observation:**\n",
    "> It’s interesting to see how often the majority of events, especially **goals**, tend to occur at the **end** of matches.\n",
    "> We guessed that this could either be because the minutes in which events happen after the 90th minute are not recorded accurately *(and thus get concentrated around that point)* or because the highest-paid players are more frequently used at the end of the match to turn the result around *(with the same outcome in the analysis)*."
   ],
   "id": "2c13edb0e99fb2c3"
  },
  {
   "metadata": {
    "ExecuteTime": {
     "end_time": "2024-09-05T22:54:15.970561Z",
     "start_time": "2024-09-05T22:54:13.564660Z"
    }
   },
   "cell_type": "code",
   "source": [
    "# getting and cleaning datasets\n",
    "top_payed_game_events = generate_top_payed_players(path)"
   ],
   "id": "177c1c5e88068f84",
   "outputs": [],
   "execution_count": 2
  },
  {
   "metadata": {
    "ExecuteTime": {
     "end_time": "2024-09-05T22:54:16.374400Z",
     "start_time": "2024-09-05T22:54:15.974089Z"
    }
   },
   "cell_type": "code",
   "source": [
    "dropdown = widgets.Dropdown(\n",
    "        options=top_payed_game_events['player_name'].unique()\n",
    "    )\n",
    "\n",
    "# definition of plot function for every element in the dropdown menu \n",
    "def update_plot(name):\n",
    "    # Group by 'minute_range' and 'description' to get counts\n",
    "    df = top_payed_game_events.loc[top_payed_game_events['player_name'] == name].drop(columns=['player_name'])\n",
    "    description_counts = df.groupby(['minute_range', 'description']).size().unstack(fill_value=0)\n",
    "    df = df.drop(columns=['description'])\n",
    "    df = df.merge(description_counts, on='minute_range', how='left').drop_duplicates('minute_range').set_index('minute_range').sort_index()\n",
    "    # Create a bar plot using Seaborn\n",
    "    plt.figure(figsize=(12, 6))\n",
    "    ax = sns.heatmap(df.T, cmap='coolwarm', linewidths=1, linecolor='white', vmin=0, vmax=14)\n",
    "    # Set labels and title\n",
    "    \n",
    "    # Rotate the y-axis labels by 90 degrees\n",
    "    ax.set_yticklabels(ax.get_yticklabels(), rotation=0, ha='right')  # ha='right' aligns labels to the right\n",
    "\n",
    "    # Rotate the x-axis labels if needed (can adjust rotation angle as per need)\n",
    "    ax.set_xticklabels(ax.get_xticklabels(), rotation=45, ha='right')  # Rotate x-axis labels to 45 degrees for better readability\n",
    "    plt.xlabel('Minute Range')\n",
    "    plt.ylabel('Game Events')\n",
    "    plt.title(f'Game Events Occurrences during Minute Ranges for {name}')\n",
    "    plt.show(ax)\n",
    "    \n",
    "# call of the dropdown object\n",
    "widgets.interact(update_plot, name=dropdown)"
   ],
   "id": "cae1b07724ac6dda",
   "outputs": [
    {
     "data": {
      "text/plain": [
       "interactive(children=(Dropdown(description='name', options=('Christopher Nkunku', 'Dominik Szoboszlai', 'Jude …"
      ],
      "application/vnd.jupyter.widget-view+json": {
       "version_major": 2,
       "version_minor": 0,
       "model_id": "da0481c9537f48c9815db26a21b9c6b2"
      }
     },
     "metadata": {},
     "output_type": "display_data"
    },
    {
     "data": {
      "text/plain": [
       "<function __main__.update_plot(name)>"
      ]
     },
     "execution_count": 3,
     "metadata": {},
     "output_type": "execute_result"
    }
   ],
   "execution_count": 3
  }
 ],
 "metadata": {
  "kernelspec": {
   "display_name": "Python 3",
   "language": "python",
   "name": "python3"
  },
  "language_info": {
   "codemirror_mode": {
    "name": "ipython",
    "version": 2
   },
   "file_extension": ".py",
   "mimetype": "text/x-python",
   "name": "python",
   "nbconvert_exporter": "python",
   "pygments_lexer": "ipython2",
   "version": "2.7.6"
  }
 },
 "nbformat": 4,
 "nbformat_minor": 5
}

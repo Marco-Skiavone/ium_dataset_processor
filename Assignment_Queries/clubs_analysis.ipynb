{
 "cells": [
  {
   "cell_type": "code",
   "id": "initial_id",
   "metadata": {
    "collapsed": true
   },
   "source": [
    "from pandas_lib.std_imports import *\n",
    "from Server_Cleaning.modules.Assignment_datasets import *\n",
    "path = '../'"
   ],
   "outputs": [],
   "execution_count": null
  },
  {
   "cell_type": "markdown",
   "source": [
    "# Introduction\n",
    "In this document, we want to perform analyses that provide information about football clubs. \n",
    "We will pay particular attention to the average goals scored/conceded per match."
   ],
   "metadata": {
    "collapsed": false
   },
   "id": "54ec61d0bcd5cd38"
  },
  {
   "cell_type": "code",
   "execution_count": null,
   "outputs": [],
   "source": [
    "# Getting the DataFrames\n",
    "club_games = get_club_games(path)\n",
    "games = get_games(path)\n",
    "\n",
    "# Generation of a correlation matrix\n"
   ],
   "metadata": {
    "collapsed": false
   },
   "id": "ef14e7109d6334ea"
  }
 ],
 "metadata": {
  "kernelspec": {
   "display_name": "Python 3",
   "language": "python",
   "name": "python3"
  },
  "language_info": {
   "codemirror_mode": {
    "name": "ipython",
    "version": 2
   },
   "file_extension": ".py",
   "mimetype": "text/x-python",
   "name": "python",
   "nbconvert_exporter": "python",
   "pygments_lexer": "ipython2",
   "version": "2.7.6"
  }
 },
 "nbformat": 4,
 "nbformat_minor": 5
}

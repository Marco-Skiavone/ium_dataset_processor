{
 "cells": [
  {
   "cell_type": "code",
   "id": "initial_id",
   "metadata": {
    "collapsed": true
   },
   "source": [
    "from Assignment_Queries.pandas_lib.std_imports import *\n",
    "from Assignment_Queries.pandas_lib.func_lib import *\n",
    "from Server_Cleaning.modules.Assignment_datasets import *\n",
    "path = '../'"
   ],
   "outputs": [],
   "execution_count": null
  },
  {
   "cell_type": "markdown",
   "source": [
    "# Introduction\n",
    "In this document, we want to perform analyses that provide information about **football clubs**. \n",
    "We will pay particular attention to the average goals scored/conceded.\n",
    "Furthermore, we will focus on one club (of our choice) and analyse it."
   ],
   "metadata": {
    "collapsed": false
   },
   "id": "54ec61d0bcd5cd38"
  },
  {
   "cell_type": "code",
   "execution_count": null,
   "outputs": [],
   "source": [
    "# Getting and cleaning the DataFrames\n",
    "clubs = clear_clubs(get_clubs(path))\n",
    "club_games = clear_club_games(get_club_games(path))\n",
    "games = clear_games(get_games(path))\n",
    "game_events = clear_game_events(get_game_events(path))"
   ],
   "metadata": {
    "collapsed": false
   },
   "id": "ef14e7109d6334ea"
  },
  {
   "cell_type": "code",
   "execution_count": null,
   "outputs": [],
   "source": [],
   "metadata": {
    "collapsed": false
   },
   "id": "e57e6d38e3e9cd8e"
  }
 ],
 "metadata": {
  "kernelspec": {
   "display_name": "Python 3",
   "language": "python",
   "name": "python3"
  },
  "language_info": {
   "codemirror_mode": {
    "name": "ipython",
    "version": 2
   },
   "file_extension": ".py",
   "mimetype": "text/x-python",
   "name": "python",
   "nbconvert_exporter": "python",
   "pygments_lexer": "ipython2",
   "version": "2.7.6"
  }
 },
 "nbformat": 4,
 "nbformat_minor": 5
}

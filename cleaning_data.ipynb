{
 "cells": [
  {
   "cell_type": "markdown",
   "source": [],
   "metadata": {
    "collapsed": false
   },
   "id": "8ca23455a0c9938"
  },
  {
   "cell_type": "code",
   "execution_count": 2,
   "outputs": [],
   "source": [
    "from modules.module_for_imports import *"
   ],
   "metadata": {
    "collapsed": false,
    "ExecuteTime": {
     "end_time": "2023-12-13T14:22:35.674142700Z",
     "start_time": "2023-12-13T14:22:34.514197700Z"
    }
   },
   "id": "88b3295e3087ec15"
  },
  {
   "cell_type": "code",
   "execution_count": 34,
   "outputs": [
    {
     "data": {
      "text/plain": "          appearance_id  game_id  player_id  player_club_id  \\\n0         2231978_38004  2231978      38004             853   \n1         2233748_79232  2233748      79232            8841   \n2         2234413_42792  2234413      42792            6251   \n3         2234418_73333  2234418      73333            1274   \n4        2234421_122011  2234421     122011             195   \n...                 ...      ...        ...             ...   \n1507346  4172154_659813  4172154     659813              15   \n1507347  4172154_696027  4172154     696027              15   \n1507348    4172154_7161  4172154       7161              15   \n1507349  4172154_743395  4172154     743395              15   \n1507350  4172154_936981  4172154     936981              15   \n\n         player_current_club_id        date       player_name competition_id  \\\n0                           235  2012-07-03  Aurélien Joachim            CLQ   \n1                          2698  2012-07-05    Ruslan Abyshov            ELQ   \n2                           465  2012-07-05       Sander Puri            ELQ   \n3                          6646  2012-07-05   Vegar Hedenstad            ELQ   \n4                          3008  2012-07-05  Markus Henriksen            ELQ   \n...                         ...         ...               ...            ...   \n1507346                      15  2023-11-30    Piero Hincapié             EL   \n1507347                      15  2023-11-30      Ayman Aourir             EL   \n1507348                      15  2023-11-30     Jonas Hofmann             EL   \n1507349                      15  2023-11-30       Noah Mbamba             EL   \n1507350                      15  2023-11-30    Gustavo Puerta             EL   \n\n         yellow_cards  red_cards  goals  assists  minutes_played  \n0                   0          0      2        0              90  \n1                   0          0      0        0              90  \n2                   0          0      0        0              45  \n3                   0          0      0        0              90  \n4                   0          0      0        1              90  \n...               ...        ...    ...      ...             ...  \n1507346             0          0      0        0              90  \n1507347             0          0      0        0               2  \n1507348             0          0      0        0              10  \n1507349             0          0      0        0              45  \n1507350             0          0      0        0              88  \n\n[1507351 rows x 13 columns]",
      "text/html": "<div>\n<style scoped>\n    .dataframe tbody tr th:only-of-type {\n        vertical-align: middle;\n    }\n\n    .dataframe tbody tr th {\n        vertical-align: top;\n    }\n\n    .dataframe thead th {\n        text-align: right;\n    }\n</style>\n<table border=\"1\" class=\"dataframe\">\n  <thead>\n    <tr style=\"text-align: right;\">\n      <th></th>\n      <th>appearance_id</th>\n      <th>game_id</th>\n      <th>player_id</th>\n      <th>player_club_id</th>\n      <th>player_current_club_id</th>\n      <th>date</th>\n      <th>player_name</th>\n      <th>competition_id</th>\n      <th>yellow_cards</th>\n      <th>red_cards</th>\n      <th>goals</th>\n      <th>assists</th>\n      <th>minutes_played</th>\n    </tr>\n  </thead>\n  <tbody>\n    <tr>\n      <th>0</th>\n      <td>2231978_38004</td>\n      <td>2231978</td>\n      <td>38004</td>\n      <td>853</td>\n      <td>235</td>\n      <td>2012-07-03</td>\n      <td>Aurélien Joachim</td>\n      <td>CLQ</td>\n      <td>0</td>\n      <td>0</td>\n      <td>2</td>\n      <td>0</td>\n      <td>90</td>\n    </tr>\n    <tr>\n      <th>1</th>\n      <td>2233748_79232</td>\n      <td>2233748</td>\n      <td>79232</td>\n      <td>8841</td>\n      <td>2698</td>\n      <td>2012-07-05</td>\n      <td>Ruslan Abyshov</td>\n      <td>ELQ</td>\n      <td>0</td>\n      <td>0</td>\n      <td>0</td>\n      <td>0</td>\n      <td>90</td>\n    </tr>\n    <tr>\n      <th>2</th>\n      <td>2234413_42792</td>\n      <td>2234413</td>\n      <td>42792</td>\n      <td>6251</td>\n      <td>465</td>\n      <td>2012-07-05</td>\n      <td>Sander Puri</td>\n      <td>ELQ</td>\n      <td>0</td>\n      <td>0</td>\n      <td>0</td>\n      <td>0</td>\n      <td>45</td>\n    </tr>\n    <tr>\n      <th>3</th>\n      <td>2234418_73333</td>\n      <td>2234418</td>\n      <td>73333</td>\n      <td>1274</td>\n      <td>6646</td>\n      <td>2012-07-05</td>\n      <td>Vegar Hedenstad</td>\n      <td>ELQ</td>\n      <td>0</td>\n      <td>0</td>\n      <td>0</td>\n      <td>0</td>\n      <td>90</td>\n    </tr>\n    <tr>\n      <th>4</th>\n      <td>2234421_122011</td>\n      <td>2234421</td>\n      <td>122011</td>\n      <td>195</td>\n      <td>3008</td>\n      <td>2012-07-05</td>\n      <td>Markus Henriksen</td>\n      <td>ELQ</td>\n      <td>0</td>\n      <td>0</td>\n      <td>0</td>\n      <td>1</td>\n      <td>90</td>\n    </tr>\n    <tr>\n      <th>...</th>\n      <td>...</td>\n      <td>...</td>\n      <td>...</td>\n      <td>...</td>\n      <td>...</td>\n      <td>...</td>\n      <td>...</td>\n      <td>...</td>\n      <td>...</td>\n      <td>...</td>\n      <td>...</td>\n      <td>...</td>\n      <td>...</td>\n    </tr>\n    <tr>\n      <th>1507346</th>\n      <td>4172154_659813</td>\n      <td>4172154</td>\n      <td>659813</td>\n      <td>15</td>\n      <td>15</td>\n      <td>2023-11-30</td>\n      <td>Piero Hincapié</td>\n      <td>EL</td>\n      <td>0</td>\n      <td>0</td>\n      <td>0</td>\n      <td>0</td>\n      <td>90</td>\n    </tr>\n    <tr>\n      <th>1507347</th>\n      <td>4172154_696027</td>\n      <td>4172154</td>\n      <td>696027</td>\n      <td>15</td>\n      <td>15</td>\n      <td>2023-11-30</td>\n      <td>Ayman Aourir</td>\n      <td>EL</td>\n      <td>0</td>\n      <td>0</td>\n      <td>0</td>\n      <td>0</td>\n      <td>2</td>\n    </tr>\n    <tr>\n      <th>1507348</th>\n      <td>4172154_7161</td>\n      <td>4172154</td>\n      <td>7161</td>\n      <td>15</td>\n      <td>15</td>\n      <td>2023-11-30</td>\n      <td>Jonas Hofmann</td>\n      <td>EL</td>\n      <td>0</td>\n      <td>0</td>\n      <td>0</td>\n      <td>0</td>\n      <td>10</td>\n    </tr>\n    <tr>\n      <th>1507349</th>\n      <td>4172154_743395</td>\n      <td>4172154</td>\n      <td>743395</td>\n      <td>15</td>\n      <td>15</td>\n      <td>2023-11-30</td>\n      <td>Noah Mbamba</td>\n      <td>EL</td>\n      <td>0</td>\n      <td>0</td>\n      <td>0</td>\n      <td>0</td>\n      <td>45</td>\n    </tr>\n    <tr>\n      <th>1507350</th>\n      <td>4172154_936981</td>\n      <td>4172154</td>\n      <td>936981</td>\n      <td>15</td>\n      <td>15</td>\n      <td>2023-11-30</td>\n      <td>Gustavo Puerta</td>\n      <td>EL</td>\n      <td>0</td>\n      <td>0</td>\n      <td>0</td>\n      <td>0</td>\n      <td>88</td>\n    </tr>\n  </tbody>\n</table>\n<p>1507351 rows × 13 columns</p>\n</div>"
     },
     "execution_count": 34,
     "metadata": {},
     "output_type": "execute_result"
    }
   ],
   "source": [
    "#appearance = pd.read_csv('Assignment_Data_2023-2024/appearances.csv')\n",
    "#appearance"
   ],
   "metadata": {
    "collapsed": false,
    "ExecuteTime": {
     "end_time": "2023-12-06T10:42:34.994720Z",
     "start_time": "2023-12-06T10:42:31.693244100Z"
    }
   },
   "id": "bce86c379ae19597"
  },
  {
   "cell_type": "code",
   "execution_count": 4,
   "outputs": [
    {
     "name": "stdout",
     "output_type": "stream",
     "text": [
      "<class 'pandas.core.frame.DataFrame'>\n",
      "RangeIndex: 65216 entries, 0 to 65215\n",
      "Data columns (total 23 columns):\n",
      " #   Column                  Non-Null Count  Dtype  \n",
      "---  ------                  --------------  -----  \n",
      " 0   game_id                 65216 non-null  int64  \n",
      " 1   competition_id          65216 non-null  object \n",
      " 2   season                  65216 non-null  int64  \n",
      " 3   round                   65216 non-null  object \n",
      " 4   date                    65216 non-null  object \n",
      " 5   home_club_id            65216 non-null  int64  \n",
      " 6   away_club_id            65216 non-null  int64  \n",
      " 7   home_club_goals         65216 non-null  int64  \n",
      " 8   away_club_goals         65216 non-null  int64  \n",
      " 9   home_club_position      45762 non-null  float64\n",
      " 10  away_club_position      45762 non-null  float64\n",
      " 11  home_club_manager_name  64474 non-null  object \n",
      " 12  away_club_manager_name  64474 non-null  object \n",
      " 13  stadium                 65005 non-null  object \n",
      " 14  attendance              55704 non-null  float64\n",
      " 15  referee                 64622 non-null  object \n",
      " 16  url                     65216 non-null  object \n",
      " 17  home_club_formation     2869 non-null   object \n",
      " 18  away_club_formation     2888 non-null   object \n",
      " 19  home_club_name          53964 non-null  object \n",
      " 20  away_club_name          55167 non-null  object \n",
      " 21  aggregate               65216 non-null  object \n",
      " 22  competition_type        65216 non-null  object \n",
      "dtypes: float64(3), int64(6), object(14)\n",
      "memory usage: 11.4+ MB\n"
     ]
    }
   ],
   "source": [
    "games = pd.read_csv('Assignment_Data_2023-2024/games.csv')\n",
    "games.info()\n"
   ],
   "metadata": {
    "collapsed": false,
    "ExecuteTime": {
     "end_time": "2023-12-13T14:22:54.585597400Z",
     "start_time": "2023-12-13T14:22:54.191842600Z"
    }
   },
   "id": "27edcc67a55c544b"
  }
 ],
 "metadata": {
  "kernelspec": {
   "display_name": "Python 3",
   "language": "python",
   "name": "python3"
  },
  "language_info": {
   "codemirror_mode": {
    "name": "ipython",
    "version": 2
   },
   "file_extension": ".py",
   "mimetype": "text/x-python",
   "name": "python",
   "nbconvert_exporter": "python",
   "pygments_lexer": "ipython2",
   "version": "2.7.6"
  }
 },
 "nbformat": 4,
 "nbformat_minor": 5
}

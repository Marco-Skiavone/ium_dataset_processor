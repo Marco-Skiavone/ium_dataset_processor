{
 "cells": [
  {
   "cell_type": "markdown",
   "source": [],
   "metadata": {
    "collapsed": false
   },
   "id": "8ca23455a0c9938"
  },
  {
   "cell_type": "code",
   "execution_count": 33,
   "outputs": [],
   "source": [
    "import pandas as pd\n",
    "import matplotlib.pyplot as plt"
   ],
   "metadata": {
    "collapsed": false,
    "ExecuteTime": {
     "end_time": "2023-12-06T10:42:31.796734900Z",
     "start_time": "2023-12-06T10:42:31.678869200Z"
    }
   },
   "id": "88b3295e3087ec15"
  },
  {
   "cell_type": "code",
   "execution_count": 34,
   "outputs": [
    {
     "data": {
      "text/plain": "          appearance_id  game_id  player_id  player_club_id  \\\n0         2231978_38004  2231978      38004             853   \n1         2233748_79232  2233748      79232            8841   \n2         2234413_42792  2234413      42792            6251   \n3         2234418_73333  2234418      73333            1274   \n4        2234421_122011  2234421     122011             195   \n...                 ...      ...        ...             ...   \n1507346  4172154_659813  4172154     659813              15   \n1507347  4172154_696027  4172154     696027              15   \n1507348    4172154_7161  4172154       7161              15   \n1507349  4172154_743395  4172154     743395              15   \n1507350  4172154_936981  4172154     936981              15   \n\n         player_current_club_id        date       player_name competition_id  \\\n0                           235  2012-07-03  Aurélien Joachim            CLQ   \n1                          2698  2012-07-05    Ruslan Abyshov            ELQ   \n2                           465  2012-07-05       Sander Puri            ELQ   \n3                          6646  2012-07-05   Vegar Hedenstad            ELQ   \n4                          3008  2012-07-05  Markus Henriksen            ELQ   \n...                         ...         ...               ...            ...   \n1507346                      15  2023-11-30    Piero Hincapié             EL   \n1507347                      15  2023-11-30      Ayman Aourir             EL   \n1507348                      15  2023-11-30     Jonas Hofmann             EL   \n1507349                      15  2023-11-30       Noah Mbamba             EL   \n1507350                      15  2023-11-30    Gustavo Puerta             EL   \n\n         yellow_cards  red_cards  goals  assists  minutes_played  \n0                   0          0      2        0              90  \n1                   0          0      0        0              90  \n2                   0          0      0        0              45  \n3                   0          0      0        0              90  \n4                   0          0      0        1              90  \n...               ...        ...    ...      ...             ...  \n1507346             0          0      0        0              90  \n1507347             0          0      0        0               2  \n1507348             0          0      0        0              10  \n1507349             0          0      0        0              45  \n1507350             0          0      0        0              88  \n\n[1507351 rows x 13 columns]",
      "text/html": "<div>\n<style scoped>\n    .dataframe tbody tr th:only-of-type {\n        vertical-align: middle;\n    }\n\n    .dataframe tbody tr th {\n        vertical-align: top;\n    }\n\n    .dataframe thead th {\n        text-align: right;\n    }\n</style>\n<table border=\"1\" class=\"dataframe\">\n  <thead>\n    <tr style=\"text-align: right;\">\n      <th></th>\n      <th>appearance_id</th>\n      <th>game_id</th>\n      <th>player_id</th>\n      <th>player_club_id</th>\n      <th>player_current_club_id</th>\n      <th>date</th>\n      <th>player_name</th>\n      <th>competition_id</th>\n      <th>yellow_cards</th>\n      <th>red_cards</th>\n      <th>goals</th>\n      <th>assists</th>\n      <th>minutes_played</th>\n    </tr>\n  </thead>\n  <tbody>\n    <tr>\n      <th>0</th>\n      <td>2231978_38004</td>\n      <td>2231978</td>\n      <td>38004</td>\n      <td>853</td>\n      <td>235</td>\n      <td>2012-07-03</td>\n      <td>Aurélien Joachim</td>\n      <td>CLQ</td>\n      <td>0</td>\n      <td>0</td>\n      <td>2</td>\n      <td>0</td>\n      <td>90</td>\n    </tr>\n    <tr>\n      <th>1</th>\n      <td>2233748_79232</td>\n      <td>2233748</td>\n      <td>79232</td>\n      <td>8841</td>\n      <td>2698</td>\n      <td>2012-07-05</td>\n      <td>Ruslan Abyshov</td>\n      <td>ELQ</td>\n      <td>0</td>\n      <td>0</td>\n      <td>0</td>\n      <td>0</td>\n      <td>90</td>\n    </tr>\n    <tr>\n      <th>2</th>\n      <td>2234413_42792</td>\n      <td>2234413</td>\n      <td>42792</td>\n      <td>6251</td>\n      <td>465</td>\n      <td>2012-07-05</td>\n      <td>Sander Puri</td>\n      <td>ELQ</td>\n      <td>0</td>\n      <td>0</td>\n      <td>0</td>\n      <td>0</td>\n      <td>45</td>\n    </tr>\n    <tr>\n      <th>3</th>\n      <td>2234418_73333</td>\n      <td>2234418</td>\n      <td>73333</td>\n      <td>1274</td>\n      <td>6646</td>\n      <td>2012-07-05</td>\n      <td>Vegar Hedenstad</td>\n      <td>ELQ</td>\n      <td>0</td>\n      <td>0</td>\n      <td>0</td>\n      <td>0</td>\n      <td>90</td>\n    </tr>\n    <tr>\n      <th>4</th>\n      <td>2234421_122011</td>\n      <td>2234421</td>\n      <td>122011</td>\n      <td>195</td>\n      <td>3008</td>\n      <td>2012-07-05</td>\n      <td>Markus Henriksen</td>\n      <td>ELQ</td>\n      <td>0</td>\n      <td>0</td>\n      <td>0</td>\n      <td>1</td>\n      <td>90</td>\n    </tr>\n    <tr>\n      <th>...</th>\n      <td>...</td>\n      <td>...</td>\n      <td>...</td>\n      <td>...</td>\n      <td>...</td>\n      <td>...</td>\n      <td>...</td>\n      <td>...</td>\n      <td>...</td>\n      <td>...</td>\n      <td>...</td>\n      <td>...</td>\n      <td>...</td>\n    </tr>\n    <tr>\n      <th>1507346</th>\n      <td>4172154_659813</td>\n      <td>4172154</td>\n      <td>659813</td>\n      <td>15</td>\n      <td>15</td>\n      <td>2023-11-30</td>\n      <td>Piero Hincapié</td>\n      <td>EL</td>\n      <td>0</td>\n      <td>0</td>\n      <td>0</td>\n      <td>0</td>\n      <td>90</td>\n    </tr>\n    <tr>\n      <th>1507347</th>\n      <td>4172154_696027</td>\n      <td>4172154</td>\n      <td>696027</td>\n      <td>15</td>\n      <td>15</td>\n      <td>2023-11-30</td>\n      <td>Ayman Aourir</td>\n      <td>EL</td>\n      <td>0</td>\n      <td>0</td>\n      <td>0</td>\n      <td>0</td>\n      <td>2</td>\n    </tr>\n    <tr>\n      <th>1507348</th>\n      <td>4172154_7161</td>\n      <td>4172154</td>\n      <td>7161</td>\n      <td>15</td>\n      <td>15</td>\n      <td>2023-11-30</td>\n      <td>Jonas Hofmann</td>\n      <td>EL</td>\n      <td>0</td>\n      <td>0</td>\n      <td>0</td>\n      <td>0</td>\n      <td>10</td>\n    </tr>\n    <tr>\n      <th>1507349</th>\n      <td>4172154_743395</td>\n      <td>4172154</td>\n      <td>743395</td>\n      <td>15</td>\n      <td>15</td>\n      <td>2023-11-30</td>\n      <td>Noah Mbamba</td>\n      <td>EL</td>\n      <td>0</td>\n      <td>0</td>\n      <td>0</td>\n      <td>0</td>\n      <td>45</td>\n    </tr>\n    <tr>\n      <th>1507350</th>\n      <td>4172154_936981</td>\n      <td>4172154</td>\n      <td>936981</td>\n      <td>15</td>\n      <td>15</td>\n      <td>2023-11-30</td>\n      <td>Gustavo Puerta</td>\n      <td>EL</td>\n      <td>0</td>\n      <td>0</td>\n      <td>0</td>\n      <td>0</td>\n      <td>88</td>\n    </tr>\n  </tbody>\n</table>\n<p>1507351 rows × 13 columns</p>\n</div>"
     },
     "execution_count": 34,
     "metadata": {},
     "output_type": "execute_result"
    }
   ],
   "source": [
    "appearance = pd.read_csv('Assignment_Data_2023-2024/appearances.csv')\n",
    "appearance"
   ],
   "metadata": {
    "collapsed": false,
    "ExecuteTime": {
     "end_time": "2023-12-06T10:42:34.994720Z",
     "start_time": "2023-12-06T10:42:31.693244100Z"
    }
   },
   "id": "bce86c379ae19597"
  },
  {
   "cell_type": "code",
   "execution_count": 35,
   "outputs": [
    {
     "data": {
      "text/plain": "Index(['appearance_id', 'game_id', 'player_id', 'player_club_id',\n       'player_current_club_id', 'date', 'player_name', 'competition_id',\n       'yellow_cards', 'red_cards', 'goals', 'assists', 'minutes_played'],\n      dtype='object')"
     },
     "execution_count": 35,
     "metadata": {},
     "output_type": "execute_result"
    }
   ],
   "source": [
    "appearance.columns"
   ],
   "metadata": {
    "collapsed": false,
    "ExecuteTime": {
     "end_time": "2023-12-06T10:42:34.996959700Z",
     "start_time": "2023-12-06T10:42:34.988633700Z"
    }
   },
   "id": "8f3fd60985f6e0a7"
  },
  {
   "cell_type": "code",
   "execution_count": 35,
   "outputs": [],
   "source": [],
   "metadata": {
    "collapsed": false,
    "ExecuteTime": {
     "end_time": "2023-12-06T10:42:35.007093400Z",
     "start_time": "2023-12-06T10:42:34.997944500Z"
    }
   },
   "id": "27edcc67a55c544b"
  },
  {
   "cell_type": "code",
   "execution_count": 36,
   "outputs": [
    {
     "data": {
      "text/plain": "0           2231978_38004\n1           2233748_79232\n2           2234413_42792\n3           2234418_73333\n4          2234421_122011\n                ...      \n1507346    4172154_659813\n1507347    4172154_696027\n1507348      4172154_7161\n1507349    4172154_743395\n1507350    4172154_936981\nName: appearance_id, Length: 1507351, dtype: object"
     },
     "execution_count": 36,
     "metadata": {},
     "output_type": "execute_result"
    }
   ],
   "source": [
    "appearance['appearance_id'].drop_duplicates()\n",
    "# Ho verificato che gli appearance_id sono tutti diversi! Rassicurante"
   ],
   "metadata": {
    "collapsed": false,
    "ExecuteTime": {
     "end_time": "2023-12-06T10:42:35.993100100Z",
     "start_time": "2023-12-06T10:42:35.003076Z"
    }
   },
   "id": "9456696116510a47"
  },
  {
   "cell_type": "code",
   "execution_count": 37,
   "outputs": [
    {
     "data": {
      "text/plain": "True"
     },
     "execution_count": 37,
     "metadata": {},
     "output_type": "execute_result"
    }
   ],
   "source": [
    "appearance['game_id'].shape == appearance['game_id'].dropna().shape"
   ],
   "metadata": {
    "collapsed": false,
    "ExecuteTime": {
     "end_time": "2023-12-06T10:42:36.009495300Z",
     "start_time": "2023-12-06T10:42:35.985761100Z"
    }
   },
   "id": "8518b6216f8058ca"
  },
  {
   "cell_type": "code",
   "execution_count": 47,
   "outputs": [
    {
     "data": {
      "text/plain": "[False,\n False,\n False,\n False,\n False,\n False,\n True,\n False,\n False,\n False,\n False,\n False,\n False]"
     },
     "execution_count": 47,
     "metadata": {},
     "output_type": "execute_result"
    }
   ],
   "source": [
    "[appearance[x].hasnans for x in appearance.columns]\n"
   ],
   "metadata": {
    "collapsed": false,
    "ExecuteTime": {
     "end_time": "2023-12-06T11:24:34.268620500Z",
     "start_time": "2023-12-06T11:24:34.072705500Z"
    }
   },
   "id": "b91a6f9a3dafe474"
  },
  {
   "cell_type": "markdown",
   "source": [
    "Noto che la colonna 6 ha degli nan (se guardo, corrisponde alla colonna \"player_name\""
   ],
   "metadata": {
    "collapsed": false
   },
   "id": "6d5891998cc73ae8"
  },
  {
   "cell_type": "code",
   "execution_count": 44,
   "outputs": [
    {
     "data": {
      "text/plain": "False"
     },
     "execution_count": 44,
     "metadata": {},
     "output_type": "execute_result"
    }
   ],
   "source": [
    "appearance['game_id'].hasnans"
   ],
   "metadata": {
    "collapsed": false,
    "ExecuteTime": {
     "end_time": "2023-12-06T10:55:56.675997700Z",
     "start_time": "2023-12-06T10:55:56.660829500Z"
    }
   },
   "id": "d53e84a6a7237ffb"
  },
  {
   "cell_type": "code",
   "execution_count": 53,
   "outputs": [
    {
     "ename": "UndefinedVariableError",
     "evalue": "name 'none' is not defined",
     "output_type": "error",
     "traceback": [
      "\u001B[1;31m---------------------------------------------------------------------------\u001B[0m",
      "\u001B[1;31mKeyError\u001B[0m                                  Traceback (most recent call last)",
      "File \u001B[1;32m~\\AppData\\Local\\Packages\\PythonSoftwareFoundation.Python.3.11_qbz5n2kfra8p0\\LocalCache\\local-packages\\Python311\\site-packages\\pandas\\core\\computation\\scope.py:231\u001B[0m, in \u001B[0;36mScope.resolve\u001B[1;34m(self, key, is_local)\u001B[0m\n\u001B[0;32m    230\u001B[0m \u001B[38;5;28;01mif\u001B[39;00m \u001B[38;5;28mself\u001B[39m\u001B[38;5;241m.\u001B[39mhas_resolvers:\n\u001B[1;32m--> 231\u001B[0m     \u001B[38;5;28;01mreturn\u001B[39;00m \u001B[38;5;28;43mself\u001B[39;49m\u001B[38;5;241;43m.\u001B[39;49m\u001B[43mresolvers\u001B[49m\u001B[43m[\u001B[49m\u001B[43mkey\u001B[49m\u001B[43m]\u001B[49m\n\u001B[0;32m    233\u001B[0m \u001B[38;5;66;03m# if we're here that means that we have no locals and we also have\u001B[39;00m\n\u001B[0;32m    234\u001B[0m \u001B[38;5;66;03m# no resolvers\u001B[39;00m\n",
      "File \u001B[1;32mC:\\Program Files\\WindowsApps\\PythonSoftwareFoundation.Python.3.11_3.11.2032.0_x64__qbz5n2kfra8p0\\Lib\\collections\\__init__.py:1006\u001B[0m, in \u001B[0;36mChainMap.__getitem__\u001B[1;34m(self, key)\u001B[0m\n\u001B[0;32m   1005\u001B[0m         \u001B[38;5;28;01mpass\u001B[39;00m\n\u001B[1;32m-> 1006\u001B[0m \u001B[38;5;28;01mreturn\u001B[39;00m \u001B[38;5;28;43mself\u001B[39;49m\u001B[38;5;241;43m.\u001B[39;49m\u001B[38;5;21;43m__missing__\u001B[39;49m\u001B[43m(\u001B[49m\u001B[43mkey\u001B[49m\u001B[43m)\u001B[49m\n",
      "File \u001B[1;32mC:\\Program Files\\WindowsApps\\PythonSoftwareFoundation.Python.3.11_3.11.2032.0_x64__qbz5n2kfra8p0\\Lib\\collections\\__init__.py:998\u001B[0m, in \u001B[0;36mChainMap.__missing__\u001B[1;34m(self, key)\u001B[0m\n\u001B[0;32m    997\u001B[0m \u001B[38;5;28;01mdef\u001B[39;00m \u001B[38;5;21m__missing__\u001B[39m(\u001B[38;5;28mself\u001B[39m, key):\n\u001B[1;32m--> 998\u001B[0m     \u001B[38;5;28;01mraise\u001B[39;00m \u001B[38;5;167;01mKeyError\u001B[39;00m(key)\n",
      "\u001B[1;31mKeyError\u001B[0m: 'none'",
      "\nDuring handling of the above exception, another exception occurred:\n",
      "\u001B[1;31mKeyError\u001B[0m                                  Traceback (most recent call last)",
      "File \u001B[1;32m~\\AppData\\Local\\Packages\\PythonSoftwareFoundation.Python.3.11_qbz5n2kfra8p0\\LocalCache\\local-packages\\Python311\\site-packages\\pandas\\core\\computation\\scope.py:242\u001B[0m, in \u001B[0;36mScope.resolve\u001B[1;34m(self, key, is_local)\u001B[0m\n\u001B[0;32m    238\u001B[0m \u001B[38;5;28;01mtry\u001B[39;00m:\n\u001B[0;32m    239\u001B[0m     \u001B[38;5;66;03m# last ditch effort we look in temporaries\u001B[39;00m\n\u001B[0;32m    240\u001B[0m     \u001B[38;5;66;03m# these are created when parsing indexing expressions\u001B[39;00m\n\u001B[0;32m    241\u001B[0m     \u001B[38;5;66;03m# e.g., df[df > 0]\u001B[39;00m\n\u001B[1;32m--> 242\u001B[0m     \u001B[38;5;28;01mreturn\u001B[39;00m \u001B[38;5;28;43mself\u001B[39;49m\u001B[38;5;241;43m.\u001B[39;49m\u001B[43mtemps\u001B[49m\u001B[43m[\u001B[49m\u001B[43mkey\u001B[49m\u001B[43m]\u001B[49m\n\u001B[0;32m    243\u001B[0m \u001B[38;5;28;01mexcept\u001B[39;00m \u001B[38;5;167;01mKeyError\u001B[39;00m \u001B[38;5;28;01mas\u001B[39;00m err:\n",
      "\u001B[1;31mKeyError\u001B[0m: 'none'",
      "\nThe above exception was the direct cause of the following exception:\n",
      "\u001B[1;31mUndefinedVariableError\u001B[0m                    Traceback (most recent call last)",
      "Cell \u001B[1;32mIn[53], line 1\u001B[0m\n\u001B[1;32m----> 1\u001B[0m \u001B[43mappearance\u001B[49m\u001B[38;5;241;43m.\u001B[39;49m\u001B[43mquery\u001B[49m\u001B[43m(\u001B[49m\u001B[38;5;124;43m'\u001B[39;49m\u001B[38;5;124;43mplayer_name==none\u001B[39;49m\u001B[38;5;124;43m'\u001B[39;49m\u001B[43m)\u001B[49m\n",
      "File \u001B[1;32m~\\AppData\\Local\\Packages\\PythonSoftwareFoundation.Python.3.11_qbz5n2kfra8p0\\LocalCache\\local-packages\\Python311\\site-packages\\pandas\\core\\frame.py:4599\u001B[0m, in \u001B[0;36mDataFrame.query\u001B[1;34m(self, expr, inplace, **kwargs)\u001B[0m\n\u001B[0;32m   4597\u001B[0m kwargs[\u001B[38;5;124m\"\u001B[39m\u001B[38;5;124mlevel\u001B[39m\u001B[38;5;124m\"\u001B[39m] \u001B[38;5;241m=\u001B[39m kwargs\u001B[38;5;241m.\u001B[39mpop(\u001B[38;5;124m\"\u001B[39m\u001B[38;5;124mlevel\u001B[39m\u001B[38;5;124m\"\u001B[39m, \u001B[38;5;241m0\u001B[39m) \u001B[38;5;241m+\u001B[39m \u001B[38;5;241m1\u001B[39m\n\u001B[0;32m   4598\u001B[0m kwargs[\u001B[38;5;124m\"\u001B[39m\u001B[38;5;124mtarget\u001B[39m\u001B[38;5;124m\"\u001B[39m] \u001B[38;5;241m=\u001B[39m \u001B[38;5;28;01mNone\u001B[39;00m\n\u001B[1;32m-> 4599\u001B[0m res \u001B[38;5;241m=\u001B[39m \u001B[38;5;28;43mself\u001B[39;49m\u001B[38;5;241;43m.\u001B[39;49m\u001B[43meval\u001B[49m\u001B[43m(\u001B[49m\u001B[43mexpr\u001B[49m\u001B[43m,\u001B[49m\u001B[43m \u001B[49m\u001B[38;5;241;43m*\u001B[39;49m\u001B[38;5;241;43m*\u001B[39;49m\u001B[43mkwargs\u001B[49m\u001B[43m)\u001B[49m\n\u001B[0;32m   4601\u001B[0m \u001B[38;5;28;01mtry\u001B[39;00m:\n\u001B[0;32m   4602\u001B[0m     result \u001B[38;5;241m=\u001B[39m \u001B[38;5;28mself\u001B[39m\u001B[38;5;241m.\u001B[39mloc[res]\n",
      "File \u001B[1;32m~\\AppData\\Local\\Packages\\PythonSoftwareFoundation.Python.3.11_qbz5n2kfra8p0\\LocalCache\\local-packages\\Python311\\site-packages\\pandas\\core\\frame.py:4725\u001B[0m, in \u001B[0;36mDataFrame.eval\u001B[1;34m(self, expr, inplace, **kwargs)\u001B[0m\n\u001B[0;32m   4722\u001B[0m     kwargs[\u001B[38;5;124m\"\u001B[39m\u001B[38;5;124mtarget\u001B[39m\u001B[38;5;124m\"\u001B[39m] \u001B[38;5;241m=\u001B[39m \u001B[38;5;28mself\u001B[39m\n\u001B[0;32m   4723\u001B[0m kwargs[\u001B[38;5;124m\"\u001B[39m\u001B[38;5;124mresolvers\u001B[39m\u001B[38;5;124m\"\u001B[39m] \u001B[38;5;241m=\u001B[39m \u001B[38;5;28mtuple\u001B[39m(kwargs\u001B[38;5;241m.\u001B[39mget(\u001B[38;5;124m\"\u001B[39m\u001B[38;5;124mresolvers\u001B[39m\u001B[38;5;124m\"\u001B[39m, ())) \u001B[38;5;241m+\u001B[39m resolvers\n\u001B[1;32m-> 4725\u001B[0m \u001B[38;5;28;01mreturn\u001B[39;00m \u001B[43m_eval\u001B[49m\u001B[43m(\u001B[49m\u001B[43mexpr\u001B[49m\u001B[43m,\u001B[49m\u001B[43m \u001B[49m\u001B[43minplace\u001B[49m\u001B[38;5;241;43m=\u001B[39;49m\u001B[43minplace\u001B[49m\u001B[43m,\u001B[49m\u001B[43m \u001B[49m\u001B[38;5;241;43m*\u001B[39;49m\u001B[38;5;241;43m*\u001B[39;49m\u001B[43mkwargs\u001B[49m\u001B[43m)\u001B[49m\n",
      "File \u001B[1;32m~\\AppData\\Local\\Packages\\PythonSoftwareFoundation.Python.3.11_qbz5n2kfra8p0\\LocalCache\\local-packages\\Python311\\site-packages\\pandas\\core\\computation\\eval.py:336\u001B[0m, in \u001B[0;36meval\u001B[1;34m(expr, parser, engine, local_dict, global_dict, resolvers, level, target, inplace)\u001B[0m\n\u001B[0;32m    327\u001B[0m \u001B[38;5;66;03m# get our (possibly passed-in) scope\u001B[39;00m\n\u001B[0;32m    328\u001B[0m env \u001B[38;5;241m=\u001B[39m ensure_scope(\n\u001B[0;32m    329\u001B[0m     level \u001B[38;5;241m+\u001B[39m \u001B[38;5;241m1\u001B[39m,\n\u001B[0;32m    330\u001B[0m     global_dict\u001B[38;5;241m=\u001B[39mglobal_dict,\n\u001B[1;32m   (...)\u001B[0m\n\u001B[0;32m    333\u001B[0m     target\u001B[38;5;241m=\u001B[39mtarget,\n\u001B[0;32m    334\u001B[0m )\n\u001B[1;32m--> 336\u001B[0m parsed_expr \u001B[38;5;241m=\u001B[39m \u001B[43mExpr\u001B[49m\u001B[43m(\u001B[49m\u001B[43mexpr\u001B[49m\u001B[43m,\u001B[49m\u001B[43m \u001B[49m\u001B[43mengine\u001B[49m\u001B[38;5;241;43m=\u001B[39;49m\u001B[43mengine\u001B[49m\u001B[43m,\u001B[49m\u001B[43m \u001B[49m\u001B[43mparser\u001B[49m\u001B[38;5;241;43m=\u001B[39;49m\u001B[43mparser\u001B[49m\u001B[43m,\u001B[49m\u001B[43m \u001B[49m\u001B[43menv\u001B[49m\u001B[38;5;241;43m=\u001B[39;49m\u001B[43menv\u001B[49m\u001B[43m)\u001B[49m\n\u001B[0;32m    338\u001B[0m \u001B[38;5;28;01mif\u001B[39;00m engine \u001B[38;5;241m==\u001B[39m \u001B[38;5;124m\"\u001B[39m\u001B[38;5;124mnumexpr\u001B[39m\u001B[38;5;124m\"\u001B[39m \u001B[38;5;129;01mand\u001B[39;00m (\n\u001B[0;32m    339\u001B[0m     is_extension_array_dtype(parsed_expr\u001B[38;5;241m.\u001B[39mterms\u001B[38;5;241m.\u001B[39mreturn_type)\n\u001B[0;32m    340\u001B[0m     \u001B[38;5;129;01mor\u001B[39;00m \u001B[38;5;28mgetattr\u001B[39m(parsed_expr\u001B[38;5;241m.\u001B[39mterms, \u001B[38;5;124m\"\u001B[39m\u001B[38;5;124moperand_types\u001B[39m\u001B[38;5;124m\"\u001B[39m, \u001B[38;5;28;01mNone\u001B[39;00m) \u001B[38;5;129;01mis\u001B[39;00m \u001B[38;5;129;01mnot\u001B[39;00m \u001B[38;5;28;01mNone\u001B[39;00m\n\u001B[1;32m   (...)\u001B[0m\n\u001B[0;32m    344\u001B[0m     )\n\u001B[0;32m    345\u001B[0m ):\n\u001B[0;32m    346\u001B[0m     warnings\u001B[38;5;241m.\u001B[39mwarn(\n\u001B[0;32m    347\u001B[0m         \u001B[38;5;124m\"\u001B[39m\u001B[38;5;124mEngine has switched to \u001B[39m\u001B[38;5;124m'\u001B[39m\u001B[38;5;124mpython\u001B[39m\u001B[38;5;124m'\u001B[39m\u001B[38;5;124m because numexpr does not support \u001B[39m\u001B[38;5;124m\"\u001B[39m\n\u001B[0;32m    348\u001B[0m         \u001B[38;5;124m\"\u001B[39m\u001B[38;5;124mextension array dtypes. Please set your engine to python manually.\u001B[39m\u001B[38;5;124m\"\u001B[39m,\n\u001B[0;32m    349\u001B[0m         \u001B[38;5;167;01mRuntimeWarning\u001B[39;00m,\n\u001B[0;32m    350\u001B[0m         stacklevel\u001B[38;5;241m=\u001B[39mfind_stack_level(),\n\u001B[0;32m    351\u001B[0m     )\n",
      "File \u001B[1;32m~\\AppData\\Local\\Packages\\PythonSoftwareFoundation.Python.3.11_qbz5n2kfra8p0\\LocalCache\\local-packages\\Python311\\site-packages\\pandas\\core\\computation\\expr.py:808\u001B[0m, in \u001B[0;36mExpr.__init__\u001B[1;34m(self, expr, engine, parser, env, level)\u001B[0m\n\u001B[0;32m    806\u001B[0m \u001B[38;5;28mself\u001B[39m\u001B[38;5;241m.\u001B[39mparser \u001B[38;5;241m=\u001B[39m parser\n\u001B[0;32m    807\u001B[0m \u001B[38;5;28mself\u001B[39m\u001B[38;5;241m.\u001B[39m_visitor \u001B[38;5;241m=\u001B[39m PARSERS[parser](\u001B[38;5;28mself\u001B[39m\u001B[38;5;241m.\u001B[39menv, \u001B[38;5;28mself\u001B[39m\u001B[38;5;241m.\u001B[39mengine, \u001B[38;5;28mself\u001B[39m\u001B[38;5;241m.\u001B[39mparser)\n\u001B[1;32m--> 808\u001B[0m \u001B[38;5;28mself\u001B[39m\u001B[38;5;241m.\u001B[39mterms \u001B[38;5;241m=\u001B[39m \u001B[38;5;28;43mself\u001B[39;49m\u001B[38;5;241;43m.\u001B[39;49m\u001B[43mparse\u001B[49m\u001B[43m(\u001B[49m\u001B[43m)\u001B[49m\n",
      "File \u001B[1;32m~\\AppData\\Local\\Packages\\PythonSoftwareFoundation.Python.3.11_qbz5n2kfra8p0\\LocalCache\\local-packages\\Python311\\site-packages\\pandas\\core\\computation\\expr.py:827\u001B[0m, in \u001B[0;36mExpr.parse\u001B[1;34m(self)\u001B[0m\n\u001B[0;32m    823\u001B[0m \u001B[38;5;28;01mdef\u001B[39;00m \u001B[38;5;21mparse\u001B[39m(\u001B[38;5;28mself\u001B[39m):\n\u001B[0;32m    824\u001B[0m \u001B[38;5;250m    \u001B[39m\u001B[38;5;124;03m\"\"\"\u001B[39;00m\n\u001B[0;32m    825\u001B[0m \u001B[38;5;124;03m    Parse an expression.\u001B[39;00m\n\u001B[0;32m    826\u001B[0m \u001B[38;5;124;03m    \"\"\"\u001B[39;00m\n\u001B[1;32m--> 827\u001B[0m     \u001B[38;5;28;01mreturn\u001B[39;00m \u001B[38;5;28;43mself\u001B[39;49m\u001B[38;5;241;43m.\u001B[39;49m\u001B[43m_visitor\u001B[49m\u001B[38;5;241;43m.\u001B[39;49m\u001B[43mvisit\u001B[49m\u001B[43m(\u001B[49m\u001B[38;5;28;43mself\u001B[39;49m\u001B[38;5;241;43m.\u001B[39;49m\u001B[43mexpr\u001B[49m\u001B[43m)\u001B[49m\n",
      "File \u001B[1;32m~\\AppData\\Local\\Packages\\PythonSoftwareFoundation.Python.3.11_qbz5n2kfra8p0\\LocalCache\\local-packages\\Python311\\site-packages\\pandas\\core\\computation\\expr.py:411\u001B[0m, in \u001B[0;36mBaseExprVisitor.visit\u001B[1;34m(self, node, **kwargs)\u001B[0m\n\u001B[0;32m    409\u001B[0m method \u001B[38;5;241m=\u001B[39m \u001B[38;5;124mf\u001B[39m\u001B[38;5;124m\"\u001B[39m\u001B[38;5;124mvisit_\u001B[39m\u001B[38;5;132;01m{\u001B[39;00m\u001B[38;5;28mtype\u001B[39m(node)\u001B[38;5;241m.\u001B[39m\u001B[38;5;18m__name__\u001B[39m\u001B[38;5;132;01m}\u001B[39;00m\u001B[38;5;124m\"\u001B[39m\n\u001B[0;32m    410\u001B[0m visitor \u001B[38;5;241m=\u001B[39m \u001B[38;5;28mgetattr\u001B[39m(\u001B[38;5;28mself\u001B[39m, method)\n\u001B[1;32m--> 411\u001B[0m \u001B[38;5;28;01mreturn\u001B[39;00m \u001B[43mvisitor\u001B[49m\u001B[43m(\u001B[49m\u001B[43mnode\u001B[49m\u001B[43m,\u001B[49m\u001B[43m \u001B[49m\u001B[38;5;241;43m*\u001B[39;49m\u001B[38;5;241;43m*\u001B[39;49m\u001B[43mkwargs\u001B[49m\u001B[43m)\u001B[49m\n",
      "File \u001B[1;32m~\\AppData\\Local\\Packages\\PythonSoftwareFoundation.Python.3.11_qbz5n2kfra8p0\\LocalCache\\local-packages\\Python311\\site-packages\\pandas\\core\\computation\\expr.py:417\u001B[0m, in \u001B[0;36mBaseExprVisitor.visit_Module\u001B[1;34m(self, node, **kwargs)\u001B[0m\n\u001B[0;32m    415\u001B[0m     \u001B[38;5;28;01mraise\u001B[39;00m \u001B[38;5;167;01mSyntaxError\u001B[39;00m(\u001B[38;5;124m\"\u001B[39m\u001B[38;5;124monly a single expression is allowed\u001B[39m\u001B[38;5;124m\"\u001B[39m)\n\u001B[0;32m    416\u001B[0m expr \u001B[38;5;241m=\u001B[39m node\u001B[38;5;241m.\u001B[39mbody[\u001B[38;5;241m0\u001B[39m]\n\u001B[1;32m--> 417\u001B[0m \u001B[38;5;28;01mreturn\u001B[39;00m \u001B[38;5;28;43mself\u001B[39;49m\u001B[38;5;241;43m.\u001B[39;49m\u001B[43mvisit\u001B[49m\u001B[43m(\u001B[49m\u001B[43mexpr\u001B[49m\u001B[43m,\u001B[49m\u001B[43m \u001B[49m\u001B[38;5;241;43m*\u001B[39;49m\u001B[38;5;241;43m*\u001B[39;49m\u001B[43mkwargs\u001B[49m\u001B[43m)\u001B[49m\n",
      "File \u001B[1;32m~\\AppData\\Local\\Packages\\PythonSoftwareFoundation.Python.3.11_qbz5n2kfra8p0\\LocalCache\\local-packages\\Python311\\site-packages\\pandas\\core\\computation\\expr.py:411\u001B[0m, in \u001B[0;36mBaseExprVisitor.visit\u001B[1;34m(self, node, **kwargs)\u001B[0m\n\u001B[0;32m    409\u001B[0m method \u001B[38;5;241m=\u001B[39m \u001B[38;5;124mf\u001B[39m\u001B[38;5;124m\"\u001B[39m\u001B[38;5;124mvisit_\u001B[39m\u001B[38;5;132;01m{\u001B[39;00m\u001B[38;5;28mtype\u001B[39m(node)\u001B[38;5;241m.\u001B[39m\u001B[38;5;18m__name__\u001B[39m\u001B[38;5;132;01m}\u001B[39;00m\u001B[38;5;124m\"\u001B[39m\n\u001B[0;32m    410\u001B[0m visitor \u001B[38;5;241m=\u001B[39m \u001B[38;5;28mgetattr\u001B[39m(\u001B[38;5;28mself\u001B[39m, method)\n\u001B[1;32m--> 411\u001B[0m \u001B[38;5;28;01mreturn\u001B[39;00m \u001B[43mvisitor\u001B[49m\u001B[43m(\u001B[49m\u001B[43mnode\u001B[49m\u001B[43m,\u001B[49m\u001B[43m \u001B[49m\u001B[38;5;241;43m*\u001B[39;49m\u001B[38;5;241;43m*\u001B[39;49m\u001B[43mkwargs\u001B[49m\u001B[43m)\u001B[49m\n",
      "File \u001B[1;32m~\\AppData\\Local\\Packages\\PythonSoftwareFoundation.Python.3.11_qbz5n2kfra8p0\\LocalCache\\local-packages\\Python311\\site-packages\\pandas\\core\\computation\\expr.py:420\u001B[0m, in \u001B[0;36mBaseExprVisitor.visit_Expr\u001B[1;34m(self, node, **kwargs)\u001B[0m\n\u001B[0;32m    419\u001B[0m \u001B[38;5;28;01mdef\u001B[39;00m \u001B[38;5;21mvisit_Expr\u001B[39m(\u001B[38;5;28mself\u001B[39m, node, \u001B[38;5;241m*\u001B[39m\u001B[38;5;241m*\u001B[39mkwargs):\n\u001B[1;32m--> 420\u001B[0m     \u001B[38;5;28;01mreturn\u001B[39;00m \u001B[38;5;28;43mself\u001B[39;49m\u001B[38;5;241;43m.\u001B[39;49m\u001B[43mvisit\u001B[49m\u001B[43m(\u001B[49m\u001B[43mnode\u001B[49m\u001B[38;5;241;43m.\u001B[39;49m\u001B[43mvalue\u001B[49m\u001B[43m,\u001B[49m\u001B[43m \u001B[49m\u001B[38;5;241;43m*\u001B[39;49m\u001B[38;5;241;43m*\u001B[39;49m\u001B[43mkwargs\u001B[49m\u001B[43m)\u001B[49m\n",
      "File \u001B[1;32m~\\AppData\\Local\\Packages\\PythonSoftwareFoundation.Python.3.11_qbz5n2kfra8p0\\LocalCache\\local-packages\\Python311\\site-packages\\pandas\\core\\computation\\expr.py:411\u001B[0m, in \u001B[0;36mBaseExprVisitor.visit\u001B[1;34m(self, node, **kwargs)\u001B[0m\n\u001B[0;32m    409\u001B[0m method \u001B[38;5;241m=\u001B[39m \u001B[38;5;124mf\u001B[39m\u001B[38;5;124m\"\u001B[39m\u001B[38;5;124mvisit_\u001B[39m\u001B[38;5;132;01m{\u001B[39;00m\u001B[38;5;28mtype\u001B[39m(node)\u001B[38;5;241m.\u001B[39m\u001B[38;5;18m__name__\u001B[39m\u001B[38;5;132;01m}\u001B[39;00m\u001B[38;5;124m\"\u001B[39m\n\u001B[0;32m    410\u001B[0m visitor \u001B[38;5;241m=\u001B[39m \u001B[38;5;28mgetattr\u001B[39m(\u001B[38;5;28mself\u001B[39m, method)\n\u001B[1;32m--> 411\u001B[0m \u001B[38;5;28;01mreturn\u001B[39;00m \u001B[43mvisitor\u001B[49m\u001B[43m(\u001B[49m\u001B[43mnode\u001B[49m\u001B[43m,\u001B[49m\u001B[43m \u001B[49m\u001B[38;5;241;43m*\u001B[39;49m\u001B[38;5;241;43m*\u001B[39;49m\u001B[43mkwargs\u001B[49m\u001B[43m)\u001B[49m\n",
      "File \u001B[1;32m~\\AppData\\Local\\Packages\\PythonSoftwareFoundation.Python.3.11_qbz5n2kfra8p0\\LocalCache\\local-packages\\Python311\\site-packages\\pandas\\core\\computation\\expr.py:718\u001B[0m, in \u001B[0;36mBaseExprVisitor.visit_Compare\u001B[1;34m(self, node, **kwargs)\u001B[0m\n\u001B[0;32m    716\u001B[0m     op \u001B[38;5;241m=\u001B[39m \u001B[38;5;28mself\u001B[39m\u001B[38;5;241m.\u001B[39mtranslate_In(ops[\u001B[38;5;241m0\u001B[39m])\n\u001B[0;32m    717\u001B[0m     binop \u001B[38;5;241m=\u001B[39m ast\u001B[38;5;241m.\u001B[39mBinOp(op\u001B[38;5;241m=\u001B[39mop, left\u001B[38;5;241m=\u001B[39mnode\u001B[38;5;241m.\u001B[39mleft, right\u001B[38;5;241m=\u001B[39mcomps[\u001B[38;5;241m0\u001B[39m])\n\u001B[1;32m--> 718\u001B[0m     \u001B[38;5;28;01mreturn\u001B[39;00m \u001B[38;5;28;43mself\u001B[39;49m\u001B[38;5;241;43m.\u001B[39;49m\u001B[43mvisit\u001B[49m\u001B[43m(\u001B[49m\u001B[43mbinop\u001B[49m\u001B[43m)\u001B[49m\n\u001B[0;32m    720\u001B[0m \u001B[38;5;66;03m# recursive case: we have a chained comparison, a CMP b CMP c, etc.\u001B[39;00m\n\u001B[0;32m    721\u001B[0m left \u001B[38;5;241m=\u001B[39m node\u001B[38;5;241m.\u001B[39mleft\n",
      "File \u001B[1;32m~\\AppData\\Local\\Packages\\PythonSoftwareFoundation.Python.3.11_qbz5n2kfra8p0\\LocalCache\\local-packages\\Python311\\site-packages\\pandas\\core\\computation\\expr.py:411\u001B[0m, in \u001B[0;36mBaseExprVisitor.visit\u001B[1;34m(self, node, **kwargs)\u001B[0m\n\u001B[0;32m    409\u001B[0m method \u001B[38;5;241m=\u001B[39m \u001B[38;5;124mf\u001B[39m\u001B[38;5;124m\"\u001B[39m\u001B[38;5;124mvisit_\u001B[39m\u001B[38;5;132;01m{\u001B[39;00m\u001B[38;5;28mtype\u001B[39m(node)\u001B[38;5;241m.\u001B[39m\u001B[38;5;18m__name__\u001B[39m\u001B[38;5;132;01m}\u001B[39;00m\u001B[38;5;124m\"\u001B[39m\n\u001B[0;32m    410\u001B[0m visitor \u001B[38;5;241m=\u001B[39m \u001B[38;5;28mgetattr\u001B[39m(\u001B[38;5;28mself\u001B[39m, method)\n\u001B[1;32m--> 411\u001B[0m \u001B[38;5;28;01mreturn\u001B[39;00m \u001B[43mvisitor\u001B[49m\u001B[43m(\u001B[49m\u001B[43mnode\u001B[49m\u001B[43m,\u001B[49m\u001B[43m \u001B[49m\u001B[38;5;241;43m*\u001B[39;49m\u001B[38;5;241;43m*\u001B[39;49m\u001B[43mkwargs\u001B[49m\u001B[43m)\u001B[49m\n",
      "File \u001B[1;32m~\\AppData\\Local\\Packages\\PythonSoftwareFoundation.Python.3.11_qbz5n2kfra8p0\\LocalCache\\local-packages\\Python311\\site-packages\\pandas\\core\\computation\\expr.py:531\u001B[0m, in \u001B[0;36mBaseExprVisitor.visit_BinOp\u001B[1;34m(self, node, **kwargs)\u001B[0m\n\u001B[0;32m    530\u001B[0m \u001B[38;5;28;01mdef\u001B[39;00m \u001B[38;5;21mvisit_BinOp\u001B[39m(\u001B[38;5;28mself\u001B[39m, node, \u001B[38;5;241m*\u001B[39m\u001B[38;5;241m*\u001B[39mkwargs):\n\u001B[1;32m--> 531\u001B[0m     op, op_class, left, right \u001B[38;5;241m=\u001B[39m \u001B[38;5;28;43mself\u001B[39;49m\u001B[38;5;241;43m.\u001B[39;49m\u001B[43m_maybe_transform_eq_ne\u001B[49m\u001B[43m(\u001B[49m\u001B[43mnode\u001B[49m\u001B[43m)\u001B[49m\n\u001B[0;32m    532\u001B[0m     left, right \u001B[38;5;241m=\u001B[39m \u001B[38;5;28mself\u001B[39m\u001B[38;5;241m.\u001B[39m_maybe_downcast_constants(left, right)\n\u001B[0;32m    533\u001B[0m     \u001B[38;5;28;01mreturn\u001B[39;00m \u001B[38;5;28mself\u001B[39m\u001B[38;5;241m.\u001B[39m_maybe_evaluate_binop(op, op_class, left, right)\n",
      "File \u001B[1;32m~\\AppData\\Local\\Packages\\PythonSoftwareFoundation.Python.3.11_qbz5n2kfra8p0\\LocalCache\\local-packages\\Python311\\site-packages\\pandas\\core\\computation\\expr.py:453\u001B[0m, in \u001B[0;36mBaseExprVisitor._maybe_transform_eq_ne\u001B[1;34m(self, node, left, right)\u001B[0m\n\u001B[0;32m    451\u001B[0m     left \u001B[38;5;241m=\u001B[39m \u001B[38;5;28mself\u001B[39m\u001B[38;5;241m.\u001B[39mvisit(node\u001B[38;5;241m.\u001B[39mleft, side\u001B[38;5;241m=\u001B[39m\u001B[38;5;124m\"\u001B[39m\u001B[38;5;124mleft\u001B[39m\u001B[38;5;124m\"\u001B[39m)\n\u001B[0;32m    452\u001B[0m \u001B[38;5;28;01mif\u001B[39;00m right \u001B[38;5;129;01mis\u001B[39;00m \u001B[38;5;28;01mNone\u001B[39;00m:\n\u001B[1;32m--> 453\u001B[0m     right \u001B[38;5;241m=\u001B[39m \u001B[38;5;28;43mself\u001B[39;49m\u001B[38;5;241;43m.\u001B[39;49m\u001B[43mvisit\u001B[49m\u001B[43m(\u001B[49m\u001B[43mnode\u001B[49m\u001B[38;5;241;43m.\u001B[39;49m\u001B[43mright\u001B[49m\u001B[43m,\u001B[49m\u001B[43m \u001B[49m\u001B[43mside\u001B[49m\u001B[38;5;241;43m=\u001B[39;49m\u001B[38;5;124;43m\"\u001B[39;49m\u001B[38;5;124;43mright\u001B[39;49m\u001B[38;5;124;43m\"\u001B[39;49m\u001B[43m)\u001B[49m\n\u001B[0;32m    454\u001B[0m op, op_class, left, right \u001B[38;5;241m=\u001B[39m \u001B[38;5;28mself\u001B[39m\u001B[38;5;241m.\u001B[39m_rewrite_membership_op(node, left, right)\n\u001B[0;32m    455\u001B[0m \u001B[38;5;28;01mreturn\u001B[39;00m op, op_class, left, right\n",
      "File \u001B[1;32m~\\AppData\\Local\\Packages\\PythonSoftwareFoundation.Python.3.11_qbz5n2kfra8p0\\LocalCache\\local-packages\\Python311\\site-packages\\pandas\\core\\computation\\expr.py:411\u001B[0m, in \u001B[0;36mBaseExprVisitor.visit\u001B[1;34m(self, node, **kwargs)\u001B[0m\n\u001B[0;32m    409\u001B[0m method \u001B[38;5;241m=\u001B[39m \u001B[38;5;124mf\u001B[39m\u001B[38;5;124m\"\u001B[39m\u001B[38;5;124mvisit_\u001B[39m\u001B[38;5;132;01m{\u001B[39;00m\u001B[38;5;28mtype\u001B[39m(node)\u001B[38;5;241m.\u001B[39m\u001B[38;5;18m__name__\u001B[39m\u001B[38;5;132;01m}\u001B[39;00m\u001B[38;5;124m\"\u001B[39m\n\u001B[0;32m    410\u001B[0m visitor \u001B[38;5;241m=\u001B[39m \u001B[38;5;28mgetattr\u001B[39m(\u001B[38;5;28mself\u001B[39m, method)\n\u001B[1;32m--> 411\u001B[0m \u001B[38;5;28;01mreturn\u001B[39;00m \u001B[43mvisitor\u001B[49m\u001B[43m(\u001B[49m\u001B[43mnode\u001B[49m\u001B[43m,\u001B[49m\u001B[43m \u001B[49m\u001B[38;5;241;43m*\u001B[39;49m\u001B[38;5;241;43m*\u001B[39;49m\u001B[43mkwargs\u001B[49m\u001B[43m)\u001B[49m\n",
      "File \u001B[1;32m~\\AppData\\Local\\Packages\\PythonSoftwareFoundation.Python.3.11_qbz5n2kfra8p0\\LocalCache\\local-packages\\Python311\\site-packages\\pandas\\core\\computation\\expr.py:544\u001B[0m, in \u001B[0;36mBaseExprVisitor.visit_Name\u001B[1;34m(self, node, **kwargs)\u001B[0m\n\u001B[0;32m    543\u001B[0m \u001B[38;5;28;01mdef\u001B[39;00m \u001B[38;5;21mvisit_Name\u001B[39m(\u001B[38;5;28mself\u001B[39m, node, \u001B[38;5;241m*\u001B[39m\u001B[38;5;241m*\u001B[39mkwargs):\n\u001B[1;32m--> 544\u001B[0m     \u001B[38;5;28;01mreturn\u001B[39;00m \u001B[38;5;28;43mself\u001B[39;49m\u001B[38;5;241;43m.\u001B[39;49m\u001B[43mterm_type\u001B[49m\u001B[43m(\u001B[49m\u001B[43mnode\u001B[49m\u001B[38;5;241;43m.\u001B[39;49m\u001B[43mid\u001B[49m\u001B[43m,\u001B[49m\u001B[43m \u001B[49m\u001B[38;5;28;43mself\u001B[39;49m\u001B[38;5;241;43m.\u001B[39;49m\u001B[43menv\u001B[49m\u001B[43m,\u001B[49m\u001B[43m \u001B[49m\u001B[38;5;241;43m*\u001B[39;49m\u001B[38;5;241;43m*\u001B[39;49m\u001B[43mkwargs\u001B[49m\u001B[43m)\u001B[49m\n",
      "File \u001B[1;32m~\\AppData\\Local\\Packages\\PythonSoftwareFoundation.Python.3.11_qbz5n2kfra8p0\\LocalCache\\local-packages\\Python311\\site-packages\\pandas\\core\\computation\\ops.py:91\u001B[0m, in \u001B[0;36mTerm.__init__\u001B[1;34m(self, name, env, side, encoding)\u001B[0m\n\u001B[0;32m     89\u001B[0m tname \u001B[38;5;241m=\u001B[39m \u001B[38;5;28mstr\u001B[39m(name)\n\u001B[0;32m     90\u001B[0m \u001B[38;5;28mself\u001B[39m\u001B[38;5;241m.\u001B[39mis_local \u001B[38;5;241m=\u001B[39m tname\u001B[38;5;241m.\u001B[39mstartswith(LOCAL_TAG) \u001B[38;5;129;01mor\u001B[39;00m tname \u001B[38;5;129;01min\u001B[39;00m DEFAULT_GLOBALS\n\u001B[1;32m---> 91\u001B[0m \u001B[38;5;28mself\u001B[39m\u001B[38;5;241m.\u001B[39m_value \u001B[38;5;241m=\u001B[39m \u001B[38;5;28;43mself\u001B[39;49m\u001B[38;5;241;43m.\u001B[39;49m\u001B[43m_resolve_name\u001B[49m\u001B[43m(\u001B[49m\u001B[43m)\u001B[49m\n\u001B[0;32m     92\u001B[0m \u001B[38;5;28mself\u001B[39m\u001B[38;5;241m.\u001B[39mencoding \u001B[38;5;241m=\u001B[39m encoding\n",
      "File \u001B[1;32m~\\AppData\\Local\\Packages\\PythonSoftwareFoundation.Python.3.11_qbz5n2kfra8p0\\LocalCache\\local-packages\\Python311\\site-packages\\pandas\\core\\computation\\ops.py:115\u001B[0m, in \u001B[0;36mTerm._resolve_name\u001B[1;34m(self)\u001B[0m\n\u001B[0;32m    110\u001B[0m \u001B[38;5;28;01mif\u001B[39;00m local_name \u001B[38;5;129;01min\u001B[39;00m \u001B[38;5;28mself\u001B[39m\u001B[38;5;241m.\u001B[39menv\u001B[38;5;241m.\u001B[39mscope \u001B[38;5;129;01mand\u001B[39;00m \u001B[38;5;28misinstance\u001B[39m(\n\u001B[0;32m    111\u001B[0m     \u001B[38;5;28mself\u001B[39m\u001B[38;5;241m.\u001B[39menv\u001B[38;5;241m.\u001B[39mscope[local_name], \u001B[38;5;28mtype\u001B[39m\n\u001B[0;32m    112\u001B[0m ):\n\u001B[0;32m    113\u001B[0m     is_local \u001B[38;5;241m=\u001B[39m \u001B[38;5;28;01mFalse\u001B[39;00m\n\u001B[1;32m--> 115\u001B[0m res \u001B[38;5;241m=\u001B[39m \u001B[38;5;28;43mself\u001B[39;49m\u001B[38;5;241;43m.\u001B[39;49m\u001B[43menv\u001B[49m\u001B[38;5;241;43m.\u001B[39;49m\u001B[43mresolve\u001B[49m\u001B[43m(\u001B[49m\u001B[43mlocal_name\u001B[49m\u001B[43m,\u001B[49m\u001B[43m \u001B[49m\u001B[43mis_local\u001B[49m\u001B[38;5;241;43m=\u001B[39;49m\u001B[43mis_local\u001B[49m\u001B[43m)\u001B[49m\n\u001B[0;32m    116\u001B[0m \u001B[38;5;28mself\u001B[39m\u001B[38;5;241m.\u001B[39mupdate(res)\n\u001B[0;32m    118\u001B[0m \u001B[38;5;28;01mif\u001B[39;00m \u001B[38;5;28mhasattr\u001B[39m(res, \u001B[38;5;124m\"\u001B[39m\u001B[38;5;124mndim\u001B[39m\u001B[38;5;124m\"\u001B[39m) \u001B[38;5;129;01mand\u001B[39;00m res\u001B[38;5;241m.\u001B[39mndim \u001B[38;5;241m>\u001B[39m \u001B[38;5;241m2\u001B[39m:\n",
      "File \u001B[1;32m~\\AppData\\Local\\Packages\\PythonSoftwareFoundation.Python.3.11_qbz5n2kfra8p0\\LocalCache\\local-packages\\Python311\\site-packages\\pandas\\core\\computation\\scope.py:244\u001B[0m, in \u001B[0;36mScope.resolve\u001B[1;34m(self, key, is_local)\u001B[0m\n\u001B[0;32m    242\u001B[0m     \u001B[38;5;28;01mreturn\u001B[39;00m \u001B[38;5;28mself\u001B[39m\u001B[38;5;241m.\u001B[39mtemps[key]\n\u001B[0;32m    243\u001B[0m \u001B[38;5;28;01mexcept\u001B[39;00m \u001B[38;5;167;01mKeyError\u001B[39;00m \u001B[38;5;28;01mas\u001B[39;00m err:\n\u001B[1;32m--> 244\u001B[0m     \u001B[38;5;28;01mraise\u001B[39;00m UndefinedVariableError(key, is_local) \u001B[38;5;28;01mfrom\u001B[39;00m \u001B[38;5;21;01merr\u001B[39;00m\n",
      "\u001B[1;31mUndefinedVariableError\u001B[0m: name 'none' is not defined"
     ]
    }
   ],
   "source": [
    "appearance.query('player_name==')"
   ],
   "metadata": {
    "collapsed": false,
    "ExecuteTime": {
     "end_time": "2023-12-06T11:30:33.133728300Z",
     "start_time": "2023-12-06T11:30:32.924481600Z"
    }
   },
   "id": "3a71559988d843cf"
  },
  {
   "cell_type": "code",
   "execution_count": null,
   "outputs": [],
   "source": [],
   "metadata": {
    "collapsed": false
   },
   "id": "569ce33a867260b"
  }
 ],
 "metadata": {
  "kernelspec": {
   "display_name": "Python 3",
   "language": "python",
   "name": "python3"
  },
  "language_info": {
   "codemirror_mode": {
    "name": "ipython",
    "version": 2
   },
   "file_extension": ".py",
   "mimetype": "text/x-python",
   "name": "python",
   "nbconvert_exporter": "python",
   "pygments_lexer": "ipython2",
   "version": "2.7.6"
  }
 },
 "nbformat": 4,
 "nbformat_minor": 5
}

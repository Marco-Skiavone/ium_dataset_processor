{
 "cells": [
  {
   "cell_type": "code",
   "execution_count": null,
   "id": "initial_id",
   "metadata": {
    "collapsed": true
   },
   "outputs": [],
   "source": [
    "from Server_Cleaning.modules.Assignment_datasets import *\n",
    "location = '../../'"
   ]
  },
  {
   "cell_type": "markdown",
   "source": [
    "# Games analysis"
   ],
   "metadata": {
    "collapsed": false
   },
   "id": "558da999113ea324"
  },
  {
   "cell_type": "code",
   "execution_count": null,
   "outputs": [],
   "source": [
    "games = get_games(location)\n",
    "games.info()"
   ],
   "metadata": {
    "collapsed": false
   },
   "id": "1a3cf3a3d8be51f0"
  },
  {
   "cell_type": "markdown",
   "source": [
    "> ### We try to see if games have all the competitions or a part of it. It links with clubs and appearance, competition is obviously intended."
   ],
   "metadata": {
    "collapsed": false
   },
   "id": "b087e96ea905a497"
  },
  {
   "cell_type": "code",
   "execution_count": null,
   "outputs": [],
   "source": [
    "competitions = get_competitions(location)\n",
    "competitions.info()"
   ],
   "metadata": {
    "collapsed": false
   },
   "id": "f961ad319c4c08a5"
  },
  {
   "cell_type": "code",
   "execution_count": null,
   "outputs": [],
   "source": [
    "games['competition_id'].drop_duplicates().isin(competitions['competition_id']).sum()"
   ],
   "metadata": {
    "collapsed": false
   },
   "id": "c2f3d13d333260c"
  },
  {
   "cell_type": "code",
   "execution_count": null,
   "outputs": [],
   "source": [
    "games['competition_id'].drop_duplicates().shape"
   ],
   "metadata": {
    "collapsed": false
   },
   "id": "ff1e2b1913517c10"
  },
  {
   "cell_type": "code",
   "execution_count": null,
   "outputs": [],
   "source": [
    "competitions[['competition_id', 'domestic_league_code']]"
   ],
   "metadata": {
    "collapsed": false
   },
   "id": "e3e6574f84ebae43"
  },
  {
   "cell_type": "code",
   "outputs": [],
   "source": [
    "games.query('competition_id == \"NLSC\"')"
   ],
   "metadata": {
    "collapsed": false
   },
   "id": "8e2e760d5e46930c",
   "execution_count": null
  },
  {
   "cell_type": "code",
   "execution_count": null,
   "outputs": [],
   "source": [
    "games"
   ],
   "metadata": {
    "collapsed": false
   },
   "id": "67f14b6afc3db617"
  },
  {
   "cell_type": "markdown",
   "source": [
    "> # Positions of the home and away clubs are relative to the ranked list of clubs **AT THE MOMENT IN WHICH THE GAME IS PLAYED**!"
   ],
   "metadata": {
    "collapsed": false
   },
   "id": "21196acd95e2d6c3"
  },
  {
   "cell_type": "markdown",
   "source": [
    "> # Now we want to see if aggregate is consistent with club goals!  "
   ],
   "metadata": {
    "collapsed": false
   },
   "id": "795a8c04c6650548"
  },
  {
   "cell_type": "code",
   "execution_count": null,
   "outputs": [],
   "source": [
    "games_aggregate_expand = pd.DataFrame({})\n",
    "games_aggregate_expand[['aggregate_home', 'aggregate_away']] = games['aggregate'].str.split(':', expand=True)\n",
    "games_aggregate_expand['aggregate_home'] = pd.to_numeric(games_aggregate_expand['aggregate_home'].astype('string'))\n",
    "games_aggregate_expand['aggregate_away'] = pd.to_numeric(games_aggregate_expand['aggregate_away'].astype('string'))\n",
    "\n",
    "# Check the data consistency\n",
    "(games_aggregate_expand['aggregate_home'] == games['home_club_goals']) & (games_aggregate_expand['aggregate_away'] == games['away_club_goals'])"
   ],
   "metadata": {
    "collapsed": false
   },
   "id": "f7a2165543a30954"
  },
  {
   "cell_type": "code",
   "execution_count": null,
   "outputs": [],
   "source": [
    "games_aggregate_expand = None"
   ],
   "metadata": {
    "collapsed": false
   },
   "id": "9196f9241a0f671"
  },
  {
   "cell_type": "markdown",
   "source": [
    "> # All the 'aggregate' are consistent with goals info."
   ],
   "metadata": {
    "collapsed": false
   },
   "id": "2d10a659c5bf83f4"
  },
  {
   "cell_type": "markdown",
   "source": [],
   "metadata": {
    "collapsed": false
   },
   "id": "184bfb32894b03b6"
  },
  {
   "cell_type": "code",
   "outputs": [],
   "source": [
    "home_club_form = games[['home_club_formation','away_club_formation']].dropna().copy()\n",
    "home_club_form"
   ],
   "metadata": {
    "collapsed": false
   },
   "id": "267d4b7c179cbeaf",
   "execution_count": null
  }
 ],
 "metadata": {
  "kernelspec": {
   "display_name": "Python 3",
   "language": "python",
   "name": "python3"
  },
  "language_info": {
   "codemirror_mode": {
    "name": "ipython",
    "version": 2
   },
   "file_extension": ".py",
   "mimetype": "text/x-python",
   "name": "python",
   "nbconvert_exporter": "python",
   "pygments_lexer": "ipython2",
   "version": "2.7.6"
  }
 },
 "nbformat": 4,
 "nbformat_minor": 5
}

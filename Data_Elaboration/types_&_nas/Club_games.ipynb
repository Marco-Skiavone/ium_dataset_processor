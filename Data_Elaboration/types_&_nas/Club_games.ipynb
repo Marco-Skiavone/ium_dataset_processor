{
 "cells": [
  {
   "cell_type": "code",
   "execution_count": null,
   "id": "initial_id",
   "metadata": {
    "collapsed": true
   },
   "outputs": [],
   "source": [
    "from Server_Cleaning.modules.module_for_imports import *\n",
    "location = '../../'"
   ]
  },
  {
   "cell_type": "markdown",
   "source": [
    "# Club_games analysis"
   ],
   "metadata": {
    "collapsed": false
   },
   "id": "baa17527cee1f301"
  },
  {
   "cell_type": "code",
   "execution_count": null,
   "outputs": [],
   "source": [
    "club_games = get_club_games(location)\n",
    "club_games.info()"
   ],
   "metadata": {
    "collapsed": false
   },
   "id": "a727b7b14a34f4ba"
  },
  {
   "cell_type": "code",
   "execution_count": null,
   "outputs": [],
   "source": [
    "club_games['game_id'].drop_duplicates().shape[0]"
   ],
   "metadata": {
    "collapsed": false
   },
   "id": "87153ba9cbea5619"
  },
  {
   "cell_type": "markdown",
   "source": [
    "> ### So we have 2 tuples for every games' tuple."
   ],
   "metadata": {
    "collapsed": false
   },
   "id": "524852ac59b53bab"
  },
  {
   "cell_type": "code",
   "execution_count": null,
   "outputs": [],
   "source": [
    "# See what kind of type is 'hosting'\n",
    "club_games['hosting'].value_counts()"
   ],
   "metadata": {
    "collapsed": false
   },
   "id": "daa96db6df0a85f4"
  },
  {
   "cell_type": "code",
   "execution_count": null,
   "outputs": [],
   "source": [
    "(club_games.drop_duplicates('game_id')['opponent_manager_name'].shape == \n",
    "club_games.drop_duplicates('game_id')['own_manager_name'].shape)"
   ],
   "metadata": {
    "collapsed": false
   },
   "id": "8ff109e4e895b2c0"
  },
  {
   "cell_type": "code",
   "execution_count": null,
   "outputs": [],
   "source": [
    "club_games['is_win'].value_counts()"
   ],
   "metadata": {
    "collapsed": false
   },
   "id": "715d7f8cec7032da"
  },
  {
   "cell_type": "markdown",
   "source": [
    "> # 'is_win' can be casted to a boolean!"
   ],
   "metadata": {
    "collapsed": false
   },
   "id": "175e415d1aa2a058"
  },
  {
   "cell_type": "markdown",
   "source": [
    "> ### Are the draw matches gonna be considered as a is_win == 0 ? (it would make sense)"
   ],
   "metadata": {
    "collapsed": false
   },
   "id": "8c0ec406cc9444c4"
  },
  {
   "cell_type": "code",
   "execution_count": null,
   "outputs": [],
   "source": [
    "club_games['game_id'].drop_duplicates().shape[0]"
   ],
   "metadata": {
    "collapsed": false
   },
   "id": "e7fffe66d8bc43a2"
  },
  {
   "cell_type": "code",
   "execution_count": null,
   "outputs": [],
   "source": [
    "club_games.groupby('game_id')['is_win'].agg('min')"
   ],
   "metadata": {
    "collapsed": false
   },
   "id": "45ada73c6fe37fbb"
  },
  {
   "cell_type": "code",
   "execution_count": null,
   "outputs": [],
   "source": [
    "club_games.query('is_win == 1 & own_goals <= opponent_goals |'\n",
    "                 'is_win == 0 & own_goals >= opponent_goals')"
   ],
   "metadata": {
    "collapsed": false
   },
   "id": "508b439f370516d6"
  },
  {
   "cell_type": "code",
   "execution_count": null,
   "outputs": [],
   "source": [
    "# this is to see if there are non-draw matches with unreliable values\n",
    "club_games.query('is_win == 1 & own_goals < opponent_goals |'\n",
    "                 'is_win == 0 & own_goals > opponent_goals')"
   ],
   "metadata": {
    "collapsed": false
   },
   "id": "2c4e0c069e7db5f5"
  },
  {
   "cell_type": "markdown",
   "source": [
    "## In this way, we should be sure that every game has a winner and a looser"
   ],
   "metadata": {
    "collapsed": false
   },
   "id": "f5c84b6b7a6e109d"
  }
 ],
 "metadata": {
  "kernelspec": {
   "display_name": "Python 3",
   "language": "python",
   "name": "python3"
  },
  "language_info": {
   "codemirror_mode": {
    "name": "ipython",
    "version": 2
   },
   "file_extension": ".py",
   "mimetype": "text/x-python",
   "name": "python",
   "nbconvert_exporter": "python",
   "pygments_lexer": "ipython2",
   "version": "2.7.6"
  }
 },
 "nbformat": 4,
 "nbformat_minor": 5
}

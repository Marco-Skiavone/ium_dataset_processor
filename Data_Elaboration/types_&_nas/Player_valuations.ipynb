{
 "cells": [
  {
   "cell_type": "code",
   "execution_count": null,
   "outputs": [],
   "source": [
    "from Server_Cleaning.modules.Assignment_datasets import *\n",
    "location = '../../'"
   ],
   "metadata": {
    "collapsed": false
   },
   "id": "a5d40ea0522dafe3"
  },
  {
   "cell_type": "markdown",
   "source": [
    "# Player Valuations"
   ],
   "metadata": {
    "collapsed": false
   },
   "id": "81955830577749e6"
  },
  {
   "cell_type": "code",
   "execution_count": null,
   "outputs": [],
   "source": [
    "player_val = get_player_valuations(location)\n",
    "player_val"
   ],
   "metadata": {
    "collapsed": false
   },
   "id": "f9529557e3d24f10"
  },
  {
   "cell_type": "code",
   "execution_count": null,
   "outputs": [],
   "source": [
    "player_val.info()"
   ],
   "metadata": {
    "collapsed": false
   },
   "id": "feb4d0b072564d89"
  },
  {
   "cell_type": "code",
   "execution_count": null,
   "outputs": [],
   "source": [
    "player_val['date'] = pd.to_datetime(player_val['date'].astype('string'))\n",
    "player_val['player_club_domestic_competition_id'] = player_val['player_club_domestic_competition_id'].astype('string')\n",
    "\n",
    "player_val[['datetime', 'date', \n",
    "            'dateweek', 'player_club_domestic_competition_id']]"
   ],
   "metadata": {
    "collapsed": false
   },
   "id": "68b359c3e56b105a"
  },
  {
   "cell_type": "markdown",
   "source": [
    "> # It seems that 'datetime' and 'date' have the same values (see below)\n",
    "- The following commands have been executed before the casting of their columns."
   ],
   "metadata": {
    "collapsed": false
   },
   "id": "69dc536e7afdc05f"
  },
  {
   "cell_type": "code",
   "execution_count": null,
   "outputs": [],
   "source": [
    "player_val.query('date != datetime').shape[0]"
   ],
   "metadata": {
    "collapsed": false
   },
   "id": "60e79d70403ea7b7"
  },
  {
   "cell_type": "markdown",
   "source": [
    "> # Note that 'dateweek' and 'date' are not the same!"
   ],
   "metadata": {
    "collapsed": false
   },
   "id": "cd024bfac35b0de0"
  },
  {
   "cell_type": "code",
   "execution_count": null,
   "outputs": [],
   "source": [
    "player_val.query('date != dateweek').shape[0]"
   ],
   "metadata": {
    "collapsed": false
   },
   "id": "9af7f8f139e247b7"
  },
  {
   "cell_type": "code",
   "execution_count": null,
   "outputs": [],
   "source": [
    "del player_val['datetime']"
   ],
   "metadata": {
    "collapsed": false
   },
   "id": "c4d7b0a0519400ad"
  },
  {
   "cell_type": "code",
   "execution_count": null,
   "outputs": [],
   "source": [
    "player_val.rename(columns={'player_club_domestic_competition_id': 'competition_id'}, inplace=True)\n",
    "player_val.info()"
   ],
   "metadata": {
    "collapsed": false
   },
   "id": "52650897603d20fa"
  },
  {
   "cell_type": "markdown",
   "source": [
    "> ## check 'n' column of the players"
   ],
   "metadata": {
    "collapsed": false
   },
   "id": "9e8a36a702dc11da"
  },
  {
   "cell_type": "code",
   "execution_count": null,
   "outputs": [],
   "source": [
    "player_val['n'].value_counts()"
   ],
   "metadata": {
    "collapsed": false
   },
   "id": "f3d006aec4ec3ee6"
  },
  {
   "cell_type": "code",
   "execution_count": null,
   "outputs": [],
   "source": [
    "del player_val['n']"
   ],
   "metadata": {
    "collapsed": false
   },
   "id": "d0752a67dd319f82"
  },
  {
   "cell_type": "markdown",
   "source": [
    "> # RESULT: we can remove it (?)"
   ],
   "metadata": {
    "collapsed": false
   },
   "id": "65efbce9f64044ca"
  },
  {
   "cell_type": "code",
   "execution_count": null,
   "outputs": [],
   "source": [
    "player_val.query('dateweek != date')"
   ],
   "metadata": {
    "collapsed": false
   },
   "id": "13b28d080ab0aee5"
  },
  {
   "cell_type": "markdown",
   "source": [
    "> # we found out how many players have been valuated more than once for every date!"
   ],
   "metadata": {
    "collapsed": false
   },
   "id": "1533a627ed1e4b3d"
  },
  {
   "cell_type": "code",
   "execution_count": null,
   "outputs": [],
   "source": [
    "player_val[['player_id', 'date']].drop_duplicates().shape[0] == player_val[['player_id', 'date']].shape[0]"
   ],
   "metadata": {
    "collapsed": false
   },
   "id": "d58a8df2b81b049d"
  },
  {
   "cell_type": "markdown",
   "source": [
    "> # we found out how many players have been valuated more than once for every date!"
   ],
   "metadata": {
    "collapsed": false
   },
   "id": "767b8b36f53b7145"
  },
  {
   "cell_type": "code",
   "execution_count": null,
   "outputs": [],
   "source": [
    "player_val.duplicated(['player_id', 'date']).sum()"
   ],
   "metadata": {
    "collapsed": false
   },
   "id": "2489ef9d2f227c44"
  },
  {
   "cell_type": "code",
   "execution_count": null,
   "outputs": [],
   "source": [
    "# WIP -> PARTIALLY WORKING!\n",
    "#ax = sns.scatterplot(player_val, x = player_val['player_id'].value_counts(), y = player_val.market_value_in_eur, palette='rainbow')\n",
    "#ax.plot()"
   ],
   "metadata": {
    "collapsed": false
   },
   "id": "8f15d88a8a40f540"
  },
  {
   "cell_type": "markdown",
   "source": [
    "> # Graph of the median of players market values by number of valuations"
   ],
   "metadata": {
    "collapsed": false
   },
   "id": "9e02e532fe0d3ca"
  },
  {
   "cell_type": "code",
   "execution_count": null,
   "outputs": [],
   "source": [
    "# grouping each player by mean of max market value and count of valuations\n",
    "players_values = player_val.drop_duplicates(['player_id','date','dateweek'])[['player_id', 'market_value_in_eur']].copy()\n",
    "players_val = None\n",
    "\n",
    "graph_df = players_values.groupby('player_id').agg({'market_value_in_eur': 'max', 'player_id':'count'}).rename(columns={'player_id':'count'})\n",
    "graph_df['market_value_in_eur']= graph_df['market_value_in_eur']/1000000\n",
    "graph_df = graph_df.groupby('count').agg({'market_value_in_eur':'median'})"
   ],
   "metadata": {
    "collapsed": false
   },
   "id": "3a2ff497d73d2b88"
  },
  {
   "cell_type": "code",
   "execution_count": null,
   "outputs": [],
   "source": [
    "ax = graph_df.plot(kind='bar', y='market_value_in_eur', ylabel='value in Mil €', fontsize=7)\n",
    "players_values = None\n",
    "plt.plot()"
   ],
   "metadata": {
    "collapsed": false
   },
   "id": "5df1fcaa7adfb53c"
  }
 ],
 "metadata": {
  "kernelspec": {
   "display_name": "Python 3",
   "language": "python",
   "name": "python3"
  },
  "language_info": {
   "codemirror_mode": {
    "name": "ipython",
    "version": 2
   },
   "file_extension": ".py",
   "mimetype": "text/x-python",
   "name": "python",
   "nbconvert_exporter": "python",
   "pygments_lexer": "ipython2",
   "version": "2.7.6"
  }
 },
 "nbformat": 4,
 "nbformat_minor": 5
}

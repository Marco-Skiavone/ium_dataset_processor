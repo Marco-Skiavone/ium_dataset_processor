{
 "cells": [
  {
   "cell_type": "code",
   "execution_count": null,
   "id": "initial_id",
   "metadata": {
    "collapsed": true
   },
   "outputs": [],
   "source": [
    "from Server_Cleaning.modules.Assignment_datasets import *\n",
    "location = '../../'"
   ]
  },
  {
   "cell_type": "markdown",
   "source": [
    "# Flags Creation *(As a DataFrame)*"
   ],
   "metadata": {
    "collapsed": false
   },
   "id": "7ffba07d0121e9de"
  },
  {
   "cell_type": "code",
   "execution_count": null,
   "outputs": [],
   "source": [
    "competitions = clean_competitions(get_competitions(location))\n",
    "nations = (competitions[['domestic_league_code', 'country_name']].\n",
    "           drop_duplicates().query('not domestic_league_code.isnull()', engine='python')).reset_index(drop=True)\n",
    "competitions = None\n",
    "nations"
   ],
   "metadata": {
    "collapsed": false
   },
   "id": "33da9f28e89a25d6"
  },
  {
   "cell_type": "code",
   "execution_count": null,
   "outputs": [],
   "source": [
    "flag_url_list = [\n",
    "    'https://raw.githubusercontent.com/lipis/flag-icons/05059f9cde4a872f1692cb017abb1140e9aceae9/flags/4x3/it.svg',\n",
    "    'https://raw.githubusercontent.com/lipis/flag-icons/05059f9cde4a872f1692cb017abb1140e9aceae9/flags/4x3/nl.svg',\n",
    "    'https://raw.githubusercontent.com/lipis/flag-icons/05059f9cde4a872f1692cb017abb1140e9aceae9/flags/4x3/gr.svg',\n",
    "    'https://raw.githubusercontent.com/lipis/flag-icons/05059f9cde4a872f1692cb017abb1140e9aceae9/flags/4x3/pt.svg',\n",
    "    'https://raw.githubusercontent.com/lipis/flag-icons/05059f9cde4a872f1692cb017abb1140e9aceae9/flags/4x3/ru.svg',\n",
    "    'https://raw.githubusercontent.com/lipis/flag-icons/05059f9cde4a872f1692cb017abb1140e9aceae9/flags/4x3/es.svg',\n",
    "    'https://raw.githubusercontent.com/lipis/flag-icons/05059f9cde4a872f1692cb017abb1140e9aceae9/flags/4x3/dk.svg',\n",
    "    'https://raw.githubusercontent.com/lipis/flag-icons/05059f9cde4a872f1692cb017abb1140e9aceae9/flags/4x3/fr.svg',\n",
    "    'https://raw.githubusercontent.com/lipis/flag-icons/05059f9cde4a872f1692cb017abb1140e9aceae9/flags/4x3/be.svg',\n",
    "    'https://raw.githubusercontent.com/lipis/flag-icons/05059f9cde4a872f1692cb017abb1140e9aceae9/flags/4x3/gb.svg',\n",
    "    'https://raw.githubusercontent.com/lipis/flag-icons/05059f9cde4a872f1692cb017abb1140e9aceae9/flags/4x3/ua.svg',\n",
    "    'https://raw.githubusercontent.com/lipis/flag-icons/05059f9cde4a872f1692cb017abb1140e9aceae9/flags/4x3/tr.svg',\n",
    "    'https://raw.githubusercontent.com/lipis/flag-icons/05059f9cde4a872f1692cb017abb1140e9aceae9/flags/4x3/de.svg',\n",
    "    'https://raw.githubusercontent.com/lipis/flag-icons/05059f9cde4a872f1692cb017abb1140e9aceae9/flags/4x3/gb-sct.svg',\n",
    "]\n",
    "flag_series = pd.Series(flag_url_list).rename('flags', axis=0).astype('string')\n",
    "flag_series"
   ],
   "metadata": {
    "collapsed": false
   },
   "id": "201f0cc21ad5268d"
  },
  {
   "cell_type": "code",
   "execution_count": null,
   "outputs": [],
   "source": [
    "nations = nations.join(flag_series, how='outer')\n",
    "flag_series = None\n",
    "nations "
   ],
   "metadata": {
    "collapsed": false
   },
   "id": "fb387cffce70e185"
  }
 ],
 "metadata": {
  "kernelspec": {
   "display_name": "Python 3",
   "language": "python",
   "name": "python3"
  },
  "language_info": {
   "codemirror_mode": {
    "name": "ipython",
    "version": 2
   },
   "file_extension": ".py",
   "mimetype": "text/x-python",
   "name": "python",
   "nbconvert_exporter": "python",
   "pygments_lexer": "ipython2",
   "version": "2.7.6"
  }
 },
 "nbformat": 4,
 "nbformat_minor": 5
}

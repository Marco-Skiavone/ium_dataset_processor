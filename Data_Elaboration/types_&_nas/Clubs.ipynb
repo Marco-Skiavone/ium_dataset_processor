{
 "cells": [
  {
   "cell_type": "code",
   "execution_count": null,
   "id": "initial_id",
   "metadata": {
    "collapsed": true
   },
   "outputs": [],
   "source": [
    "from Server_Cleaning.modules.Assignment_datasets import *\n",
    "location = '../../'"
   ]
  },
  {
   "cell_type": "markdown",
   "source": [
    "# Clubs analysis"
   ],
   "metadata": {
    "collapsed": false
   },
   "id": "b28c1a3af452f029"
  },
  {
   "cell_type": "code",
   "execution_count": null,
   "outputs": [],
   "source": [
    "clubs = get_clubs(location)\n",
    "clubs.info()"
   ],
   "metadata": {
    "collapsed": false
   },
   "id": "45acab6e72094ae9"
  },
  {
   "cell_type": "code",
   "execution_count": null,
   "outputs": [],
   "source": [
    "clubs"
   ],
   "metadata": {
    "collapsed": false
   },
   "id": "ef812f6c8e3a607a"
  },
  {
   "cell_type": "markdown",
   "source": [
    "> # There are clubs with no squad -> are them droppable !?\n",
    "\n",
    "> ## Also we need to parse the 'net_transfer_record' column, which is the Italian for *\"registro dei trasferimenti (valore netto)\"*."
   ],
   "metadata": {
    "collapsed": false
   },
   "id": "6ab28f21cba996d"
  },
  {
   "cell_type": "code",
   "execution_count": null,
   "outputs": [],
   "source": [
    "del clubs['total_market_value']\n",
    "del clubs['coach_name']"
   ],
   "metadata": {
    "collapsed": false
   },
   "id": "58d07ef485aa2662"
  },
  {
   "cell_type": "markdown",
   "source": [
    "> # Coach_name and Total_market_value are both NULL columns. We will remove them!"
   ],
   "metadata": {
    "collapsed": false
   },
   "id": "1595a225b025527e"
  },
  {
   "cell_type": "code",
   "execution_count": null,
   "outputs": [],
   "source": [
    "clubs['club_code'] = clubs['club_code'].astype('string')\n",
    "clubs['name'] = clubs['name'].astype('string')\n",
    "clubs['domestic_competition_id'] = clubs['domestic_competition_id'].astype('string')\n",
    "clubs['stadium_name'] = clubs['stadium_name'].astype('string')\n",
    "clubs['url'] = clubs['url'].astype('string')\n",
    "\n",
    "clubs.info()"
   ],
   "metadata": {
    "collapsed": false
   },
   "id": "7de31b69544b6ee9"
  },
  {
   "cell_type": "code",
   "execution_count": null,
   "outputs": [],
   "source": [
    "wrong_size_clubs = clubs.query('squad_size<11')\n",
    "wrong_size_clubs"
   ],
   "metadata": {
    "collapsed": false
   },
   "id": "7693854c15b3bdd0"
  },
  {
   "cell_type": "code",
   "execution_count": null,
   "outputs": [],
   "source": [
    "wrong_size_clubs['squad_size'].value_counts()"
   ],
   "metadata": {
    "collapsed": false
   },
   "id": "5136342581267835"
  },
  {
   "cell_type": "code",
   "execution_count": null,
   "outputs": [],
   "source": [
    "wrong_size_clubs[['club_id', 'squad_size']]"
   ],
   "metadata": {
    "collapsed": false
   },
   "id": "67b324d87fc417a6"
  },
  {
   "cell_type": "markdown",
   "source": [
    "> # We have fews clubs with unacceptable value of *'squad_size'*."
   ],
   "metadata": {
    "collapsed": false
   },
   "id": "5522d8b3322ef089"
  },
  {
   "cell_type": "code",
   "execution_count": null,
   "outputs": [],
   "source": [
    "players = get_players(location)\n",
    "players.info()"
   ],
   "metadata": {
    "collapsed": false
   },
   "id": "f9652dc3cac5770"
  },
  {
   "cell_type": "code",
   "execution_count": null,
   "outputs": [],
   "source": [
    "total = []\n",
    "[total.append(x) for x in players['current_club_id'] if not wrong_size_clubs['club_id'].__contains__(x)]\n",
    "pd.Series(total).value_counts()"
   ],
   "metadata": {
    "collapsed": false
   },
   "id": "6fefc83d7872358a"
  },
  {
   "cell_type": "code",
   "execution_count": null,
   "outputs": [],
   "source": [
    "players_subset = players['current_club_id'].drop_duplicates()\n",
    "#wrong_size_clubs.query('club_id == @players_subset')\n",
    "players_subset"
   ],
   "metadata": {
    "collapsed": false
   },
   "id": "12e3ab2a88ce92b0"
  },
  {
   "cell_type": "markdown",
   "source": [
    "> # There are wrong sized clubs in the current clubs of players. WHAT SHALL WE DO ?!"
   ],
   "metadata": {
    "collapsed": false
   },
   "id": "a5bdc2004d1a0bda"
  },
  {
   "cell_type": "markdown",
   "source": [
    "## we try to see if we can find common values by players!"
   ],
   "metadata": {
    "collapsed": false
   },
   "id": "af2709e905791ebc"
  },
  {
   "cell_type": "code",
   "execution_count": null,
   "outputs": [],
   "source": [
    "#uncomment for a better performance!\n",
    "total = None\n",
    "total_series = None\n",
    "wrong_size_clubs = None"
   ],
   "metadata": {
    "collapsed": false
   },
   "id": "e5d1eaaa01eabdd4"
  },
  {
   "cell_type": "code",
   "execution_count": null,
   "outputs": [],
   "source": [
    "competitions = pd.read_csv('../Assignment_Data_2023-2024/competitions.csv')\n",
    "competitions.info()"
   ],
   "metadata": {
    "collapsed": false
   },
   "id": "6c3b114ded94ec50"
  },
  {
   "cell_type": "code",
   "execution_count": null,
   "outputs": [],
   "source": [
    "clubs['domestic_competition_id'].isin(competitions['competition_id']).sum()"
   ],
   "metadata": {
    "collapsed": false
   },
   "id": "fffc24465d9c5ff2"
  },
  {
   "cell_type": "markdown",
   "source": [
    "> # All the competitions exist! That is good!"
   ],
   "metadata": {
    "collapsed": false
   },
   "id": "c03916ca300fb2d3"
  },
  {
   "cell_type": "code",
   "execution_count": null,
   "outputs": [],
   "source": [
    "clubs['domestic_competition_id'].drop_duplicates().shape"
   ],
   "metadata": {
    "collapsed": false
   },
   "id": "600b628a7a8cc85c"
  },
  {
   "cell_type": "markdown",
   "source": [
    "> # Controlling stadiums:"
   ],
   "metadata": {
    "collapsed": false
   },
   "id": "c821e99ef1ae202e"
  },
  {
   "cell_type": "code",
   "execution_count": null,
   "outputs": [],
   "source": [
    "clubs['stadium_seats'].value_counts()"
   ],
   "metadata": {
    "collapsed": false
   },
   "id": "125369a3556709b0"
  },
  {
   "cell_type": "code",
   "execution_count": null,
   "outputs": [],
   "source": [
    "wrong_stadium_seats = clubs.query('stadium_seats == 0').copy()\n",
    "wrong_stadium_seats"
   ],
   "metadata": {
    "collapsed": false
   },
   "id": "6c79dd4b67792065"
  },
  {
   "cell_type": "markdown",
   "source": [
    "> # we spotted the correct info about the stadium: now we fix it!"
   ],
   "metadata": {
    "collapsed": false
   },
   "id": "8f3b7c5ad76a4dd7"
  },
  {
   "cell_type": "code",
   "execution_count": null,
   "outputs": [],
   "source": [
    "wrong_stadium_seats = None\n",
    "clubs.at[409, 'stadium_seats'] = 4851\n",
    "clubs.query('stadium_seats == 0')"
   ],
   "metadata": {
    "collapsed": false
   },
   "id": "8a56ccd0874a90f7"
  },
  {
   "cell_type": "code",
   "execution_count": null,
   "outputs": [],
   "source": [
    "clubs.loc[409]"
   ],
   "metadata": {
    "collapsed": false
   },
   "id": "ab2a15aead97c4c1"
  },
  {
   "cell_type": "code",
   "execution_count": null,
   "outputs": [],
   "source": [
    "clubs['domestic_competition_id'].value_counts()"
   ],
   "metadata": {
    "collapsed": false
   },
   "id": "18f85c7b5383f60d"
  },
  {
   "cell_type": "code",
   "execution_count": null,
   "outputs": [],
   "source": [
    "clubs['average_age'].value_counts()"
   ],
   "metadata": {
    "collapsed": false
   },
   "id": "14885fb0c73d8e2c"
  },
  {
   "cell_type": "code",
   "execution_count": null,
   "outputs": [],
   "source": [
    "clubs['national_team_players'].value_counts()"
   ],
   "metadata": {
    "collapsed": false
   },
   "id": "b16d8cbbd37fd8bc"
  },
  {
   "cell_type": "code",
   "execution_count": null,
   "outputs": [],
   "source": [
    "clubs.query('national_team_players > squad_size')"
   ],
   "metadata": {
    "collapsed": false
   },
   "id": "fa618bc4fb40bdc4"
  },
  {
   "cell_type": "code",
   "execution_count": null,
   "outputs": [],
   "source": [
    "clubs.query('foreigners_percentage.isnull()')[['club_id', 'name', 'squad_size', 'foreigners_number']]"
   ],
   "metadata": {
    "collapsed": false
   },
   "id": "4f2f916373807af4"
  },
  {
   "cell_type": "markdown",
   "source": [
    "# Foreigners_number is always 0 when Foreigners_percentage null "
   ],
   "metadata": {
    "collapsed": false
   },
   "id": "ea147ab98ae3495c"
  }
 ],
 "metadata": {
  "kernelspec": {
   "display_name": "Python 3",
   "language": "python",
   "name": "python3"
  },
  "language_info": {
   "codemirror_mode": {
    "name": "ipython",
    "version": 2
   },
   "file_extension": ".py",
   "mimetype": "text/x-python",
   "name": "python",
   "nbconvert_exporter": "python",
   "pygments_lexer": "ipython2",
   "version": "2.7.6"
  }
 },
 "nbformat": 4,
 "nbformat_minor": 5
}

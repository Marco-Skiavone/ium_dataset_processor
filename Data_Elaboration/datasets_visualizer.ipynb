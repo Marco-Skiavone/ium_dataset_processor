{
 "cells": [
  {
   "cell_type": "code",
   "execution_count": null,
   "id": "initial_id",
   "metadata": {
    "collapsed": true
   },
   "outputs": [],
   "source": [
    "from Server_Cleaning.modules.Assignment_datasets import *\n",
    "loc = '../'"
   ]
  },
  {
   "cell_type": "code",
   "execution_count": null,
   "outputs": [],
   "source": [
    "# appearances dataset\n",
    "appearances = get_appearances(loc)\n",
    "appearances.info()"
   ],
   "metadata": {
    "collapsed": false
   },
   "id": "7a132c9f23eadf8b"
  },
  {
   "cell_type": "code",
   "execution_count": null,
   "outputs": [],
   "source": [
    "# club_games dataset\n",
    "appearances = None\n",
    "club_games = get_club_games(loc)\n",
    "club_games.info()"
   ],
   "metadata": {
    "collapsed": false
   },
   "id": "4a4d8683bf5a4ff5"
  },
  {
   "cell_type": "code",
   "execution_count": null,
   "outputs": [],
   "source": [
    "# clubs dataset\n",
    "club_games = None\n",
    "clubs = get_clubs(loc)\n",
    "clubs.info()"
   ],
   "metadata": {
    "collapsed": false
   },
   "id": "d04536e79f5c5423"
  },
  {
   "cell_type": "code",
   "execution_count": null,
   "outputs": [],
   "source": [
    "# competitions dataset\n",
    "clubs = None\n",
    "competitions = get_competitions(loc)\n",
    "competitions.info()"
   ],
   "metadata": {
    "collapsed": false
   },
   "id": "4f4ea804f159873b"
  },
  {
   "cell_type": "code",
   "execution_count": null,
   "outputs": [],
   "source": [
    "# game_events dataset\n",
    "competitions = None\n",
    "game_events = get_game_events(loc)\n",
    "game_events.info()"
   ],
   "metadata": {
    "collapsed": false
   },
   "id": "4b8ed4cfd5b9df54"
  },
  {
   "cell_type": "code",
   "execution_count": null,
   "outputs": [],
   "source": [
    "# game_lineups dataset\n",
    "game_events = None\n",
    "game_lineups = get_game_lineups(loc)\n",
    "game_lineups.info()"
   ],
   "metadata": {
    "collapsed": false
   },
   "id": "17019636af639a2d"
  },
  {
   "cell_type": "code",
   "execution_count": null,
   "outputs": [],
   "source": [
    "# games dataset\n",
    "game_lineups = None\n",
    "games = get_games(loc)\n",
    "games.info()"
   ],
   "metadata": {
    "collapsed": false
   },
   "id": "3309448022b44d07"
  },
  {
   "cell_type": "code",
   "execution_count": null,
   "outputs": [],
   "source": [
    "# player_valuation dataset\n",
    "games = None\n",
    "player_valuations = get_player_valuations(loc)\n",
    "player_valuations.info()"
   ],
   "metadata": {
    "collapsed": false
   },
   "id": "a6038a4fa309d1ac"
  },
  {
   "cell_type": "code",
   "execution_count": null,
   "outputs": [],
   "source": [
    "# players dataset\n",
    "player_valuations = None\n",
    "players = get_players(loc)\n",
    "players.info()"
   ],
   "metadata": {
    "collapsed": false
   },
   "id": "2b1c6beef8206dd4"
  },
  {
   "cell_type": "code",
   "execution_count": null,
   "outputs": [],
   "source": [
    "players = None"
   ],
   "metadata": {
    "collapsed": false
   },
   "id": "7e0d5437ae848405"
  }
 ],
 "metadata": {
  "kernelspec": {
   "display_name": "Python 3",
   "language": "python",
   "name": "python3"
  },
  "language_info": {
   "codemirror_mode": {
    "name": "ipython",
    "version": 2
   },
   "file_extension": ".py",
   "mimetype": "text/x-python",
   "name": "python",
   "nbconvert_exporter": "python",
   "pygments_lexer": "ipython2",
   "version": "2.7.6"
  }
 },
 "nbformat": 4,
 "nbformat_minor": 5
}

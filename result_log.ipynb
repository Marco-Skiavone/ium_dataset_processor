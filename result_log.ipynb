{
 "cells": [
  {
   "cell_type": "markdown",
   "source": [
    "# The Result Log\n",
    "> ## This is a file where we can add the gained knowledge about the dataset"
   ],
   "metadata": {
    "collapsed": false
   },
   "id": "46f6fc016d132d01"
  },
  {
   "cell_type": "markdown",
   "source": [
    "# Appearance:\n",
    "1. This is a set where players are into, in base of which game and how they have played.\n",
    "2. **Note:**\n",
    "the **Appearance_id** is the combination of \"*<game_id>*_*<player_id>*\". $\\rightarrow$ **This will need a type definition!** \n",
    "3. We have many ***player_name*** that are **None** and that does not intersect with the ***player_id*** of the **not-Null** rows, neither with the ids of the *players.csv* dataset $\\rightarrow$ We have to decide if remove them or not.\n",
    "4. Remember to change the type of the ***player_name*** column into a *string*. \n",
    "(`app['player_name'] = app['player_name'].astype('string')`)\n",
    "5. Finally, we must interpolate data and see where to put them."
   ],
   "metadata": {
    "collapsed": false
   },
   "id": "4fd7d9afd1ce0300"
  },
  {
   "cell_type": "markdown",
   "source": [
    "# Players:\n",
    "1. This is the set where are stored personal info about the players, many of which have a **static nature** (**SQL**).\n",
    "2. Elements like the ***height_in_cm*** are of type **FLOAT** because of the *NaN* values. There is no decimal value, but we cannot cast the column to **INT** until we handle the missing values.\n",
    "3. I set the **'position'** as a *category* type value, because I could and I thought it was right to do it.\n",
    "4. The 'name' we find in the columns is the string concatenation of the ***'first_name'*** and the ***'last_name'*** . I found out the *'name'* is represented only by the *'last_name'*, when the *'first_name'* is missing.\n",
    "5. We still have to deal with **many** columns that need ***Na*** handling.\n",
    "6. **...**"
   ],
   "metadata": {
    "collapsed": false
   },
   "id": "355a225fecaf538a"
  }
 ],
 "metadata": {
  "kernelspec": {
   "display_name": "Python 3",
   "language": "python",
   "name": "python3"
  },
  "language_info": {
   "codemirror_mode": {
    "name": "ipython",
    "version": 2
   },
   "file_extension": ".py",
   "mimetype": "text/x-python",
   "name": "python",
   "nbconvert_exporter": "python",
   "pygments_lexer": "ipython2",
   "version": "2.7.6"
  }
 },
 "nbformat": 4,
 "nbformat_minor": 5
}

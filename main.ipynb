{
 "cells": [
  {
   "cell_type": "markdown",
   "source": [
    "# Processing the dataset\n",
    "### We need to understand the data to properly use it.\n",
    "This repository is meant to help us map the CSV costellation we have got."
   ],
   "metadata": {
    "collapsed": false
   },
   "id": "541bf5aabc647530"
  },
  {
   "cell_type": "code",
   "execution_count": 2,
   "outputs": [],
   "source": [
    "import pandas as pd\n",
    "import matplotlib.pyplot"
   ],
   "metadata": {
    "collapsed": false,
    "ExecuteTime": {
     "end_time": "2023-12-06T12:22:53.413529200Z",
     "start_time": "2023-12-06T12:22:53.395253300Z"
    }
   },
   "id": "c6f0b9d14d052711"
  }
 ],
 "metadata": {
  "kernelspec": {
   "display_name": "Python 3",
   "language": "python",
   "name": "python3"
  },
  "language_info": {
   "codemirror_mode": {
    "name": "ipython",
    "version": 2
   },
   "file_extension": ".py",
   "mimetype": "text/x-python",
   "name": "python",
   "nbconvert_exporter": "python",
   "pygments_lexer": "ipython2",
   "version": "2.7.6"
  }
 },
 "nbformat": 4,
 "nbformat_minor": 5
}

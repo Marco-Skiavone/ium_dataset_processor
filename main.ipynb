{
 "cells": [
  {
   "cell_type": "markdown",
   "source": [
    "# Processing the dataset\n",
    "### We need to understand the data to properly use it.\n",
    "This repository is meant to help us map the CSV costellation we have got."
   ],
   "metadata": {
    "collapsed": false
   },
   "id": "541bf5aabc647530"
  },
  {
   "cell_type": "code",
   "execution_count": null,
   "outputs": [],
   "source": [
    "from modules.module_for_imports import *"
   ],
   "metadata": {
    "collapsed": false
   },
   "id": "c6f0b9d14d052711"
  },
  {
   "cell_type": "code",
   "execution_count": null,
   "outputs": [],
   "source": [
    "app = clean_appearances(get_appearances())\n",
    "app.to_json('Cleaned_Json/appearances.json')\n",
    "app = None"
   ],
   "metadata": {
    "collapsed": false
   },
   "id": "f2855446ae0a9c2f"
  },
  {
   "cell_type": "code",
   "execution_count": null,
   "outputs": [],
   "source": [
    "club_games = clean_club_games(get_club_games())\n",
    "club_games.to_json('Cleaned_Json/club_games.json')\n",
    "club_games = None"
   ],
   "metadata": {
    "collapsed": false
   },
   "id": "2ff9c05bf22b95ff"
  },
  {
   "cell_type": "code",
   "execution_count": null,
   "outputs": [],
   "source": [
    "clubs = clean_clubs(get_clubs())\n",
    "clubs.to_json('Cleaned_Json/clubs.json')\n",
    "clubs = None"
   ],
   "metadata": {
    "collapsed": false
   },
   "id": "3ac18000505b4b2d"
  },
  {
   "cell_type": "code",
   "execution_count": null,
   "outputs": [],
   "source": [
    "competitions = clean_competitions(get_competitions())\n",
    "competitions.to_json('Cleaned_Json/competitions.json')\n",
    "competitions = None"
   ],
   "metadata": {
    "collapsed": false
   },
   "id": "e925b03d7f63309"
  },
  {
   "cell_type": "code",
   "execution_count": null,
   "outputs": [],
   "source": [
    "game_events = clean_game_events(get_game_events())\n",
    "game_events.to_json('Cleaned_Json/game_events.json')\n",
    "game_events = None"
   ],
   "metadata": {
    "collapsed": false
   },
   "id": "ff731f445b4694b8"
  },
  {
   "cell_type": "code",
   "execution_count": null,
   "outputs": [],
   "source": [
    "game_lineups = clean_game_lineups(get_game_lineups())\n",
    "game_lineups.to_json('Cleaned_Json/game_lineups.json')\n",
    "game_lineups = None"
   ],
   "metadata": {
    "collapsed": false
   },
   "id": "206fd71eb2a68c1b"
  },
  {
   "cell_type": "code",
   "execution_count": null,
   "outputs": [],
   "source": [
    "games = clean_games(get_games())\n",
    "games.to_json('Cleaned_Json/games.json')\n",
    "games = None"
   ],
   "metadata": {
    "collapsed": false
   },
   "id": "1704bf67158a3a77"
  },
  {
   "cell_type": "code",
   "execution_count": null,
   "outputs": [],
   "source": [
    "player_valuations = clean_player_valuations(get_player_valuations())\n",
    "player_valuations.to_json('Cleaned_Json/player_valuations.json')\n",
    "player_valuations = None"
   ],
   "metadata": {
    "collapsed": false
   },
   "id": "e75d97d3461c4091"
  },
  {
   "cell_type": "code",
   "execution_count": null,
   "outputs": [],
   "source": [
    "players = clean_players(get_players())\n",
    "players.to_json('Cleaned_Json/players.json')\n",
    "players = None"
   ],
   "metadata": {
    "collapsed": false
   },
   "id": "34fd7ea0b85b2619"
  }
 ],
 "metadata": {
  "kernelspec": {
   "display_name": "Python 3",
   "language": "python",
   "name": "python3"
  },
  "language_info": {
   "codemirror_mode": {
    "name": "ipython",
    "version": 2
   },
   "file_extension": ".py",
   "mimetype": "text/x-python",
   "name": "python",
   "nbconvert_exporter": "python",
   "pygments_lexer": "ipython2",
   "version": "2.7.6"
  }
 },
 "nbformat": 4,
 "nbformat_minor": 5
}

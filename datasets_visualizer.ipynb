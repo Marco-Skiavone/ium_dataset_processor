{
 "cells": [
  {
   "cell_type": "code",
   "execution_count": 12,
   "id": "initial_id",
   "metadata": {
    "collapsed": true,
    "ExecuteTime": {
     "end_time": "2023-12-18T17:20:35.286310200Z",
     "start_time": "2023-12-18T17:20:35.272548Z"
    }
   },
   "outputs": [],
   "source": [
    "from modules.module_for_imports import *"
   ]
  },
  {
   "cell_type": "code",
   "execution_count": 13,
   "outputs": [
    {
     "name": "stdout",
     "output_type": "stream",
     "text": [
      "<class 'pandas.core.frame.DataFrame'>\n",
      "RangeIndex: 1507351 entries, 0 to 1507350\n",
      "Data columns (total 13 columns):\n",
      " #   Column                  Non-Null Count    Dtype \n",
      "---  ------                  --------------    ----- \n",
      " 0   appearance_id           1507351 non-null  object\n",
      " 1   game_id                 1507351 non-null  int64 \n",
      " 2   player_id               1507351 non-null  int64 \n",
      " 3   player_club_id          1507351 non-null  int64 \n",
      " 4   player_current_club_id  1507351 non-null  int64 \n",
      " 5   date                    1507351 non-null  object\n",
      " 6   player_name             1507027 non-null  object\n",
      " 7   competition_id          1507351 non-null  object\n",
      " 8   yellow_cards            1507351 non-null  int64 \n",
      " 9   red_cards               1507351 non-null  int64 \n",
      " 10  goals                   1507351 non-null  int64 \n",
      " 11  assists                 1507351 non-null  int64 \n",
      " 12  minutes_played          1507351 non-null  int64 \n",
      "dtypes: int64(9), object(4)\n",
      "memory usage: 149.5+ MB\n"
     ]
    }
   ],
   "source": [
    "# appearance dataset\n",
    "appearance = get_appearance()\n",
    "appearance.info()"
   ],
   "metadata": {
    "collapsed": false,
    "ExecuteTime": {
     "end_time": "2023-12-18T17:20:38.081401600Z",
     "start_time": "2023-12-18T17:20:35.291391200Z"
    }
   },
   "id": "7a132c9f23eadf8b"
  },
  {
   "cell_type": "code",
   "execution_count": 14,
   "outputs": [
    {
     "name": "stdout",
     "output_type": "stream",
     "text": [
      "<class 'pandas.core.frame.DataFrame'>\n",
      "RangeIndex: 130432 entries, 0 to 130431\n",
      "Data columns (total 11 columns):\n",
      " #   Column                 Non-Null Count   Dtype  \n",
      "---  ------                 --------------   -----  \n",
      " 0   game_id                130432 non-null  int64  \n",
      " 1   club_id                130432 non-null  int64  \n",
      " 2   own_goals              130432 non-null  int64  \n",
      " 3   own_position           91524 non-null   float64\n",
      " 4   own_manager_name       128948 non-null  object \n",
      " 5   opponent_id            130432 non-null  int64  \n",
      " 6   opponent_goals         130432 non-null  int64  \n",
      " 7   opponent_position      91524 non-null   float64\n",
      " 8   opponent_manager_name  128948 non-null  object \n",
      " 9   hosting                130432 non-null  object \n",
      " 10  is_win                 130432 non-null  int64  \n",
      "dtypes: float64(2), int64(6), object(3)\n",
      "memory usage: 10.9+ MB\n"
     ]
    }
   ],
   "source": [
    "# club_games dataset\n",
    "appearance = None\n",
    "club_games = get_club_games()\n",
    "club_games.info()"
   ],
   "metadata": {
    "collapsed": false,
    "ExecuteTime": {
     "end_time": "2023-12-18T17:20:38.316895100Z",
     "start_time": "2023-12-18T17:20:38.082399800Z"
    }
   },
   "id": "4a4d8683bf5a4ff5"
  },
  {
   "cell_type": "code",
   "execution_count": 15,
   "outputs": [
    {
     "name": "stdout",
     "output_type": "stream",
     "text": [
      "<class 'pandas.core.frame.DataFrame'>\n",
      "RangeIndex: 426 entries, 0 to 425\n",
      "Data columns (total 16 columns):\n",
      " #   Column                   Non-Null Count  Dtype  \n",
      "---  ------                   --------------  -----  \n",
      " 0   club_id                  426 non-null    int64  \n",
      " 1   club_code                426 non-null    object \n",
      " 2   name                     426 non-null    object \n",
      " 3   domestic_competition_id  426 non-null    object \n",
      " 4   total_market_value       0 non-null      float64\n",
      " 5   squad_size               426 non-null    int64  \n",
      " 6   average_age              388 non-null    float64\n",
      " 7   foreigners_number        426 non-null    int64  \n",
      " 8   foreigners_percentage    379 non-null    float64\n",
      " 9   national_team_players    426 non-null    int64  \n",
      " 10  stadium_name             426 non-null    object \n",
      " 11  stadium_seats            426 non-null    int64  \n",
      " 12  net_transfer_record      426 non-null    object \n",
      " 13  coach_name               0 non-null      float64\n",
      " 14  last_season              426 non-null    int64  \n",
      " 15  url                      426 non-null    object \n",
      "dtypes: float64(4), int64(6), object(6)\n",
      "memory usage: 53.4+ KB\n"
     ]
    }
   ],
   "source": [
    "# clubs dataset\n",
    "club_games = None\n",
    "clubs = get_clubs()\n",
    "clubs.info()"
   ],
   "metadata": {
    "collapsed": false,
    "ExecuteTime": {
     "end_time": "2023-12-18T17:20:38.370362800Z",
     "start_time": "2023-12-18T17:20:38.318925400Z"
    }
   },
   "id": "d04536e79f5c5423"
  },
  {
   "cell_type": "code",
   "execution_count": 16,
   "outputs": [
    {
     "name": "stdout",
     "output_type": "stream",
     "text": [
      "<class 'pandas.core.frame.DataFrame'>\n",
      "RangeIndex: 43 entries, 0 to 42\n",
      "Data columns (total 10 columns):\n",
      " #   Column                Non-Null Count  Dtype \n",
      "---  ------                --------------  ----- \n",
      " 0   competition_id        43 non-null     object\n",
      " 1   competition_code      43 non-null     object\n",
      " 2   name                  43 non-null     object\n",
      " 3   sub_type              43 non-null     object\n",
      " 4   type                  43 non-null     object\n",
      " 5   country_id            43 non-null     int64 \n",
      " 6   country_name          36 non-null     object\n",
      " 7   domestic_league_code  36 non-null     object\n",
      " 8   confederation         43 non-null     object\n",
      " 9   url                   43 non-null     object\n",
      "dtypes: int64(1), object(9)\n",
      "memory usage: 3.5+ KB\n"
     ]
    }
   ],
   "source": [
    "# competitions dataset\n",
    "clubs = None\n",
    "competitions = get_competitions()\n",
    "competitions.info()"
   ],
   "metadata": {
    "collapsed": false,
    "ExecuteTime": {
     "end_time": "2023-12-18T17:20:38.433303900Z",
     "start_time": "2023-12-18T17:20:38.365955300Z"
    }
   },
   "id": "4f4ea804f159873b"
  },
  {
   "cell_type": "code",
   "execution_count": 17,
   "outputs": [
    {
     "name": "stdout",
     "output_type": "stream",
     "text": [
      "<class 'pandas.core.frame.DataFrame'>\n",
      "RangeIndex: 666558 entries, 0 to 666557\n",
      "Data columns (total 10 columns):\n",
      " #   Column            Non-Null Count   Dtype  \n",
      "---  ------            --------------   -----  \n",
      " 0   game_event_id     666558 non-null  object \n",
      " 1   date              666558 non-null  object \n",
      " 2   game_id           666558 non-null  int64  \n",
      " 3   minute            666558 non-null  int64  \n",
      " 4   type              666558 non-null  object \n",
      " 5   club_id           666558 non-null  int64  \n",
      " 6   player_id         666558 non-null  int64  \n",
      " 7   description       330233 non-null  object \n",
      " 8   player_in_id      421249 non-null  float64\n",
      " 9   player_assist_id  30857 non-null   float64\n",
      "dtypes: float64(2), int64(4), object(4)\n",
      "memory usage: 50.9+ MB\n"
     ]
    }
   ],
   "source": [
    "# game_events dataset\n",
    "competitions = None\n",
    "game_events = get_game_events()\n",
    "game_events.info()"
   ],
   "metadata": {
    "collapsed": false,
    "ExecuteTime": {
     "end_time": "2023-12-18T17:20:39.421948Z",
     "start_time": "2023-12-18T17:20:38.394053800Z"
    }
   },
   "id": "4b8ed4cfd5b9df54"
  },
  {
   "cell_type": "code",
   "execution_count": 18,
   "outputs": [
    {
     "name": "stdout",
     "output_type": "stream",
     "text": [
      "<class 'pandas.core.frame.DataFrame'>\n",
      "RangeIndex: 119133 entries, 0 to 119132\n",
      "Data columns (total 9 columns):\n",
      " #   Column           Non-Null Count   Dtype \n",
      "---  ------           --------------   ----- \n",
      " 0   game_lineups_id  119133 non-null  object\n",
      " 1   game_id          119133 non-null  int64 \n",
      " 2   club_id          119133 non-null  int64 \n",
      " 3   type             119133 non-null  object\n",
      " 4   number           119133 non-null  object\n",
      " 5   player_id        119133 non-null  int64 \n",
      " 6   player_name      119133 non-null  object\n",
      " 7   team_captain     119133 non-null  int64 \n",
      " 8   position         119133 non-null  object\n",
      "dtypes: int64(4), object(5)\n",
      "memory usage: 8.2+ MB\n"
     ]
    }
   ],
   "source": [
    "# game_lineups dataset\n",
    "game_events = None\n",
    "game_lineups = get_game_lineups()\n",
    "game_lineups.info()"
   ],
   "metadata": {
    "collapsed": false,
    "ExecuteTime": {
     "end_time": "2023-12-18T17:20:39.851650500Z",
     "start_time": "2023-12-18T17:20:39.420968Z"
    }
   },
   "id": "17019636af639a2d"
  },
  {
   "cell_type": "code",
   "execution_count": 19,
   "outputs": [
    {
     "name": "stdout",
     "output_type": "stream",
     "text": [
      "<class 'pandas.core.frame.DataFrame'>\n",
      "RangeIndex: 65216 entries, 0 to 65215\n",
      "Data columns (total 23 columns):\n",
      " #   Column                  Non-Null Count  Dtype  \n",
      "---  ------                  --------------  -----  \n",
      " 0   game_id                 65216 non-null  int64  \n",
      " 1   competition_id          65216 non-null  object \n",
      " 2   season                  65216 non-null  int64  \n",
      " 3   round                   65216 non-null  object \n",
      " 4   date                    65216 non-null  object \n",
      " 5   home_club_id            65216 non-null  int64  \n",
      " 6   away_club_id            65216 non-null  int64  \n",
      " 7   home_club_goals         65216 non-null  int64  \n",
      " 8   away_club_goals         65216 non-null  int64  \n",
      " 9   home_club_position      45762 non-null  float64\n",
      " 10  away_club_position      45762 non-null  float64\n",
      " 11  home_club_manager_name  64474 non-null  object \n",
      " 12  away_club_manager_name  64474 non-null  object \n",
      " 13  stadium                 65005 non-null  object \n",
      " 14  attendance              55704 non-null  float64\n",
      " 15  referee                 64622 non-null  object \n",
      " 16  url                     65216 non-null  object \n",
      " 17  home_club_formation     2869 non-null   object \n",
      " 18  away_club_formation     2888 non-null   object \n",
      " 19  home_club_name          53964 non-null  object \n",
      " 20  away_club_name          55167 non-null  object \n",
      " 21  aggregate               65216 non-null  object \n",
      " 22  competition_type        65216 non-null  object \n",
      "dtypes: float64(3), int64(6), object(14)\n",
      "memory usage: 11.4+ MB\n"
     ]
    }
   ],
   "source": [
    "# games dataset\n",
    "game_lineups = None\n",
    "games = get_games()\n",
    "games.info()"
   ],
   "metadata": {
    "collapsed": false,
    "ExecuteTime": {
     "end_time": "2023-12-18T17:20:40.289107300Z",
     "start_time": "2023-12-18T17:20:39.852649400Z"
    }
   },
   "id": "3309448022b44d07"
  },
  {
   "cell_type": "code",
   "execution_count": 20,
   "outputs": [
    {
     "name": "stdout",
     "output_type": "stream",
     "text": [
      "<class 'pandas.core.frame.DataFrame'>\n",
      "RangeIndex: 440663 entries, 0 to 440662\n",
      "Data columns (total 9 columns):\n",
      " #   Column                               Non-Null Count   Dtype \n",
      "---  ------                               --------------   ----- \n",
      " 0   player_id                            440663 non-null  int64 \n",
      " 1   last_season                          440663 non-null  int64 \n",
      " 2   datetime                             440663 non-null  object\n",
      " 3   date                                 440663 non-null  object\n",
      " 4   dateweek                             440663 non-null  object\n",
      " 5   market_value_in_eur                  440663 non-null  int64 \n",
      " 6   n                                    440663 non-null  int64 \n",
      " 7   current_club_id                      440663 non-null  int64 \n",
      " 8   player_club_domestic_competition_id  440663 non-null  object\n",
      "dtypes: int64(5), object(4)\n",
      "memory usage: 30.3+ MB\n"
     ]
    }
   ],
   "source": [
    "# player_valuation dataset\n",
    "games = None\n",
    "player_valuations = get_player_valuations()\n",
    "player_valuations.info()"
   ],
   "metadata": {
    "collapsed": false,
    "ExecuteTime": {
     "end_time": "2023-12-18T17:20:40.879192900Z",
     "start_time": "2023-12-18T17:20:40.289107300Z"
    }
   },
   "id": "a6038a4fa309d1ac"
  },
  {
   "cell_type": "code",
   "execution_count": 21,
   "outputs": [
    {
     "name": "stdout",
     "output_type": "stream",
     "text": [
      "<class 'pandas.core.frame.DataFrame'>\n",
      "RangeIndex: 30302 entries, 0 to 30301\n",
      "Data columns (total 23 columns):\n",
      " #   Column                                Non-Null Count  Dtype  \n",
      "---  ------                                --------------  -----  \n",
      " 0   player_id                             30302 non-null  int64  \n",
      " 1   first_name                            28337 non-null  object \n",
      " 2   last_name                             30302 non-null  object \n",
      " 3   name                                  30302 non-null  object \n",
      " 4   last_season                           30302 non-null  int64  \n",
      " 5   current_club_id                       30302 non-null  int64  \n",
      " 6   player_code                           30302 non-null  object \n",
      " 7   country_of_birth                      27613 non-null  object \n",
      " 8   city_of_birth                         28099 non-null  object \n",
      " 9   country_of_citizenship                29759 non-null  object \n",
      " 10  date_of_birth                         30255 non-null  object \n",
      " 11  sub_position                          30130 non-null  object \n",
      " 12  position                              30302 non-null  object \n",
      " 13  foot                                  27913 non-null  object \n",
      " 14  height_in_cm                          28204 non-null  float64\n",
      " 15  market_value_in_eur                   19383 non-null  float64\n",
      " 16  highest_market_value_in_eur           28981 non-null  float64\n",
      " 17  contract_expiration_date              18835 non-null  object \n",
      " 18  agent_name                            14941 non-null  object \n",
      " 19  image_url                             30302 non-null  object \n",
      " 20  url                                   30302 non-null  object \n",
      " 21  current_club_domestic_competition_id  30302 non-null  object \n",
      " 22  current_club_name                     30302 non-null  object \n",
      "dtypes: float64(3), int64(3), object(17)\n",
      "memory usage: 5.3+ MB\n"
     ]
    }
   ],
   "source": [
    "# players dataset\n",
    "player_valuations = None\n",
    "players = get_players()\n",
    "players.info()"
   ],
   "metadata": {
    "collapsed": false,
    "ExecuteTime": {
     "end_time": "2023-12-18T17:20:41.313361400Z",
     "start_time": "2023-12-18T17:20:40.880221600Z"
    }
   },
   "id": "2b1c6beef8206dd4"
  },
  {
   "cell_type": "code",
   "execution_count": 22,
   "outputs": [],
   "source": [
    "players = None"
   ],
   "metadata": {
    "collapsed": false,
    "ExecuteTime": {
     "end_time": "2023-12-18T17:20:41.348158200Z",
     "start_time": "2023-12-18T17:20:41.325813100Z"
    }
   },
   "id": "7e0d5437ae848405"
  }
 ],
 "metadata": {
  "kernelspec": {
   "display_name": "Python 3",
   "language": "python",
   "name": "python3"
  },
  "language_info": {
   "codemirror_mode": {
    "name": "ipython",
    "version": 2
   },
   "file_extension": ".py",
   "mimetype": "text/x-python",
   "name": "python",
   "nbconvert_exporter": "python",
   "pygments_lexer": "ipython2",
   "version": "2.7.6"
  }
 },
 "nbformat": 4,
 "nbformat_minor": 5
}

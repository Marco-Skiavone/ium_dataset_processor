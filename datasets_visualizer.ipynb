{
 "cells": [
  {
   "cell_type": "code",
   "execution_count": null,
   "id": "initial_id",
   "metadata": {
    "collapsed": true
   },
   "outputs": [],
   "source": [
    "from modules.module_for_imports import *"
   ]
  },
  {
   "cell_type": "code",
   "execution_count": null,
   "outputs": [],
   "source": [
    "# appearance dataset\n",
    "appearance = get_appearance(\"./\")\n",
    "appearance.info()"
   ],
   "metadata": {
    "collapsed": false
   },
   "id": "7a132c9f23eadf8b"
  },
  {
   "cell_type": "code",
   "execution_count": null,
   "outputs": [],
   "source": [
    "# club_games dataset\n",
    "appearance = None\n",
    "club_games = get_club_games(\"./\")\n",
    "club_games.info()"
   ],
   "metadata": {
    "collapsed": false
   },
   "id": "4a4d8683bf5a4ff5"
  },
  {
   "cell_type": "code",
   "execution_count": null,
   "outputs": [],
   "source": [
    "# clubs dataset\n",
    "club_games = None\n",
    "clubs = get_clubs(\"./\")\n",
    "clubs.info()"
   ],
   "metadata": {
    "collapsed": false
   },
   "id": "d04536e79f5c5423"
  },
  {
   "cell_type": "code",
   "execution_count": null,
   "outputs": [],
   "source": [
    "# competitions dataset\n",
    "clubs = None\n",
    "competitions = get_competitions(\"./\")\n",
    "competitions.info()"
   ],
   "metadata": {
    "collapsed": false
   },
   "id": "4f4ea804f159873b"
  },
  {
   "cell_type": "code",
   "execution_count": 21,
   "outputs": [
    {
     "data": {
      "text/plain": "                           game_event_id        date  game_id  minute  \\\n0       2f41da30c471492e7d4a984951671677  2012-08-05  2211607      77   \n1       a72f7186d132775f234d3e2f7bc0ed5b  2012-08-05  2211607      77   \n2       b2d721eaed4692a5c59a92323689ef18  2012-08-05  2211607       3   \n3       aef768899cedac0c9a650980219075a2  2012-08-05  2211607      53   \n4       5d6d9533023057b6619ecd145a038bbe  2012-08-05  2211607      74   \n...                                  ...         ...      ...     ...   \n666553  7f5a6b61ca858e0cd63a58c554b56bb7  2023-11-15  4228114      82   \n666554  5b93d1bc9e8bf42965682d491e1dd6c7  2023-11-15  4228114      44   \n666555  d638b1e72f531c413487d413258a3130  2023-11-15  4228114      68   \n666556  0ff7774aa1383af83e40c435325463af  2023-11-15  4228114      68   \n666557  c2ba59ead8ee0f17e74e49c506e0d92f  2023-11-15  4228114      85   \n\n                 type  club_id  player_id  \\\n0               Cards      610       4425   \n1               Cards      383      33210   \n2               Goals      383      36500   \n3               Goals      383      36500   \n4       Substitutions      383      36500   \n...               ...      ...        ...   \n666553  Substitutions      358     874064   \n666554          Goals    46889     922572   \n666555  Substitutions    46889     922572   \n666556  Substitutions    46889    1200864   \n666557          Goals      358    1203715   \n\n                                              description  player_in_id  \\\n0                    1. Yellow card  , Mass confrontation           NaN   \n1                    1. Yellow card  , Mass confrontation           NaN   \n2       , Header, 1. Tournament Goal Assist: , Corner,...           NaN   \n3       , Right-footed shot, 2. Tournament Goal Assist...           NaN   \n4                                          , Not reported       49499.0   \n...                                                   ...           ...   \n666553                                         , Tactical      965607.0   \n666554                      , Penalty, 1. Tournament Goal           NaN   \n666555                                         , Tactical     1200869.0   \n666556                                         , Tactical      921121.0   \n666557            , Right-footed shot, 1. Tournament Goal           NaN   \n\n        player_assist_id  \n0                    NaN  \n1                    NaN  \n2                56416.0  \n3               146258.0  \n4                    NaN  \n...                  ...  \n666553               NaN  \n666554               NaN  \n666555               NaN  \n666556               NaN  \n666557               NaN  \n\n[666558 rows x 10 columns]",
      "text/html": "<div>\n<style scoped>\n    .dataframe tbody tr th:only-of-type {\n        vertical-align: middle;\n    }\n\n    .dataframe tbody tr th {\n        vertical-align: top;\n    }\n\n    .dataframe thead th {\n        text-align: right;\n    }\n</style>\n<table border=\"1\" class=\"dataframe\">\n  <thead>\n    <tr style=\"text-align: right;\">\n      <th></th>\n      <th>game_event_id</th>\n      <th>date</th>\n      <th>game_id</th>\n      <th>minute</th>\n      <th>type</th>\n      <th>club_id</th>\n      <th>player_id</th>\n      <th>description</th>\n      <th>player_in_id</th>\n      <th>player_assist_id</th>\n    </tr>\n  </thead>\n  <tbody>\n    <tr>\n      <th>0</th>\n      <td>2f41da30c471492e7d4a984951671677</td>\n      <td>2012-08-05</td>\n      <td>2211607</td>\n      <td>77</td>\n      <td>Cards</td>\n      <td>610</td>\n      <td>4425</td>\n      <td>1. Yellow card  , Mass confrontation</td>\n      <td>NaN</td>\n      <td>NaN</td>\n    </tr>\n    <tr>\n      <th>1</th>\n      <td>a72f7186d132775f234d3e2f7bc0ed5b</td>\n      <td>2012-08-05</td>\n      <td>2211607</td>\n      <td>77</td>\n      <td>Cards</td>\n      <td>383</td>\n      <td>33210</td>\n      <td>1. Yellow card  , Mass confrontation</td>\n      <td>NaN</td>\n      <td>NaN</td>\n    </tr>\n    <tr>\n      <th>2</th>\n      <td>b2d721eaed4692a5c59a92323689ef18</td>\n      <td>2012-08-05</td>\n      <td>2211607</td>\n      <td>3</td>\n      <td>Goals</td>\n      <td>383</td>\n      <td>36500</td>\n      <td>, Header, 1. Tournament Goal Assist: , Corner,...</td>\n      <td>NaN</td>\n      <td>56416.0</td>\n    </tr>\n    <tr>\n      <th>3</th>\n      <td>aef768899cedac0c9a650980219075a2</td>\n      <td>2012-08-05</td>\n      <td>2211607</td>\n      <td>53</td>\n      <td>Goals</td>\n      <td>383</td>\n      <td>36500</td>\n      <td>, Right-footed shot, 2. Tournament Goal Assist...</td>\n      <td>NaN</td>\n      <td>146258.0</td>\n    </tr>\n    <tr>\n      <th>4</th>\n      <td>5d6d9533023057b6619ecd145a038bbe</td>\n      <td>2012-08-05</td>\n      <td>2211607</td>\n      <td>74</td>\n      <td>Substitutions</td>\n      <td>383</td>\n      <td>36500</td>\n      <td>, Not reported</td>\n      <td>49499.0</td>\n      <td>NaN</td>\n    </tr>\n    <tr>\n      <th>...</th>\n      <td>...</td>\n      <td>...</td>\n      <td>...</td>\n      <td>...</td>\n      <td>...</td>\n      <td>...</td>\n      <td>...</td>\n      <td>...</td>\n      <td>...</td>\n      <td>...</td>\n    </tr>\n    <tr>\n      <th>666553</th>\n      <td>7f5a6b61ca858e0cd63a58c554b56bb7</td>\n      <td>2023-11-15</td>\n      <td>4228114</td>\n      <td>82</td>\n      <td>Substitutions</td>\n      <td>358</td>\n      <td>874064</td>\n      <td>, Tactical</td>\n      <td>965607.0</td>\n      <td>NaN</td>\n    </tr>\n    <tr>\n      <th>666554</th>\n      <td>5b93d1bc9e8bf42965682d491e1dd6c7</td>\n      <td>2023-11-15</td>\n      <td>4228114</td>\n      <td>44</td>\n      <td>Goals</td>\n      <td>46889</td>\n      <td>922572</td>\n      <td>, Penalty, 1. Tournament Goal</td>\n      <td>NaN</td>\n      <td>NaN</td>\n    </tr>\n    <tr>\n      <th>666555</th>\n      <td>d638b1e72f531c413487d413258a3130</td>\n      <td>2023-11-15</td>\n      <td>4228114</td>\n      <td>68</td>\n      <td>Substitutions</td>\n      <td>46889</td>\n      <td>922572</td>\n      <td>, Tactical</td>\n      <td>1200869.0</td>\n      <td>NaN</td>\n    </tr>\n    <tr>\n      <th>666556</th>\n      <td>0ff7774aa1383af83e40c435325463af</td>\n      <td>2023-11-15</td>\n      <td>4228114</td>\n      <td>68</td>\n      <td>Substitutions</td>\n      <td>46889</td>\n      <td>1200864</td>\n      <td>, Tactical</td>\n      <td>921121.0</td>\n      <td>NaN</td>\n    </tr>\n    <tr>\n      <th>666557</th>\n      <td>c2ba59ead8ee0f17e74e49c506e0d92f</td>\n      <td>2023-11-15</td>\n      <td>4228114</td>\n      <td>85</td>\n      <td>Goals</td>\n      <td>358</td>\n      <td>1203715</td>\n      <td>, Right-footed shot, 1. Tournament Goal</td>\n      <td>NaN</td>\n      <td>NaN</td>\n    </tr>\n  </tbody>\n</table>\n<p>666558 rows × 10 columns</p>\n</div>"
     },
     "execution_count": 21,
     "metadata": {},
     "output_type": "execute_result"
    }
   ],
   "source": [
    "# game_events dataset\n",
    "competitions = None\n",
    "game_events = get_game_events(\"./\")\n",
    "game_events"
   ],
   "metadata": {
    "collapsed": false,
    "ExecuteTime": {
     "end_time": "2023-12-27T15:31:24.937844300Z",
     "start_time": "2023-12-27T15:31:23.502873Z"
    }
   },
   "id": "4b8ed4cfd5b9df54"
  },
  {
   "cell_type": "code",
   "execution_count": null,
   "outputs": [],
   "source": [
    "# game_lineups dataset\n",
    "game_events = None\n",
    "game_lineups = get_game_lineups(\"./\")\n",
    "game_lineups.info()"
   ],
   "metadata": {
    "collapsed": false
   },
   "id": "17019636af639a2d"
  },
  {
   "cell_type": "code",
   "execution_count": null,
   "outputs": [],
   "source": [
    "# games dataset\n",
    "game_lineups = None\n",
    "games = get_games(\"./\")\n",
    "games.info()"
   ],
   "metadata": {
    "collapsed": false
   },
   "id": "3309448022b44d07"
  },
  {
   "cell_type": "code",
   "execution_count": null,
   "outputs": [],
   "source": [
    "# player_valuation dataset\n",
    "games = None\n",
    "player_valuations = get_player_valuations(\"./\")\n",
    "player_valuations.info()"
   ],
   "metadata": {
    "collapsed": false
   },
   "id": "a6038a4fa309d1ac"
  },
  {
   "cell_type": "code",
   "execution_count": null,
   "outputs": [],
   "source": [
    "# players dataset\n",
    "player_valuations = None\n",
    "players = get_players(\"./\")\n",
    "players.info()"
   ],
   "metadata": {
    "collapsed": false
   },
   "id": "2b1c6beef8206dd4"
  },
  {
   "cell_type": "code",
   "execution_count": null,
   "outputs": [],
   "source": [
    "players = None"
   ],
   "metadata": {
    "collapsed": false
   },
   "id": "7e0d5437ae848405"
  }
 ],
 "metadata": {
  "kernelspec": {
   "display_name": "Python 3",
   "language": "python",
   "name": "python3"
  },
  "language_info": {
   "codemirror_mode": {
    "name": "ipython",
    "version": 2
   },
   "file_extension": ".py",
   "mimetype": "text/x-python",
   "name": "python",
   "nbconvert_exporter": "python",
   "pygments_lexer": "ipython2",
   "version": "2.7.6"
  }
 },
 "nbformat": 4,
 "nbformat_minor": 5
}

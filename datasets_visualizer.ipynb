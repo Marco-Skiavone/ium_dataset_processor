{
 "cells": [
  {
   "cell_type": "code",
   "execution_count": null,
   "id": "initial_id",
   "metadata": {
    "collapsed": true
   },
   "outputs": [],
   "source": [
    "from modules.module_for_imports import *"
   ]
  },
  {
   "cell_type": "code",
   "execution_count": null,
   "outputs": [],
   "source": [
    "appearance = pd.read_csv('Assignment_Data_2023-2024/appearances.csv')\n",
    "club_games = pd.read_csv('Assignment_Data_2023-2024/club_games.csv')\n",
    "clubs = pd.read_csv('Assignment_Data_2023-2024/clubs.csv')\n",
    "competitions = pd.read_csv('Assignment_Data_2023-2024/competitions.csv')\n",
    "game_events = pd.read_csv('Assignment_Data_2023-2024/game_events.csv')\n",
    "game_lineups = pd.read_csv('Assignment_Data_2023-2024/game_lineups.csv')\n",
    "games = pd.read_csv('Assignment_Data_2023-2024/games.csv')\n",
    "player_valuations = pd.read_csv('Assignment_Data_2023-2024/player_valuations.csv')\n",
    "players = pd.read_csv('Assignment_Data_2023-2024/players.csv')"
   ],
   "metadata": {
    "collapsed": false
   },
   "id": "349ccc69f74cd7be"
  },
  {
   "cell_type": "code",
   "execution_count": null,
   "outputs": [],
   "source": [
    "appearance.info()"
   ],
   "metadata": {
    "collapsed": false
   },
   "id": "7a132c9f23eadf8b"
  },
  {
   "cell_type": "code",
   "execution_count": null,
   "outputs": [],
   "source": [
    "club_games.info()"
   ],
   "metadata": {
    "collapsed": false
   },
   "id": "4a4d8683bf5a4ff5"
  },
  {
   "cell_type": "code",
   "execution_count": null,
   "outputs": [],
   "source": [
    "clubs.info()"
   ],
   "metadata": {
    "collapsed": false
   },
   "id": "d04536e79f5c5423"
  },
  {
   "cell_type": "code",
   "execution_count": null,
   "outputs": [],
   "source": [
    "competitions.info()"
   ],
   "metadata": {
    "collapsed": false
   },
   "id": "4f4ea804f159873b"
  },
  {
   "cell_type": "code",
   "execution_count": null,
   "outputs": [],
   "source": [
    "game_events.info()"
   ],
   "metadata": {
    "collapsed": false
   },
   "id": "4b8ed4cfd5b9df54"
  },
  {
   "cell_type": "code",
   "execution_count": null,
   "outputs": [],
   "source": [
    "game_lineups.info()"
   ],
   "metadata": {
    "collapsed": false
   },
   "id": "17019636af639a2d"
  },
  {
   "cell_type": "code",
   "execution_count": null,
   "outputs": [],
   "source": [
    "games.info()"
   ],
   "metadata": {
    "collapsed": false
   },
   "id": "3309448022b44d07"
  },
  {
   "cell_type": "code",
   "execution_count": null,
   "outputs": [],
   "source": [
    "player_valuations.info()"
   ],
   "metadata": {
    "collapsed": false
   },
   "id": "a6038a4fa309d1ac"
  },
  {
   "cell_type": "code",
   "execution_count": null,
   "outputs": [],
   "source": [
    "players.info()"
   ],
   "metadata": {
    "collapsed": false
   },
   "id": "2b1c6beef8206dd4"
  }
 ],
 "metadata": {
  "kernelspec": {
   "display_name": "Python 3",
   "language": "python",
   "name": "python3"
  },
  "language_info": {
   "codemirror_mode": {
    "name": "ipython",
    "version": 2
   },
   "file_extension": ".py",
   "mimetype": "text/x-python",
   "name": "python",
   "nbconvert_exporter": "python",
   "pygments_lexer": "ipython2",
   "version": "2.7.6"
  }
 },
 "nbformat": 4,
 "nbformat_minor": 5
}

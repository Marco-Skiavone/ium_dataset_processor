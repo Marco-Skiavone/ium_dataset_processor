{
 "cells": [
  {
   "cell_type": "markdown",
   "source": [
    "# Types And Na()s\n",
    "This paper is meant to be used to search for data **types** and see where we have to handle **NaN** and **None** inputs."
   ],
   "metadata": {
    "collapsed": false
   },
   "id": "10ea1125bf64270a"
  },
  {
   "cell_type": "code",
   "execution_count": 3,
   "outputs": [],
   "source": [
    "from module_for_imports import *"
   ],
   "metadata": {
    "collapsed": false,
    "ExecuteTime": {
     "end_time": "2023-12-08T14:43:58.671842500Z",
     "start_time": "2023-12-08T14:43:58.653802900Z"
    }
   },
   "id": "3e05a20a4b69444b"
  },
  {
   "cell_type": "code",
   "execution_count": 4,
   "outputs": [
    {
     "data": {
      "text/plain": "appearance_id             object\ngame_id                    int64\nplayer_id                  int64\nplayer_club_id             int64\nplayer_current_club_id     int64\ndate                      object\nplayer_name               object\ncompetition_id            object\nyellow_cards               int64\nred_cards                  int64\ngoals                      int64\nassists                    int64\nminutes_played             int64\ndtype: object"
     },
     "execution_count": 4,
     "metadata": {},
     "output_type": "execute_result"
    }
   ],
   "source": [
    "appereance = pd.read_csv('Assignment_Data_2023-2024/appearances.csv')\n",
    "appereance.dtypes"
   ],
   "metadata": {
    "collapsed": false,
    "ExecuteTime": {
     "end_time": "2023-12-08T14:44:02.923321Z",
     "start_time": "2023-12-08T14:44:01.088881800Z"
    }
   },
   "id": "b9424a7f8582b988"
  },
  {
   "cell_type": "code",
   "execution_count": 6,
   "outputs": [
    {
     "data": {
      "text/plain": "appearance_id               0\ngame_id                     0\nplayer_id                   0\nplayer_club_id              0\nplayer_current_club_id      0\ndate                        0\nplayer_name               324\ncompetition_id              0\nyellow_cards                0\nred_cards                   0\ngoals                       0\nassists                     0\nminutes_played              0\ndtype: int64"
     },
     "execution_count": 6,
     "metadata": {},
     "output_type": "execute_result"
    }
   ],
   "source": [
    "appereance.isna().sum()\n"
   ],
   "metadata": {
    "collapsed": false,
    "ExecuteTime": {
     "end_time": "2023-12-08T14:47:08.875939900Z",
     "start_time": "2023-12-08T14:47:08.697712100Z"
    }
   },
   "id": "41460ec765365593"
  },
  {
   "cell_type": "markdown",
   "source": [
    "# Trying to see if 'player_name's that are 'None' are present as 'players_id' in other rows"
   ],
   "metadata": {
    "collapsed": false
   },
   "id": "98979c158fcd01e5"
  },
  {
   "cell_type": "code",
   "execution_count": 1,
   "outputs": [],
   "source": [],
   "metadata": {
    "collapsed": false,
    "ExecuteTime": {
     "end_time": "2023-12-08T17:35:13.011861800Z",
     "start_time": "2023-12-08T17:35:12.995861700Z"
    }
   },
   "id": "ea45c6bc0a015957"
  }
 ],
 "metadata": {
  "kernelspec": {
   "display_name": "Python 3",
   "language": "python",
   "name": "python3"
  },
  "language_info": {
   "codemirror_mode": {
    "name": "ipython",
    "version": 2
   },
   "file_extension": ".py",
   "mimetype": "text/x-python",
   "name": "python",
   "nbconvert_exporter": "python",
   "pygments_lexer": "ipython2",
   "version": "2.7.6"
  }
 },
 "nbformat": 4,
 "nbformat_minor": 5
}

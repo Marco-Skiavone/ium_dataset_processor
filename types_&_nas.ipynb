{
 "cells": [
  {
   "cell_type": "markdown",
   "source": [
    "# Types And Na()s\n",
    "This paper is meant to be used to search for data **types** and see where we have to handle **NaN** and **None** inputs.\n",
    "# Index\n",
    "* [x] [Appereance analysis](#appearance-analysis-a-classanchor-idappearance-analysisa)\n",
    "* [ ] [Players analysis](#players-analysis-a-classanchor-idplayers-analysisa)"
   ],
   "metadata": {
    "collapsed": false
   },
   "id": "10ea1125bf64270a"
  },
  {
   "cell_type": "code",
   "execution_count": 1,
   "outputs": [],
   "source": [
    "from module_for_imports import *"
   ],
   "metadata": {
    "collapsed": false,
    "ExecuteTime": {
     "end_time": "2023-12-10T12:00:59.715032400Z",
     "start_time": "2023-12-10T12:00:58.908766500Z"
    }
   },
   "id": "3e05a20a4b69444b"
  },
  {
   "cell_type": "markdown",
   "source": [
    "# Appearance analysis <a class=\"anchor\" id=\"appearance-analysis\"></a>"
   ],
   "metadata": {
    "collapsed": false
   },
   "id": "1fc3436c14282c75"
  },
  {
   "cell_type": "code",
   "execution_count": 2,
   "outputs": [
    {
     "name": "stdout",
     "output_type": "stream",
     "text": [
      "<class 'pandas.core.frame.DataFrame'>\n",
      "Index: 1507351 entries, 2231978_38004 to 4172154_936981\n",
      "Data columns (total 12 columns):\n",
      " #   Column                  Non-Null Count    Dtype \n",
      "---  ------                  --------------    ----- \n",
      " 0   game_id                 1507351 non-null  int64 \n",
      " 1   player_id               1507351 non-null  int64 \n",
      " 2   player_club_id          1507351 non-null  int64 \n",
      " 3   player_current_club_id  1507351 non-null  int64 \n",
      " 4   date                    1507351 non-null  object\n",
      " 5   player_name             1507027 non-null  object\n",
      " 6   competition_id          1507351 non-null  object\n",
      " 7   yellow_cards            1507351 non-null  int64 \n",
      " 8   red_cards               1507351 non-null  int64 \n",
      " 9   goals                   1507351 non-null  int64 \n",
      " 10  assists                 1507351 non-null  int64 \n",
      " 11  minutes_played          1507351 non-null  int64 \n",
      "dtypes: int64(9), object(3)\n",
      "memory usage: 149.5+ MB\n"
     ]
    }
   ],
   "source": [
    "appearance = pd.read_csv('Assignment_Data_2023-2024/appearances.csv', index_col=[0])\n",
    "appearance.info()"
   ],
   "metadata": {
    "collapsed": false,
    "ExecuteTime": {
     "end_time": "2023-12-10T12:01:01.683696600Z",
     "start_time": "2023-12-10T12:00:59.717035Z"
    }
   },
   "id": "b9424a7f8582b988"
  },
  {
   "cell_type": "code",
   "execution_count": 3,
   "outputs": [
    {
     "data": {
      "text/plain": "game_id                            int64\nplayer_id                          int64\nplayer_club_id                     int64\nplayer_current_club_id             int64\ndate                      datetime64[ns]\nplayer_name                       object\ncompetition_id            string[python]\nyellow_cards                       int64\nred_cards                          int64\ngoals                              int64\nassists                            int64\nminutes_played                     int64\ndtype: object"
     },
     "execution_count": 3,
     "metadata": {},
     "output_type": "execute_result"
    }
   ],
   "source": [
    "# appearance['appearance_id'] = pd.to_numeric(appearance['appearance_id'].astype('string'))\n",
    "#appearance['appearance_id'] = appearance['appearance_id'].astype('string')\n",
    "appearance['date'] = pd.to_datetime(appearance['date'])\n",
    "appearance['competition_id'] = appearance['competition_id'].astype('string')\n",
    "appearance.dtypes\n"
   ],
   "metadata": {
    "collapsed": false,
    "ExecuteTime": {
     "end_time": "2023-12-10T12:01:01.839120800Z",
     "start_time": "2023-12-10T12:01:01.714703100Z"
    }
   },
   "id": "41460ec765365593"
  },
  {
   "cell_type": "code",
   "execution_count": 4,
   "outputs": [
    {
     "data": {
      "text/plain": "game_id                     0\nplayer_id                   0\nplayer_club_id              0\nplayer_current_club_id      0\ndate                        0\nplayer_name               324\ncompetition_id              0\nyellow_cards                0\nred_cards                   0\ngoals                       0\nassists                     0\nminutes_played              0\ndtype: int64"
     },
     "execution_count": 4,
     "metadata": {},
     "output_type": "execute_result"
    }
   ],
   "source": [
    "appearance.isna().sum()"
   ],
   "metadata": {
    "collapsed": false,
    "ExecuteTime": {
     "end_time": "2023-12-10T12:01:01.936211200Z",
     "start_time": "2023-12-10T12:01:01.841121800Z"
    }
   },
   "id": "342503bbfdfe614"
  },
  {
   "cell_type": "markdown",
   "source": [
    "> # Trying to see if 'player_name's that are 'None' are present as 'players_id' in other rows"
   ],
   "metadata": {
    "collapsed": false
   },
   "id": "98979c158fcd01e5"
  },
  {
   "cell_type": "code",
   "execution_count": 5,
   "outputs": [
    {
     "data": {
      "text/plain": "0"
     },
     "execution_count": 5,
     "metadata": {},
     "output_type": "execute_result"
    }
   ],
   "source": [
    "# this will make me see all the rows with na values\n",
    "na_player_name_apps = appearance.loc[appearance['player_name'].isna()]['player_id']\n",
    "not_na_player_name_apps = appearance.loc[appearance['player_name'].notnull()]['player_id']\n",
    "na_player_name_apps.isin(not_na_player_name_apps).sum()"
   ],
   "metadata": {
    "collapsed": false,
    "ExecuteTime": {
     "end_time": "2023-12-10T12:01:02.125505100Z",
     "start_time": "2023-12-10T12:01:01.968121700Z"
    }
   },
   "id": "ea45c6bc0a015957"
  },
  {
   "cell_type": "markdown",
   "source": [
    "> ### This is the check that we are doing well:"
   ],
   "metadata": {
    "collapsed": false
   },
   "id": "32dc9318e51c36b5"
  },
  {
   "cell_type": "code",
   "execution_count": 6,
   "outputs": [
    {
     "data": {
      "text/plain": "0"
     },
     "execution_count": 6,
     "metadata": {},
     "output_type": "execute_result"
    }
   ],
   "source": [
    "not_na_player_name_apps.isna().sum()"
   ],
   "metadata": {
    "collapsed": false,
    "ExecuteTime": {
     "end_time": "2023-12-10T12:01:02.142506400Z",
     "start_time": "2023-12-10T12:01:02.124504500Z"
    }
   },
   "id": "709ce8d24f8dbc2f"
  },
  {
   "cell_type": "markdown",
   "source": [
    "> ### Fine, there are not 'player_id's in common, so we cannot restore those data.\n",
    "> > # Final result: remove None 'player_name' rows"
   ],
   "metadata": {
    "collapsed": false
   },
   "id": "3c1c1e7e0e912b53"
  },
  {
   "cell_type": "code",
   "execution_count": 7,
   "outputs": [
    {
     "data": {
      "text/plain": "                game_id  player_id  player_club_id  player_current_club_id  \\\nappearance_id                                                                \n2231978_38004   2231978      38004             853                     235   \n2233748_79232   2233748      79232            8841                    2698   \n2234413_42792   2234413      42792            6251                     465   \n2234418_73333   2234418      73333            1274                    6646   \n2234421_122011  2234421     122011             195                    3008   \n...                 ...        ...             ...                     ...   \n4172154_659813  4172154     659813              15                      15   \n4172154_696027  4172154     696027              15                      15   \n4172154_7161    4172154       7161              15                      15   \n4172154_743395  4172154     743395              15                      15   \n4172154_936981  4172154     936981              15                      15   \n\n                     date       player_name competition_id  yellow_cards  \\\nappearance_id                                                              \n2231978_38004  2012-07-03  Aurélien Joachim            CLQ             0   \n2233748_79232  2012-07-05    Ruslan Abyshov            ELQ             0   \n2234413_42792  2012-07-05       Sander Puri            ELQ             0   \n2234418_73333  2012-07-05   Vegar Hedenstad            ELQ             0   \n2234421_122011 2012-07-05  Markus Henriksen            ELQ             0   \n...                   ...               ...            ...           ...   \n4172154_659813 2023-11-30    Piero Hincapié             EL             0   \n4172154_696027 2023-11-30      Ayman Aourir             EL             0   \n4172154_7161   2023-11-30     Jonas Hofmann             EL             0   \n4172154_743395 2023-11-30       Noah Mbamba             EL             0   \n4172154_936981 2023-11-30    Gustavo Puerta             EL             0   \n\n                red_cards  goals  assists  minutes_played  \nappearance_id                                              \n2231978_38004           0      2        0              90  \n2233748_79232           0      0        0              90  \n2234413_42792           0      0        0              45  \n2234418_73333           0      0        0              90  \n2234421_122011          0      0        1              90  \n...                   ...    ...      ...             ...  \n4172154_659813          0      0        0              90  \n4172154_696027          0      0        0               2  \n4172154_7161            0      0        0              10  \n4172154_743395          0      0        0              45  \n4172154_936981          0      0        0              88  \n\n[1507027 rows x 12 columns]",
      "text/html": "<div>\n<style scoped>\n    .dataframe tbody tr th:only-of-type {\n        vertical-align: middle;\n    }\n\n    .dataframe tbody tr th {\n        vertical-align: top;\n    }\n\n    .dataframe thead th {\n        text-align: right;\n    }\n</style>\n<table border=\"1\" class=\"dataframe\">\n  <thead>\n    <tr style=\"text-align: right;\">\n      <th></th>\n      <th>game_id</th>\n      <th>player_id</th>\n      <th>player_club_id</th>\n      <th>player_current_club_id</th>\n      <th>date</th>\n      <th>player_name</th>\n      <th>competition_id</th>\n      <th>yellow_cards</th>\n      <th>red_cards</th>\n      <th>goals</th>\n      <th>assists</th>\n      <th>minutes_played</th>\n    </tr>\n    <tr>\n      <th>appearance_id</th>\n      <th></th>\n      <th></th>\n      <th></th>\n      <th></th>\n      <th></th>\n      <th></th>\n      <th></th>\n      <th></th>\n      <th></th>\n      <th></th>\n      <th></th>\n      <th></th>\n    </tr>\n  </thead>\n  <tbody>\n    <tr>\n      <th>2231978_38004</th>\n      <td>2231978</td>\n      <td>38004</td>\n      <td>853</td>\n      <td>235</td>\n      <td>2012-07-03</td>\n      <td>Aurélien Joachim</td>\n      <td>CLQ</td>\n      <td>0</td>\n      <td>0</td>\n      <td>2</td>\n      <td>0</td>\n      <td>90</td>\n    </tr>\n    <tr>\n      <th>2233748_79232</th>\n      <td>2233748</td>\n      <td>79232</td>\n      <td>8841</td>\n      <td>2698</td>\n      <td>2012-07-05</td>\n      <td>Ruslan Abyshov</td>\n      <td>ELQ</td>\n      <td>0</td>\n      <td>0</td>\n      <td>0</td>\n      <td>0</td>\n      <td>90</td>\n    </tr>\n    <tr>\n      <th>2234413_42792</th>\n      <td>2234413</td>\n      <td>42792</td>\n      <td>6251</td>\n      <td>465</td>\n      <td>2012-07-05</td>\n      <td>Sander Puri</td>\n      <td>ELQ</td>\n      <td>0</td>\n      <td>0</td>\n      <td>0</td>\n      <td>0</td>\n      <td>45</td>\n    </tr>\n    <tr>\n      <th>2234418_73333</th>\n      <td>2234418</td>\n      <td>73333</td>\n      <td>1274</td>\n      <td>6646</td>\n      <td>2012-07-05</td>\n      <td>Vegar Hedenstad</td>\n      <td>ELQ</td>\n      <td>0</td>\n      <td>0</td>\n      <td>0</td>\n      <td>0</td>\n      <td>90</td>\n    </tr>\n    <tr>\n      <th>2234421_122011</th>\n      <td>2234421</td>\n      <td>122011</td>\n      <td>195</td>\n      <td>3008</td>\n      <td>2012-07-05</td>\n      <td>Markus Henriksen</td>\n      <td>ELQ</td>\n      <td>0</td>\n      <td>0</td>\n      <td>0</td>\n      <td>1</td>\n      <td>90</td>\n    </tr>\n    <tr>\n      <th>...</th>\n      <td>...</td>\n      <td>...</td>\n      <td>...</td>\n      <td>...</td>\n      <td>...</td>\n      <td>...</td>\n      <td>...</td>\n      <td>...</td>\n      <td>...</td>\n      <td>...</td>\n      <td>...</td>\n      <td>...</td>\n    </tr>\n    <tr>\n      <th>4172154_659813</th>\n      <td>4172154</td>\n      <td>659813</td>\n      <td>15</td>\n      <td>15</td>\n      <td>2023-11-30</td>\n      <td>Piero Hincapié</td>\n      <td>EL</td>\n      <td>0</td>\n      <td>0</td>\n      <td>0</td>\n      <td>0</td>\n      <td>90</td>\n    </tr>\n    <tr>\n      <th>4172154_696027</th>\n      <td>4172154</td>\n      <td>696027</td>\n      <td>15</td>\n      <td>15</td>\n      <td>2023-11-30</td>\n      <td>Ayman Aourir</td>\n      <td>EL</td>\n      <td>0</td>\n      <td>0</td>\n      <td>0</td>\n      <td>0</td>\n      <td>2</td>\n    </tr>\n    <tr>\n      <th>4172154_7161</th>\n      <td>4172154</td>\n      <td>7161</td>\n      <td>15</td>\n      <td>15</td>\n      <td>2023-11-30</td>\n      <td>Jonas Hofmann</td>\n      <td>EL</td>\n      <td>0</td>\n      <td>0</td>\n      <td>0</td>\n      <td>0</td>\n      <td>10</td>\n    </tr>\n    <tr>\n      <th>4172154_743395</th>\n      <td>4172154</td>\n      <td>743395</td>\n      <td>15</td>\n      <td>15</td>\n      <td>2023-11-30</td>\n      <td>Noah Mbamba</td>\n      <td>EL</td>\n      <td>0</td>\n      <td>0</td>\n      <td>0</td>\n      <td>0</td>\n      <td>45</td>\n    </tr>\n    <tr>\n      <th>4172154_936981</th>\n      <td>4172154</td>\n      <td>936981</td>\n      <td>15</td>\n      <td>15</td>\n      <td>2023-11-30</td>\n      <td>Gustavo Puerta</td>\n      <td>EL</td>\n      <td>0</td>\n      <td>0</td>\n      <td>0</td>\n      <td>0</td>\n      <td>88</td>\n    </tr>\n  </tbody>\n</table>\n<p>1507027 rows × 12 columns</p>\n</div>"
     },
     "execution_count": 7,
     "metadata": {},
     "output_type": "execute_result"
    }
   ],
   "source": [
    "appearance = appearance.dropna()\n",
    "appearance"
   ],
   "metadata": {
    "collapsed": false,
    "ExecuteTime": {
     "end_time": "2023-12-10T12:01:02.375516100Z",
     "start_time": "2023-12-10T12:01:02.138504800Z"
    }
   },
   "id": "a643545ffedba4f3"
  },
  {
   "cell_type": "markdown",
   "source": [
    "# Players analysis <a class=\"anchor\" id=\"players-analysis\"></a>"
   ],
   "metadata": {
    "collapsed": false
   },
   "id": "b917140e858eba7e"
  },
  {
   "cell_type": "code",
   "execution_count": 8,
   "outputs": [
    {
     "name": "stdout",
     "output_type": "stream",
     "text": [
      "<class 'pandas.core.frame.DataFrame'>\n",
      "Index: 30302 entries, 598 to 925584\n",
      "Data columns (total 22 columns):\n",
      " #   Column                                Non-Null Count  Dtype  \n",
      "---  ------                                --------------  -----  \n",
      " 0   first_name                            28337 non-null  object \n",
      " 1   last_name                             30302 non-null  object \n",
      " 2   name                                  30302 non-null  object \n",
      " 3   last_season                           30302 non-null  int64  \n",
      " 4   current_club_id                       30302 non-null  int64  \n",
      " 5   player_code                           30302 non-null  object \n",
      " 6   country_of_birth                      27613 non-null  object \n",
      " 7   city_of_birth                         28099 non-null  object \n",
      " 8   country_of_citizenship                29759 non-null  object \n",
      " 9   date_of_birth                         30255 non-null  object \n",
      " 10  sub_position                          30130 non-null  object \n",
      " 11  position                              30302 non-null  object \n",
      " 12  foot                                  27913 non-null  object \n",
      " 13  height_in_cm                          28204 non-null  float64\n",
      " 14  market_value_in_eur                   19383 non-null  float64\n",
      " 15  highest_market_value_in_eur           28981 non-null  float64\n",
      " 16  contract_expiration_date              18835 non-null  object \n",
      " 17  agent_name                            14941 non-null  object \n",
      " 18  image_url                             30302 non-null  object \n",
      " 19  url                                   30302 non-null  object \n",
      " 20  current_club_domestic_competition_id  30302 non-null  object \n",
      " 21  current_club_name                     30302 non-null  object \n",
      "dtypes: float64(3), int64(2), object(17)\n",
      "memory usage: 5.3+ MB\n"
     ]
    }
   ],
   "source": [
    "players = pd.read_csv('Assignment_Data_2023-2024/players.csv', index_col=[0])   \n",
    "# note:\n",
    "#the index_col=[0] avoids indexing the dataframe, so we save space and use the ids as index\n",
    "players.info()"
   ],
   "metadata": {
    "collapsed": false,
    "ExecuteTime": {
     "end_time": "2023-12-10T12:01:02.590517700Z",
     "start_time": "2023-12-10T12:01:02.378506500Z"
    }
   },
   "id": "1e407b163d177a6c"
  },
  {
   "cell_type": "code",
   "execution_count": 9,
   "outputs": [
    {
     "data": {
      "text/plain": "          first_name    last_name                name  last_season  \\\nplayer_id                                                            \n598             Timo   Hildebrand     Timo Hildebrand         2014   \n670           Martin       Petrov       Martin Petrov         2012   \n1323          Martin      Amedick      Martin Amedick         2012   \n3195        Jermaine      Pennant    Jermaine Pennant         2013   \n3259          Damien         Duff         Damien Duff         2013   \n...              ...          ...                 ...          ...   \n371851          Jaka        Bijol          Jaka Bijol         2023   \n537171        Semuel  Pizzignacco  Semuel Pizzignacco         2018   \n586756         Festy      Ebosele       Festy Ebosele         2023   \n704692        Nicolò      Cocetta      Nicolò Cocetta         2022   \n925584          Axel     Guessand       Axel Guessand         2023   \n\n           current_club_id         player_code country_of_birth  \\\nplayer_id                                                         \n598                     24     timo-hildebrand          Germany   \n670                    714       martin-petrov         Bulgaria   \n1323                    24      martin-amedick          Germany   \n3195                   512    jermaine-pennant          England   \n3259                   931         damien-duff          Ireland   \n...                    ...                 ...              ...   \n371851                 410          jaka-bijol         Slovenia   \n537171                 410  semuel-pizzignacco            Italy   \n586756                 410       festy-ebosele          Ireland   \n704692                 410      nicolo-cocetta            Italy   \n925584                 410       axel-guessand           France   \n\n                    city_of_birth country_of_citizenship date_of_birth  ...  \\\nplayer_id                                                               ...   \n598                         Worms                Germany    1979-04-05  ...   \n670                        Vratsa               Bulgaria    1979-01-15  ...   \n1323                    Paderborn                Germany    1982-09-06  ...   \n3195                   Nottingham                England    1983-01-15  ...   \n3259                   Ballyboden                Ireland    1979-03-02  ...   \n...                           ...                    ...           ...  ...   \n371851                   Vuzenica               Slovenia    1999-02-05  ...   \n537171                 Monfalcone                  Italy    2001-09-01  ...   \n586756       Enniscorthy, Wexford                Ireland    2002-08-02  ...   \n704692     San Daniele del Friuli                  Italy    2003-12-19  ...   \n925584               Schiltigheim                 France    2004-11-06  ...   \n\n            foot height_in_cm market_value_in_eur  \\\nplayer_id                                           \n598          NaN          NaN                 NaN   \n670          NaN          NaN                 NaN   \n1323         NaN          NaN                 NaN   \n3195       right        173.0                 NaN   \n3259        left        177.0                 NaN   \n...          ...          ...                 ...   \n371851     right        190.0          10000000.0   \n537171     right        188.0            325000.0   \n586756     right        180.0           4500000.0   \n704692       NaN          NaN             75000.0   \n925584      left        184.0            250000.0   \n\n           highest_market_value_in_eur  contract_expiration_date  \\\nplayer_id                                                          \n598                         10000000.0                       NaN   \n670                         12000000.0                       NaN   \n1323                         2750000.0                       NaN   \n3195                        10500000.0                       NaN   \n3259                        17000000.0                       NaN   \n...                                ...                       ...   \n371851                      10000000.0       2027-06-30 00:00:00   \n537171                        350000.0       2025-06-30 00:00:00   \n586756                       4500000.0       2027-06-30 00:00:00   \n704692                         75000.0       2023-06-30 00:00:00   \n925584                        300000.0       2027-06-30 00:00:00   \n\n                  agent_name  \\\nplayer_id                      \n598                      NaN   \n670                      IFM   \n1323                     NaN   \n3195              Andrew Sky   \n3259                     NaN   \n...                      ...   \n371851             MSC GROUP   \n537171                   NaN   \n586756     The Kulture Group   \n704692                   NaN   \n925584           CAA Stellar   \n\n                                                   image_url  \\\nplayer_id                                                      \n598        https://img.a.transfermarkt.technology/portrai...   \n670        https://img.a.transfermarkt.technology/portrai...   \n1323       https://img.a.transfermarkt.technology/portrai...   \n3195       https://img.a.transfermarkt.technology/portrai...   \n3259       https://img.a.transfermarkt.technology/portrai...   \n...                                                      ...   \n371851     https://img.a.transfermarkt.technology/portrai...   \n537171     https://img.a.transfermarkt.technology/portrai...   \n586756     https://img.a.transfermarkt.technology/portrai...   \n704692     https://img.a.transfermarkt.technology/portrai...   \n925584     https://img.a.transfermarkt.technology/portrai...   \n\n                                                         url  \\\nplayer_id                                                      \n598        https://www.transfermarkt.co.uk/timo-hildebran...   \n670        https://www.transfermarkt.co.uk/martin-petrov/...   \n1323       https://www.transfermarkt.co.uk/martin-amedick...   \n3195       https://www.transfermarkt.co.uk/jermaine-penna...   \n3259       https://www.transfermarkt.co.uk/damien-duff/pr...   \n...                                                      ...   \n371851     https://www.transfermarkt.co.uk/jaka-bijol/pro...   \n537171     https://www.transfermarkt.co.uk/semuel-pizzign...   \n586756     https://www.transfermarkt.co.uk/festy-ebosele/...   \n704692     https://www.transfermarkt.co.uk/nicolo-cocetta...   \n925584     https://www.transfermarkt.co.uk/axel-guessand/...   \n\n          current_club_domestic_competition_id       current_club_name  \nplayer_id                                                               \n598                                         L1     Eintracht Frankfurt  \n670                                        ES1  RCD Espanyol Barcelona  \n1323                                        L1     Eintracht Frankfurt  \n3195                                       GB1              Stoke City  \n3259                                       GB1               Fulham FC  \n...                                        ...                     ...  \n371851                                     IT1          Udinese Calcio  \n537171                                     IT1          Udinese Calcio  \n586756                                     IT1          Udinese Calcio  \n704692                                     IT1          Udinese Calcio  \n925584                                     IT1          Udinese Calcio  \n\n[30302 rows x 22 columns]",
      "text/html": "<div>\n<style scoped>\n    .dataframe tbody tr th:only-of-type {\n        vertical-align: middle;\n    }\n\n    .dataframe tbody tr th {\n        vertical-align: top;\n    }\n\n    .dataframe thead th {\n        text-align: right;\n    }\n</style>\n<table border=\"1\" class=\"dataframe\">\n  <thead>\n    <tr style=\"text-align: right;\">\n      <th></th>\n      <th>first_name</th>\n      <th>last_name</th>\n      <th>name</th>\n      <th>last_season</th>\n      <th>current_club_id</th>\n      <th>player_code</th>\n      <th>country_of_birth</th>\n      <th>city_of_birth</th>\n      <th>country_of_citizenship</th>\n      <th>date_of_birth</th>\n      <th>...</th>\n      <th>foot</th>\n      <th>height_in_cm</th>\n      <th>market_value_in_eur</th>\n      <th>highest_market_value_in_eur</th>\n      <th>contract_expiration_date</th>\n      <th>agent_name</th>\n      <th>image_url</th>\n      <th>url</th>\n      <th>current_club_domestic_competition_id</th>\n      <th>current_club_name</th>\n    </tr>\n    <tr>\n      <th>player_id</th>\n      <th></th>\n      <th></th>\n      <th></th>\n      <th></th>\n      <th></th>\n      <th></th>\n      <th></th>\n      <th></th>\n      <th></th>\n      <th></th>\n      <th></th>\n      <th></th>\n      <th></th>\n      <th></th>\n      <th></th>\n      <th></th>\n      <th></th>\n      <th></th>\n      <th></th>\n      <th></th>\n      <th></th>\n    </tr>\n  </thead>\n  <tbody>\n    <tr>\n      <th>598</th>\n      <td>Timo</td>\n      <td>Hildebrand</td>\n      <td>Timo Hildebrand</td>\n      <td>2014</td>\n      <td>24</td>\n      <td>timo-hildebrand</td>\n      <td>Germany</td>\n      <td>Worms</td>\n      <td>Germany</td>\n      <td>1979-04-05</td>\n      <td>...</td>\n      <td>NaN</td>\n      <td>NaN</td>\n      <td>NaN</td>\n      <td>10000000.0</td>\n      <td>NaN</td>\n      <td>NaN</td>\n      <td>https://img.a.transfermarkt.technology/portrai...</td>\n      <td>https://www.transfermarkt.co.uk/timo-hildebran...</td>\n      <td>L1</td>\n      <td>Eintracht Frankfurt</td>\n    </tr>\n    <tr>\n      <th>670</th>\n      <td>Martin</td>\n      <td>Petrov</td>\n      <td>Martin Petrov</td>\n      <td>2012</td>\n      <td>714</td>\n      <td>martin-petrov</td>\n      <td>Bulgaria</td>\n      <td>Vratsa</td>\n      <td>Bulgaria</td>\n      <td>1979-01-15</td>\n      <td>...</td>\n      <td>NaN</td>\n      <td>NaN</td>\n      <td>NaN</td>\n      <td>12000000.0</td>\n      <td>NaN</td>\n      <td>IFM</td>\n      <td>https://img.a.transfermarkt.technology/portrai...</td>\n      <td>https://www.transfermarkt.co.uk/martin-petrov/...</td>\n      <td>ES1</td>\n      <td>RCD Espanyol Barcelona</td>\n    </tr>\n    <tr>\n      <th>1323</th>\n      <td>Martin</td>\n      <td>Amedick</td>\n      <td>Martin Amedick</td>\n      <td>2012</td>\n      <td>24</td>\n      <td>martin-amedick</td>\n      <td>Germany</td>\n      <td>Paderborn</td>\n      <td>Germany</td>\n      <td>1982-09-06</td>\n      <td>...</td>\n      <td>NaN</td>\n      <td>NaN</td>\n      <td>NaN</td>\n      <td>2750000.0</td>\n      <td>NaN</td>\n      <td>NaN</td>\n      <td>https://img.a.transfermarkt.technology/portrai...</td>\n      <td>https://www.transfermarkt.co.uk/martin-amedick...</td>\n      <td>L1</td>\n      <td>Eintracht Frankfurt</td>\n    </tr>\n    <tr>\n      <th>3195</th>\n      <td>Jermaine</td>\n      <td>Pennant</td>\n      <td>Jermaine Pennant</td>\n      <td>2013</td>\n      <td>512</td>\n      <td>jermaine-pennant</td>\n      <td>England</td>\n      <td>Nottingham</td>\n      <td>England</td>\n      <td>1983-01-15</td>\n      <td>...</td>\n      <td>right</td>\n      <td>173.0</td>\n      <td>NaN</td>\n      <td>10500000.0</td>\n      <td>NaN</td>\n      <td>Andrew Sky</td>\n      <td>https://img.a.transfermarkt.technology/portrai...</td>\n      <td>https://www.transfermarkt.co.uk/jermaine-penna...</td>\n      <td>GB1</td>\n      <td>Stoke City</td>\n    </tr>\n    <tr>\n      <th>3259</th>\n      <td>Damien</td>\n      <td>Duff</td>\n      <td>Damien Duff</td>\n      <td>2013</td>\n      <td>931</td>\n      <td>damien-duff</td>\n      <td>Ireland</td>\n      <td>Ballyboden</td>\n      <td>Ireland</td>\n      <td>1979-03-02</td>\n      <td>...</td>\n      <td>left</td>\n      <td>177.0</td>\n      <td>NaN</td>\n      <td>17000000.0</td>\n      <td>NaN</td>\n      <td>NaN</td>\n      <td>https://img.a.transfermarkt.technology/portrai...</td>\n      <td>https://www.transfermarkt.co.uk/damien-duff/pr...</td>\n      <td>GB1</td>\n      <td>Fulham FC</td>\n    </tr>\n    <tr>\n      <th>...</th>\n      <td>...</td>\n      <td>...</td>\n      <td>...</td>\n      <td>...</td>\n      <td>...</td>\n      <td>...</td>\n      <td>...</td>\n      <td>...</td>\n      <td>...</td>\n      <td>...</td>\n      <td>...</td>\n      <td>...</td>\n      <td>...</td>\n      <td>...</td>\n      <td>...</td>\n      <td>...</td>\n      <td>...</td>\n      <td>...</td>\n      <td>...</td>\n      <td>...</td>\n      <td>...</td>\n    </tr>\n    <tr>\n      <th>371851</th>\n      <td>Jaka</td>\n      <td>Bijol</td>\n      <td>Jaka Bijol</td>\n      <td>2023</td>\n      <td>410</td>\n      <td>jaka-bijol</td>\n      <td>Slovenia</td>\n      <td>Vuzenica</td>\n      <td>Slovenia</td>\n      <td>1999-02-05</td>\n      <td>...</td>\n      <td>right</td>\n      <td>190.0</td>\n      <td>10000000.0</td>\n      <td>10000000.0</td>\n      <td>2027-06-30 00:00:00</td>\n      <td>MSC GROUP</td>\n      <td>https://img.a.transfermarkt.technology/portrai...</td>\n      <td>https://www.transfermarkt.co.uk/jaka-bijol/pro...</td>\n      <td>IT1</td>\n      <td>Udinese Calcio</td>\n    </tr>\n    <tr>\n      <th>537171</th>\n      <td>Semuel</td>\n      <td>Pizzignacco</td>\n      <td>Semuel Pizzignacco</td>\n      <td>2018</td>\n      <td>410</td>\n      <td>semuel-pizzignacco</td>\n      <td>Italy</td>\n      <td>Monfalcone</td>\n      <td>Italy</td>\n      <td>2001-09-01</td>\n      <td>...</td>\n      <td>right</td>\n      <td>188.0</td>\n      <td>325000.0</td>\n      <td>350000.0</td>\n      <td>2025-06-30 00:00:00</td>\n      <td>NaN</td>\n      <td>https://img.a.transfermarkt.technology/portrai...</td>\n      <td>https://www.transfermarkt.co.uk/semuel-pizzign...</td>\n      <td>IT1</td>\n      <td>Udinese Calcio</td>\n    </tr>\n    <tr>\n      <th>586756</th>\n      <td>Festy</td>\n      <td>Ebosele</td>\n      <td>Festy Ebosele</td>\n      <td>2023</td>\n      <td>410</td>\n      <td>festy-ebosele</td>\n      <td>Ireland</td>\n      <td>Enniscorthy, Wexford</td>\n      <td>Ireland</td>\n      <td>2002-08-02</td>\n      <td>...</td>\n      <td>right</td>\n      <td>180.0</td>\n      <td>4500000.0</td>\n      <td>4500000.0</td>\n      <td>2027-06-30 00:00:00</td>\n      <td>The Kulture Group</td>\n      <td>https://img.a.transfermarkt.technology/portrai...</td>\n      <td>https://www.transfermarkt.co.uk/festy-ebosele/...</td>\n      <td>IT1</td>\n      <td>Udinese Calcio</td>\n    </tr>\n    <tr>\n      <th>704692</th>\n      <td>Nicolò</td>\n      <td>Cocetta</td>\n      <td>Nicolò Cocetta</td>\n      <td>2022</td>\n      <td>410</td>\n      <td>nicolo-cocetta</td>\n      <td>Italy</td>\n      <td>San Daniele del Friuli</td>\n      <td>Italy</td>\n      <td>2003-12-19</td>\n      <td>...</td>\n      <td>NaN</td>\n      <td>NaN</td>\n      <td>75000.0</td>\n      <td>75000.0</td>\n      <td>2023-06-30 00:00:00</td>\n      <td>NaN</td>\n      <td>https://img.a.transfermarkt.technology/portrai...</td>\n      <td>https://www.transfermarkt.co.uk/nicolo-cocetta...</td>\n      <td>IT1</td>\n      <td>Udinese Calcio</td>\n    </tr>\n    <tr>\n      <th>925584</th>\n      <td>Axel</td>\n      <td>Guessand</td>\n      <td>Axel Guessand</td>\n      <td>2023</td>\n      <td>410</td>\n      <td>axel-guessand</td>\n      <td>France</td>\n      <td>Schiltigheim</td>\n      <td>France</td>\n      <td>2004-11-06</td>\n      <td>...</td>\n      <td>left</td>\n      <td>184.0</td>\n      <td>250000.0</td>\n      <td>300000.0</td>\n      <td>2027-06-30 00:00:00</td>\n      <td>CAA Stellar</td>\n      <td>https://img.a.transfermarkt.technology/portrai...</td>\n      <td>https://www.transfermarkt.co.uk/axel-guessand/...</td>\n      <td>IT1</td>\n      <td>Udinese Calcio</td>\n    </tr>\n  </tbody>\n</table>\n<p>30302 rows × 22 columns</p>\n</div>"
     },
     "execution_count": 9,
     "metadata": {},
     "output_type": "execute_result"
    }
   ],
   "source": [
    "players"
   ],
   "metadata": {
    "collapsed": false,
    "ExecuteTime": {
     "end_time": "2023-12-10T12:01:02.649506600Z",
     "start_time": "2023-12-10T12:01:02.577507900Z"
    }
   },
   "id": "afa26ffb8f3f1db9"
  },
  {
   "cell_type": "code",
   "execution_count": 10,
   "outputs": [
    {
     "data": {
      "text/plain": "first_name                               1965\nlast_name                                   0\nname                                        0\nlast_season                                 0\ncurrent_club_id                             0\nplayer_code                                 0\ncountry_of_birth                         2689\ncity_of_birth                            2203\ncountry_of_citizenship                    543\ndate_of_birth                              47\nsub_position                              172\nposition                                    0\nfoot                                     2389\nheight_in_cm                             2098\nmarket_value_in_eur                     10919\nhighest_market_value_in_eur              1321\ncontract_expiration_date                11467\nagent_name                              15361\nimage_url                                   0\nurl                                         0\ncurrent_club_domestic_competition_id        0\ncurrent_club_name                           0\ndtype: int64"
     },
     "execution_count": 10,
     "metadata": {},
     "output_type": "execute_result"
    }
   ],
   "source": [
    "players.isna().sum()"
   ],
   "metadata": {
    "collapsed": false,
    "ExecuteTime": {
     "end_time": "2023-12-10T12:01:02.700507600Z",
     "start_time": "2023-12-10T12:01:02.643507100Z"
    }
   },
   "id": "166df42cd818d277"
  },
  {
   "cell_type": "markdown",
   "source": [
    "> ## So now we know that players have many fields left as 'None'"
   ],
   "metadata": {
    "collapsed": false
   },
   "id": "6135b82c314a97bd"
  },
  {
   "cell_type": "code",
   "execution_count": 11,
   "outputs": [
    {
     "data": {
      "text/plain": "          first_name  last_name       name player_code\nplayer_id                                             \n5974             NaN  Matuzalém  Matuzalém   matuzalem\n13952            NaN    Liedson    Liedson     liedson\n14137            NaN    Briguel    Briguel     briguel\n14282            NaN  Danielson  Danielson   danielson\n17292            NaN     Joeano     Joeano      joeano\n...              ...        ...        ...         ...\n105468           NaN     Neuton     Neuton      neuton\n54183            NaN  Maicosuel  Maicosuel   maicosuel\n323954           NaN     Walace     Walace      walace\n217863           NaN  Guilherme  Guilherme   guilherme\n99523            NaN    Nícolas    Nícolas     nicolas\n\n[1965 rows x 4 columns]",
      "text/html": "<div>\n<style scoped>\n    .dataframe tbody tr th:only-of-type {\n        vertical-align: middle;\n    }\n\n    .dataframe tbody tr th {\n        vertical-align: top;\n    }\n\n    .dataframe thead th {\n        text-align: right;\n    }\n</style>\n<table border=\"1\" class=\"dataframe\">\n  <thead>\n    <tr style=\"text-align: right;\">\n      <th></th>\n      <th>first_name</th>\n      <th>last_name</th>\n      <th>name</th>\n      <th>player_code</th>\n    </tr>\n    <tr>\n      <th>player_id</th>\n      <th></th>\n      <th></th>\n      <th></th>\n      <th></th>\n    </tr>\n  </thead>\n  <tbody>\n    <tr>\n      <th>5974</th>\n      <td>NaN</td>\n      <td>Matuzalém</td>\n      <td>Matuzalém</td>\n      <td>matuzalem</td>\n    </tr>\n    <tr>\n      <th>13952</th>\n      <td>NaN</td>\n      <td>Liedson</td>\n      <td>Liedson</td>\n      <td>liedson</td>\n    </tr>\n    <tr>\n      <th>14137</th>\n      <td>NaN</td>\n      <td>Briguel</td>\n      <td>Briguel</td>\n      <td>briguel</td>\n    </tr>\n    <tr>\n      <th>14282</th>\n      <td>NaN</td>\n      <td>Danielson</td>\n      <td>Danielson</td>\n      <td>danielson</td>\n    </tr>\n    <tr>\n      <th>17292</th>\n      <td>NaN</td>\n      <td>Joeano</td>\n      <td>Joeano</td>\n      <td>joeano</td>\n    </tr>\n    <tr>\n      <th>...</th>\n      <td>...</td>\n      <td>...</td>\n      <td>...</td>\n      <td>...</td>\n    </tr>\n    <tr>\n      <th>105468</th>\n      <td>NaN</td>\n      <td>Neuton</td>\n      <td>Neuton</td>\n      <td>neuton</td>\n    </tr>\n    <tr>\n      <th>54183</th>\n      <td>NaN</td>\n      <td>Maicosuel</td>\n      <td>Maicosuel</td>\n      <td>maicosuel</td>\n    </tr>\n    <tr>\n      <th>323954</th>\n      <td>NaN</td>\n      <td>Walace</td>\n      <td>Walace</td>\n      <td>walace</td>\n    </tr>\n    <tr>\n      <th>217863</th>\n      <td>NaN</td>\n      <td>Guilherme</td>\n      <td>Guilherme</td>\n      <td>guilherme</td>\n    </tr>\n    <tr>\n      <th>99523</th>\n      <td>NaN</td>\n      <td>Nícolas</td>\n      <td>Nícolas</td>\n      <td>nicolas</td>\n    </tr>\n  </tbody>\n</table>\n<p>1965 rows × 4 columns</p>\n</div>"
     },
     "execution_count": 11,
     "metadata": {},
     "output_type": "execute_result"
    }
   ],
   "source": [
    "players.loc[players['first_name'].isna()][['first_name','last_name',\n",
    "                                           'name', 'player_code']]"
   ],
   "metadata": {
    "collapsed": false,
    "ExecuteTime": {
     "end_time": "2023-12-10T12:01:02.734583700Z",
     "start_time": "2023-12-10T12:01:02.682510600Z"
    }
   },
   "id": "79668bd20ab3c3da"
  },
  {
   "cell_type": "code",
   "execution_count": 12,
   "outputs": [
    {
     "data": {
      "text/plain": "True"
     },
     "execution_count": 12,
     "metadata": {},
     "output_type": "execute_result"
    }
   ],
   "source": [
    "players.shape == players.drop_duplicates().shape"
   ],
   "metadata": {
    "collapsed": false,
    "ExecuteTime": {
     "end_time": "2023-12-10T12:01:02.868092800Z",
     "start_time": "2023-12-10T12:01:02.695508100Z"
    }
   },
   "id": "88ee196d09862e7a"
  },
  {
   "cell_type": "code",
   "execution_count": 20,
   "outputs": [
    {
     "data": {
      "text/plain": "height_in_cm\n180.0    2051\n185.0    1894\n183.0    1654\n178.0    1654\n188.0    1440\n182.0    1424\n184.0    1412\n186.0    1356\n187.0    1326\n175.0    1317\n190.0    1176\n181.0    1148\n177.0    1013\n179.0     988\n176.0     941\n189.0     808\n173.0     744\n191.0     724\n174.0     718\n192.0     591\n172.0     567\n170.0     539\n193.0     528\n194.0     332\n171.0     329\n195.0     261\n196.0     223\n168.0     205\n169.0     199\n197.0     128\n167.0     101\n198.0      95\n165.0      69\n166.0      63\n164.0      32\n199.0      31\n201.0      23\n200.0      23\n163.0      20\n202.0      15\n203.0      10\n162.0       8\n204.0       6\n206.0       4\n205.0       4\n160.0       3\n18.0        2\n159.0       2\n161.0       2\n207.0       1\nName: count, dtype: Int64"
     },
     "execution_count": 20,
     "metadata": {},
     "output_type": "execute_result"
    }
   ],
   "source": [
    "players['height_in_cm'].value_counts()"
   ],
   "metadata": {
    "collapsed": false,
    "ExecuteTime": {
     "end_time": "2023-12-10T12:04:06.352435100Z",
     "start_time": "2023-12-10T12:04:06.301434700Z"
    }
   },
   "id": "2acd284a9c80cef7"
  },
  {
   "cell_type": "code",
   "execution_count": 21,
   "outputs": [
    {
     "data": {
      "text/plain": "2098"
     },
     "execution_count": 21,
     "metadata": {},
     "output_type": "execute_result"
    }
   ],
   "source": [
    "players['height_in_cm'].isna().sum()"
   ],
   "metadata": {
    "collapsed": false,
    "ExecuteTime": {
     "end_time": "2023-12-10T12:04:33.492651Z",
     "start_time": "2023-12-10T12:04:33.460561400Z"
    }
   },
   "id": "115a635b2e100f37"
  },
  {
   "cell_type": "markdown",
   "source": [
    "# WE HAVE 2 PLAYERS THAT ARE 18 cm TALL!!"
   ],
   "metadata": {
    "collapsed": false
   },
   "id": "a2f1ee22cafc435f"
  },
  {
   "cell_type": "markdown",
   "source": [
    "> ## Now we convert some types"
   ],
   "metadata": {
    "collapsed": false
   },
   "id": "c0bfce94e626959a"
  },
  {
   "cell_type": "code",
   "execution_count": 22,
   "outputs": [
    {
     "name": "stdout",
     "output_type": "stream",
     "text": [
      "<class 'pandas.core.frame.DataFrame'>\n",
      "Index: 30302 entries, 598 to 925584\n",
      "Data columns (total 22 columns):\n",
      " #   Column                                Non-Null Count  Dtype   \n",
      "---  ------                                --------------  -----   \n",
      " 0   first_name                            30302 non-null  string  \n",
      " 1   last_name                             30302 non-null  string  \n",
      " 2   name                                  30302 non-null  string  \n",
      " 3   last_season                           30302 non-null  int64   \n",
      " 4   current_club_id                       30302 non-null  int64   \n",
      " 5   player_code                           30302 non-null  string  \n",
      " 6   country_of_birth                      27613 non-null  object  \n",
      " 7   city_of_birth                         28099 non-null  object  \n",
      " 8   country_of_citizenship                29759 non-null  object  \n",
      " 9   date_of_birth                         30255 non-null  object  \n",
      " 10  sub_position                          30130 non-null  object  \n",
      " 11  position                              30302 non-null  category\n",
      " 12  foot                                  27913 non-null  object  \n",
      " 13  height_in_cm                          28204 non-null  Float64 \n",
      " 14  market_value_in_eur                   19383 non-null  float64 \n",
      " 15  highest_market_value_in_eur           28981 non-null  float64 \n",
      " 16  contract_expiration_date              18835 non-null  object  \n",
      " 17  agent_name                            14941 non-null  object  \n",
      " 18  image_url                             30302 non-null  object  \n",
      " 19  url                                   30302 non-null  object  \n",
      " 20  current_club_domestic_competition_id  30302 non-null  string  \n",
      " 21  current_club_name                     30302 non-null  string  \n",
      "dtypes: Float64(1), category(1), float64(2), int64(2), object(10), string(6)\n",
      "memory usage: 5.1+ MB\n"
     ]
    }
   ],
   "source": [
    "players['last_name'] = players['last_name'].astype('string')\n",
    "players['name'] = players['name'].astype('string')\n",
    "players['player_code'] = players['player_code'].astype('string')\n",
    "players['position'] = players['position'].astype('category')\n",
    "players['current_club_domestic_competition_id'] = players['current_club_domestic_competition_id'].astype('string')\n",
    "players['current_club_name'] = players['current_club_name'].astype('string')\n",
    "\n",
    "players.info()"
   ],
   "metadata": {
    "collapsed": false,
    "ExecuteTime": {
     "end_time": "2023-12-10T12:07:07.883066900Z",
     "start_time": "2023-12-10T12:07:07.822522Z"
    }
   },
   "id": "e288889738d506d7"
  },
  {
   "cell_type": "code",
   "execution_count": 15,
   "outputs": [
    {
     "data": {
      "text/plain": "0"
     },
     "execution_count": 15,
     "metadata": {},
     "output_type": "execute_result"
    }
   ],
   "source": [
    "# it works as well as na_player_name_apps.isin(players['player_id']).sum()\n",
    "na_player_name_apps.isin(players).sum()"
   ],
   "metadata": {
    "collapsed": false,
    "ExecuteTime": {
     "end_time": "2023-12-10T12:01:02.941030200Z",
     "start_time": "2023-12-10T12:01:02.833898100Z"
    }
   },
   "id": "aedce611adad254e"
  },
  {
   "cell_type": "code",
   "execution_count": 16,
   "outputs": [
    {
     "name": "stdout",
     "output_type": "stream",
     "text": [
      "<class 'pandas.core.frame.DataFrame'>\n",
      "Index: 30302 entries, 598 to 925584\n",
      "Data columns (total 22 columns):\n",
      " #   Column                                Non-Null Count  Dtype   \n",
      "---  ------                                --------------  -----   \n",
      " 0   first_name                            30302 non-null  string  \n",
      " 1   last_name                             30302 non-null  string  \n",
      " 2   name                                  30302 non-null  string  \n",
      " 3   last_season                           30302 non-null  int64   \n",
      " 4   current_club_id                       30302 non-null  int64   \n",
      " 5   player_code                           30302 non-null  string  \n",
      " 6   country_of_birth                      27613 non-null  object  \n",
      " 7   city_of_birth                         28099 non-null  object  \n",
      " 8   country_of_citizenship                29759 non-null  object  \n",
      " 9   date_of_birth                         30255 non-null  object  \n",
      " 10  sub_position                          30130 non-null  object  \n",
      " 11  position                              30302 non-null  category\n",
      " 12  foot                                  27913 non-null  object  \n",
      " 13  height_in_cm                          28204 non-null  float64 \n",
      " 14  market_value_in_eur                   19383 non-null  float64 \n",
      " 15  highest_market_value_in_eur           28981 non-null  float64 \n",
      " 16  contract_expiration_date              18835 non-null  object  \n",
      " 17  agent_name                            14941 non-null  object  \n",
      " 18  image_url                             30302 non-null  object  \n",
      " 19  url                                   30302 non-null  object  \n",
      " 20  current_club_domestic_competition_id  30302 non-null  string  \n",
      " 21  current_club_name                     30302 non-null  string  \n",
      "dtypes: category(1), float64(3), int64(2), object(10), string(6)\n",
      "memory usage: 5.1+ MB\n"
     ]
    }
   ],
   "source": [
    "players['first_name'] = (players['first_name'].fillna(\"\")\n",
    "                            .astype('string'))\n",
    "players.info()"
   ],
   "metadata": {
    "collapsed": false,
    "ExecuteTime": {
     "end_time": "2023-12-10T12:01:03.006038Z",
     "start_time": "2023-12-10T12:01:02.848093Z"
    }
   },
   "id": "a7c79f045fcbac3e"
  }
 ],
 "metadata": {
  "kernelspec": {
   "display_name": "Python 3",
   "language": "python",
   "name": "python3"
  },
  "language_info": {
   "codemirror_mode": {
    "name": "ipython",
    "version": 2
   },
   "file_extension": ".py",
   "mimetype": "text/x-python",
   "name": "python",
   "nbconvert_exporter": "python",
   "pygments_lexer": "ipython2",
   "version": "2.7.6"
  }
 },
 "nbformat": 4,
 "nbformat_minor": 5
}
